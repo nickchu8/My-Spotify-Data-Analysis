{
 "cells": [
  {
   "cell_type": "markdown",
   "id": "16ca85be-b78f-4df4-b65a-5392aca72061",
   "metadata": {},
   "source": [
    "# Spotify User Data Analysis"
   ]
  },
  {
   "cell_type": "markdown",
   "id": "e3da42c3-38f7-4cff-9611-918ea66e3852",
   "metadata": {},
   "source": [
    "## Data Cleaning"
   ]
  },
  {
   "cell_type": "markdown",
   "id": "be6b3ce3-e9fc-45ba-a584-0d916718c785",
   "metadata": {},
   "source": [
    "Before I can conduct analysis on my user data, first I will clean the data, removing unnecessary columns and combining all the listening instances."
   ]
  },
  {
   "cell_type": "code",
   "execution_count": 23,
   "id": "525217ad-245b-4773-ab6c-914f5003bcf0",
   "metadata": {},
   "outputs": [],
   "source": [
    "import numpy as np\n",
    "import pandas as pd\n",
    "import matplotlib.pyplot as plt\n",
    "import plotly.express as px\n",
    "import seaborn as sns"
   ]
  },
  {
   "cell_type": "code",
   "execution_count": 16,
   "id": "0e6c6fbc",
   "metadata": {},
   "outputs": [],
   "source": [
    "df = pd.read_csv(\"C:/Users/nyc8p/OneDrive/Desktop/spoty-records-master/output/final.csv\")\n",
    "#remove redundant columns from dataframe"
   ]
  },
  {
   "cell_type": "code",
   "execution_count": 14,
   "id": "6d5a73e7",
   "metadata": {},
   "outputs": [],
   "source": [
    "def preparedf(df):\n",
    "    '''Takes pandas dataframe df and returns cleaned dataframe'''\n",
    "    #only keep these columns, and keep listening instances that were longer than 20 seconds\n",
    "    df = df.drop(columns = [\"name\", \"Unnamed: 0\", \"uri\", \"type\", \"id\", \"track_href\", \"analysis_url\",\"albumID\"], axis = 1)\n",
    "    df = df[df['msPlayed'] >= 20000]\n",
    "\n",
    "    # group by trackname and sum up the ms played\n",
    "    aggregation = {\n",
    "    'msPlayed': 'sum',  # Sum 'minutes_played\n",
    "    }\n",
    "    cols_to_keep = ['artistName','albumName', 'danceability', 'energy', 'key', 'loudness', 'mode', 'speechiness', 'acousticness', 'instrumentalness',\n",
    "                'liveness', 'valence', 'tempo', 'duration_ms', 'time_signature']\n",
    "    \n",
    "    # Specify 'first' aggregation for all columns you want to keep as they are\n",
    "    for col in cols_to_keep:\n",
    "        aggregation[col] = 'first'\n",
    "    df = df.groupby('trackName').agg(aggregation).reset_index()\n",
    "\n",
    "    #create new columns helpful for analysis\n",
    "    df['minPlayed'] = (df['msPlayed'] / 60000).round(2)\n",
    "    df['timesPlayed'] = (df['msPlayed'] / df['duration_ms']).round(2)\n",
    "    df['duration_min'] = (df['duration_ms'] / 60000).round(2)\n",
    "    df = df.drop(columns = ['msPlayed'])\n",
    "\n",
    "    # First, create a list of column names in the desired order\n",
    "    new_column_order = list(df.columns)\n",
    "    new_column_order.remove('minPlayed')\n",
    "    new_column_order.insert(3, 'minPlayed')  # 3 represents the 4th position (0-based index)\n",
    "    new_column_order.remove('timesPlayed')\n",
    "    new_column_order.insert(4, 'timesPlayed')\n",
    "    new_column_order.remove('duration_min')\n",
    "    new_column_order.insert(5, 'duration_min')\n",
    "    # Reorder the columns in the DataFrame\n",
    "    df = df[new_column_order]\n",
    "    df = df[df['timesPlayed'] >= 1]\n",
    "    df = df.sort_values([\"timesPlayed\", 'minPlayed'], ascending = False).reset_index(drop = True)\n",
    "    return df"
   ]
  },
  {
   "cell_type": "code",
   "execution_count": 17,
   "id": "a1e5e175",
   "metadata": {},
   "outputs": [
    {
     "data": {
      "text/html": [
       "<div>\n",
       "<style scoped>\n",
       "    .dataframe tbody tr th:only-of-type {\n",
       "        vertical-align: middle;\n",
       "    }\n",
       "\n",
       "    .dataframe tbody tr th {\n",
       "        vertical-align: top;\n",
       "    }\n",
       "\n",
       "    .dataframe thead th {\n",
       "        text-align: right;\n",
       "    }\n",
       "</style>\n",
       "<table border=\"1\" class=\"dataframe\">\n",
       "  <thead>\n",
       "    <tr style=\"text-align: right;\">\n",
       "      <th></th>\n",
       "      <th>trackName</th>\n",
       "      <th>artistName</th>\n",
       "      <th>albumName</th>\n",
       "      <th>minPlayed</th>\n",
       "      <th>timesPlayed</th>\n",
       "      <th>duration_min</th>\n",
       "      <th>danceability</th>\n",
       "      <th>energy</th>\n",
       "      <th>key</th>\n",
       "      <th>loudness</th>\n",
       "      <th>mode</th>\n",
       "      <th>speechiness</th>\n",
       "      <th>acousticness</th>\n",
       "      <th>instrumentalness</th>\n",
       "      <th>liveness</th>\n",
       "      <th>valence</th>\n",
       "      <th>tempo</th>\n",
       "      <th>duration_ms</th>\n",
       "      <th>time_signature</th>\n",
       "    </tr>\n",
       "  </thead>\n",
       "  <tbody>\n",
       "    <tr>\n",
       "      <th>0</th>\n",
       "      <td>Weird Fishes/ Arpeggi</td>\n",
       "      <td>Radiohead</td>\n",
       "      <td>In Rainbows</td>\n",
       "      <td>309.84</td>\n",
       "      <td>58.43</td>\n",
       "      <td>5.30</td>\n",
       "      <td>0.531</td>\n",
       "      <td>0.6100</td>\n",
       "      <td>11</td>\n",
       "      <td>-8.025</td>\n",
       "      <td>0</td>\n",
       "      <td>0.0387</td>\n",
       "      <td>0.772</td>\n",
       "      <td>0.756000</td>\n",
       "      <td>0.0908</td>\n",
       "      <td>0.199</td>\n",
       "      <td>152.958</td>\n",
       "      <td>318187</td>\n",
       "      <td>4</td>\n",
       "    </tr>\n",
       "    <tr>\n",
       "      <th>1</th>\n",
       "      <td>Good Will Hunting</td>\n",
       "      <td>Black Country, New Road</td>\n",
       "      <td>Ants From Up There</td>\n",
       "      <td>238.54</td>\n",
       "      <td>48.04</td>\n",
       "      <td>4.97</td>\n",
       "      <td>0.587</td>\n",
       "      <td>0.3580</td>\n",
       "      <td>2</td>\n",
       "      <td>-9.194</td>\n",
       "      <td>1</td>\n",
       "      <td>0.0276</td>\n",
       "      <td>0.219</td>\n",
       "      <td>0.002010</td>\n",
       "      <td>0.1920</td>\n",
       "      <td>0.368</td>\n",
       "      <td>96.685</td>\n",
       "      <td>297907</td>\n",
       "      <td>3</td>\n",
       "    </tr>\n",
       "    <tr>\n",
       "      <th>2</th>\n",
       "      <td>Pro Freak (with Doechii, Fatman Scoop)</td>\n",
       "      <td>Smino</td>\n",
       "      <td>Luv 4 Rent</td>\n",
       "      <td>202.78</td>\n",
       "      <td>45.29</td>\n",
       "      <td>4.48</td>\n",
       "      <td>0.502</td>\n",
       "      <td>0.6410</td>\n",
       "      <td>1</td>\n",
       "      <td>-6.271</td>\n",
       "      <td>1</td>\n",
       "      <td>0.4670</td>\n",
       "      <td>0.269</td>\n",
       "      <td>0.000005</td>\n",
       "      <td>0.1970</td>\n",
       "      <td>0.212</td>\n",
       "      <td>75.008</td>\n",
       "      <td>268667</td>\n",
       "      <td>4</td>\n",
       "    </tr>\n",
       "    <tr>\n",
       "      <th>3</th>\n",
       "      <td>Present Tense</td>\n",
       "      <td>Radiohead</td>\n",
       "      <td>A Moon Shaped Pool</td>\n",
       "      <td>229.41</td>\n",
       "      <td>44.90</td>\n",
       "      <td>5.11</td>\n",
       "      <td>0.462</td>\n",
       "      <td>0.4070</td>\n",
       "      <td>1</td>\n",
       "      <td>-12.428</td>\n",
       "      <td>0</td>\n",
       "      <td>0.0345</td>\n",
       "      <td>0.912</td>\n",
       "      <td>0.399000</td>\n",
       "      <td>0.1100</td>\n",
       "      <td>0.336</td>\n",
       "      <td>91.915</td>\n",
       "      <td>306581</td>\n",
       "      <td>4</td>\n",
       "    </tr>\n",
       "    <tr>\n",
       "      <th>4</th>\n",
       "      <td>the perfect pair</td>\n",
       "      <td>beabadoobee</td>\n",
       "      <td>Beatopia</td>\n",
       "      <td>131.33</td>\n",
       "      <td>44.38</td>\n",
       "      <td>2.96</td>\n",
       "      <td>0.634</td>\n",
       "      <td>0.6630</td>\n",
       "      <td>11</td>\n",
       "      <td>-6.818</td>\n",
       "      <td>1</td>\n",
       "      <td>0.0331</td>\n",
       "      <td>0.433</td>\n",
       "      <td>0.124000</td>\n",
       "      <td>0.1020</td>\n",
       "      <td>0.600</td>\n",
       "      <td>146.053</td>\n",
       "      <td>177533</td>\n",
       "      <td>4</td>\n",
       "    </tr>\n",
       "    <tr>\n",
       "      <th>...</th>\n",
       "      <td>...</td>\n",
       "      <td>...</td>\n",
       "      <td>...</td>\n",
       "      <td>...</td>\n",
       "      <td>...</td>\n",
       "      <td>...</td>\n",
       "      <td>...</td>\n",
       "      <td>...</td>\n",
       "      <td>...</td>\n",
       "      <td>...</td>\n",
       "      <td>...</td>\n",
       "      <td>...</td>\n",
       "      <td>...</td>\n",
       "      <td>...</td>\n",
       "      <td>...</td>\n",
       "      <td>...</td>\n",
       "      <td>...</td>\n",
       "      <td>...</td>\n",
       "      <td>...</td>\n",
       "    </tr>\n",
       "    <tr>\n",
       "      <th>2860</th>\n",
       "      <td>Equally Damaged</td>\n",
       "      <td>Blonde Redhead</td>\n",
       "      <td>Melody of Certain Damaged Lemons</td>\n",
       "      <td>0.67</td>\n",
       "      <td>1.00</td>\n",
       "      <td>0.67</td>\n",
       "      <td>0.528</td>\n",
       "      <td>0.0508</td>\n",
       "      <td>0</td>\n",
       "      <td>-22.086</td>\n",
       "      <td>0</td>\n",
       "      <td>0.1220</td>\n",
       "      <td>0.995</td>\n",
       "      <td>0.856000</td>\n",
       "      <td>0.1480</td>\n",
       "      <td>0.891</td>\n",
       "      <td>159.697</td>\n",
       "      <td>40200</td>\n",
       "      <td>3</td>\n",
       "    </tr>\n",
       "    <tr>\n",
       "      <th>2861</th>\n",
       "      <td>SCENE</td>\n",
       "      <td>BROCKHAMPTON</td>\n",
       "      <td>SATURATION II</td>\n",
       "      <td>0.66</td>\n",
       "      <td>1.00</td>\n",
       "      <td>0.66</td>\n",
       "      <td>0.434</td>\n",
       "      <td>0.3120</td>\n",
       "      <td>5</td>\n",
       "      <td>-20.861</td>\n",
       "      <td>1</td>\n",
       "      <td>0.0567</td>\n",
       "      <td>0.936</td>\n",
       "      <td>0.001690</td>\n",
       "      <td>0.5530</td>\n",
       "      <td>0.862</td>\n",
       "      <td>145.864</td>\n",
       "      <td>39520</td>\n",
       "      <td>4</td>\n",
       "    </tr>\n",
       "    <tr>\n",
       "      <th>2862</th>\n",
       "      <td>Day &amp; Night</td>\n",
       "      <td>Thundercat</td>\n",
       "      <td>Drunk</td>\n",
       "      <td>0.62</td>\n",
       "      <td>1.00</td>\n",
       "      <td>0.62</td>\n",
       "      <td>0.722</td>\n",
       "      <td>0.4890</td>\n",
       "      <td>5</td>\n",
       "      <td>-14.218</td>\n",
       "      <td>1</td>\n",
       "      <td>0.0424</td>\n",
       "      <td>0.371</td>\n",
       "      <td>0.683000</td>\n",
       "      <td>0.1120</td>\n",
       "      <td>0.533</td>\n",
       "      <td>95.072</td>\n",
       "      <td>37397</td>\n",
       "      <td>4</td>\n",
       "    </tr>\n",
       "    <tr>\n",
       "      <th>2863</th>\n",
       "      <td>Skit #2</td>\n",
       "      <td>Kanye West</td>\n",
       "      <td>Late Registration</td>\n",
       "      <td>0.52</td>\n",
       "      <td>1.00</td>\n",
       "      <td>0.52</td>\n",
       "      <td>0.731</td>\n",
       "      <td>0.4120</td>\n",
       "      <td>11</td>\n",
       "      <td>-11.590</td>\n",
       "      <td>0</td>\n",
       "      <td>0.9460</td>\n",
       "      <td>0.253</td>\n",
       "      <td>0.000000</td>\n",
       "      <td>0.1640</td>\n",
       "      <td>0.950</td>\n",
       "      <td>66.512</td>\n",
       "      <td>31360</td>\n",
       "      <td>4</td>\n",
       "    </tr>\n",
       "    <tr>\n",
       "      <th>2864</th>\n",
       "      <td>I Am Crazy</td>\n",
       "      <td>Thundercat</td>\n",
       "      <td>Drunk</td>\n",
       "      <td>0.43</td>\n",
       "      <td>1.00</td>\n",
       "      <td>0.43</td>\n",
       "      <td>0.769</td>\n",
       "      <td>0.5760</td>\n",
       "      <td>8</td>\n",
       "      <td>-10.281</td>\n",
       "      <td>1</td>\n",
       "      <td>0.1740</td>\n",
       "      <td>0.614</td>\n",
       "      <td>0.116000</td>\n",
       "      <td>0.0940</td>\n",
       "      <td>0.315</td>\n",
       "      <td>83.962</td>\n",
       "      <td>25870</td>\n",
       "      <td>4</td>\n",
       "    </tr>\n",
       "  </tbody>\n",
       "</table>\n",
       "<p>2865 rows × 19 columns</p>\n",
       "</div>"
      ],
      "text/plain": [
       "                                   trackName               artistName  \\\n",
       "0                      Weird Fishes/ Arpeggi                Radiohead   \n",
       "1                          Good Will Hunting  Black Country, New Road   \n",
       "2     Pro Freak (with Doechii, Fatman Scoop)                    Smino   \n",
       "3                              Present Tense                Radiohead   \n",
       "4                           the perfect pair              beabadoobee   \n",
       "...                                      ...                      ...   \n",
       "2860                         Equally Damaged           Blonde Redhead   \n",
       "2861                                   SCENE             BROCKHAMPTON   \n",
       "2862                             Day & Night               Thundercat   \n",
       "2863                                 Skit #2               Kanye West   \n",
       "2864                              I Am Crazy               Thundercat   \n",
       "\n",
       "                             albumName  minPlayed  timesPlayed  duration_min  \\\n",
       "0                          In Rainbows     309.84        58.43          5.30   \n",
       "1                   Ants From Up There     238.54        48.04          4.97   \n",
       "2                           Luv 4 Rent     202.78        45.29          4.48   \n",
       "3                   A Moon Shaped Pool     229.41        44.90          5.11   \n",
       "4                             Beatopia     131.33        44.38          2.96   \n",
       "...                                ...        ...          ...           ...   \n",
       "2860  Melody of Certain Damaged Lemons       0.67         1.00          0.67   \n",
       "2861                     SATURATION II       0.66         1.00          0.66   \n",
       "2862                             Drunk       0.62         1.00          0.62   \n",
       "2863                 Late Registration       0.52         1.00          0.52   \n",
       "2864                             Drunk       0.43         1.00          0.43   \n",
       "\n",
       "      danceability  energy  key  loudness  mode  speechiness  acousticness  \\\n",
       "0            0.531  0.6100   11    -8.025     0       0.0387         0.772   \n",
       "1            0.587  0.3580    2    -9.194     1       0.0276         0.219   \n",
       "2            0.502  0.6410    1    -6.271     1       0.4670         0.269   \n",
       "3            0.462  0.4070    1   -12.428     0       0.0345         0.912   \n",
       "4            0.634  0.6630   11    -6.818     1       0.0331         0.433   \n",
       "...            ...     ...  ...       ...   ...          ...           ...   \n",
       "2860         0.528  0.0508    0   -22.086     0       0.1220         0.995   \n",
       "2861         0.434  0.3120    5   -20.861     1       0.0567         0.936   \n",
       "2862         0.722  0.4890    5   -14.218     1       0.0424         0.371   \n",
       "2863         0.731  0.4120   11   -11.590     0       0.9460         0.253   \n",
       "2864         0.769  0.5760    8   -10.281     1       0.1740         0.614   \n",
       "\n",
       "      instrumentalness  liveness  valence    tempo  duration_ms  \\\n",
       "0             0.756000    0.0908    0.199  152.958       318187   \n",
       "1             0.002010    0.1920    0.368   96.685       297907   \n",
       "2             0.000005    0.1970    0.212   75.008       268667   \n",
       "3             0.399000    0.1100    0.336   91.915       306581   \n",
       "4             0.124000    0.1020    0.600  146.053       177533   \n",
       "...                ...       ...      ...      ...          ...   \n",
       "2860          0.856000    0.1480    0.891  159.697        40200   \n",
       "2861          0.001690    0.5530    0.862  145.864        39520   \n",
       "2862          0.683000    0.1120    0.533   95.072        37397   \n",
       "2863          0.000000    0.1640    0.950   66.512        31360   \n",
       "2864          0.116000    0.0940    0.315   83.962        25870   \n",
       "\n",
       "      time_signature  \n",
       "0                  4  \n",
       "1                  3  \n",
       "2                  4  \n",
       "3                  4  \n",
       "4                  4  \n",
       "...              ...  \n",
       "2860               3  \n",
       "2861               4  \n",
       "2862               4  \n",
       "2863               4  \n",
       "2864               4  \n",
       "\n",
       "[2865 rows x 19 columns]"
      ]
     },
     "execution_count": 17,
     "metadata": {},
     "output_type": "execute_result"
    }
   ],
   "source": [
    "df = preparedf(df)\n",
    "df"
   ]
  },
  {
   "cell_type": "markdown",
   "id": "d8700478-d9b4-48cb-ab8a-d5ed9778dcaf",
   "metadata": {},
   "source": [
    "This dataset looks much better now, so now I will export it as another csv file!"
   ]
  },
  {
   "cell_type": "code",
   "execution_count": 18,
   "id": "3e6ad33e-4de9-4e51-b487-ed9934b5e577",
   "metadata": {},
   "outputs": [],
   "source": [
    "df.to_csv(\"cleanhistory.csv\")"
   ]
  },
  {
   "cell_type": "markdown",
   "id": "4e86a1f1",
   "metadata": {},
   "source": [
    "# EDA"
   ]
  },
  {
   "cell_type": "markdown",
   "id": "7affefed",
   "metadata": {},
   "source": [
    "Now, we can take a look at the relationships between my most played songs and some of the features of those songs. "
   ]
  },
  {
   "cell_type": "markdown",
   "id": "45e43eb0",
   "metadata": {},
   "source": [
    "Let's write a function that will plot scatterplots of the top 500 most played songs in my user history, with one axis being times played and the other being a different feature to try to find which variables correlate with my most played songs"
   ]
  },
  {
   "cell_type": "code",
   "execution_count": 40,
   "id": "19b52eb9",
   "metadata": {},
   "outputs": [],
   "source": [
    "df = df[0:500]"
   ]
  },
  {
   "cell_type": "code",
   "execution_count": 41,
   "id": "3dbedca4",
   "metadata": {},
   "outputs": [],
   "source": [
    "def scatter(df,x):\n",
    "    '''Take column x and return scatterplots with y being every different audio feature'''\n",
    "    cols = ['danceability',\t'energy',\t'key',\t'loudness',\t'mode',\t'speechiness',\t'acousticness',\t'instrumentalness',\t'liveness',\t'valence',\t'tempo', 'time_signature']\n",
    "    for y in cols:\n",
    "        fig = px.scatter(df,\n",
    "                      x,\n",
    "                      y,\n",
    "                      hover_name = df[\"trackName\"],\n",
    "                      )\n",
    "        fig.show()"
   ]
  },
  {
   "cell_type": "code",
   "execution_count": 42,
   "id": "0b3d8276",
   "metadata": {},
   "outputs": [
    {
     "data": {
      "application/vnd.plotly.v1+json": {
       "config": {
        "plotlyServerURL": "https://plot.ly"
       },
       "data": [
        {
         "hovertemplate": "<b>%{hovertext}</b><br><br>timesPlayed=%{x}<br>danceability=%{y}<extra></extra>",
         "hovertext": [
          "Weird Fishes/ Arpeggi",
          "Good Will Hunting",
          "Pro Freak (with Doechii, Fatman Scoop)",
          "Present Tense",
          "the perfect pair",
          "Andromeda",
          "Nude",
          "No Surprises",
          "Never Catch Me",
          "Still",
          "Secrets (Your Fire)",
          "Meat Grinder",
          "Speech Bubbles",
          "Galaxy",
          "Runaway",
          "Motion Picture Soundtrack",
          "Troubles [Feat. T-Pain]",
          "Pluto Projector",
          "EARFQUAKE",
          "drive ME crazy!",
          "Savior",
          "Cocoa Butter Kisses",
          "Karma Police",
          "the BLACK seminole.",
          "Wesley's Theory",
          "Shine On You Crazy Diamond (Pts. 1-5)",
          "Welcome To Hell",
          "N95",
          "Concorde",
          "Chaos Space Marine",
          "Thieves In The Night",
          "Identikit",
          "15 Step",
          "family ties (with Kendrick Lamar)",
          "Self Control",
          "The Adults Are Talking",
          "diving board",
          "Walkin",
          "New N3on",
          "Chapters",
          "Heart Don't Stand a Chance",
          "Crack Sandwich",
          "Nikes",
          "Lean Beef Patty",
          "Rapp Snitch Knishes feat. Mr. Fantastik",
          "Feel No Pain (feat. Anderson .Paak & Raekwon)",
          "雨降る夜の向こう",
          "Mood Romantica",
          "Waitin' on Ya",
          "Can't Fight",
          "Ice",
          "Oh My Dis Side (feat. Quavo)",
          "Paprika",
          "Fake Plastic Trees",
          "Wunderlan",
          "Rockstar Made",
          "儚き春の一幕",
          "Faust Arp",
          "Steppa Pig",
          "Get Away",
          "Tequila Shots",
          "Hand Me Downs",
          "Flashing Lights",
          "Gold Rings (feat. Pusha T)",
          "The Lung",
          "REACH THE SUNSHINE.",
          "GONE, GONE / THANK YOU",
          "The Less I Know The Better",
          "Killshot",
          "After The Storm (feat. Tyler, The Creator & Bootsy Collins)",
          "Stop Breathing",
          "4:44",
          "Waves",
          "Stars (feat. Yasiin Bey)",
          "Potato Salad",
          "Rich Nigga Shit (feat. Young Thug)",
          "running out of time",
          "Violent Crimes",
          "Reborn",
          "Heart To Heart",
          "Count Me Out",
          "Selfless",
          "Nothing",
          "Hummingbird (Metro Boomin & James Blake)",
          "Tactics",
          "Sober to Death",
          "Love Galore (feat. Travis Scott)",
          "Rusty (feat. Domo Genesis & Earl Sweatshirt)",
          "The Only Thing",
          "Guilt Trip",
          "Baby I'm Bleeding",
          "Big K.R.I.T.",
          "Off Da Zoinkys",
          "Brand New 911",
          "二十歳の恋",
          "Westbrook (with A$AP Ferg)",
          "Didn't Cha Know",
          "Scott Mescudi Vs. The World",
          "George Bondo (feat. Conway the Machine & Benny The Butcher)",
          "Burfict!",
          "EdEddnEddy",
          "Respiration",
          "Sunglasses",
          "Devil In A New Dress",
          "Oh, Maker",
          "Gabby (feat. Janelle Monáe)",
          "A Punch Up at a Wedding",
          "A Rush of Blood to the Head",
          "No More Parties In LA",
          "BLACK BALLOONS | 13LACK 13ALLOONZ [FEAT. TWELVE'LEN & GOLDLINK | TWELVE'LEN + GOLDL1NK]",
          "Bittersweet",
          "Long Time - Intro",
          "Glass Eyes",
          "Anti-Matter",
          "Eternal Summer",
          "Make Me Feel",
          "Sandstorm (feat. JID)",
          "Neon Valley Street",
          "Hidden Place",
          "Place",
          "Pink + White",
          "Suddenly",
          "Kingdom Hearts Key (ft. redveil)",
          "Walk Em Down (Don't Kill Civilians) [with 21 Savage & feat. Mustafa]",
          "Lucky",
          "Leak It (feat. Chlöe)",
          "Chocolate Matter",
          "Eye/I and I/Nation",
          "Kenan Vs. Kel",
          "Them Changes",
          "Wake Up",
          "Yeah Right",
          "Pink Matter",
          "Mirror",
          "Wild Time",
          "Say It Ain't So",
          "327 (feat. Tyler, The Creator & Billie Essco)",
          "Comin Out Strong (feat. The Weeknd)",
          "Crown",
          "Under The Sun (with J. Cole & Lute feat. DaBaby)",
          "Silhouette",
          "United In Grief",
          "Beta Male Strategies",
          "Tears (feat. Caroline Polachek)",
          "Umbrella (with 21 Savage & Young Nudy)",
          "The Tourist",
          "Aquemini",
          "It's Not up to You",
          "High and Dry",
          "Heartless",
          "White Ferrari",
          "Fentanyl Tester",
          "John Woo Flick (with Benny The Butcher & Westside Gunn)",
          "1539 N. Calvert",
          "Stay Flo",
          "Fuck the Nordic Model",
          "Hellfire",
          "Milk - 2021 Remaster",
          "Tell Me What I Don't Know",
          "If Tomorrow's Not Here",
          "Crosshairs",
          "I THINK",
          "Soundtrack 2 My Life",
          "FAMJAM4000",
          "X-Wing",
          "Sky Might Fall",
          "Kimiga Nakunara",
          "Idioteque",
          "Consideration",
          "Akasaka Sad",
          "A.D.H.D",
          "Design: 2: 3",
          "Behind The Moon Shadow",
          "Angel",
          "I'm In It",
          "This Is Why",
          "Picture Me Better",
          "Angels (feat. Saba)",
          "FIND YOUR WINGS (feat. Roy Ayers, Sydney Bennett & Kali Uchis)",
          "Faucet Failure",
          "Surround Sound (feat. 21 Savage & Baby Tate)",
          "We Major",
          "One Beer",
          "A Toshi no Aki",
          "夕暮れ",
          "On That Time",
          "Savage Good Boy",
          "Enter Galactic (Love Connection Part I)",
          "The Numbers",
          "Fingerprints",
          "I'M THAT GIRL",
          "Poetic Justice",
          "Bodys",
          "Smokin Out The Window",
          "Solo Dolo (Nightmare)",
          "Complicated",
          "LOVE. FEAT. ZACARI.",
          "Say You Will",
          "Money Trees",
          "Grimy Waifu",
          "Dark Red",
          "G.O.M.D",
          "Mr. Rager",
          "Next Levels",
          "BUSY / SIRENS",
          "Netflix & Dusse",
          "Acting",
          "In Love",
          "Justin Scott",
          "911 / Mr. Lonely (feat. Frank Ocean & Steve Lacy)",
          "Joga",
          "Ode To The Mets",
          "pg baby",
          "Ain't No Way [Feat. 6LACK, Rico Nasty, J.I.D, Jasiah, Kitty Ca$h]",
          "A BOY IS A GUN*",
          "Sunny day",
          "Symphony",
          "Blow My High (Members Only)",
          "Storm",
          "Better Days (feat. Johnta Austin)",
          "How to Disappear Completely",
          "STOP TRYING TO BE GOD",
          "Kid A",
          "NEW MAGIC WAND",
          "I Ain't Got Time!",
          "Head High",
          "Bad Habit",
          "Photosynthesis",
          "The Defence",
          "Send It Up",
          "Inside Out",
          "Envy",
          "In Sound, We Found Each Other",
          "Nothing Good Ever Happens At The Goddamn Thirsty Crow",
          "Yellow",
          "6 Star Wanted Level",
          "Right Now (feat. Pi'erre Bourne)",
          "Out On Sunny Sunday",
          "Dynasty",
          "Had Enough (feat. Quavo & Offset)",
          "Bound 2",
          "24",
          "DIRTY!",
          "Kokorono Madobeni Akai Hanao Kazatte",
          "Kuso Yakan Hikoh",
          "A Bigger Paper Bag",
          "LIFE",
          "Where Ya Get Ya Coke From?",
          "Television / So Far So Good",
          "Euphoria (feat. Travis Scott & Kaash Paige)",
          "So Appalled",
          "Hurricane",
          "Thot Tactics",
          "REBOUND!",
          "FEEL.",
          "New Choppa",
          "BREAK MY SOUL",
          "Where I Belong",
          "Norman fucking Rockwell",
          "Videotape",
          "Nas Is Like",
          "m.A.A.d city",
          "Why Are Sundays So Depressing",
          "Orange Juice Jones",
          "Slow",
          "Wolves",
          "Crime Pays",
          "God Loves You",
          "I Wonder",
          "Aux Cord",
          "26",
          "Hard Times",
          "Something to Believe",
          "SICKO MODE",
          "Gone",
          "range brothers (with Kendrick Lamar)",
          "Drones (feat. Kendrick Lamar, Snoop Dogg, Ty Dolla $ign & James Fauntleroy)",
          "Cherry-coloured Funk",
          "Always",
          "Let It Be - Remastered 2009",
          "Glue Song",
          "No Vacancy",
          "Instrumental",
          "Chondromalacia Patella",
          "Ripples",
          "Jack Harlow Combo Meal",
          "CAN'T SAY",
          "broken cd",
          "Afternoon in Heaven",
          "Excited",
          "Super Urus",
          "OPEN A WINDOW (feat. Tyler, The Creator)",
          "FlatBed Freestyle",
          "Wet Dream",
          "Deeper",
          "Sky",
          "Show Me",
          "Bloom",
          "Run The Jewels",
          "Shaolin Monk Motherfunk",
          "Love On The Brain",
          "Pray 4 Love (feat. The Weeknd)",
          "Figures",
          "Self Care",
          "Blackest in the Room",
          "Solo (Reprise)",
          "U Wanna Dance?",
          "Greatest Hits",
          "Under",
          "Time Today",
          "Bury Me In Gold",
          "Street Spirit (Fade Out)",
          "Harold’s",
          "Defibrillator",
          "Tired",
          "Downward Spiral",
          "ASTROTHUNDER",
          "Ful Stop",
          "Love Sosa",
          "2009",
          "dothatshit!",
          "Settle Down (with Cory Henry, Ravyn Lenae)",
          "Can’t Make U Change (feat. Ari Lennox)",
          "infinity (888) - feat. Joey Bada$$",
          "p r i d e . i s . t h e . d e v i l (with Lil Baby)",
          "Wanna Be Loved",
          "Big Titties (feat. Baauer and EarthGang)",
          "Sparks",
          "Big Bank (feat. T.I.)",
          "Electioneering",
          "Coffee",
          "M3tamorphosis (feat. Kid Cudi)",
          "New Slaves",
          "I Might Be Wrong",
          "Miss Georgia Fornia (feat. Joi)",
          "Dance or Die (feat. Saul Williams)",
          "The End (feat. BABYMETAL)",
          "On Sight",
          "Relative",
          "JPEGMAFIA TYPE BEAT",
          "Raindrop City",
          "Palmolive (feat. Pusha T & Killer Mike)",
          "Brooklyn Bridge To Chorus",
          "See You Again (feat. Kali Uchis)",
          "Nightcrawler (feat. Swae Lee & Chief Keef)",
          "Unlock It (feat. Playboi Carti)",
          "King Kunta",
          "PUPPET",
          "Beef Rap",
          "untitled 05 | 09.21.2014.",
          "Space Song",
          "Shitsville",
          "Never Meant",
          "K.O.S. (Determination)",
          "My Iron Lung",
          "FAKENGGAS",
          "Gorilla",
          "Slide Tackle",
          "PTSD",
          "Exchange",
          "Solo",
          "151 Rum",
          "Used (feat. Don Toliver)",
          "BMT!",
          "Boredom (feat. Rex Orange County & Anna of the North)",
          "Yesterday - Remastered 2009",
          "SWEET / I THOUGHT YOU WANTED TO DANCE (feat. Brent Faiyaz & Fana Hues)",
          "Scottie Beam",
          "Workin Out",
          "Trampoline",
          "(Nice Dream)",
          "Knicks",
          "Godspeed",
          "Find Your Love",
          "Creep",
          "Myth",
          "Glass Flows",
          "Scarface",
          "Melt a Bed",
          "R.I.P. Fredo (feat. Young Nudy) - Notice Me",
          "Pure Souls",
          "Good News",
          "Tightrope (feat. Big Boi) - Big Boi Vocal Edit",
          "She Roll Up",
          "Suede",
          "Scenario - LP Mix",
          "Dawning of the Season",
          "PYS (feat. DJ Paul)",
          "Thuggin’",
          "Planet Telex",
          "Don't",
          "Sept",
          "DUCKWORTH.",
          "TEMPTATION",
          "The Night Squall",
          "Acting - 2021 Remaster",
          "Momma",
          "Cosmonauts",
          "Voodoo Child (Slight Return)",
          "I Love You, I Hate You",
          "Have You In My Wilderness",
          "Drunk Drivers/Killer Whales",
          "Dangerous Liaisons",
          "Us and Them",
          "Transform (feat. Charlotte Day Wilson)",
          "GTFU (Feat. JPEGMAFIA & Cakes da Killa)",
          "Hustle Bones",
          "Read My Mind",
          "Total Entertainment Forever",
          "Father Stretch My Hands Pt. 1",
          "Plastic 100°C",
          "The Highs & The Lows",
          "Soul Food",
          "Momma Callin",
          "Unstoppable",
          "where's the confetti?",
          "The Bends",
          "Palace/Curse (feat. Tyler, The Creator & Steve Lacy)",
          "Giannis (feat. Anderson .Paak)",
          "New Person, Same Old Mistakes",
          "The Root",
          "m y . l i f e (with 21 Savage & Morray)",
          "After Last Night (with Thundercat & Bootsy Collins)",
          "Memo",
          "wokeuplikethis*",
          "Keep My Spirit Alive pt 2",
          "To All the Dancers of the World, A Round Form of Fantasy",
          "Ain't it Funny",
          "Chosen (feat. Ty Dolla $ign)",
          "For Free? - Interlude",
          "For Lovers",
          "Other People",
          "Sing About Me, I'm Dying Of Thirst",
          "Kokomo, IN",
          "IG",
          "ELON MUSK",
          "Get on the Floor",
          "2007",
          "CIA",
          "Bag Lady",
          "Morning Bell",
          "CRUCIFY ME",
          "All Falls Down",
          "2040",
          "Church",
          "Dreams and Nightmares",
          "Lost In The World",
          "Dethroned",
          "Raindrops (Insane) [with Travis Scott]",
          "Tinker Tailor Soldier Sailor Rich Man Poor Man Beggar Man Thief",
          "Up Up & Away",
          "Running Out Of Time",
          "Lipstick Lover",
          "New Tank",
          "Rose-Colored Boy",
          "Papi I Missed U",
          "When Doves Cry",
          "Doomsday",
          "Foreign",
          "War Paint (feat. Westside Gunn & Conway the Machine)",
          "Your Prime",
          "Dump",
          "Comfortably Numb",
          "Energy",
          "Feel The Love",
          "Poke It Out (with Nicki Minaj)",
          "Just In Time (feat. Lil Wayne & Kenny Mason)",
          "TAKE A CHANCE (feat. Anderson .Paak)",
          "Hold The Girl",
          "Wild Irish Roses",
          "...& On",
          "HOE (Heaven on Earth)",
          "No Reason",
          "MANIFESTO (feat. Domo Genesis)",
          "Ladies and gentlemen we are floating in space",
          "Arya (with Nigo)",
          "DIET_",
          "N.Y. State of Mind",
          "Hurt Feelings",
          "Through The Wire",
          "The Scientist",
          "Life on Mars? - 2015 Remaster",
          "DD Form 214",
          "SWGSKOOL",
          "Letter To Cornelius",
          "Sir Duke",
          "Forever - 2021 Remaster",
          "Rearview",
          "Jukebox Joints (feat. Joe Fox & Kanye West)",
          "If I Had A Dollar (feat. Benjamin Earl Turner)",
          "Hold Up, Wait!",
          "Black Star",
          "The OtherSide",
          "LUMBERJACK",
          "Packt Like Sardines In a Crushd Tin Box",
          "Wax On (Feat. Freddie Gibbs)",
          "Stupid/Asking",
          "untitled 02 | 06.23.2014.",
          "By Design",
          "the 27 club"
         ],
         "legendgroup": "",
         "marker": {
          "color": "#636efa",
          "symbol": "circle"
         },
         "mode": "markers",
         "name": "",
         "orientation": "v",
         "showlegend": false,
         "type": "scatter",
         "x": [
          58.43,
          48.04,
          45.29,
          44.9,
          44.38,
          44.2,
          42.5,
          40.25,
          38.67,
          38.08,
          37.45,
          37.38,
          36.18,
          35.58,
          35.21,
          34.48,
          34.1,
          33.74,
          33.1,
          33.02,
          32.61,
          32.27,
          32.19,
          32.04,
          31.74,
          31.47,
          30.83,
          30.51,
          30.21,
          29.64,
          29.61,
          29.58,
          29.38,
          29.26,
          28.85,
          28.6,
          28.59,
          28.55,
          27.39,
          27.31,
          27.26,
          27.26,
          27.22,
          27.21,
          27.11,
          26.27,
          26.21,
          26.01,
          25.96,
          25.92,
          25.83,
          25.37,
          25.18,
          24.92,
          24.58,
          24.58,
          24.46,
          24.46,
          24.31,
          24.28,
          24.17,
          24.16,
          24.13,
          23.73,
          23.6,
          23.57,
          23.5,
          23.24,
          23.19,
          23.09,
          23.05,
          23.01,
          22.86,
          22.81,
          22.7,
          22.69,
          22.67,
          21.68,
          21.55,
          21.5,
          21.3,
          21.05,
          20.76,
          20.74,
          20.63,
          20.61,
          20.6,
          20.51,
          20.4,
          20.38,
          20.28,
          20.23,
          20.04,
          19.95,
          19.9,
          19.85,
          19.79,
          19.62,
          19.61,
          19.5,
          19.42,
          19.41,
          19.28,
          19.15,
          19.1,
          19.01,
          19,
          18.95,
          18.92,
          18.86,
          18.78,
          18.78,
          18.76,
          18.75,
          18.73,
          18.71,
          18.67,
          18.62,
          18.56,
          18.47,
          18.36,
          18.34,
          18.27,
          18.12,
          18.1,
          17.95,
          17.94,
          17.82,
          17.76,
          17.66,
          17.59,
          17.58,
          17.56,
          17.54,
          17.43,
          17.39,
          17.36,
          17.35,
          17.31,
          17.22,
          17.03,
          17,
          16.97,
          16.85,
          16.8,
          16.79,
          16.79,
          16.79,
          16.74,
          16.67,
          16.62,
          16.52,
          16.45,
          16.41,
          16.35,
          16.35,
          16.34,
          16.27,
          16.26,
          16.2,
          16.17,
          16.15,
          16.11,
          16.11,
          16.02,
          16,
          15.99,
          15.98,
          15.96,
          15.85,
          15.82,
          15.81,
          15.79,
          15.79,
          15.76,
          15.66,
          15.6,
          15.58,
          15.57,
          15.51,
          15.45,
          15.38,
          15.35,
          15.32,
          15.24,
          15.21,
          15.17,
          15.14,
          15.09,
          15,
          15,
          14.97,
          14.96,
          14.96,
          14.95,
          14.87,
          14.81,
          14.78,
          14.67,
          14.64,
          14.6,
          14.56,
          14.48,
          14.47,
          14.42,
          14.42,
          14.28,
          14.24,
          14.2,
          14.19,
          14.15,
          14.06,
          14.03,
          14,
          14,
          14,
          13.98,
          13.97,
          13.95,
          13.94,
          13.93,
          13.9,
          13.89,
          13.87,
          13.86,
          13.83,
          13.74,
          13.72,
          13.66,
          13.66,
          13.64,
          13.61,
          13.56,
          13.55,
          13.53,
          13.48,
          13.47,
          13.43,
          13.43,
          13.36,
          13.35,
          13.33,
          13.29,
          13.22,
          13.16,
          13.15,
          13.1,
          13.04,
          13,
          13,
          12.96,
          12.92,
          12.91,
          12.84,
          12.8,
          12.8,
          12.78,
          12.74,
          12.71,
          12.68,
          12.63,
          12.6,
          12.58,
          12.53,
          12.47,
          12.41,
          12.41,
          12.41,
          12.39,
          12.34,
          12.31,
          12.3,
          12.29,
          12.28,
          12.27,
          12.26,
          12.19,
          12.13,
          12.09,
          12,
          12,
          12,
          11.97,
          11.95,
          11.95,
          11.95,
          11.94,
          11.92,
          11.92,
          11.91,
          11.91,
          11.9,
          11.9,
          11.86,
          11.82,
          11.74,
          11.73,
          11.73,
          11.7,
          11.69,
          11.68,
          11.66,
          11.66,
          11.63,
          11.61,
          11.61,
          11.6,
          11.58,
          11.54,
          11.54,
          11.53,
          11.52,
          11.52,
          11.51,
          11.51,
          11.5,
          11.48,
          11.45,
          11.42,
          11.39,
          11.38,
          11.33,
          11.28,
          11.28,
          11.27,
          11.23,
          11.21,
          11.18,
          11.15,
          11.11,
          11.1,
          11.08,
          11.07,
          11.04,
          11,
          11,
          11,
          11,
          11,
          11,
          10.96,
          10.92,
          10.91,
          10.91,
          10.85,
          10.83,
          10.79,
          10.79,
          10.78,
          10.76,
          10.66,
          10.66,
          10.63,
          10.62,
          10.61,
          10.6,
          10.55,
          10.54,
          10.5,
          10.48,
          10.47,
          10.47,
          10.47,
          10.45,
          10.42,
          10.41,
          10.39,
          10.38,
          10.36,
          10.35,
          10.35,
          10.33,
          10.31,
          10.28,
          10.25,
          10.24,
          10.24,
          10.23,
          10.22,
          10.22,
          10.18,
          10.18,
          10.17,
          10.16,
          10.14,
          10.1,
          10.1,
          10.07,
          10.05,
          10.03,
          10,
          9.98,
          9.95,
          9.94,
          9.9,
          9.88,
          9.79,
          9.78,
          9.69,
          9.69,
          9.69,
          9.68,
          9.68,
          9.67,
          9.67,
          9.67,
          9.63,
          9.59,
          9.59,
          9.58,
          9.53,
          9.52,
          9.51,
          9.5,
          9.49,
          9.48,
          9.47,
          9.46,
          9.46,
          9.44,
          9.43,
          9.4,
          9.35,
          9.35,
          9.34,
          9.33,
          9.31,
          9.29,
          9.29,
          9.29,
          9.29,
          9.28,
          9.25,
          9.25,
          9.22,
          9.22,
          9.2,
          9.19,
          9.19,
          9.16,
          9.15,
          9.15,
          9.15,
          9.14,
          9.08,
          9.08,
          9.04,
          9.01,
          9.01,
          9,
          9,
          9,
          9,
          9,
          8.99,
          8.96,
          8.92,
          8.91,
          8.91,
          8.86,
          8.85,
          8.85,
          8.83,
          8.81,
          8.81,
          8.8,
          8.8,
          8.79,
          8.79,
          8.79,
          8.78,
          8.78,
          8.77,
          8.74,
          8.72,
          8.72,
          8.72,
          8.71,
          8.7,
          8.7,
          8.69,
          8.67,
          8.67,
          8.66,
          8.65,
          8.63,
          8.62,
          8.58,
          8.57,
          8.56,
          8.56,
          8.51,
          8.51,
          8.49,
          8.48,
          8.44,
          8.43,
          8.41,
          8.4,
          8.4
         ],
         "xaxis": "x",
         "y": [
          0.531,
          0.587,
          0.502,
          0.462,
          0.634,
          0.467,
          0.516,
          0.255,
          0.526,
          0.602,
          0.691,
          0.571,
          0.388,
          0.673,
          0.374,
          0.112,
          0.78,
          0.379,
          0.554,
          0.492,
          0.605,
          0.679,
          0.36,
          0.302,
          0.509,
          0.264,
          0.528,
          0.79,
          0.565,
          0.355,
          0.816,
          0.692,
          0.598,
          0.711,
          0.581,
          0.593,
          0.442,
          0.557,
          0.888,
          0.658,
          0.685,
          0.604,
          0.633,
          0.487,
          0.728,
          0.855,
          0.542,
          0.584,
          0.786,
          0.737,
          0.789,
          0.459,
          0.506,
          0.463,
          0.406,
          0.773,
          0.153,
          0.337,
          0.663,
          0.757,
          0.712,
          0.677,
          0.639,
          0.476,
          0.722,
          0.292,
          0.518,
          0.64,
          0.726,
          0.702,
          0.856,
          0.261,
          0.557,
          0.495,
          0.538,
          0.825,
          0.651,
          0.669,
          0.585,
          0.901,
          0.776,
          0.538,
          0.725,
          0.586,
          0.48,
          0.512,
          0.795,
          0.503,
          0.51,
          0.439,
          0.574,
          0.389,
          0.708,
          0.483,
          0.632,
          0.621,
          0.753,
          0.78,
          0.508,
          0.592,
          0.769,
          0.54,
          0.474,
          0.435,
          0.586,
          0.498,
          0.604,
          0.525,
          0.508,
          0.551,
          0.589,
          0.472,
          0.237,
          0.865,
          0.617,
          0.859,
          0.637,
          0.468,
          0.49,
          0.891,
          0.545,
          0.651,
          0.343,
          0.521,
          0.213,
          0.537,
          0.413,
          0.449,
          0.603,
          0.657,
          0.252,
          0.734,
          0.392,
          0.652,
          0.382,
          0.634,
          0.42,
          0.628,
          0.355,
          0.691,
          0.78,
          0.529,
          0.573,
          0.434,
          0.822,
          0.241,
          0.707,
          0.534,
          0.419,
          0.79,
          0.501,
          0.721,
          0.596,
          0.863,
          0.823,
          0.666,
          0.343,
          0.326,
          0.692,
          0.659,
          0.428,
          0.826,
          0.464,
          0.869,
          0.787,
          0.565,
          0.501,
          0.615,
          0.883,
          0.666,
          0.609,
          0.287,
          0.632,
          0.771,
          0.485,
          0.728,
          0.232,
          0.771,
          0.53,
          0.935,
          0.575,
          0.234,
          0.376,
          0.574,
          0.368,
          0.598,
          0.707,
          0.75,
          0.282,
          0.6,
          0.554,
          0.779,
          0.518,
          0.627,
          0.768,
          0.831,
          0.8,
          0.603,
          0.716,
          0.523,
          0.603,
          0.889,
          0.671,
          0.729,
          0.667,
          0.729,
          0.219,
          0.641,
          0.241,
          0.48,
          0.321,
          0.426,
          0.32,
          0.405,
          0.417,
          0.751,
          0.707,
          0.959,
          0.487,
          0.724,
          0.167,
          0.588,
          0.63,
          0.621,
          0.549,
          0.618,
          0.686,
          0.777,
          0.427,
          0.579,
          0.553,
          0.392,
          0.177,
          0.321,
          0.429,
          0.481,
          0.687,
          0.673,
          0.249,
          0.75,
          0.367,
          0.386,
          0.694,
          0.357,
          0.53,
          0.527,
          0.901,
          0.529,
          0.403,
          0.584,
          0.64,
          0.477,
          0.618,
          0.783,
          0.746,
          0.773,
          0.693,
          0.48,
          0.215,
          0.596,
          0.634,
          0.487,
          0.579,
          0.609,
          0.559,
          0.395,
          0.608,
          0.453,
          0.52,
          0.371,
          0.561,
          0.695,
          0.31,
          0.834,
          0.842,
          0.667,
          0.758,
          0.49,
          0.603,
          0.443,
          0.62,
          0.519,
          0.533,
          0.412,
          0.317,
          0.609,
          0.702,
          0.533,
          0.589,
          0.472,
          0.803,
          0.541,
          0.755,
          0.721,
          0.388,
          0.785,
          0.599,
          0.591,
          0.337,
          0.415,
          0.509,
          0.629,
          0.799,
          0.52,
          0.621,
          0.669,
          0.763,
          0.696,
          0.691,
          0.506,
          0.527,
          0.488,
          0.634,
          0.729,
          0.63,
          0.518,
          0.7,
          0.425,
          0.772,
          0.533,
          0.746,
          0.623,
          0.574,
          0.562,
          0.861,
          0.587,
          0.838,
          0.371,
          0.712,
          0.201,
          0.532,
          0.657,
          0.506,
          0.602,
          0.58,
          0.763,
          0.522,
          0.605,
          0.736,
          0.7,
          0.644,
          0.33,
          0.628,
          0.558,
          0.522,
          0.734,
          0.884,
          0.508,
          0.426,
          0.461,
          0.508,
          0.588,
          0.434,
          0.759,
          0.242,
          0.768,
          0.716,
          0.746,
          0.602,
          0.525,
          0.469,
          0.756,
          0.734,
          0.701,
          0.559,
          0.332,
          0.468,
          0.523,
          0.818,
          0.854,
          0.263,
          0.571,
          0.399,
          0.627,
          0.515,
          0.445,
          0.487,
          0.576,
          0.296,
          0.912,
          0.381,
          0.794,
          0.641,
          0.699,
          0.689,
          0.795,
          0.745,
          0.843,
          0.427,
          0.429,
          0.765,
          0.697,
          0.552,
          0.775,
          0.643,
          0.349,
          0.615,
          0.547,
          0.214,
          0.531,
          0.22,
          0.537,
          0.246,
          0.357,
          0.498,
          0.654,
          0.6,
          0.65,
          0.361,
          0.724,
          0.591,
          0.539,
          0.52,
          0.606,
          0.468,
          0.574,
          0.23,
          0.447,
          0.657,
          0.47,
          0.866,
          0.597,
          0.651,
          0.469,
          0.785,
          0.477,
          0.45,
          0.483,
          0.571,
          0.526,
          0.565,
          0.316,
          0.654,
          0.415,
          0.562,
          0.676,
          0.809,
          0.427,
          0.57,
          0.724,
          0.646,
          0.594,
          0.657,
          0.744,
          0.672,
          0.631,
          0.608,
          0.343,
          0.796,
          0.355,
          0.66,
          0.736,
          0.588,
          0.819,
          0.768,
          0.457,
          0.729,
          0.856,
          0.762,
          0.625,
          0.601,
          0.598,
          0.472,
          0.747,
          0.58,
          0.894,
          0.703,
          0.476,
          0.522,
          0.639,
          0.78,
          0.473,
          0.455,
          0.454,
          0.376,
          0.961,
          0.724,
          0.665,
          0.69,
          0.571,
          0.557,
          0.445,
          0.587,
          0.692,
          0.567,
          0.588,
          0.515,
          0.657,
          0.284,
          0.789,
          0.505,
          0.289,
          0.722,
          0.386,
          0.666,
          0.666,
          0.586,
          0.667,
          0.756,
          0.486
         ],
         "yaxis": "y"
        }
       ],
       "layout": {
        "legend": {
         "tracegroupgap": 0
        },
        "margin": {
         "t": 60
        },
        "template": {
         "data": {
          "bar": [
           {
            "error_x": {
             "color": "#2a3f5f"
            },
            "error_y": {
             "color": "#2a3f5f"
            },
            "marker": {
             "line": {
              "color": "#E5ECF6",
              "width": 0.5
             },
             "pattern": {
              "fillmode": "overlay",
              "size": 10,
              "solidity": 0.2
             }
            },
            "type": "bar"
           }
          ],
          "barpolar": [
           {
            "marker": {
             "line": {
              "color": "#E5ECF6",
              "width": 0.5
             },
             "pattern": {
              "fillmode": "overlay",
              "size": 10,
              "solidity": 0.2
             }
            },
            "type": "barpolar"
           }
          ],
          "carpet": [
           {
            "aaxis": {
             "endlinecolor": "#2a3f5f",
             "gridcolor": "white",
             "linecolor": "white",
             "minorgridcolor": "white",
             "startlinecolor": "#2a3f5f"
            },
            "baxis": {
             "endlinecolor": "#2a3f5f",
             "gridcolor": "white",
             "linecolor": "white",
             "minorgridcolor": "white",
             "startlinecolor": "#2a3f5f"
            },
            "type": "carpet"
           }
          ],
          "choropleth": [
           {
            "colorbar": {
             "outlinewidth": 0,
             "ticks": ""
            },
            "type": "choropleth"
           }
          ],
          "contour": [
           {
            "colorbar": {
             "outlinewidth": 0,
             "ticks": ""
            },
            "colorscale": [
             [
              0,
              "#0d0887"
             ],
             [
              0.1111111111111111,
              "#46039f"
             ],
             [
              0.2222222222222222,
              "#7201a8"
             ],
             [
              0.3333333333333333,
              "#9c179e"
             ],
             [
              0.4444444444444444,
              "#bd3786"
             ],
             [
              0.5555555555555556,
              "#d8576b"
             ],
             [
              0.6666666666666666,
              "#ed7953"
             ],
             [
              0.7777777777777778,
              "#fb9f3a"
             ],
             [
              0.8888888888888888,
              "#fdca26"
             ],
             [
              1,
              "#f0f921"
             ]
            ],
            "type": "contour"
           }
          ],
          "contourcarpet": [
           {
            "colorbar": {
             "outlinewidth": 0,
             "ticks": ""
            },
            "type": "contourcarpet"
           }
          ],
          "heatmap": [
           {
            "colorbar": {
             "outlinewidth": 0,
             "ticks": ""
            },
            "colorscale": [
             [
              0,
              "#0d0887"
             ],
             [
              0.1111111111111111,
              "#46039f"
             ],
             [
              0.2222222222222222,
              "#7201a8"
             ],
             [
              0.3333333333333333,
              "#9c179e"
             ],
             [
              0.4444444444444444,
              "#bd3786"
             ],
             [
              0.5555555555555556,
              "#d8576b"
             ],
             [
              0.6666666666666666,
              "#ed7953"
             ],
             [
              0.7777777777777778,
              "#fb9f3a"
             ],
             [
              0.8888888888888888,
              "#fdca26"
             ],
             [
              1,
              "#f0f921"
             ]
            ],
            "type": "heatmap"
           }
          ],
          "heatmapgl": [
           {
            "colorbar": {
             "outlinewidth": 0,
             "ticks": ""
            },
            "colorscale": [
             [
              0,
              "#0d0887"
             ],
             [
              0.1111111111111111,
              "#46039f"
             ],
             [
              0.2222222222222222,
              "#7201a8"
             ],
             [
              0.3333333333333333,
              "#9c179e"
             ],
             [
              0.4444444444444444,
              "#bd3786"
             ],
             [
              0.5555555555555556,
              "#d8576b"
             ],
             [
              0.6666666666666666,
              "#ed7953"
             ],
             [
              0.7777777777777778,
              "#fb9f3a"
             ],
             [
              0.8888888888888888,
              "#fdca26"
             ],
             [
              1,
              "#f0f921"
             ]
            ],
            "type": "heatmapgl"
           }
          ],
          "histogram": [
           {
            "marker": {
             "pattern": {
              "fillmode": "overlay",
              "size": 10,
              "solidity": 0.2
             }
            },
            "type": "histogram"
           }
          ],
          "histogram2d": [
           {
            "colorbar": {
             "outlinewidth": 0,
             "ticks": ""
            },
            "colorscale": [
             [
              0,
              "#0d0887"
             ],
             [
              0.1111111111111111,
              "#46039f"
             ],
             [
              0.2222222222222222,
              "#7201a8"
             ],
             [
              0.3333333333333333,
              "#9c179e"
             ],
             [
              0.4444444444444444,
              "#bd3786"
             ],
             [
              0.5555555555555556,
              "#d8576b"
             ],
             [
              0.6666666666666666,
              "#ed7953"
             ],
             [
              0.7777777777777778,
              "#fb9f3a"
             ],
             [
              0.8888888888888888,
              "#fdca26"
             ],
             [
              1,
              "#f0f921"
             ]
            ],
            "type": "histogram2d"
           }
          ],
          "histogram2dcontour": [
           {
            "colorbar": {
             "outlinewidth": 0,
             "ticks": ""
            },
            "colorscale": [
             [
              0,
              "#0d0887"
             ],
             [
              0.1111111111111111,
              "#46039f"
             ],
             [
              0.2222222222222222,
              "#7201a8"
             ],
             [
              0.3333333333333333,
              "#9c179e"
             ],
             [
              0.4444444444444444,
              "#bd3786"
             ],
             [
              0.5555555555555556,
              "#d8576b"
             ],
             [
              0.6666666666666666,
              "#ed7953"
             ],
             [
              0.7777777777777778,
              "#fb9f3a"
             ],
             [
              0.8888888888888888,
              "#fdca26"
             ],
             [
              1,
              "#f0f921"
             ]
            ],
            "type": "histogram2dcontour"
           }
          ],
          "mesh3d": [
           {
            "colorbar": {
             "outlinewidth": 0,
             "ticks": ""
            },
            "type": "mesh3d"
           }
          ],
          "parcoords": [
           {
            "line": {
             "colorbar": {
              "outlinewidth": 0,
              "ticks": ""
             }
            },
            "type": "parcoords"
           }
          ],
          "pie": [
           {
            "automargin": true,
            "type": "pie"
           }
          ],
          "scatter": [
           {
            "fillpattern": {
             "fillmode": "overlay",
             "size": 10,
             "solidity": 0.2
            },
            "type": "scatter"
           }
          ],
          "scatter3d": [
           {
            "line": {
             "colorbar": {
              "outlinewidth": 0,
              "ticks": ""
             }
            },
            "marker": {
             "colorbar": {
              "outlinewidth": 0,
              "ticks": ""
             }
            },
            "type": "scatter3d"
           }
          ],
          "scattercarpet": [
           {
            "marker": {
             "colorbar": {
              "outlinewidth": 0,
              "ticks": ""
             }
            },
            "type": "scattercarpet"
           }
          ],
          "scattergeo": [
           {
            "marker": {
             "colorbar": {
              "outlinewidth": 0,
              "ticks": ""
             }
            },
            "type": "scattergeo"
           }
          ],
          "scattergl": [
           {
            "marker": {
             "colorbar": {
              "outlinewidth": 0,
              "ticks": ""
             }
            },
            "type": "scattergl"
           }
          ],
          "scattermapbox": [
           {
            "marker": {
             "colorbar": {
              "outlinewidth": 0,
              "ticks": ""
             }
            },
            "type": "scattermapbox"
           }
          ],
          "scatterpolar": [
           {
            "marker": {
             "colorbar": {
              "outlinewidth": 0,
              "ticks": ""
             }
            },
            "type": "scatterpolar"
           }
          ],
          "scatterpolargl": [
           {
            "marker": {
             "colorbar": {
              "outlinewidth": 0,
              "ticks": ""
             }
            },
            "type": "scatterpolargl"
           }
          ],
          "scatterternary": [
           {
            "marker": {
             "colorbar": {
              "outlinewidth": 0,
              "ticks": ""
             }
            },
            "type": "scatterternary"
           }
          ],
          "surface": [
           {
            "colorbar": {
             "outlinewidth": 0,
             "ticks": ""
            },
            "colorscale": [
             [
              0,
              "#0d0887"
             ],
             [
              0.1111111111111111,
              "#46039f"
             ],
             [
              0.2222222222222222,
              "#7201a8"
             ],
             [
              0.3333333333333333,
              "#9c179e"
             ],
             [
              0.4444444444444444,
              "#bd3786"
             ],
             [
              0.5555555555555556,
              "#d8576b"
             ],
             [
              0.6666666666666666,
              "#ed7953"
             ],
             [
              0.7777777777777778,
              "#fb9f3a"
             ],
             [
              0.8888888888888888,
              "#fdca26"
             ],
             [
              1,
              "#f0f921"
             ]
            ],
            "type": "surface"
           }
          ],
          "table": [
           {
            "cells": {
             "fill": {
              "color": "#EBF0F8"
             },
             "line": {
              "color": "white"
             }
            },
            "header": {
             "fill": {
              "color": "#C8D4E3"
             },
             "line": {
              "color": "white"
             }
            },
            "type": "table"
           }
          ]
         },
         "layout": {
          "annotationdefaults": {
           "arrowcolor": "#2a3f5f",
           "arrowhead": 0,
           "arrowwidth": 1
          },
          "autotypenumbers": "strict",
          "coloraxis": {
           "colorbar": {
            "outlinewidth": 0,
            "ticks": ""
           }
          },
          "colorscale": {
           "diverging": [
            [
             0,
             "#8e0152"
            ],
            [
             0.1,
             "#c51b7d"
            ],
            [
             0.2,
             "#de77ae"
            ],
            [
             0.3,
             "#f1b6da"
            ],
            [
             0.4,
             "#fde0ef"
            ],
            [
             0.5,
             "#f7f7f7"
            ],
            [
             0.6,
             "#e6f5d0"
            ],
            [
             0.7,
             "#b8e186"
            ],
            [
             0.8,
             "#7fbc41"
            ],
            [
             0.9,
             "#4d9221"
            ],
            [
             1,
             "#276419"
            ]
           ],
           "sequential": [
            [
             0,
             "#0d0887"
            ],
            [
             0.1111111111111111,
             "#46039f"
            ],
            [
             0.2222222222222222,
             "#7201a8"
            ],
            [
             0.3333333333333333,
             "#9c179e"
            ],
            [
             0.4444444444444444,
             "#bd3786"
            ],
            [
             0.5555555555555556,
             "#d8576b"
            ],
            [
             0.6666666666666666,
             "#ed7953"
            ],
            [
             0.7777777777777778,
             "#fb9f3a"
            ],
            [
             0.8888888888888888,
             "#fdca26"
            ],
            [
             1,
             "#f0f921"
            ]
           ],
           "sequentialminus": [
            [
             0,
             "#0d0887"
            ],
            [
             0.1111111111111111,
             "#46039f"
            ],
            [
             0.2222222222222222,
             "#7201a8"
            ],
            [
             0.3333333333333333,
             "#9c179e"
            ],
            [
             0.4444444444444444,
             "#bd3786"
            ],
            [
             0.5555555555555556,
             "#d8576b"
            ],
            [
             0.6666666666666666,
             "#ed7953"
            ],
            [
             0.7777777777777778,
             "#fb9f3a"
            ],
            [
             0.8888888888888888,
             "#fdca26"
            ],
            [
             1,
             "#f0f921"
            ]
           ]
          },
          "colorway": [
           "#636efa",
           "#EF553B",
           "#00cc96",
           "#ab63fa",
           "#FFA15A",
           "#19d3f3",
           "#FF6692",
           "#B6E880",
           "#FF97FF",
           "#FECB52"
          ],
          "font": {
           "color": "#2a3f5f"
          },
          "geo": {
           "bgcolor": "white",
           "lakecolor": "white",
           "landcolor": "#E5ECF6",
           "showlakes": true,
           "showland": true,
           "subunitcolor": "white"
          },
          "hoverlabel": {
           "align": "left"
          },
          "hovermode": "closest",
          "mapbox": {
           "style": "light"
          },
          "paper_bgcolor": "white",
          "plot_bgcolor": "#E5ECF6",
          "polar": {
           "angularaxis": {
            "gridcolor": "white",
            "linecolor": "white",
            "ticks": ""
           },
           "bgcolor": "#E5ECF6",
           "radialaxis": {
            "gridcolor": "white",
            "linecolor": "white",
            "ticks": ""
           }
          },
          "scene": {
           "xaxis": {
            "backgroundcolor": "#E5ECF6",
            "gridcolor": "white",
            "gridwidth": 2,
            "linecolor": "white",
            "showbackground": true,
            "ticks": "",
            "zerolinecolor": "white"
           },
           "yaxis": {
            "backgroundcolor": "#E5ECF6",
            "gridcolor": "white",
            "gridwidth": 2,
            "linecolor": "white",
            "showbackground": true,
            "ticks": "",
            "zerolinecolor": "white"
           },
           "zaxis": {
            "backgroundcolor": "#E5ECF6",
            "gridcolor": "white",
            "gridwidth": 2,
            "linecolor": "white",
            "showbackground": true,
            "ticks": "",
            "zerolinecolor": "white"
           }
          },
          "shapedefaults": {
           "line": {
            "color": "#2a3f5f"
           }
          },
          "ternary": {
           "aaxis": {
            "gridcolor": "white",
            "linecolor": "white",
            "ticks": ""
           },
           "baxis": {
            "gridcolor": "white",
            "linecolor": "white",
            "ticks": ""
           },
           "bgcolor": "#E5ECF6",
           "caxis": {
            "gridcolor": "white",
            "linecolor": "white",
            "ticks": ""
           }
          },
          "title": {
           "x": 0.05
          },
          "xaxis": {
           "automargin": true,
           "gridcolor": "white",
           "linecolor": "white",
           "ticks": "",
           "title": {
            "standoff": 15
           },
           "zerolinecolor": "white",
           "zerolinewidth": 2
          },
          "yaxis": {
           "automargin": true,
           "gridcolor": "white",
           "linecolor": "white",
           "ticks": "",
           "title": {
            "standoff": 15
           },
           "zerolinecolor": "white",
           "zerolinewidth": 2
          }
         }
        },
        "xaxis": {
         "anchor": "y",
         "domain": [
          0,
          1
         ],
         "title": {
          "text": "timesPlayed"
         }
        },
        "yaxis": {
         "anchor": "x",
         "domain": [
          0,
          1
         ],
         "title": {
          "text": "danceability"
         }
        }
       }
      }
     },
     "metadata": {},
     "output_type": "display_data"
    },
    {
     "data": {
      "application/vnd.plotly.v1+json": {
       "config": {
        "plotlyServerURL": "https://plot.ly"
       },
       "data": [
        {
         "hovertemplate": "<b>%{hovertext}</b><br><br>timesPlayed=%{x}<br>energy=%{y}<extra></extra>",
         "hovertext": [
          "Weird Fishes/ Arpeggi",
          "Good Will Hunting",
          "Pro Freak (with Doechii, Fatman Scoop)",
          "Present Tense",
          "the perfect pair",
          "Andromeda",
          "Nude",
          "No Surprises",
          "Never Catch Me",
          "Still",
          "Secrets (Your Fire)",
          "Meat Grinder",
          "Speech Bubbles",
          "Galaxy",
          "Runaway",
          "Motion Picture Soundtrack",
          "Troubles [Feat. T-Pain]",
          "Pluto Projector",
          "EARFQUAKE",
          "drive ME crazy!",
          "Savior",
          "Cocoa Butter Kisses",
          "Karma Police",
          "the BLACK seminole.",
          "Wesley's Theory",
          "Shine On You Crazy Diamond (Pts. 1-5)",
          "Welcome To Hell",
          "N95",
          "Concorde",
          "Chaos Space Marine",
          "Thieves In The Night",
          "Identikit",
          "15 Step",
          "family ties (with Kendrick Lamar)",
          "Self Control",
          "The Adults Are Talking",
          "diving board",
          "Walkin",
          "New N3on",
          "Chapters",
          "Heart Don't Stand a Chance",
          "Crack Sandwich",
          "Nikes",
          "Lean Beef Patty",
          "Rapp Snitch Knishes feat. Mr. Fantastik",
          "Feel No Pain (feat. Anderson .Paak & Raekwon)",
          "雨降る夜の向こう",
          "Mood Romantica",
          "Waitin' on Ya",
          "Can't Fight",
          "Ice",
          "Oh My Dis Side (feat. Quavo)",
          "Paprika",
          "Fake Plastic Trees",
          "Wunderlan",
          "Rockstar Made",
          "儚き春の一幕",
          "Faust Arp",
          "Steppa Pig",
          "Get Away",
          "Tequila Shots",
          "Hand Me Downs",
          "Flashing Lights",
          "Gold Rings (feat. Pusha T)",
          "The Lung",
          "REACH THE SUNSHINE.",
          "GONE, GONE / THANK YOU",
          "The Less I Know The Better",
          "Killshot",
          "After The Storm (feat. Tyler, The Creator & Bootsy Collins)",
          "Stop Breathing",
          "4:44",
          "Waves",
          "Stars (feat. Yasiin Bey)",
          "Potato Salad",
          "Rich Nigga Shit (feat. Young Thug)",
          "running out of time",
          "Violent Crimes",
          "Reborn",
          "Heart To Heart",
          "Count Me Out",
          "Selfless",
          "Nothing",
          "Hummingbird (Metro Boomin & James Blake)",
          "Tactics",
          "Sober to Death",
          "Love Galore (feat. Travis Scott)",
          "Rusty (feat. Domo Genesis & Earl Sweatshirt)",
          "The Only Thing",
          "Guilt Trip",
          "Baby I'm Bleeding",
          "Big K.R.I.T.",
          "Off Da Zoinkys",
          "Brand New 911",
          "二十歳の恋",
          "Westbrook (with A$AP Ferg)",
          "Didn't Cha Know",
          "Scott Mescudi Vs. The World",
          "George Bondo (feat. Conway the Machine & Benny The Butcher)",
          "Burfict!",
          "EdEddnEddy",
          "Respiration",
          "Sunglasses",
          "Devil In A New Dress",
          "Oh, Maker",
          "Gabby (feat. Janelle Monáe)",
          "A Punch Up at a Wedding",
          "A Rush of Blood to the Head",
          "No More Parties In LA",
          "BLACK BALLOONS | 13LACK 13ALLOONZ [FEAT. TWELVE'LEN & GOLDLINK | TWELVE'LEN + GOLDL1NK]",
          "Bittersweet",
          "Long Time - Intro",
          "Glass Eyes",
          "Anti-Matter",
          "Eternal Summer",
          "Make Me Feel",
          "Sandstorm (feat. JID)",
          "Neon Valley Street",
          "Hidden Place",
          "Place",
          "Pink + White",
          "Suddenly",
          "Kingdom Hearts Key (ft. redveil)",
          "Walk Em Down (Don't Kill Civilians) [with 21 Savage & feat. Mustafa]",
          "Lucky",
          "Leak It (feat. Chlöe)",
          "Chocolate Matter",
          "Eye/I and I/Nation",
          "Kenan Vs. Kel",
          "Them Changes",
          "Wake Up",
          "Yeah Right",
          "Pink Matter",
          "Mirror",
          "Wild Time",
          "Say It Ain't So",
          "327 (feat. Tyler, The Creator & Billie Essco)",
          "Comin Out Strong (feat. The Weeknd)",
          "Crown",
          "Under The Sun (with J. Cole & Lute feat. DaBaby)",
          "Silhouette",
          "United In Grief",
          "Beta Male Strategies",
          "Tears (feat. Caroline Polachek)",
          "Umbrella (with 21 Savage & Young Nudy)",
          "The Tourist",
          "Aquemini",
          "It's Not up to You",
          "High and Dry",
          "Heartless",
          "White Ferrari",
          "Fentanyl Tester",
          "John Woo Flick (with Benny The Butcher & Westside Gunn)",
          "1539 N. Calvert",
          "Stay Flo",
          "Fuck the Nordic Model",
          "Hellfire",
          "Milk - 2021 Remaster",
          "Tell Me What I Don't Know",
          "If Tomorrow's Not Here",
          "Crosshairs",
          "I THINK",
          "Soundtrack 2 My Life",
          "FAMJAM4000",
          "X-Wing",
          "Sky Might Fall",
          "Kimiga Nakunara",
          "Idioteque",
          "Consideration",
          "Akasaka Sad",
          "A.D.H.D",
          "Design: 2: 3",
          "Behind The Moon Shadow",
          "Angel",
          "I'm In It",
          "This Is Why",
          "Picture Me Better",
          "Angels (feat. Saba)",
          "FIND YOUR WINGS (feat. Roy Ayers, Sydney Bennett & Kali Uchis)",
          "Faucet Failure",
          "Surround Sound (feat. 21 Savage & Baby Tate)",
          "We Major",
          "One Beer",
          "A Toshi no Aki",
          "夕暮れ",
          "On That Time",
          "Savage Good Boy",
          "Enter Galactic (Love Connection Part I)",
          "The Numbers",
          "Fingerprints",
          "I'M THAT GIRL",
          "Poetic Justice",
          "Bodys",
          "Smokin Out The Window",
          "Solo Dolo (Nightmare)",
          "Complicated",
          "LOVE. FEAT. ZACARI.",
          "Say You Will",
          "Money Trees",
          "Grimy Waifu",
          "Dark Red",
          "G.O.M.D",
          "Mr. Rager",
          "Next Levels",
          "BUSY / SIRENS",
          "Netflix & Dusse",
          "Acting",
          "In Love",
          "Justin Scott",
          "911 / Mr. Lonely (feat. Frank Ocean & Steve Lacy)",
          "Joga",
          "Ode To The Mets",
          "pg baby",
          "Ain't No Way [Feat. 6LACK, Rico Nasty, J.I.D, Jasiah, Kitty Ca$h]",
          "A BOY IS A GUN*",
          "Sunny day",
          "Symphony",
          "Blow My High (Members Only)",
          "Storm",
          "Better Days (feat. Johnta Austin)",
          "How to Disappear Completely",
          "STOP TRYING TO BE GOD",
          "Kid A",
          "NEW MAGIC WAND",
          "I Ain't Got Time!",
          "Head High",
          "Bad Habit",
          "Photosynthesis",
          "The Defence",
          "Send It Up",
          "Inside Out",
          "Envy",
          "In Sound, We Found Each Other",
          "Nothing Good Ever Happens At The Goddamn Thirsty Crow",
          "Yellow",
          "6 Star Wanted Level",
          "Right Now (feat. Pi'erre Bourne)",
          "Out On Sunny Sunday",
          "Dynasty",
          "Had Enough (feat. Quavo & Offset)",
          "Bound 2",
          "24",
          "DIRTY!",
          "Kokorono Madobeni Akai Hanao Kazatte",
          "Kuso Yakan Hikoh",
          "A Bigger Paper Bag",
          "LIFE",
          "Where Ya Get Ya Coke From?",
          "Television / So Far So Good",
          "Euphoria (feat. Travis Scott & Kaash Paige)",
          "So Appalled",
          "Hurricane",
          "Thot Tactics",
          "REBOUND!",
          "FEEL.",
          "New Choppa",
          "BREAK MY SOUL",
          "Where I Belong",
          "Norman fucking Rockwell",
          "Videotape",
          "Nas Is Like",
          "m.A.A.d city",
          "Why Are Sundays So Depressing",
          "Orange Juice Jones",
          "Slow",
          "Wolves",
          "Crime Pays",
          "God Loves You",
          "I Wonder",
          "Aux Cord",
          "26",
          "Hard Times",
          "Something to Believe",
          "SICKO MODE",
          "Gone",
          "range brothers (with Kendrick Lamar)",
          "Drones (feat. Kendrick Lamar, Snoop Dogg, Ty Dolla $ign & James Fauntleroy)",
          "Cherry-coloured Funk",
          "Always",
          "Let It Be - Remastered 2009",
          "Glue Song",
          "No Vacancy",
          "Instrumental",
          "Chondromalacia Patella",
          "Ripples",
          "Jack Harlow Combo Meal",
          "CAN'T SAY",
          "broken cd",
          "Afternoon in Heaven",
          "Excited",
          "Super Urus",
          "OPEN A WINDOW (feat. Tyler, The Creator)",
          "FlatBed Freestyle",
          "Wet Dream",
          "Deeper",
          "Sky",
          "Show Me",
          "Bloom",
          "Run The Jewels",
          "Shaolin Monk Motherfunk",
          "Love On The Brain",
          "Pray 4 Love (feat. The Weeknd)",
          "Figures",
          "Self Care",
          "Blackest in the Room",
          "Solo (Reprise)",
          "U Wanna Dance?",
          "Greatest Hits",
          "Under",
          "Time Today",
          "Bury Me In Gold",
          "Street Spirit (Fade Out)",
          "Harold’s",
          "Defibrillator",
          "Tired",
          "Downward Spiral",
          "ASTROTHUNDER",
          "Ful Stop",
          "Love Sosa",
          "2009",
          "dothatshit!",
          "Settle Down (with Cory Henry, Ravyn Lenae)",
          "Can’t Make U Change (feat. Ari Lennox)",
          "infinity (888) - feat. Joey Bada$$",
          "p r i d e . i s . t h e . d e v i l (with Lil Baby)",
          "Wanna Be Loved",
          "Big Titties (feat. Baauer and EarthGang)",
          "Sparks",
          "Big Bank (feat. T.I.)",
          "Electioneering",
          "Coffee",
          "M3tamorphosis (feat. Kid Cudi)",
          "New Slaves",
          "I Might Be Wrong",
          "Miss Georgia Fornia (feat. Joi)",
          "Dance or Die (feat. Saul Williams)",
          "The End (feat. BABYMETAL)",
          "On Sight",
          "Relative",
          "JPEGMAFIA TYPE BEAT",
          "Raindrop City",
          "Palmolive (feat. Pusha T & Killer Mike)",
          "Brooklyn Bridge To Chorus",
          "See You Again (feat. Kali Uchis)",
          "Nightcrawler (feat. Swae Lee & Chief Keef)",
          "Unlock It (feat. Playboi Carti)",
          "King Kunta",
          "PUPPET",
          "Beef Rap",
          "untitled 05 | 09.21.2014.",
          "Space Song",
          "Shitsville",
          "Never Meant",
          "K.O.S. (Determination)",
          "My Iron Lung",
          "FAKENGGAS",
          "Gorilla",
          "Slide Tackle",
          "PTSD",
          "Exchange",
          "Solo",
          "151 Rum",
          "Used (feat. Don Toliver)",
          "BMT!",
          "Boredom (feat. Rex Orange County & Anna of the North)",
          "Yesterday - Remastered 2009",
          "SWEET / I THOUGHT YOU WANTED TO DANCE (feat. Brent Faiyaz & Fana Hues)",
          "Scottie Beam",
          "Workin Out",
          "Trampoline",
          "(Nice Dream)",
          "Knicks",
          "Godspeed",
          "Find Your Love",
          "Creep",
          "Myth",
          "Glass Flows",
          "Scarface",
          "Melt a Bed",
          "R.I.P. Fredo (feat. Young Nudy) - Notice Me",
          "Pure Souls",
          "Good News",
          "Tightrope (feat. Big Boi) - Big Boi Vocal Edit",
          "She Roll Up",
          "Suede",
          "Scenario - LP Mix",
          "Dawning of the Season",
          "PYS (feat. DJ Paul)",
          "Thuggin’",
          "Planet Telex",
          "Don't",
          "Sept",
          "DUCKWORTH.",
          "TEMPTATION",
          "The Night Squall",
          "Acting - 2021 Remaster",
          "Momma",
          "Cosmonauts",
          "Voodoo Child (Slight Return)",
          "I Love You, I Hate You",
          "Have You In My Wilderness",
          "Drunk Drivers/Killer Whales",
          "Dangerous Liaisons",
          "Us and Them",
          "Transform (feat. Charlotte Day Wilson)",
          "GTFU (Feat. JPEGMAFIA & Cakes da Killa)",
          "Hustle Bones",
          "Read My Mind",
          "Total Entertainment Forever",
          "Father Stretch My Hands Pt. 1",
          "Plastic 100°C",
          "The Highs & The Lows",
          "Soul Food",
          "Momma Callin",
          "Unstoppable",
          "where's the confetti?",
          "The Bends",
          "Palace/Curse (feat. Tyler, The Creator & Steve Lacy)",
          "Giannis (feat. Anderson .Paak)",
          "New Person, Same Old Mistakes",
          "The Root",
          "m y . l i f e (with 21 Savage & Morray)",
          "After Last Night (with Thundercat & Bootsy Collins)",
          "Memo",
          "wokeuplikethis*",
          "Keep My Spirit Alive pt 2",
          "To All the Dancers of the World, A Round Form of Fantasy",
          "Ain't it Funny",
          "Chosen (feat. Ty Dolla $ign)",
          "For Free? - Interlude",
          "For Lovers",
          "Other People",
          "Sing About Me, I'm Dying Of Thirst",
          "Kokomo, IN",
          "IG",
          "ELON MUSK",
          "Get on the Floor",
          "2007",
          "CIA",
          "Bag Lady",
          "Morning Bell",
          "CRUCIFY ME",
          "All Falls Down",
          "2040",
          "Church",
          "Dreams and Nightmares",
          "Lost In The World",
          "Dethroned",
          "Raindrops (Insane) [with Travis Scott]",
          "Tinker Tailor Soldier Sailor Rich Man Poor Man Beggar Man Thief",
          "Up Up & Away",
          "Running Out Of Time",
          "Lipstick Lover",
          "New Tank",
          "Rose-Colored Boy",
          "Papi I Missed U",
          "When Doves Cry",
          "Doomsday",
          "Foreign",
          "War Paint (feat. Westside Gunn & Conway the Machine)",
          "Your Prime",
          "Dump",
          "Comfortably Numb",
          "Energy",
          "Feel The Love",
          "Poke It Out (with Nicki Minaj)",
          "Just In Time (feat. Lil Wayne & Kenny Mason)",
          "TAKE A CHANCE (feat. Anderson .Paak)",
          "Hold The Girl",
          "Wild Irish Roses",
          "...& On",
          "HOE (Heaven on Earth)",
          "No Reason",
          "MANIFESTO (feat. Domo Genesis)",
          "Ladies and gentlemen we are floating in space",
          "Arya (with Nigo)",
          "DIET_",
          "N.Y. State of Mind",
          "Hurt Feelings",
          "Through The Wire",
          "The Scientist",
          "Life on Mars? - 2015 Remaster",
          "DD Form 214",
          "SWGSKOOL",
          "Letter To Cornelius",
          "Sir Duke",
          "Forever - 2021 Remaster",
          "Rearview",
          "Jukebox Joints (feat. Joe Fox & Kanye West)",
          "If I Had A Dollar (feat. Benjamin Earl Turner)",
          "Hold Up, Wait!",
          "Black Star",
          "The OtherSide",
          "LUMBERJACK",
          "Packt Like Sardines In a Crushd Tin Box",
          "Wax On (Feat. Freddie Gibbs)",
          "Stupid/Asking",
          "untitled 02 | 06.23.2014.",
          "By Design",
          "the 27 club"
         ],
         "legendgroup": "",
         "marker": {
          "color": "#636efa",
          "symbol": "circle"
         },
         "mode": "markers",
         "name": "",
         "orientation": "v",
         "showlegend": false,
         "type": "scatter",
         "x": [
          58.43,
          48.04,
          45.29,
          44.9,
          44.38,
          44.2,
          42.5,
          40.25,
          38.67,
          38.08,
          37.45,
          37.38,
          36.18,
          35.58,
          35.21,
          34.48,
          34.1,
          33.74,
          33.1,
          33.02,
          32.61,
          32.27,
          32.19,
          32.04,
          31.74,
          31.47,
          30.83,
          30.51,
          30.21,
          29.64,
          29.61,
          29.58,
          29.38,
          29.26,
          28.85,
          28.6,
          28.59,
          28.55,
          27.39,
          27.31,
          27.26,
          27.26,
          27.22,
          27.21,
          27.11,
          26.27,
          26.21,
          26.01,
          25.96,
          25.92,
          25.83,
          25.37,
          25.18,
          24.92,
          24.58,
          24.58,
          24.46,
          24.46,
          24.31,
          24.28,
          24.17,
          24.16,
          24.13,
          23.73,
          23.6,
          23.57,
          23.5,
          23.24,
          23.19,
          23.09,
          23.05,
          23.01,
          22.86,
          22.81,
          22.7,
          22.69,
          22.67,
          21.68,
          21.55,
          21.5,
          21.3,
          21.05,
          20.76,
          20.74,
          20.63,
          20.61,
          20.6,
          20.51,
          20.4,
          20.38,
          20.28,
          20.23,
          20.04,
          19.95,
          19.9,
          19.85,
          19.79,
          19.62,
          19.61,
          19.5,
          19.42,
          19.41,
          19.28,
          19.15,
          19.1,
          19.01,
          19,
          18.95,
          18.92,
          18.86,
          18.78,
          18.78,
          18.76,
          18.75,
          18.73,
          18.71,
          18.67,
          18.62,
          18.56,
          18.47,
          18.36,
          18.34,
          18.27,
          18.12,
          18.1,
          17.95,
          17.94,
          17.82,
          17.76,
          17.66,
          17.59,
          17.58,
          17.56,
          17.54,
          17.43,
          17.39,
          17.36,
          17.35,
          17.31,
          17.22,
          17.03,
          17,
          16.97,
          16.85,
          16.8,
          16.79,
          16.79,
          16.79,
          16.74,
          16.67,
          16.62,
          16.52,
          16.45,
          16.41,
          16.35,
          16.35,
          16.34,
          16.27,
          16.26,
          16.2,
          16.17,
          16.15,
          16.11,
          16.11,
          16.02,
          16,
          15.99,
          15.98,
          15.96,
          15.85,
          15.82,
          15.81,
          15.79,
          15.79,
          15.76,
          15.66,
          15.6,
          15.58,
          15.57,
          15.51,
          15.45,
          15.38,
          15.35,
          15.32,
          15.24,
          15.21,
          15.17,
          15.14,
          15.09,
          15,
          15,
          14.97,
          14.96,
          14.96,
          14.95,
          14.87,
          14.81,
          14.78,
          14.67,
          14.64,
          14.6,
          14.56,
          14.48,
          14.47,
          14.42,
          14.42,
          14.28,
          14.24,
          14.2,
          14.19,
          14.15,
          14.06,
          14.03,
          14,
          14,
          14,
          13.98,
          13.97,
          13.95,
          13.94,
          13.93,
          13.9,
          13.89,
          13.87,
          13.86,
          13.83,
          13.74,
          13.72,
          13.66,
          13.66,
          13.64,
          13.61,
          13.56,
          13.55,
          13.53,
          13.48,
          13.47,
          13.43,
          13.43,
          13.36,
          13.35,
          13.33,
          13.29,
          13.22,
          13.16,
          13.15,
          13.1,
          13.04,
          13,
          13,
          12.96,
          12.92,
          12.91,
          12.84,
          12.8,
          12.8,
          12.78,
          12.74,
          12.71,
          12.68,
          12.63,
          12.6,
          12.58,
          12.53,
          12.47,
          12.41,
          12.41,
          12.41,
          12.39,
          12.34,
          12.31,
          12.3,
          12.29,
          12.28,
          12.27,
          12.26,
          12.19,
          12.13,
          12.09,
          12,
          12,
          12,
          11.97,
          11.95,
          11.95,
          11.95,
          11.94,
          11.92,
          11.92,
          11.91,
          11.91,
          11.9,
          11.9,
          11.86,
          11.82,
          11.74,
          11.73,
          11.73,
          11.7,
          11.69,
          11.68,
          11.66,
          11.66,
          11.63,
          11.61,
          11.61,
          11.6,
          11.58,
          11.54,
          11.54,
          11.53,
          11.52,
          11.52,
          11.51,
          11.51,
          11.5,
          11.48,
          11.45,
          11.42,
          11.39,
          11.38,
          11.33,
          11.28,
          11.28,
          11.27,
          11.23,
          11.21,
          11.18,
          11.15,
          11.11,
          11.1,
          11.08,
          11.07,
          11.04,
          11,
          11,
          11,
          11,
          11,
          11,
          10.96,
          10.92,
          10.91,
          10.91,
          10.85,
          10.83,
          10.79,
          10.79,
          10.78,
          10.76,
          10.66,
          10.66,
          10.63,
          10.62,
          10.61,
          10.6,
          10.55,
          10.54,
          10.5,
          10.48,
          10.47,
          10.47,
          10.47,
          10.45,
          10.42,
          10.41,
          10.39,
          10.38,
          10.36,
          10.35,
          10.35,
          10.33,
          10.31,
          10.28,
          10.25,
          10.24,
          10.24,
          10.23,
          10.22,
          10.22,
          10.18,
          10.18,
          10.17,
          10.16,
          10.14,
          10.1,
          10.1,
          10.07,
          10.05,
          10.03,
          10,
          9.98,
          9.95,
          9.94,
          9.9,
          9.88,
          9.79,
          9.78,
          9.69,
          9.69,
          9.69,
          9.68,
          9.68,
          9.67,
          9.67,
          9.67,
          9.63,
          9.59,
          9.59,
          9.58,
          9.53,
          9.52,
          9.51,
          9.5,
          9.49,
          9.48,
          9.47,
          9.46,
          9.46,
          9.44,
          9.43,
          9.4,
          9.35,
          9.35,
          9.34,
          9.33,
          9.31,
          9.29,
          9.29,
          9.29,
          9.29,
          9.28,
          9.25,
          9.25,
          9.22,
          9.22,
          9.2,
          9.19,
          9.19,
          9.16,
          9.15,
          9.15,
          9.15,
          9.14,
          9.08,
          9.08,
          9.04,
          9.01,
          9.01,
          9,
          9,
          9,
          9,
          9,
          8.99,
          8.96,
          8.92,
          8.91,
          8.91,
          8.86,
          8.85,
          8.85,
          8.83,
          8.81,
          8.81,
          8.8,
          8.8,
          8.79,
          8.79,
          8.79,
          8.78,
          8.78,
          8.77,
          8.74,
          8.72,
          8.72,
          8.72,
          8.71,
          8.7,
          8.7,
          8.69,
          8.67,
          8.67,
          8.66,
          8.65,
          8.63,
          8.62,
          8.58,
          8.57,
          8.56,
          8.56,
          8.51,
          8.51,
          8.49,
          8.48,
          8.44,
          8.43,
          8.41,
          8.4,
          8.4
         ],
         "xaxis": "x",
         "y": [
          0.61,
          0.358,
          0.641,
          0.407,
          0.663,
          0.461,
          0.342,
          0.393,
          0.936,
          0.923,
          0.827,
          0.717,
          0.345,
          0.136,
          0.568,
          0.13,
          0.751,
          0.219,
          0.498,
          0.807,
          0.692,
          0.645,
          0.501,
          0.557,
          0.787,
          0.294,
          0.941,
          0.67,
          0.284,
          0.549,
          0.597,
          0.459,
          0.854,
          0.611,
          0.21,
          0.749,
          0.773,
          0.654,
          0.833,
          0.674,
          0.545,
          0.666,
          0.395,
          0.964,
          0.832,
          0.666,
          0.436,
          0.814,
          0.466,
          0.522,
          0.763,
          0.623,
          0.712,
          0.229,
          0.522,
          0.612,
          0.309,
          0.288,
          0.952,
          0.485,
          0.556,
          0.33,
          0.628,
          0.806,
          0.406,
          0.434,
          0.492,
          0.74,
          0.53,
          0.659,
          0.57,
          0.852,
          0.586,
          0.59,
          0.612,
          0.733,
          0.72,
          0.419,
          0.597,
          0.136,
          0.431,
          0.679,
          0.418,
          0.595,
          0.358,
          0.543,
          0.594,
          0.677,
          0.146,
          0.666,
          0.859,
          0.805,
          0.632,
          0.878,
          0.375,
          0.779,
          0.472,
          0.72,
          0.791,
          0.976,
          0.421,
          0.738,
          0.412,
          0.76,
          0.411,
          0.78,
          0.507,
          0.472,
          0.921,
          0.725,
          0.418,
          0.861,
          0.11,
          0.752,
          0.78,
          0.413,
          0.512,
          0.508,
          0.793,
          0.628,
          0.545,
          0.465,
          0.946,
          0.526,
          0.4,
          0.262,
          0.928,
          0.649,
          0.813,
          0.562,
          0.8,
          0.468,
          0.233,
          0.67,
          0.423,
          0.551,
          0.701,
          0.481,
          0.245,
          0.64,
          0.831,
          0.845,
          0.582,
          0.713,
          0.788,
          0.295,
          0.661,
          0.448,
          0.383,
          0.647,
          0.0958,
          0.963,
          0.735,
          0.717,
          0.558,
          0.662,
          0.888,
          0.278,
          0.821,
          0.797,
          0.525,
          0.579,
          0.754,
          0.574,
          0.675,
          0.722,
          0.667,
          0.931,
          0.584,
          0.912,
          0.799,
          0.373,
          0.174,
          0.647,
          0.604,
          0.76,
          0.159,
          0.647,
          0.427,
          0.552,
          0.56,
          0.88,
          0.718,
          0.506,
          0.245,
          0.476,
          0.745,
          0.71,
          0.372,
          0.237,
          0.535,
          0.572,
          0.843,
          0.618,
          0.449,
          0.36,
          0.585,
          0.401,
          0.531,
          0.677,
          0.784,
          0.4,
          0.726,
          0.557,
          0.465,
          0.329,
          0.332,
          0.522,
          0.722,
          0.61,
          0.697,
          0.617,
          0.852,
          0.707,
          0.689,
          0.595,
          0.629,
          0.524,
          0.187,
          0.593,
          0.302,
          0.567,
          0.428,
          0.73,
          0.725,
          0.864,
          0.507,
          0.662,
          0.601,
          0.544,
          0.465,
          0.55,
          0.51,
          0.468,
          0.661,
          0.583,
          0.602,
          0.663,
          0.891,
          0.789,
          0.665,
          0.534,
          0.923,
          0.289,
          0.843,
          0.472,
          0.497,
          0.923,
          0.505,
          0.306,
          0.754,
          0.566,
          0.613,
          0.874,
          0.798,
          0.605,
          0.887,
          0.902,
          0.203,
          0.383,
          0.845,
          0.729,
          0.714,
          0.938,
          0.733,
          0.392,
          0.699,
          0.976,
          0.87,
          0.798,
          0.286,
          0.818,
          0.391,
          0.73,
          0.668,
          0.582,
          0.619,
          0.652,
          0.441,
          0.403,
          0.409,
          0.706,
          0.568,
          0.533,
          0.262,
          0.963,
          0.708,
          0.253,
          0.715,
          0.656,
          0.624,
          0.607,
          0.552,
          0.701,
          0.79,
          0.903,
          0.646,
          0.416,
          0.947,
          0.463,
          0.637,
          0.578,
          0.521,
          0.538,
          0.597,
          0.749,
          0.614,
          0.786,
          0.64,
          0.677,
          0.772,
          0.454,
          0.814,
          0.665,
          0.418,
          0.698,
          0.46,
          0.662,
          0.413,
          0.496,
          0.744,
          0.603,
          0.52,
          0.579,
          0.656,
          0.589,
          0.67,
          0.268,
          0.847,
          0.888,
          0.137,
          0.604,
          0.59,
          0.735,
          0.758,
          0.901,
          0.954,
          0.469,
          0.77,
          0.924,
          0.831,
          0.603,
          0.571,
          0.559,
          0.728,
          0.87,
          0.657,
          0.557,
          0.899,
          0.62,
          0.792,
          0.665,
          0.808,
          0.521,
          0.859,
          0.513,
          0.813,
          0.603,
          0.883,
          0.433,
          0.289,
          0.867,
          0.689,
          0.927,
          0.578,
          0.179,
          0.652,
          0.654,
          0.57,
          0.863,
          0.566,
          0.506,
          0.0969,
          0.614,
          0.43,
          0.708,
          0.517,
          0.821,
          0.722,
          0.755,
          0.528,
          0.32,
          0.673,
          0.541,
          0.735,
          0.6,
          0.764,
          0.746,
          0.604,
          0.881,
          0.356,
          0.832,
          0.731,
          0.707,
          0.661,
          0.256,
          0.743,
          0.472,
          0.91,
          0.77,
          0.28,
          0.414,
          0.871,
          0.302,
          0.292,
          0.831,
          0.982,
          0.445,
          0.754,
          0.573,
          0.361,
          0.714,
          0.869,
          0.714,
          0.779,
          0.874,
          0.755,
          0.625,
          0.839,
          0.809,
          0.408,
          0.587,
          0.703,
          0.894,
          0.62,
          0.65,
          0.404,
          0.84,
          0.767,
          0.896,
          0.0522,
          0.509,
          0.753,
          0.665,
          0.625,
          0.615,
          0.892,
          0.574,
          0.777,
          0.416,
          0.462,
          0.648,
          0.734,
          0.697,
          0.569,
          0.774,
          0.746,
          0.702,
          0.539,
          0.436,
          0.881,
          0.534,
          0.434,
          0.638,
          0.826,
          0.558,
          0.989,
          0.84,
          0.705,
          0.724,
          0.641,
          0.775,
          0.366,
          0.571,
          0.469,
          0.59,
          0.577,
          0.779,
          0.84,
          0.295,
          0.343,
          0.79,
          0.566,
          0.866,
          0.41,
          0.478,
          0.771,
          0.91,
          0.462,
          0.739,
          0.442,
          0.384,
          0.543,
          0.609,
          0.595,
          0.568,
          0.366,
          0.808,
          0.803,
          0.578,
          0.719,
          0.555,
          0.926,
          0.762,
          0.638,
          0.861,
          0.501,
          0.508,
          0.85,
          0.662
         ],
         "yaxis": "y"
        }
       ],
       "layout": {
        "legend": {
         "tracegroupgap": 0
        },
        "margin": {
         "t": 60
        },
        "template": {
         "data": {
          "bar": [
           {
            "error_x": {
             "color": "#2a3f5f"
            },
            "error_y": {
             "color": "#2a3f5f"
            },
            "marker": {
             "line": {
              "color": "#E5ECF6",
              "width": 0.5
             },
             "pattern": {
              "fillmode": "overlay",
              "size": 10,
              "solidity": 0.2
             }
            },
            "type": "bar"
           }
          ],
          "barpolar": [
           {
            "marker": {
             "line": {
              "color": "#E5ECF6",
              "width": 0.5
             },
             "pattern": {
              "fillmode": "overlay",
              "size": 10,
              "solidity": 0.2
             }
            },
            "type": "barpolar"
           }
          ],
          "carpet": [
           {
            "aaxis": {
             "endlinecolor": "#2a3f5f",
             "gridcolor": "white",
             "linecolor": "white",
             "minorgridcolor": "white",
             "startlinecolor": "#2a3f5f"
            },
            "baxis": {
             "endlinecolor": "#2a3f5f",
             "gridcolor": "white",
             "linecolor": "white",
             "minorgridcolor": "white",
             "startlinecolor": "#2a3f5f"
            },
            "type": "carpet"
           }
          ],
          "choropleth": [
           {
            "colorbar": {
             "outlinewidth": 0,
             "ticks": ""
            },
            "type": "choropleth"
           }
          ],
          "contour": [
           {
            "colorbar": {
             "outlinewidth": 0,
             "ticks": ""
            },
            "colorscale": [
             [
              0,
              "#0d0887"
             ],
             [
              0.1111111111111111,
              "#46039f"
             ],
             [
              0.2222222222222222,
              "#7201a8"
             ],
             [
              0.3333333333333333,
              "#9c179e"
             ],
             [
              0.4444444444444444,
              "#bd3786"
             ],
             [
              0.5555555555555556,
              "#d8576b"
             ],
             [
              0.6666666666666666,
              "#ed7953"
             ],
             [
              0.7777777777777778,
              "#fb9f3a"
             ],
             [
              0.8888888888888888,
              "#fdca26"
             ],
             [
              1,
              "#f0f921"
             ]
            ],
            "type": "contour"
           }
          ],
          "contourcarpet": [
           {
            "colorbar": {
             "outlinewidth": 0,
             "ticks": ""
            },
            "type": "contourcarpet"
           }
          ],
          "heatmap": [
           {
            "colorbar": {
             "outlinewidth": 0,
             "ticks": ""
            },
            "colorscale": [
             [
              0,
              "#0d0887"
             ],
             [
              0.1111111111111111,
              "#46039f"
             ],
             [
              0.2222222222222222,
              "#7201a8"
             ],
             [
              0.3333333333333333,
              "#9c179e"
             ],
             [
              0.4444444444444444,
              "#bd3786"
             ],
             [
              0.5555555555555556,
              "#d8576b"
             ],
             [
              0.6666666666666666,
              "#ed7953"
             ],
             [
              0.7777777777777778,
              "#fb9f3a"
             ],
             [
              0.8888888888888888,
              "#fdca26"
             ],
             [
              1,
              "#f0f921"
             ]
            ],
            "type": "heatmap"
           }
          ],
          "heatmapgl": [
           {
            "colorbar": {
             "outlinewidth": 0,
             "ticks": ""
            },
            "colorscale": [
             [
              0,
              "#0d0887"
             ],
             [
              0.1111111111111111,
              "#46039f"
             ],
             [
              0.2222222222222222,
              "#7201a8"
             ],
             [
              0.3333333333333333,
              "#9c179e"
             ],
             [
              0.4444444444444444,
              "#bd3786"
             ],
             [
              0.5555555555555556,
              "#d8576b"
             ],
             [
              0.6666666666666666,
              "#ed7953"
             ],
             [
              0.7777777777777778,
              "#fb9f3a"
             ],
             [
              0.8888888888888888,
              "#fdca26"
             ],
             [
              1,
              "#f0f921"
             ]
            ],
            "type": "heatmapgl"
           }
          ],
          "histogram": [
           {
            "marker": {
             "pattern": {
              "fillmode": "overlay",
              "size": 10,
              "solidity": 0.2
             }
            },
            "type": "histogram"
           }
          ],
          "histogram2d": [
           {
            "colorbar": {
             "outlinewidth": 0,
             "ticks": ""
            },
            "colorscale": [
             [
              0,
              "#0d0887"
             ],
             [
              0.1111111111111111,
              "#46039f"
             ],
             [
              0.2222222222222222,
              "#7201a8"
             ],
             [
              0.3333333333333333,
              "#9c179e"
             ],
             [
              0.4444444444444444,
              "#bd3786"
             ],
             [
              0.5555555555555556,
              "#d8576b"
             ],
             [
              0.6666666666666666,
              "#ed7953"
             ],
             [
              0.7777777777777778,
              "#fb9f3a"
             ],
             [
              0.8888888888888888,
              "#fdca26"
             ],
             [
              1,
              "#f0f921"
             ]
            ],
            "type": "histogram2d"
           }
          ],
          "histogram2dcontour": [
           {
            "colorbar": {
             "outlinewidth": 0,
             "ticks": ""
            },
            "colorscale": [
             [
              0,
              "#0d0887"
             ],
             [
              0.1111111111111111,
              "#46039f"
             ],
             [
              0.2222222222222222,
              "#7201a8"
             ],
             [
              0.3333333333333333,
              "#9c179e"
             ],
             [
              0.4444444444444444,
              "#bd3786"
             ],
             [
              0.5555555555555556,
              "#d8576b"
             ],
             [
              0.6666666666666666,
              "#ed7953"
             ],
             [
              0.7777777777777778,
              "#fb9f3a"
             ],
             [
              0.8888888888888888,
              "#fdca26"
             ],
             [
              1,
              "#f0f921"
             ]
            ],
            "type": "histogram2dcontour"
           }
          ],
          "mesh3d": [
           {
            "colorbar": {
             "outlinewidth": 0,
             "ticks": ""
            },
            "type": "mesh3d"
           }
          ],
          "parcoords": [
           {
            "line": {
             "colorbar": {
              "outlinewidth": 0,
              "ticks": ""
             }
            },
            "type": "parcoords"
           }
          ],
          "pie": [
           {
            "automargin": true,
            "type": "pie"
           }
          ],
          "scatter": [
           {
            "fillpattern": {
             "fillmode": "overlay",
             "size": 10,
             "solidity": 0.2
            },
            "type": "scatter"
           }
          ],
          "scatter3d": [
           {
            "line": {
             "colorbar": {
              "outlinewidth": 0,
              "ticks": ""
             }
            },
            "marker": {
             "colorbar": {
              "outlinewidth": 0,
              "ticks": ""
             }
            },
            "type": "scatter3d"
           }
          ],
          "scattercarpet": [
           {
            "marker": {
             "colorbar": {
              "outlinewidth": 0,
              "ticks": ""
             }
            },
            "type": "scattercarpet"
           }
          ],
          "scattergeo": [
           {
            "marker": {
             "colorbar": {
              "outlinewidth": 0,
              "ticks": ""
             }
            },
            "type": "scattergeo"
           }
          ],
          "scattergl": [
           {
            "marker": {
             "colorbar": {
              "outlinewidth": 0,
              "ticks": ""
             }
            },
            "type": "scattergl"
           }
          ],
          "scattermapbox": [
           {
            "marker": {
             "colorbar": {
              "outlinewidth": 0,
              "ticks": ""
             }
            },
            "type": "scattermapbox"
           }
          ],
          "scatterpolar": [
           {
            "marker": {
             "colorbar": {
              "outlinewidth": 0,
              "ticks": ""
             }
            },
            "type": "scatterpolar"
           }
          ],
          "scatterpolargl": [
           {
            "marker": {
             "colorbar": {
              "outlinewidth": 0,
              "ticks": ""
             }
            },
            "type": "scatterpolargl"
           }
          ],
          "scatterternary": [
           {
            "marker": {
             "colorbar": {
              "outlinewidth": 0,
              "ticks": ""
             }
            },
            "type": "scatterternary"
           }
          ],
          "surface": [
           {
            "colorbar": {
             "outlinewidth": 0,
             "ticks": ""
            },
            "colorscale": [
             [
              0,
              "#0d0887"
             ],
             [
              0.1111111111111111,
              "#46039f"
             ],
             [
              0.2222222222222222,
              "#7201a8"
             ],
             [
              0.3333333333333333,
              "#9c179e"
             ],
             [
              0.4444444444444444,
              "#bd3786"
             ],
             [
              0.5555555555555556,
              "#d8576b"
             ],
             [
              0.6666666666666666,
              "#ed7953"
             ],
             [
              0.7777777777777778,
              "#fb9f3a"
             ],
             [
              0.8888888888888888,
              "#fdca26"
             ],
             [
              1,
              "#f0f921"
             ]
            ],
            "type": "surface"
           }
          ],
          "table": [
           {
            "cells": {
             "fill": {
              "color": "#EBF0F8"
             },
             "line": {
              "color": "white"
             }
            },
            "header": {
             "fill": {
              "color": "#C8D4E3"
             },
             "line": {
              "color": "white"
             }
            },
            "type": "table"
           }
          ]
         },
         "layout": {
          "annotationdefaults": {
           "arrowcolor": "#2a3f5f",
           "arrowhead": 0,
           "arrowwidth": 1
          },
          "autotypenumbers": "strict",
          "coloraxis": {
           "colorbar": {
            "outlinewidth": 0,
            "ticks": ""
           }
          },
          "colorscale": {
           "diverging": [
            [
             0,
             "#8e0152"
            ],
            [
             0.1,
             "#c51b7d"
            ],
            [
             0.2,
             "#de77ae"
            ],
            [
             0.3,
             "#f1b6da"
            ],
            [
             0.4,
             "#fde0ef"
            ],
            [
             0.5,
             "#f7f7f7"
            ],
            [
             0.6,
             "#e6f5d0"
            ],
            [
             0.7,
             "#b8e186"
            ],
            [
             0.8,
             "#7fbc41"
            ],
            [
             0.9,
             "#4d9221"
            ],
            [
             1,
             "#276419"
            ]
           ],
           "sequential": [
            [
             0,
             "#0d0887"
            ],
            [
             0.1111111111111111,
             "#46039f"
            ],
            [
             0.2222222222222222,
             "#7201a8"
            ],
            [
             0.3333333333333333,
             "#9c179e"
            ],
            [
             0.4444444444444444,
             "#bd3786"
            ],
            [
             0.5555555555555556,
             "#d8576b"
            ],
            [
             0.6666666666666666,
             "#ed7953"
            ],
            [
             0.7777777777777778,
             "#fb9f3a"
            ],
            [
             0.8888888888888888,
             "#fdca26"
            ],
            [
             1,
             "#f0f921"
            ]
           ],
           "sequentialminus": [
            [
             0,
             "#0d0887"
            ],
            [
             0.1111111111111111,
             "#46039f"
            ],
            [
             0.2222222222222222,
             "#7201a8"
            ],
            [
             0.3333333333333333,
             "#9c179e"
            ],
            [
             0.4444444444444444,
             "#bd3786"
            ],
            [
             0.5555555555555556,
             "#d8576b"
            ],
            [
             0.6666666666666666,
             "#ed7953"
            ],
            [
             0.7777777777777778,
             "#fb9f3a"
            ],
            [
             0.8888888888888888,
             "#fdca26"
            ],
            [
             1,
             "#f0f921"
            ]
           ]
          },
          "colorway": [
           "#636efa",
           "#EF553B",
           "#00cc96",
           "#ab63fa",
           "#FFA15A",
           "#19d3f3",
           "#FF6692",
           "#B6E880",
           "#FF97FF",
           "#FECB52"
          ],
          "font": {
           "color": "#2a3f5f"
          },
          "geo": {
           "bgcolor": "white",
           "lakecolor": "white",
           "landcolor": "#E5ECF6",
           "showlakes": true,
           "showland": true,
           "subunitcolor": "white"
          },
          "hoverlabel": {
           "align": "left"
          },
          "hovermode": "closest",
          "mapbox": {
           "style": "light"
          },
          "paper_bgcolor": "white",
          "plot_bgcolor": "#E5ECF6",
          "polar": {
           "angularaxis": {
            "gridcolor": "white",
            "linecolor": "white",
            "ticks": ""
           },
           "bgcolor": "#E5ECF6",
           "radialaxis": {
            "gridcolor": "white",
            "linecolor": "white",
            "ticks": ""
           }
          },
          "scene": {
           "xaxis": {
            "backgroundcolor": "#E5ECF6",
            "gridcolor": "white",
            "gridwidth": 2,
            "linecolor": "white",
            "showbackground": true,
            "ticks": "",
            "zerolinecolor": "white"
           },
           "yaxis": {
            "backgroundcolor": "#E5ECF6",
            "gridcolor": "white",
            "gridwidth": 2,
            "linecolor": "white",
            "showbackground": true,
            "ticks": "",
            "zerolinecolor": "white"
           },
           "zaxis": {
            "backgroundcolor": "#E5ECF6",
            "gridcolor": "white",
            "gridwidth": 2,
            "linecolor": "white",
            "showbackground": true,
            "ticks": "",
            "zerolinecolor": "white"
           }
          },
          "shapedefaults": {
           "line": {
            "color": "#2a3f5f"
           }
          },
          "ternary": {
           "aaxis": {
            "gridcolor": "white",
            "linecolor": "white",
            "ticks": ""
           },
           "baxis": {
            "gridcolor": "white",
            "linecolor": "white",
            "ticks": ""
           },
           "bgcolor": "#E5ECF6",
           "caxis": {
            "gridcolor": "white",
            "linecolor": "white",
            "ticks": ""
           }
          },
          "title": {
           "x": 0.05
          },
          "xaxis": {
           "automargin": true,
           "gridcolor": "white",
           "linecolor": "white",
           "ticks": "",
           "title": {
            "standoff": 15
           },
           "zerolinecolor": "white",
           "zerolinewidth": 2
          },
          "yaxis": {
           "automargin": true,
           "gridcolor": "white",
           "linecolor": "white",
           "ticks": "",
           "title": {
            "standoff": 15
           },
           "zerolinecolor": "white",
           "zerolinewidth": 2
          }
         }
        },
        "xaxis": {
         "anchor": "y",
         "domain": [
          0,
          1
         ],
         "title": {
          "text": "timesPlayed"
         }
        },
        "yaxis": {
         "anchor": "x",
         "domain": [
          0,
          1
         ],
         "title": {
          "text": "energy"
         }
        }
       }
      }
     },
     "metadata": {},
     "output_type": "display_data"
    },
    {
     "data": {
      "application/vnd.plotly.v1+json": {
       "config": {
        "plotlyServerURL": "https://plot.ly"
       },
       "data": [
        {
         "hovertemplate": "<b>%{hovertext}</b><br><br>timesPlayed=%{x}<br>key=%{y}<extra></extra>",
         "hovertext": [
          "Weird Fishes/ Arpeggi",
          "Good Will Hunting",
          "Pro Freak (with Doechii, Fatman Scoop)",
          "Present Tense",
          "the perfect pair",
          "Andromeda",
          "Nude",
          "No Surprises",
          "Never Catch Me",
          "Still",
          "Secrets (Your Fire)",
          "Meat Grinder",
          "Speech Bubbles",
          "Galaxy",
          "Runaway",
          "Motion Picture Soundtrack",
          "Troubles [Feat. T-Pain]",
          "Pluto Projector",
          "EARFQUAKE",
          "drive ME crazy!",
          "Savior",
          "Cocoa Butter Kisses",
          "Karma Police",
          "the BLACK seminole.",
          "Wesley's Theory",
          "Shine On You Crazy Diamond (Pts. 1-5)",
          "Welcome To Hell",
          "N95",
          "Concorde",
          "Chaos Space Marine",
          "Thieves In The Night",
          "Identikit",
          "15 Step",
          "family ties (with Kendrick Lamar)",
          "Self Control",
          "The Adults Are Talking",
          "diving board",
          "Walkin",
          "New N3on",
          "Chapters",
          "Heart Don't Stand a Chance",
          "Crack Sandwich",
          "Nikes",
          "Lean Beef Patty",
          "Rapp Snitch Knishes feat. Mr. Fantastik",
          "Feel No Pain (feat. Anderson .Paak & Raekwon)",
          "雨降る夜の向こう",
          "Mood Romantica",
          "Waitin' on Ya",
          "Can't Fight",
          "Ice",
          "Oh My Dis Side (feat. Quavo)",
          "Paprika",
          "Fake Plastic Trees",
          "Wunderlan",
          "Rockstar Made",
          "儚き春の一幕",
          "Faust Arp",
          "Steppa Pig",
          "Get Away",
          "Tequila Shots",
          "Hand Me Downs",
          "Flashing Lights",
          "Gold Rings (feat. Pusha T)",
          "The Lung",
          "REACH THE SUNSHINE.",
          "GONE, GONE / THANK YOU",
          "The Less I Know The Better",
          "Killshot",
          "After The Storm (feat. Tyler, The Creator & Bootsy Collins)",
          "Stop Breathing",
          "4:44",
          "Waves",
          "Stars (feat. Yasiin Bey)",
          "Potato Salad",
          "Rich Nigga Shit (feat. Young Thug)",
          "running out of time",
          "Violent Crimes",
          "Reborn",
          "Heart To Heart",
          "Count Me Out",
          "Selfless",
          "Nothing",
          "Hummingbird (Metro Boomin & James Blake)",
          "Tactics",
          "Sober to Death",
          "Love Galore (feat. Travis Scott)",
          "Rusty (feat. Domo Genesis & Earl Sweatshirt)",
          "The Only Thing",
          "Guilt Trip",
          "Baby I'm Bleeding",
          "Big K.R.I.T.",
          "Off Da Zoinkys",
          "Brand New 911",
          "二十歳の恋",
          "Westbrook (with A$AP Ferg)",
          "Didn't Cha Know",
          "Scott Mescudi Vs. The World",
          "George Bondo (feat. Conway the Machine & Benny The Butcher)",
          "Burfict!",
          "EdEddnEddy",
          "Respiration",
          "Sunglasses",
          "Devil In A New Dress",
          "Oh, Maker",
          "Gabby (feat. Janelle Monáe)",
          "A Punch Up at a Wedding",
          "A Rush of Blood to the Head",
          "No More Parties In LA",
          "BLACK BALLOONS | 13LACK 13ALLOONZ [FEAT. TWELVE'LEN & GOLDLINK | TWELVE'LEN + GOLDL1NK]",
          "Bittersweet",
          "Long Time - Intro",
          "Glass Eyes",
          "Anti-Matter",
          "Eternal Summer",
          "Make Me Feel",
          "Sandstorm (feat. JID)",
          "Neon Valley Street",
          "Hidden Place",
          "Place",
          "Pink + White",
          "Suddenly",
          "Kingdom Hearts Key (ft. redveil)",
          "Walk Em Down (Don't Kill Civilians) [with 21 Savage & feat. Mustafa]",
          "Lucky",
          "Leak It (feat. Chlöe)",
          "Chocolate Matter",
          "Eye/I and I/Nation",
          "Kenan Vs. Kel",
          "Them Changes",
          "Wake Up",
          "Yeah Right",
          "Pink Matter",
          "Mirror",
          "Wild Time",
          "Say It Ain't So",
          "327 (feat. Tyler, The Creator & Billie Essco)",
          "Comin Out Strong (feat. The Weeknd)",
          "Crown",
          "Under The Sun (with J. Cole & Lute feat. DaBaby)",
          "Silhouette",
          "United In Grief",
          "Beta Male Strategies",
          "Tears (feat. Caroline Polachek)",
          "Umbrella (with 21 Savage & Young Nudy)",
          "The Tourist",
          "Aquemini",
          "It's Not up to You",
          "High and Dry",
          "Heartless",
          "White Ferrari",
          "Fentanyl Tester",
          "John Woo Flick (with Benny The Butcher & Westside Gunn)",
          "1539 N. Calvert",
          "Stay Flo",
          "Fuck the Nordic Model",
          "Hellfire",
          "Milk - 2021 Remaster",
          "Tell Me What I Don't Know",
          "If Tomorrow's Not Here",
          "Crosshairs",
          "I THINK",
          "Soundtrack 2 My Life",
          "FAMJAM4000",
          "X-Wing",
          "Sky Might Fall",
          "Kimiga Nakunara",
          "Idioteque",
          "Consideration",
          "Akasaka Sad",
          "A.D.H.D",
          "Design: 2: 3",
          "Behind The Moon Shadow",
          "Angel",
          "I'm In It",
          "This Is Why",
          "Picture Me Better",
          "Angels (feat. Saba)",
          "FIND YOUR WINGS (feat. Roy Ayers, Sydney Bennett & Kali Uchis)",
          "Faucet Failure",
          "Surround Sound (feat. 21 Savage & Baby Tate)",
          "We Major",
          "One Beer",
          "A Toshi no Aki",
          "夕暮れ",
          "On That Time",
          "Savage Good Boy",
          "Enter Galactic (Love Connection Part I)",
          "The Numbers",
          "Fingerprints",
          "I'M THAT GIRL",
          "Poetic Justice",
          "Bodys",
          "Smokin Out The Window",
          "Solo Dolo (Nightmare)",
          "Complicated",
          "LOVE. FEAT. ZACARI.",
          "Say You Will",
          "Money Trees",
          "Grimy Waifu",
          "Dark Red",
          "G.O.M.D",
          "Mr. Rager",
          "Next Levels",
          "BUSY / SIRENS",
          "Netflix & Dusse",
          "Acting",
          "In Love",
          "Justin Scott",
          "911 / Mr. Lonely (feat. Frank Ocean & Steve Lacy)",
          "Joga",
          "Ode To The Mets",
          "pg baby",
          "Ain't No Way [Feat. 6LACK, Rico Nasty, J.I.D, Jasiah, Kitty Ca$h]",
          "A BOY IS A GUN*",
          "Sunny day",
          "Symphony",
          "Blow My High (Members Only)",
          "Storm",
          "Better Days (feat. Johnta Austin)",
          "How to Disappear Completely",
          "STOP TRYING TO BE GOD",
          "Kid A",
          "NEW MAGIC WAND",
          "I Ain't Got Time!",
          "Head High",
          "Bad Habit",
          "Photosynthesis",
          "The Defence",
          "Send It Up",
          "Inside Out",
          "Envy",
          "In Sound, We Found Each Other",
          "Nothing Good Ever Happens At The Goddamn Thirsty Crow",
          "Yellow",
          "6 Star Wanted Level",
          "Right Now (feat. Pi'erre Bourne)",
          "Out On Sunny Sunday",
          "Dynasty",
          "Had Enough (feat. Quavo & Offset)",
          "Bound 2",
          "24",
          "DIRTY!",
          "Kokorono Madobeni Akai Hanao Kazatte",
          "Kuso Yakan Hikoh",
          "A Bigger Paper Bag",
          "LIFE",
          "Where Ya Get Ya Coke From?",
          "Television / So Far So Good",
          "Euphoria (feat. Travis Scott & Kaash Paige)",
          "So Appalled",
          "Hurricane",
          "Thot Tactics",
          "REBOUND!",
          "FEEL.",
          "New Choppa",
          "BREAK MY SOUL",
          "Where I Belong",
          "Norman fucking Rockwell",
          "Videotape",
          "Nas Is Like",
          "m.A.A.d city",
          "Why Are Sundays So Depressing",
          "Orange Juice Jones",
          "Slow",
          "Wolves",
          "Crime Pays",
          "God Loves You",
          "I Wonder",
          "Aux Cord",
          "26",
          "Hard Times",
          "Something to Believe",
          "SICKO MODE",
          "Gone",
          "range brothers (with Kendrick Lamar)",
          "Drones (feat. Kendrick Lamar, Snoop Dogg, Ty Dolla $ign & James Fauntleroy)",
          "Cherry-coloured Funk",
          "Always",
          "Let It Be - Remastered 2009",
          "Glue Song",
          "No Vacancy",
          "Instrumental",
          "Chondromalacia Patella",
          "Ripples",
          "Jack Harlow Combo Meal",
          "CAN'T SAY",
          "broken cd",
          "Afternoon in Heaven",
          "Excited",
          "Super Urus",
          "OPEN A WINDOW (feat. Tyler, The Creator)",
          "FlatBed Freestyle",
          "Wet Dream",
          "Deeper",
          "Sky",
          "Show Me",
          "Bloom",
          "Run The Jewels",
          "Shaolin Monk Motherfunk",
          "Love On The Brain",
          "Pray 4 Love (feat. The Weeknd)",
          "Figures",
          "Self Care",
          "Blackest in the Room",
          "Solo (Reprise)",
          "U Wanna Dance?",
          "Greatest Hits",
          "Under",
          "Time Today",
          "Bury Me In Gold",
          "Street Spirit (Fade Out)",
          "Harold’s",
          "Defibrillator",
          "Tired",
          "Downward Spiral",
          "ASTROTHUNDER",
          "Ful Stop",
          "Love Sosa",
          "2009",
          "dothatshit!",
          "Settle Down (with Cory Henry, Ravyn Lenae)",
          "Can’t Make U Change (feat. Ari Lennox)",
          "infinity (888) - feat. Joey Bada$$",
          "p r i d e . i s . t h e . d e v i l (with Lil Baby)",
          "Wanna Be Loved",
          "Big Titties (feat. Baauer and EarthGang)",
          "Sparks",
          "Big Bank (feat. T.I.)",
          "Electioneering",
          "Coffee",
          "M3tamorphosis (feat. Kid Cudi)",
          "New Slaves",
          "I Might Be Wrong",
          "Miss Georgia Fornia (feat. Joi)",
          "Dance or Die (feat. Saul Williams)",
          "The End (feat. BABYMETAL)",
          "On Sight",
          "Relative",
          "JPEGMAFIA TYPE BEAT",
          "Raindrop City",
          "Palmolive (feat. Pusha T & Killer Mike)",
          "Brooklyn Bridge To Chorus",
          "See You Again (feat. Kali Uchis)",
          "Nightcrawler (feat. Swae Lee & Chief Keef)",
          "Unlock It (feat. Playboi Carti)",
          "King Kunta",
          "PUPPET",
          "Beef Rap",
          "untitled 05 | 09.21.2014.",
          "Space Song",
          "Shitsville",
          "Never Meant",
          "K.O.S. (Determination)",
          "My Iron Lung",
          "FAKENGGAS",
          "Gorilla",
          "Slide Tackle",
          "PTSD",
          "Exchange",
          "Solo",
          "151 Rum",
          "Used (feat. Don Toliver)",
          "BMT!",
          "Boredom (feat. Rex Orange County & Anna of the North)",
          "Yesterday - Remastered 2009",
          "SWEET / I THOUGHT YOU WANTED TO DANCE (feat. Brent Faiyaz & Fana Hues)",
          "Scottie Beam",
          "Workin Out",
          "Trampoline",
          "(Nice Dream)",
          "Knicks",
          "Godspeed",
          "Find Your Love",
          "Creep",
          "Myth",
          "Glass Flows",
          "Scarface",
          "Melt a Bed",
          "R.I.P. Fredo (feat. Young Nudy) - Notice Me",
          "Pure Souls",
          "Good News",
          "Tightrope (feat. Big Boi) - Big Boi Vocal Edit",
          "She Roll Up",
          "Suede",
          "Scenario - LP Mix",
          "Dawning of the Season",
          "PYS (feat. DJ Paul)",
          "Thuggin’",
          "Planet Telex",
          "Don't",
          "Sept",
          "DUCKWORTH.",
          "TEMPTATION",
          "The Night Squall",
          "Acting - 2021 Remaster",
          "Momma",
          "Cosmonauts",
          "Voodoo Child (Slight Return)",
          "I Love You, I Hate You",
          "Have You In My Wilderness",
          "Drunk Drivers/Killer Whales",
          "Dangerous Liaisons",
          "Us and Them",
          "Transform (feat. Charlotte Day Wilson)",
          "GTFU (Feat. JPEGMAFIA & Cakes da Killa)",
          "Hustle Bones",
          "Read My Mind",
          "Total Entertainment Forever",
          "Father Stretch My Hands Pt. 1",
          "Plastic 100°C",
          "The Highs & The Lows",
          "Soul Food",
          "Momma Callin",
          "Unstoppable",
          "where's the confetti?",
          "The Bends",
          "Palace/Curse (feat. Tyler, The Creator & Steve Lacy)",
          "Giannis (feat. Anderson .Paak)",
          "New Person, Same Old Mistakes",
          "The Root",
          "m y . l i f e (with 21 Savage & Morray)",
          "After Last Night (with Thundercat & Bootsy Collins)",
          "Memo",
          "wokeuplikethis*",
          "Keep My Spirit Alive pt 2",
          "To All the Dancers of the World, A Round Form of Fantasy",
          "Ain't it Funny",
          "Chosen (feat. Ty Dolla $ign)",
          "For Free? - Interlude",
          "For Lovers",
          "Other People",
          "Sing About Me, I'm Dying Of Thirst",
          "Kokomo, IN",
          "IG",
          "ELON MUSK",
          "Get on the Floor",
          "2007",
          "CIA",
          "Bag Lady",
          "Morning Bell",
          "CRUCIFY ME",
          "All Falls Down",
          "2040",
          "Church",
          "Dreams and Nightmares",
          "Lost In The World",
          "Dethroned",
          "Raindrops (Insane) [with Travis Scott]",
          "Tinker Tailor Soldier Sailor Rich Man Poor Man Beggar Man Thief",
          "Up Up & Away",
          "Running Out Of Time",
          "Lipstick Lover",
          "New Tank",
          "Rose-Colored Boy",
          "Papi I Missed U",
          "When Doves Cry",
          "Doomsday",
          "Foreign",
          "War Paint (feat. Westside Gunn & Conway the Machine)",
          "Your Prime",
          "Dump",
          "Comfortably Numb",
          "Energy",
          "Feel The Love",
          "Poke It Out (with Nicki Minaj)",
          "Just In Time (feat. Lil Wayne & Kenny Mason)",
          "TAKE A CHANCE (feat. Anderson .Paak)",
          "Hold The Girl",
          "Wild Irish Roses",
          "...& On",
          "HOE (Heaven on Earth)",
          "No Reason",
          "MANIFESTO (feat. Domo Genesis)",
          "Ladies and gentlemen we are floating in space",
          "Arya (with Nigo)",
          "DIET_",
          "N.Y. State of Mind",
          "Hurt Feelings",
          "Through The Wire",
          "The Scientist",
          "Life on Mars? - 2015 Remaster",
          "DD Form 214",
          "SWGSKOOL",
          "Letter To Cornelius",
          "Sir Duke",
          "Forever - 2021 Remaster",
          "Rearview",
          "Jukebox Joints (feat. Joe Fox & Kanye West)",
          "If I Had A Dollar (feat. Benjamin Earl Turner)",
          "Hold Up, Wait!",
          "Black Star",
          "The OtherSide",
          "LUMBERJACK",
          "Packt Like Sardines In a Crushd Tin Box",
          "Wax On (Feat. Freddie Gibbs)",
          "Stupid/Asking",
          "untitled 02 | 06.23.2014.",
          "By Design",
          "the 27 club"
         ],
         "legendgroup": "",
         "marker": {
          "color": "#636efa",
          "symbol": "circle"
         },
         "mode": "markers",
         "name": "",
         "orientation": "v",
         "showlegend": false,
         "type": "scatter",
         "x": [
          58.43,
          48.04,
          45.29,
          44.9,
          44.38,
          44.2,
          42.5,
          40.25,
          38.67,
          38.08,
          37.45,
          37.38,
          36.18,
          35.58,
          35.21,
          34.48,
          34.1,
          33.74,
          33.1,
          33.02,
          32.61,
          32.27,
          32.19,
          32.04,
          31.74,
          31.47,
          30.83,
          30.51,
          30.21,
          29.64,
          29.61,
          29.58,
          29.38,
          29.26,
          28.85,
          28.6,
          28.59,
          28.55,
          27.39,
          27.31,
          27.26,
          27.26,
          27.22,
          27.21,
          27.11,
          26.27,
          26.21,
          26.01,
          25.96,
          25.92,
          25.83,
          25.37,
          25.18,
          24.92,
          24.58,
          24.58,
          24.46,
          24.46,
          24.31,
          24.28,
          24.17,
          24.16,
          24.13,
          23.73,
          23.6,
          23.57,
          23.5,
          23.24,
          23.19,
          23.09,
          23.05,
          23.01,
          22.86,
          22.81,
          22.7,
          22.69,
          22.67,
          21.68,
          21.55,
          21.5,
          21.3,
          21.05,
          20.76,
          20.74,
          20.63,
          20.61,
          20.6,
          20.51,
          20.4,
          20.38,
          20.28,
          20.23,
          20.04,
          19.95,
          19.9,
          19.85,
          19.79,
          19.62,
          19.61,
          19.5,
          19.42,
          19.41,
          19.28,
          19.15,
          19.1,
          19.01,
          19,
          18.95,
          18.92,
          18.86,
          18.78,
          18.78,
          18.76,
          18.75,
          18.73,
          18.71,
          18.67,
          18.62,
          18.56,
          18.47,
          18.36,
          18.34,
          18.27,
          18.12,
          18.1,
          17.95,
          17.94,
          17.82,
          17.76,
          17.66,
          17.59,
          17.58,
          17.56,
          17.54,
          17.43,
          17.39,
          17.36,
          17.35,
          17.31,
          17.22,
          17.03,
          17,
          16.97,
          16.85,
          16.8,
          16.79,
          16.79,
          16.79,
          16.74,
          16.67,
          16.62,
          16.52,
          16.45,
          16.41,
          16.35,
          16.35,
          16.34,
          16.27,
          16.26,
          16.2,
          16.17,
          16.15,
          16.11,
          16.11,
          16.02,
          16,
          15.99,
          15.98,
          15.96,
          15.85,
          15.82,
          15.81,
          15.79,
          15.79,
          15.76,
          15.66,
          15.6,
          15.58,
          15.57,
          15.51,
          15.45,
          15.38,
          15.35,
          15.32,
          15.24,
          15.21,
          15.17,
          15.14,
          15.09,
          15,
          15,
          14.97,
          14.96,
          14.96,
          14.95,
          14.87,
          14.81,
          14.78,
          14.67,
          14.64,
          14.6,
          14.56,
          14.48,
          14.47,
          14.42,
          14.42,
          14.28,
          14.24,
          14.2,
          14.19,
          14.15,
          14.06,
          14.03,
          14,
          14,
          14,
          13.98,
          13.97,
          13.95,
          13.94,
          13.93,
          13.9,
          13.89,
          13.87,
          13.86,
          13.83,
          13.74,
          13.72,
          13.66,
          13.66,
          13.64,
          13.61,
          13.56,
          13.55,
          13.53,
          13.48,
          13.47,
          13.43,
          13.43,
          13.36,
          13.35,
          13.33,
          13.29,
          13.22,
          13.16,
          13.15,
          13.1,
          13.04,
          13,
          13,
          12.96,
          12.92,
          12.91,
          12.84,
          12.8,
          12.8,
          12.78,
          12.74,
          12.71,
          12.68,
          12.63,
          12.6,
          12.58,
          12.53,
          12.47,
          12.41,
          12.41,
          12.41,
          12.39,
          12.34,
          12.31,
          12.3,
          12.29,
          12.28,
          12.27,
          12.26,
          12.19,
          12.13,
          12.09,
          12,
          12,
          12,
          11.97,
          11.95,
          11.95,
          11.95,
          11.94,
          11.92,
          11.92,
          11.91,
          11.91,
          11.9,
          11.9,
          11.86,
          11.82,
          11.74,
          11.73,
          11.73,
          11.7,
          11.69,
          11.68,
          11.66,
          11.66,
          11.63,
          11.61,
          11.61,
          11.6,
          11.58,
          11.54,
          11.54,
          11.53,
          11.52,
          11.52,
          11.51,
          11.51,
          11.5,
          11.48,
          11.45,
          11.42,
          11.39,
          11.38,
          11.33,
          11.28,
          11.28,
          11.27,
          11.23,
          11.21,
          11.18,
          11.15,
          11.11,
          11.1,
          11.08,
          11.07,
          11.04,
          11,
          11,
          11,
          11,
          11,
          11,
          10.96,
          10.92,
          10.91,
          10.91,
          10.85,
          10.83,
          10.79,
          10.79,
          10.78,
          10.76,
          10.66,
          10.66,
          10.63,
          10.62,
          10.61,
          10.6,
          10.55,
          10.54,
          10.5,
          10.48,
          10.47,
          10.47,
          10.47,
          10.45,
          10.42,
          10.41,
          10.39,
          10.38,
          10.36,
          10.35,
          10.35,
          10.33,
          10.31,
          10.28,
          10.25,
          10.24,
          10.24,
          10.23,
          10.22,
          10.22,
          10.18,
          10.18,
          10.17,
          10.16,
          10.14,
          10.1,
          10.1,
          10.07,
          10.05,
          10.03,
          10,
          9.98,
          9.95,
          9.94,
          9.9,
          9.88,
          9.79,
          9.78,
          9.69,
          9.69,
          9.69,
          9.68,
          9.68,
          9.67,
          9.67,
          9.67,
          9.63,
          9.59,
          9.59,
          9.58,
          9.53,
          9.52,
          9.51,
          9.5,
          9.49,
          9.48,
          9.47,
          9.46,
          9.46,
          9.44,
          9.43,
          9.4,
          9.35,
          9.35,
          9.34,
          9.33,
          9.31,
          9.29,
          9.29,
          9.29,
          9.29,
          9.28,
          9.25,
          9.25,
          9.22,
          9.22,
          9.2,
          9.19,
          9.19,
          9.16,
          9.15,
          9.15,
          9.15,
          9.14,
          9.08,
          9.08,
          9.04,
          9.01,
          9.01,
          9,
          9,
          9,
          9,
          9,
          8.99,
          8.96,
          8.92,
          8.91,
          8.91,
          8.86,
          8.85,
          8.85,
          8.83,
          8.81,
          8.81,
          8.8,
          8.8,
          8.79,
          8.79,
          8.79,
          8.78,
          8.78,
          8.77,
          8.74,
          8.72,
          8.72,
          8.72,
          8.71,
          8.7,
          8.7,
          8.69,
          8.67,
          8.67,
          8.66,
          8.65,
          8.63,
          8.62,
          8.58,
          8.57,
          8.56,
          8.56,
          8.51,
          8.51,
          8.49,
          8.48,
          8.44,
          8.43,
          8.41,
          8.4,
          8.4
         ],
         "xaxis": "x",
         "y": [
          11,
          2,
          1,
          1,
          11,
          1,
          4,
          5,
          8,
          5,
          10,
          6,
          0,
          6,
          1,
          7,
          7,
          5,
          9,
          10,
          8,
          6,
          7,
          9,
          7,
          7,
          0,
          1,
          9,
          9,
          1,
          11,
          1,
          1,
          8,
          5,
          6,
          11,
          6,
          1,
          7,
          4,
          8,
          4,
          7,
          1,
          7,
          0,
          5,
          6,
          1,
          1,
          4,
          2,
          2,
          8,
          6,
          9,
          5,
          9,
          5,
          2,
          6,
          5,
          5,
          9,
          10,
          4,
          4,
          4,
          9,
          9,
          10,
          10,
          2,
          1,
          9,
          1,
          0,
          8,
          4,
          4,
          9,
          6,
          5,
          7,
          0,
          11,
          3,
          4,
          1,
          1,
          7,
          6,
          4,
          1,
          3,
          11,
          6,
          4,
          0,
          6,
          6,
          8,
          6,
          9,
          11,
          5,
          5,
          1,
          5,
          4,
          8,
          0,
          7,
          1,
          2,
          7,
          9,
          1,
          9,
          4,
          6,
          1,
          11,
          3,
          4,
          1,
          1,
          8,
          0,
          1,
          11,
          2,
          7,
          3,
          1,
          1,
          1,
          0,
          5,
          8,
          0,
          5,
          11,
          4,
          1,
          1,
          4,
          10,
          0,
          0,
          2,
          4,
          9,
          11,
          9,
          9,
          2,
          4,
          9,
          8,
          9,
          11,
          2,
          10,
          9,
          3,
          7,
          0,
          9,
          4,
          11,
          5,
          1,
          11,
          8,
          5,
          9,
          10,
          5,
          11,
          7,
          9,
          4,
          0,
          2,
          10,
          5,
          8,
          5,
          6,
          2,
          2,
          7,
          0,
          10,
          0,
          7,
          2,
          6,
          4,
          7,
          6,
          1,
          7,
          6,
          0,
          4,
          0,
          1,
          1,
          10,
          5,
          2,
          6,
          0,
          9,
          8,
          5,
          6,
          4,
          5,
          5,
          1,
          2,
          1,
          7,
          0,
          9,
          9,
          5,
          7,
          0,
          11,
          11,
          6,
          0,
          7,
          2,
          1,
          5,
          2,
          9,
          9,
          0,
          7,
          7,
          5,
          9,
          1,
          0,
          8,
          11,
          0,
          0,
          1,
          1,
          5,
          1,
          11,
          2,
          0,
          6,
          2,
          1,
          6,
          1,
          9,
          0,
          2,
          5,
          4,
          8,
          1,
          11,
          1,
          2,
          9,
          0,
          1,
          8,
          4,
          1,
          6,
          5,
          10,
          5,
          10,
          1,
          4,
          2,
          9,
          2,
          1,
          2,
          6,
          1,
          10,
          6,
          4,
          1,
          6,
          1,
          8,
          7,
          2,
          1,
          0,
          3,
          9,
          4,
          4,
          8,
          7,
          0,
          4,
          0,
          0,
          6,
          9,
          1,
          1,
          10,
          4,
          10,
          1,
          1,
          11,
          9,
          9,
          0,
          1,
          7,
          9,
          6,
          1,
          9,
          2,
          4,
          5,
          0,
          0,
          6,
          3,
          3,
          6,
          8,
          4,
          0,
          0,
          1,
          0,
          11,
          0,
          1,
          5,
          5,
          1,
          6,
          5,
          7,
          10,
          2,
          8,
          5,
          0,
          6,
          10,
          10,
          9,
          1,
          6,
          6,
          7,
          3,
          3,
          11,
          2,
          2,
          5,
          1,
          5,
          7,
          7,
          2,
          5,
          1,
          11,
          9,
          11,
          9,
          7,
          10,
          4,
          6,
          1,
          0,
          8,
          1,
          4,
          2,
          9,
          2,
          5,
          10,
          4,
          4,
          7,
          7,
          3,
          5,
          1,
          5,
          9,
          5,
          7,
          10,
          5,
          8,
          0,
          7,
          0,
          8,
          8,
          0,
          7,
          5,
          2,
          8,
          7,
          3,
          11,
          9,
          8,
          1,
          0,
          8,
          0,
          5,
          2,
          2,
          8,
          11,
          11,
          11,
          5,
          11,
          7,
          11,
          10,
          11,
          6,
          10,
          5,
          10,
          9,
          6,
          6,
          2,
          8,
          2,
          11,
          11,
          0,
          9,
          2,
          1,
          7,
          0,
          1,
          11,
          9,
          2,
          2,
          7,
          5,
          6,
          8,
          7,
          5,
          10,
          1,
          1,
          1,
          6,
          2,
          7,
          2,
          9,
          11,
          7,
          1,
          9,
          0,
          4,
          1,
          5,
          9,
          1
         ],
         "yaxis": "y"
        }
       ],
       "layout": {
        "legend": {
         "tracegroupgap": 0
        },
        "margin": {
         "t": 60
        },
        "template": {
         "data": {
          "bar": [
           {
            "error_x": {
             "color": "#2a3f5f"
            },
            "error_y": {
             "color": "#2a3f5f"
            },
            "marker": {
             "line": {
              "color": "#E5ECF6",
              "width": 0.5
             },
             "pattern": {
              "fillmode": "overlay",
              "size": 10,
              "solidity": 0.2
             }
            },
            "type": "bar"
           }
          ],
          "barpolar": [
           {
            "marker": {
             "line": {
              "color": "#E5ECF6",
              "width": 0.5
             },
             "pattern": {
              "fillmode": "overlay",
              "size": 10,
              "solidity": 0.2
             }
            },
            "type": "barpolar"
           }
          ],
          "carpet": [
           {
            "aaxis": {
             "endlinecolor": "#2a3f5f",
             "gridcolor": "white",
             "linecolor": "white",
             "minorgridcolor": "white",
             "startlinecolor": "#2a3f5f"
            },
            "baxis": {
             "endlinecolor": "#2a3f5f",
             "gridcolor": "white",
             "linecolor": "white",
             "minorgridcolor": "white",
             "startlinecolor": "#2a3f5f"
            },
            "type": "carpet"
           }
          ],
          "choropleth": [
           {
            "colorbar": {
             "outlinewidth": 0,
             "ticks": ""
            },
            "type": "choropleth"
           }
          ],
          "contour": [
           {
            "colorbar": {
             "outlinewidth": 0,
             "ticks": ""
            },
            "colorscale": [
             [
              0,
              "#0d0887"
             ],
             [
              0.1111111111111111,
              "#46039f"
             ],
             [
              0.2222222222222222,
              "#7201a8"
             ],
             [
              0.3333333333333333,
              "#9c179e"
             ],
             [
              0.4444444444444444,
              "#bd3786"
             ],
             [
              0.5555555555555556,
              "#d8576b"
             ],
             [
              0.6666666666666666,
              "#ed7953"
             ],
             [
              0.7777777777777778,
              "#fb9f3a"
             ],
             [
              0.8888888888888888,
              "#fdca26"
             ],
             [
              1,
              "#f0f921"
             ]
            ],
            "type": "contour"
           }
          ],
          "contourcarpet": [
           {
            "colorbar": {
             "outlinewidth": 0,
             "ticks": ""
            },
            "type": "contourcarpet"
           }
          ],
          "heatmap": [
           {
            "colorbar": {
             "outlinewidth": 0,
             "ticks": ""
            },
            "colorscale": [
             [
              0,
              "#0d0887"
             ],
             [
              0.1111111111111111,
              "#46039f"
             ],
             [
              0.2222222222222222,
              "#7201a8"
             ],
             [
              0.3333333333333333,
              "#9c179e"
             ],
             [
              0.4444444444444444,
              "#bd3786"
             ],
             [
              0.5555555555555556,
              "#d8576b"
             ],
             [
              0.6666666666666666,
              "#ed7953"
             ],
             [
              0.7777777777777778,
              "#fb9f3a"
             ],
             [
              0.8888888888888888,
              "#fdca26"
             ],
             [
              1,
              "#f0f921"
             ]
            ],
            "type": "heatmap"
           }
          ],
          "heatmapgl": [
           {
            "colorbar": {
             "outlinewidth": 0,
             "ticks": ""
            },
            "colorscale": [
             [
              0,
              "#0d0887"
             ],
             [
              0.1111111111111111,
              "#46039f"
             ],
             [
              0.2222222222222222,
              "#7201a8"
             ],
             [
              0.3333333333333333,
              "#9c179e"
             ],
             [
              0.4444444444444444,
              "#bd3786"
             ],
             [
              0.5555555555555556,
              "#d8576b"
             ],
             [
              0.6666666666666666,
              "#ed7953"
             ],
             [
              0.7777777777777778,
              "#fb9f3a"
             ],
             [
              0.8888888888888888,
              "#fdca26"
             ],
             [
              1,
              "#f0f921"
             ]
            ],
            "type": "heatmapgl"
           }
          ],
          "histogram": [
           {
            "marker": {
             "pattern": {
              "fillmode": "overlay",
              "size": 10,
              "solidity": 0.2
             }
            },
            "type": "histogram"
           }
          ],
          "histogram2d": [
           {
            "colorbar": {
             "outlinewidth": 0,
             "ticks": ""
            },
            "colorscale": [
             [
              0,
              "#0d0887"
             ],
             [
              0.1111111111111111,
              "#46039f"
             ],
             [
              0.2222222222222222,
              "#7201a8"
             ],
             [
              0.3333333333333333,
              "#9c179e"
             ],
             [
              0.4444444444444444,
              "#bd3786"
             ],
             [
              0.5555555555555556,
              "#d8576b"
             ],
             [
              0.6666666666666666,
              "#ed7953"
             ],
             [
              0.7777777777777778,
              "#fb9f3a"
             ],
             [
              0.8888888888888888,
              "#fdca26"
             ],
             [
              1,
              "#f0f921"
             ]
            ],
            "type": "histogram2d"
           }
          ],
          "histogram2dcontour": [
           {
            "colorbar": {
             "outlinewidth": 0,
             "ticks": ""
            },
            "colorscale": [
             [
              0,
              "#0d0887"
             ],
             [
              0.1111111111111111,
              "#46039f"
             ],
             [
              0.2222222222222222,
              "#7201a8"
             ],
             [
              0.3333333333333333,
              "#9c179e"
             ],
             [
              0.4444444444444444,
              "#bd3786"
             ],
             [
              0.5555555555555556,
              "#d8576b"
             ],
             [
              0.6666666666666666,
              "#ed7953"
             ],
             [
              0.7777777777777778,
              "#fb9f3a"
             ],
             [
              0.8888888888888888,
              "#fdca26"
             ],
             [
              1,
              "#f0f921"
             ]
            ],
            "type": "histogram2dcontour"
           }
          ],
          "mesh3d": [
           {
            "colorbar": {
             "outlinewidth": 0,
             "ticks": ""
            },
            "type": "mesh3d"
           }
          ],
          "parcoords": [
           {
            "line": {
             "colorbar": {
              "outlinewidth": 0,
              "ticks": ""
             }
            },
            "type": "parcoords"
           }
          ],
          "pie": [
           {
            "automargin": true,
            "type": "pie"
           }
          ],
          "scatter": [
           {
            "fillpattern": {
             "fillmode": "overlay",
             "size": 10,
             "solidity": 0.2
            },
            "type": "scatter"
           }
          ],
          "scatter3d": [
           {
            "line": {
             "colorbar": {
              "outlinewidth": 0,
              "ticks": ""
             }
            },
            "marker": {
             "colorbar": {
              "outlinewidth": 0,
              "ticks": ""
             }
            },
            "type": "scatter3d"
           }
          ],
          "scattercarpet": [
           {
            "marker": {
             "colorbar": {
              "outlinewidth": 0,
              "ticks": ""
             }
            },
            "type": "scattercarpet"
           }
          ],
          "scattergeo": [
           {
            "marker": {
             "colorbar": {
              "outlinewidth": 0,
              "ticks": ""
             }
            },
            "type": "scattergeo"
           }
          ],
          "scattergl": [
           {
            "marker": {
             "colorbar": {
              "outlinewidth": 0,
              "ticks": ""
             }
            },
            "type": "scattergl"
           }
          ],
          "scattermapbox": [
           {
            "marker": {
             "colorbar": {
              "outlinewidth": 0,
              "ticks": ""
             }
            },
            "type": "scattermapbox"
           }
          ],
          "scatterpolar": [
           {
            "marker": {
             "colorbar": {
              "outlinewidth": 0,
              "ticks": ""
             }
            },
            "type": "scatterpolar"
           }
          ],
          "scatterpolargl": [
           {
            "marker": {
             "colorbar": {
              "outlinewidth": 0,
              "ticks": ""
             }
            },
            "type": "scatterpolargl"
           }
          ],
          "scatterternary": [
           {
            "marker": {
             "colorbar": {
              "outlinewidth": 0,
              "ticks": ""
             }
            },
            "type": "scatterternary"
           }
          ],
          "surface": [
           {
            "colorbar": {
             "outlinewidth": 0,
             "ticks": ""
            },
            "colorscale": [
             [
              0,
              "#0d0887"
             ],
             [
              0.1111111111111111,
              "#46039f"
             ],
             [
              0.2222222222222222,
              "#7201a8"
             ],
             [
              0.3333333333333333,
              "#9c179e"
             ],
             [
              0.4444444444444444,
              "#bd3786"
             ],
             [
              0.5555555555555556,
              "#d8576b"
             ],
             [
              0.6666666666666666,
              "#ed7953"
             ],
             [
              0.7777777777777778,
              "#fb9f3a"
             ],
             [
              0.8888888888888888,
              "#fdca26"
             ],
             [
              1,
              "#f0f921"
             ]
            ],
            "type": "surface"
           }
          ],
          "table": [
           {
            "cells": {
             "fill": {
              "color": "#EBF0F8"
             },
             "line": {
              "color": "white"
             }
            },
            "header": {
             "fill": {
              "color": "#C8D4E3"
             },
             "line": {
              "color": "white"
             }
            },
            "type": "table"
           }
          ]
         },
         "layout": {
          "annotationdefaults": {
           "arrowcolor": "#2a3f5f",
           "arrowhead": 0,
           "arrowwidth": 1
          },
          "autotypenumbers": "strict",
          "coloraxis": {
           "colorbar": {
            "outlinewidth": 0,
            "ticks": ""
           }
          },
          "colorscale": {
           "diverging": [
            [
             0,
             "#8e0152"
            ],
            [
             0.1,
             "#c51b7d"
            ],
            [
             0.2,
             "#de77ae"
            ],
            [
             0.3,
             "#f1b6da"
            ],
            [
             0.4,
             "#fde0ef"
            ],
            [
             0.5,
             "#f7f7f7"
            ],
            [
             0.6,
             "#e6f5d0"
            ],
            [
             0.7,
             "#b8e186"
            ],
            [
             0.8,
             "#7fbc41"
            ],
            [
             0.9,
             "#4d9221"
            ],
            [
             1,
             "#276419"
            ]
           ],
           "sequential": [
            [
             0,
             "#0d0887"
            ],
            [
             0.1111111111111111,
             "#46039f"
            ],
            [
             0.2222222222222222,
             "#7201a8"
            ],
            [
             0.3333333333333333,
             "#9c179e"
            ],
            [
             0.4444444444444444,
             "#bd3786"
            ],
            [
             0.5555555555555556,
             "#d8576b"
            ],
            [
             0.6666666666666666,
             "#ed7953"
            ],
            [
             0.7777777777777778,
             "#fb9f3a"
            ],
            [
             0.8888888888888888,
             "#fdca26"
            ],
            [
             1,
             "#f0f921"
            ]
           ],
           "sequentialminus": [
            [
             0,
             "#0d0887"
            ],
            [
             0.1111111111111111,
             "#46039f"
            ],
            [
             0.2222222222222222,
             "#7201a8"
            ],
            [
             0.3333333333333333,
             "#9c179e"
            ],
            [
             0.4444444444444444,
             "#bd3786"
            ],
            [
             0.5555555555555556,
             "#d8576b"
            ],
            [
             0.6666666666666666,
             "#ed7953"
            ],
            [
             0.7777777777777778,
             "#fb9f3a"
            ],
            [
             0.8888888888888888,
             "#fdca26"
            ],
            [
             1,
             "#f0f921"
            ]
           ]
          },
          "colorway": [
           "#636efa",
           "#EF553B",
           "#00cc96",
           "#ab63fa",
           "#FFA15A",
           "#19d3f3",
           "#FF6692",
           "#B6E880",
           "#FF97FF",
           "#FECB52"
          ],
          "font": {
           "color": "#2a3f5f"
          },
          "geo": {
           "bgcolor": "white",
           "lakecolor": "white",
           "landcolor": "#E5ECF6",
           "showlakes": true,
           "showland": true,
           "subunitcolor": "white"
          },
          "hoverlabel": {
           "align": "left"
          },
          "hovermode": "closest",
          "mapbox": {
           "style": "light"
          },
          "paper_bgcolor": "white",
          "plot_bgcolor": "#E5ECF6",
          "polar": {
           "angularaxis": {
            "gridcolor": "white",
            "linecolor": "white",
            "ticks": ""
           },
           "bgcolor": "#E5ECF6",
           "radialaxis": {
            "gridcolor": "white",
            "linecolor": "white",
            "ticks": ""
           }
          },
          "scene": {
           "xaxis": {
            "backgroundcolor": "#E5ECF6",
            "gridcolor": "white",
            "gridwidth": 2,
            "linecolor": "white",
            "showbackground": true,
            "ticks": "",
            "zerolinecolor": "white"
           },
           "yaxis": {
            "backgroundcolor": "#E5ECF6",
            "gridcolor": "white",
            "gridwidth": 2,
            "linecolor": "white",
            "showbackground": true,
            "ticks": "",
            "zerolinecolor": "white"
           },
           "zaxis": {
            "backgroundcolor": "#E5ECF6",
            "gridcolor": "white",
            "gridwidth": 2,
            "linecolor": "white",
            "showbackground": true,
            "ticks": "",
            "zerolinecolor": "white"
           }
          },
          "shapedefaults": {
           "line": {
            "color": "#2a3f5f"
           }
          },
          "ternary": {
           "aaxis": {
            "gridcolor": "white",
            "linecolor": "white",
            "ticks": ""
           },
           "baxis": {
            "gridcolor": "white",
            "linecolor": "white",
            "ticks": ""
           },
           "bgcolor": "#E5ECF6",
           "caxis": {
            "gridcolor": "white",
            "linecolor": "white",
            "ticks": ""
           }
          },
          "title": {
           "x": 0.05
          },
          "xaxis": {
           "automargin": true,
           "gridcolor": "white",
           "linecolor": "white",
           "ticks": "",
           "title": {
            "standoff": 15
           },
           "zerolinecolor": "white",
           "zerolinewidth": 2
          },
          "yaxis": {
           "automargin": true,
           "gridcolor": "white",
           "linecolor": "white",
           "ticks": "",
           "title": {
            "standoff": 15
           },
           "zerolinecolor": "white",
           "zerolinewidth": 2
          }
         }
        },
        "xaxis": {
         "anchor": "y",
         "domain": [
          0,
          1
         ],
         "title": {
          "text": "timesPlayed"
         }
        },
        "yaxis": {
         "anchor": "x",
         "domain": [
          0,
          1
         ],
         "title": {
          "text": "key"
         }
        }
       }
      }
     },
     "metadata": {},
     "output_type": "display_data"
    },
    {
     "data": {
      "application/vnd.plotly.v1+json": {
       "config": {
        "plotlyServerURL": "https://plot.ly"
       },
       "data": [
        {
         "hovertemplate": "<b>%{hovertext}</b><br><br>timesPlayed=%{x}<br>loudness=%{y}<extra></extra>",
         "hovertext": [
          "Weird Fishes/ Arpeggi",
          "Good Will Hunting",
          "Pro Freak (with Doechii, Fatman Scoop)",
          "Present Tense",
          "the perfect pair",
          "Andromeda",
          "Nude",
          "No Surprises",
          "Never Catch Me",
          "Still",
          "Secrets (Your Fire)",
          "Meat Grinder",
          "Speech Bubbles",
          "Galaxy",
          "Runaway",
          "Motion Picture Soundtrack",
          "Troubles [Feat. T-Pain]",
          "Pluto Projector",
          "EARFQUAKE",
          "drive ME crazy!",
          "Savior",
          "Cocoa Butter Kisses",
          "Karma Police",
          "the BLACK seminole.",
          "Wesley's Theory",
          "Shine On You Crazy Diamond (Pts. 1-5)",
          "Welcome To Hell",
          "N95",
          "Concorde",
          "Chaos Space Marine",
          "Thieves In The Night",
          "Identikit",
          "15 Step",
          "family ties (with Kendrick Lamar)",
          "Self Control",
          "The Adults Are Talking",
          "diving board",
          "Walkin",
          "New N3on",
          "Chapters",
          "Heart Don't Stand a Chance",
          "Crack Sandwich",
          "Nikes",
          "Lean Beef Patty",
          "Rapp Snitch Knishes feat. Mr. Fantastik",
          "Feel No Pain (feat. Anderson .Paak & Raekwon)",
          "雨降る夜の向こう",
          "Mood Romantica",
          "Waitin' on Ya",
          "Can't Fight",
          "Ice",
          "Oh My Dis Side (feat. Quavo)",
          "Paprika",
          "Fake Plastic Trees",
          "Wunderlan",
          "Rockstar Made",
          "儚き春の一幕",
          "Faust Arp",
          "Steppa Pig",
          "Get Away",
          "Tequila Shots",
          "Hand Me Downs",
          "Flashing Lights",
          "Gold Rings (feat. Pusha T)",
          "The Lung",
          "REACH THE SUNSHINE.",
          "GONE, GONE / THANK YOU",
          "The Less I Know The Better",
          "Killshot",
          "After The Storm (feat. Tyler, The Creator & Bootsy Collins)",
          "Stop Breathing",
          "4:44",
          "Waves",
          "Stars (feat. Yasiin Bey)",
          "Potato Salad",
          "Rich Nigga Shit (feat. Young Thug)",
          "running out of time",
          "Violent Crimes",
          "Reborn",
          "Heart To Heart",
          "Count Me Out",
          "Selfless",
          "Nothing",
          "Hummingbird (Metro Boomin & James Blake)",
          "Tactics",
          "Sober to Death",
          "Love Galore (feat. Travis Scott)",
          "Rusty (feat. Domo Genesis & Earl Sweatshirt)",
          "The Only Thing",
          "Guilt Trip",
          "Baby I'm Bleeding",
          "Big K.R.I.T.",
          "Off Da Zoinkys",
          "Brand New 911",
          "二十歳の恋",
          "Westbrook (with A$AP Ferg)",
          "Didn't Cha Know",
          "Scott Mescudi Vs. The World",
          "George Bondo (feat. Conway the Machine & Benny The Butcher)",
          "Burfict!",
          "EdEddnEddy",
          "Respiration",
          "Sunglasses",
          "Devil In A New Dress",
          "Oh, Maker",
          "Gabby (feat. Janelle Monáe)",
          "A Punch Up at a Wedding",
          "A Rush of Blood to the Head",
          "No More Parties In LA",
          "BLACK BALLOONS | 13LACK 13ALLOONZ [FEAT. TWELVE'LEN & GOLDLINK | TWELVE'LEN + GOLDL1NK]",
          "Bittersweet",
          "Long Time - Intro",
          "Glass Eyes",
          "Anti-Matter",
          "Eternal Summer",
          "Make Me Feel",
          "Sandstorm (feat. JID)",
          "Neon Valley Street",
          "Hidden Place",
          "Place",
          "Pink + White",
          "Suddenly",
          "Kingdom Hearts Key (ft. redveil)",
          "Walk Em Down (Don't Kill Civilians) [with 21 Savage & feat. Mustafa]",
          "Lucky",
          "Leak It (feat. Chlöe)",
          "Chocolate Matter",
          "Eye/I and I/Nation",
          "Kenan Vs. Kel",
          "Them Changes",
          "Wake Up",
          "Yeah Right",
          "Pink Matter",
          "Mirror",
          "Wild Time",
          "Say It Ain't So",
          "327 (feat. Tyler, The Creator & Billie Essco)",
          "Comin Out Strong (feat. The Weeknd)",
          "Crown",
          "Under The Sun (with J. Cole & Lute feat. DaBaby)",
          "Silhouette",
          "United In Grief",
          "Beta Male Strategies",
          "Tears (feat. Caroline Polachek)",
          "Umbrella (with 21 Savage & Young Nudy)",
          "The Tourist",
          "Aquemini",
          "It's Not up to You",
          "High and Dry",
          "Heartless",
          "White Ferrari",
          "Fentanyl Tester",
          "John Woo Flick (with Benny The Butcher & Westside Gunn)",
          "1539 N. Calvert",
          "Stay Flo",
          "Fuck the Nordic Model",
          "Hellfire",
          "Milk - 2021 Remaster",
          "Tell Me What I Don't Know",
          "If Tomorrow's Not Here",
          "Crosshairs",
          "I THINK",
          "Soundtrack 2 My Life",
          "FAMJAM4000",
          "X-Wing",
          "Sky Might Fall",
          "Kimiga Nakunara",
          "Idioteque",
          "Consideration",
          "Akasaka Sad",
          "A.D.H.D",
          "Design: 2: 3",
          "Behind The Moon Shadow",
          "Angel",
          "I'm In It",
          "This Is Why",
          "Picture Me Better",
          "Angels (feat. Saba)",
          "FIND YOUR WINGS (feat. Roy Ayers, Sydney Bennett & Kali Uchis)",
          "Faucet Failure",
          "Surround Sound (feat. 21 Savage & Baby Tate)",
          "We Major",
          "One Beer",
          "A Toshi no Aki",
          "夕暮れ",
          "On That Time",
          "Savage Good Boy",
          "Enter Galactic (Love Connection Part I)",
          "The Numbers",
          "Fingerprints",
          "I'M THAT GIRL",
          "Poetic Justice",
          "Bodys",
          "Smokin Out The Window",
          "Solo Dolo (Nightmare)",
          "Complicated",
          "LOVE. FEAT. ZACARI.",
          "Say You Will",
          "Money Trees",
          "Grimy Waifu",
          "Dark Red",
          "G.O.M.D",
          "Mr. Rager",
          "Next Levels",
          "BUSY / SIRENS",
          "Netflix & Dusse",
          "Acting",
          "In Love",
          "Justin Scott",
          "911 / Mr. Lonely (feat. Frank Ocean & Steve Lacy)",
          "Joga",
          "Ode To The Mets",
          "pg baby",
          "Ain't No Way [Feat. 6LACK, Rico Nasty, J.I.D, Jasiah, Kitty Ca$h]",
          "A BOY IS A GUN*",
          "Sunny day",
          "Symphony",
          "Blow My High (Members Only)",
          "Storm",
          "Better Days (feat. Johnta Austin)",
          "How to Disappear Completely",
          "STOP TRYING TO BE GOD",
          "Kid A",
          "NEW MAGIC WAND",
          "I Ain't Got Time!",
          "Head High",
          "Bad Habit",
          "Photosynthesis",
          "The Defence",
          "Send It Up",
          "Inside Out",
          "Envy",
          "In Sound, We Found Each Other",
          "Nothing Good Ever Happens At The Goddamn Thirsty Crow",
          "Yellow",
          "6 Star Wanted Level",
          "Right Now (feat. Pi'erre Bourne)",
          "Out On Sunny Sunday",
          "Dynasty",
          "Had Enough (feat. Quavo & Offset)",
          "Bound 2",
          "24",
          "DIRTY!",
          "Kokorono Madobeni Akai Hanao Kazatte",
          "Kuso Yakan Hikoh",
          "A Bigger Paper Bag",
          "LIFE",
          "Where Ya Get Ya Coke From?",
          "Television / So Far So Good",
          "Euphoria (feat. Travis Scott & Kaash Paige)",
          "So Appalled",
          "Hurricane",
          "Thot Tactics",
          "REBOUND!",
          "FEEL.",
          "New Choppa",
          "BREAK MY SOUL",
          "Where I Belong",
          "Norman fucking Rockwell",
          "Videotape",
          "Nas Is Like",
          "m.A.A.d city",
          "Why Are Sundays So Depressing",
          "Orange Juice Jones",
          "Slow",
          "Wolves",
          "Crime Pays",
          "God Loves You",
          "I Wonder",
          "Aux Cord",
          "26",
          "Hard Times",
          "Something to Believe",
          "SICKO MODE",
          "Gone",
          "range brothers (with Kendrick Lamar)",
          "Drones (feat. Kendrick Lamar, Snoop Dogg, Ty Dolla $ign & James Fauntleroy)",
          "Cherry-coloured Funk",
          "Always",
          "Let It Be - Remastered 2009",
          "Glue Song",
          "No Vacancy",
          "Instrumental",
          "Chondromalacia Patella",
          "Ripples",
          "Jack Harlow Combo Meal",
          "CAN'T SAY",
          "broken cd",
          "Afternoon in Heaven",
          "Excited",
          "Super Urus",
          "OPEN A WINDOW (feat. Tyler, The Creator)",
          "FlatBed Freestyle",
          "Wet Dream",
          "Deeper",
          "Sky",
          "Show Me",
          "Bloom",
          "Run The Jewels",
          "Shaolin Monk Motherfunk",
          "Love On The Brain",
          "Pray 4 Love (feat. The Weeknd)",
          "Figures",
          "Self Care",
          "Blackest in the Room",
          "Solo (Reprise)",
          "U Wanna Dance?",
          "Greatest Hits",
          "Under",
          "Time Today",
          "Bury Me In Gold",
          "Street Spirit (Fade Out)",
          "Harold’s",
          "Defibrillator",
          "Tired",
          "Downward Spiral",
          "ASTROTHUNDER",
          "Ful Stop",
          "Love Sosa",
          "2009",
          "dothatshit!",
          "Settle Down (with Cory Henry, Ravyn Lenae)",
          "Can’t Make U Change (feat. Ari Lennox)",
          "infinity (888) - feat. Joey Bada$$",
          "p r i d e . i s . t h e . d e v i l (with Lil Baby)",
          "Wanna Be Loved",
          "Big Titties (feat. Baauer and EarthGang)",
          "Sparks",
          "Big Bank (feat. T.I.)",
          "Electioneering",
          "Coffee",
          "M3tamorphosis (feat. Kid Cudi)",
          "New Slaves",
          "I Might Be Wrong",
          "Miss Georgia Fornia (feat. Joi)",
          "Dance or Die (feat. Saul Williams)",
          "The End (feat. BABYMETAL)",
          "On Sight",
          "Relative",
          "JPEGMAFIA TYPE BEAT",
          "Raindrop City",
          "Palmolive (feat. Pusha T & Killer Mike)",
          "Brooklyn Bridge To Chorus",
          "See You Again (feat. Kali Uchis)",
          "Nightcrawler (feat. Swae Lee & Chief Keef)",
          "Unlock It (feat. Playboi Carti)",
          "King Kunta",
          "PUPPET",
          "Beef Rap",
          "untitled 05 | 09.21.2014.",
          "Space Song",
          "Shitsville",
          "Never Meant",
          "K.O.S. (Determination)",
          "My Iron Lung",
          "FAKENGGAS",
          "Gorilla",
          "Slide Tackle",
          "PTSD",
          "Exchange",
          "Solo",
          "151 Rum",
          "Used (feat. Don Toliver)",
          "BMT!",
          "Boredom (feat. Rex Orange County & Anna of the North)",
          "Yesterday - Remastered 2009",
          "SWEET / I THOUGHT YOU WANTED TO DANCE (feat. Brent Faiyaz & Fana Hues)",
          "Scottie Beam",
          "Workin Out",
          "Trampoline",
          "(Nice Dream)",
          "Knicks",
          "Godspeed",
          "Find Your Love",
          "Creep",
          "Myth",
          "Glass Flows",
          "Scarface",
          "Melt a Bed",
          "R.I.P. Fredo (feat. Young Nudy) - Notice Me",
          "Pure Souls",
          "Good News",
          "Tightrope (feat. Big Boi) - Big Boi Vocal Edit",
          "She Roll Up",
          "Suede",
          "Scenario - LP Mix",
          "Dawning of the Season",
          "PYS (feat. DJ Paul)",
          "Thuggin’",
          "Planet Telex",
          "Don't",
          "Sept",
          "DUCKWORTH.",
          "TEMPTATION",
          "The Night Squall",
          "Acting - 2021 Remaster",
          "Momma",
          "Cosmonauts",
          "Voodoo Child (Slight Return)",
          "I Love You, I Hate You",
          "Have You In My Wilderness",
          "Drunk Drivers/Killer Whales",
          "Dangerous Liaisons",
          "Us and Them",
          "Transform (feat. Charlotte Day Wilson)",
          "GTFU (Feat. JPEGMAFIA & Cakes da Killa)",
          "Hustle Bones",
          "Read My Mind",
          "Total Entertainment Forever",
          "Father Stretch My Hands Pt. 1",
          "Plastic 100°C",
          "The Highs & The Lows",
          "Soul Food",
          "Momma Callin",
          "Unstoppable",
          "where's the confetti?",
          "The Bends",
          "Palace/Curse (feat. Tyler, The Creator & Steve Lacy)",
          "Giannis (feat. Anderson .Paak)",
          "New Person, Same Old Mistakes",
          "The Root",
          "m y . l i f e (with 21 Savage & Morray)",
          "After Last Night (with Thundercat & Bootsy Collins)",
          "Memo",
          "wokeuplikethis*",
          "Keep My Spirit Alive pt 2",
          "To All the Dancers of the World, A Round Form of Fantasy",
          "Ain't it Funny",
          "Chosen (feat. Ty Dolla $ign)",
          "For Free? - Interlude",
          "For Lovers",
          "Other People",
          "Sing About Me, I'm Dying Of Thirst",
          "Kokomo, IN",
          "IG",
          "ELON MUSK",
          "Get on the Floor",
          "2007",
          "CIA",
          "Bag Lady",
          "Morning Bell",
          "CRUCIFY ME",
          "All Falls Down",
          "2040",
          "Church",
          "Dreams and Nightmares",
          "Lost In The World",
          "Dethroned",
          "Raindrops (Insane) [with Travis Scott]",
          "Tinker Tailor Soldier Sailor Rich Man Poor Man Beggar Man Thief",
          "Up Up & Away",
          "Running Out Of Time",
          "Lipstick Lover",
          "New Tank",
          "Rose-Colored Boy",
          "Papi I Missed U",
          "When Doves Cry",
          "Doomsday",
          "Foreign",
          "War Paint (feat. Westside Gunn & Conway the Machine)",
          "Your Prime",
          "Dump",
          "Comfortably Numb",
          "Energy",
          "Feel The Love",
          "Poke It Out (with Nicki Minaj)",
          "Just In Time (feat. Lil Wayne & Kenny Mason)",
          "TAKE A CHANCE (feat. Anderson .Paak)",
          "Hold The Girl",
          "Wild Irish Roses",
          "...& On",
          "HOE (Heaven on Earth)",
          "No Reason",
          "MANIFESTO (feat. Domo Genesis)",
          "Ladies and gentlemen we are floating in space",
          "Arya (with Nigo)",
          "DIET_",
          "N.Y. State of Mind",
          "Hurt Feelings",
          "Through The Wire",
          "The Scientist",
          "Life on Mars? - 2015 Remaster",
          "DD Form 214",
          "SWGSKOOL",
          "Letter To Cornelius",
          "Sir Duke",
          "Forever - 2021 Remaster",
          "Rearview",
          "Jukebox Joints (feat. Joe Fox & Kanye West)",
          "If I Had A Dollar (feat. Benjamin Earl Turner)",
          "Hold Up, Wait!",
          "Black Star",
          "The OtherSide",
          "LUMBERJACK",
          "Packt Like Sardines In a Crushd Tin Box",
          "Wax On (Feat. Freddie Gibbs)",
          "Stupid/Asking",
          "untitled 02 | 06.23.2014.",
          "By Design",
          "the 27 club"
         ],
         "legendgroup": "",
         "marker": {
          "color": "#636efa",
          "symbol": "circle"
         },
         "mode": "markers",
         "name": "",
         "orientation": "v",
         "showlegend": false,
         "type": "scatter",
         "x": [
          58.43,
          48.04,
          45.29,
          44.9,
          44.38,
          44.2,
          42.5,
          40.25,
          38.67,
          38.08,
          37.45,
          37.38,
          36.18,
          35.58,
          35.21,
          34.48,
          34.1,
          33.74,
          33.1,
          33.02,
          32.61,
          32.27,
          32.19,
          32.04,
          31.74,
          31.47,
          30.83,
          30.51,
          30.21,
          29.64,
          29.61,
          29.58,
          29.38,
          29.26,
          28.85,
          28.6,
          28.59,
          28.55,
          27.39,
          27.31,
          27.26,
          27.26,
          27.22,
          27.21,
          27.11,
          26.27,
          26.21,
          26.01,
          25.96,
          25.92,
          25.83,
          25.37,
          25.18,
          24.92,
          24.58,
          24.58,
          24.46,
          24.46,
          24.31,
          24.28,
          24.17,
          24.16,
          24.13,
          23.73,
          23.6,
          23.57,
          23.5,
          23.24,
          23.19,
          23.09,
          23.05,
          23.01,
          22.86,
          22.81,
          22.7,
          22.69,
          22.67,
          21.68,
          21.55,
          21.5,
          21.3,
          21.05,
          20.76,
          20.74,
          20.63,
          20.61,
          20.6,
          20.51,
          20.4,
          20.38,
          20.28,
          20.23,
          20.04,
          19.95,
          19.9,
          19.85,
          19.79,
          19.62,
          19.61,
          19.5,
          19.42,
          19.41,
          19.28,
          19.15,
          19.1,
          19.01,
          19,
          18.95,
          18.92,
          18.86,
          18.78,
          18.78,
          18.76,
          18.75,
          18.73,
          18.71,
          18.67,
          18.62,
          18.56,
          18.47,
          18.36,
          18.34,
          18.27,
          18.12,
          18.1,
          17.95,
          17.94,
          17.82,
          17.76,
          17.66,
          17.59,
          17.58,
          17.56,
          17.54,
          17.43,
          17.39,
          17.36,
          17.35,
          17.31,
          17.22,
          17.03,
          17,
          16.97,
          16.85,
          16.8,
          16.79,
          16.79,
          16.79,
          16.74,
          16.67,
          16.62,
          16.52,
          16.45,
          16.41,
          16.35,
          16.35,
          16.34,
          16.27,
          16.26,
          16.2,
          16.17,
          16.15,
          16.11,
          16.11,
          16.02,
          16,
          15.99,
          15.98,
          15.96,
          15.85,
          15.82,
          15.81,
          15.79,
          15.79,
          15.76,
          15.66,
          15.6,
          15.58,
          15.57,
          15.51,
          15.45,
          15.38,
          15.35,
          15.32,
          15.24,
          15.21,
          15.17,
          15.14,
          15.09,
          15,
          15,
          14.97,
          14.96,
          14.96,
          14.95,
          14.87,
          14.81,
          14.78,
          14.67,
          14.64,
          14.6,
          14.56,
          14.48,
          14.47,
          14.42,
          14.42,
          14.28,
          14.24,
          14.2,
          14.19,
          14.15,
          14.06,
          14.03,
          14,
          14,
          14,
          13.98,
          13.97,
          13.95,
          13.94,
          13.93,
          13.9,
          13.89,
          13.87,
          13.86,
          13.83,
          13.74,
          13.72,
          13.66,
          13.66,
          13.64,
          13.61,
          13.56,
          13.55,
          13.53,
          13.48,
          13.47,
          13.43,
          13.43,
          13.36,
          13.35,
          13.33,
          13.29,
          13.22,
          13.16,
          13.15,
          13.1,
          13.04,
          13,
          13,
          12.96,
          12.92,
          12.91,
          12.84,
          12.8,
          12.8,
          12.78,
          12.74,
          12.71,
          12.68,
          12.63,
          12.6,
          12.58,
          12.53,
          12.47,
          12.41,
          12.41,
          12.41,
          12.39,
          12.34,
          12.31,
          12.3,
          12.29,
          12.28,
          12.27,
          12.26,
          12.19,
          12.13,
          12.09,
          12,
          12,
          12,
          11.97,
          11.95,
          11.95,
          11.95,
          11.94,
          11.92,
          11.92,
          11.91,
          11.91,
          11.9,
          11.9,
          11.86,
          11.82,
          11.74,
          11.73,
          11.73,
          11.7,
          11.69,
          11.68,
          11.66,
          11.66,
          11.63,
          11.61,
          11.61,
          11.6,
          11.58,
          11.54,
          11.54,
          11.53,
          11.52,
          11.52,
          11.51,
          11.51,
          11.5,
          11.48,
          11.45,
          11.42,
          11.39,
          11.38,
          11.33,
          11.28,
          11.28,
          11.27,
          11.23,
          11.21,
          11.18,
          11.15,
          11.11,
          11.1,
          11.08,
          11.07,
          11.04,
          11,
          11,
          11,
          11,
          11,
          11,
          10.96,
          10.92,
          10.91,
          10.91,
          10.85,
          10.83,
          10.79,
          10.79,
          10.78,
          10.76,
          10.66,
          10.66,
          10.63,
          10.62,
          10.61,
          10.6,
          10.55,
          10.54,
          10.5,
          10.48,
          10.47,
          10.47,
          10.47,
          10.45,
          10.42,
          10.41,
          10.39,
          10.38,
          10.36,
          10.35,
          10.35,
          10.33,
          10.31,
          10.28,
          10.25,
          10.24,
          10.24,
          10.23,
          10.22,
          10.22,
          10.18,
          10.18,
          10.17,
          10.16,
          10.14,
          10.1,
          10.1,
          10.07,
          10.05,
          10.03,
          10,
          9.98,
          9.95,
          9.94,
          9.9,
          9.88,
          9.79,
          9.78,
          9.69,
          9.69,
          9.69,
          9.68,
          9.68,
          9.67,
          9.67,
          9.67,
          9.63,
          9.59,
          9.59,
          9.58,
          9.53,
          9.52,
          9.51,
          9.5,
          9.49,
          9.48,
          9.47,
          9.46,
          9.46,
          9.44,
          9.43,
          9.4,
          9.35,
          9.35,
          9.34,
          9.33,
          9.31,
          9.29,
          9.29,
          9.29,
          9.29,
          9.28,
          9.25,
          9.25,
          9.22,
          9.22,
          9.2,
          9.19,
          9.19,
          9.16,
          9.15,
          9.15,
          9.15,
          9.14,
          9.08,
          9.08,
          9.04,
          9.01,
          9.01,
          9,
          9,
          9,
          9,
          9,
          8.99,
          8.96,
          8.92,
          8.91,
          8.91,
          8.86,
          8.85,
          8.85,
          8.83,
          8.81,
          8.81,
          8.8,
          8.8,
          8.79,
          8.79,
          8.79,
          8.78,
          8.78,
          8.77,
          8.74,
          8.72,
          8.72,
          8.72,
          8.71,
          8.7,
          8.7,
          8.69,
          8.67,
          8.67,
          8.66,
          8.65,
          8.63,
          8.62,
          8.58,
          8.57,
          8.56,
          8.56,
          8.51,
          8.51,
          8.49,
          8.48,
          8.44,
          8.43,
          8.41,
          8.4,
          8.4
         ],
         "xaxis": "x",
         "y": [
          -8.025,
          -9.194,
          -6.271,
          -12.428,
          -6.818,
          -7.94,
          -9.785,
          -10.654,
          -4.576,
          -3.763,
          -5.573,
          -8.333,
          -11.185,
          -14.415,
          -3.825,
          -16.128,
          -4.681,
          -11.196,
          -8.866,
          -3.677,
          -7.45,
          -7.777,
          -9.129,
          -5.737,
          -6.754,
          -11.941,
          -1.596,
          -5.527,
          -11.881,
          -8.937,
          -6.407,
          -9.461,
          -7.584,
          -5.453,
          -10.426,
          -5.67,
          -6.537,
          -7.201,
          -6.546,
          -8.148,
          -6.189,
          -6.505,
          -9.638,
          -1.582,
          -6.827,
          -4.921,
          -8.571,
          -5.07,
          -6.285,
          -9.205,
          -6.169,
          -4.45,
          -5.495,
          -12.592,
          -7.928,
          -5.73,
          -10.066,
          -13.477,
          0.224,
          -12.309,
          -7.214,
          -11.198,
          -7.578,
          -6.297,
          -10.967,
          -8.046,
          -8.436,
          -4.083,
          -5.736,
          -6.766,
          -4.486,
          -4.965,
          -4.57,
          -10.506,
          -6.02,
          -5.625,
          -6.529,
          -6.724,
          -7.499,
          -16.127,
          -7.544,
          -4.297,
          -8.799,
          -7.851,
          -8.718,
          -6.857,
          -6.2,
          -5.647,
          -19.585,
          -6.078,
          -2.401,
          -6.716,
          -7.491,
          -3.352,
          -12.115,
          -4.354,
          -9.761,
          -5.914,
          -6.586,
          2.383,
          -9.6,
          -5.34,
          -9.373,
          -4.935,
          -11.841,
          -4.947,
          -9.967,
          -8.018,
          -1.644,
          -7.619,
          -7.456,
          -3.966,
          -15.721,
          -2.461,
          -4.466,
          -7.399,
          -10.027,
          -11.751,
          -10.363,
          -6.35,
          -7.362,
          -7.538,
          -1.383,
          -8.691,
          -9.813,
          -10.045,
          -6.023,
          -7.868,
          -5.837,
          -8.6,
          -4.845,
          -9.029,
          -11.012,
          -8.766,
          -9.929,
          -7.136,
          -7.582,
          -7.775,
          -13.475,
          -6.441,
          -6.424,
          -8.142,
          -6.647,
          -4.079,
          -3.634,
          -8.57,
          -5.711,
          -12.456,
          -11.782,
          -5.983,
          -15.605,
          0.551,
          -6.522,
          -3.143,
          -7.119,
          -12.691,
          -2.58,
          -12.489,
          -7.745,
          -5.659,
          -8.035,
          -8.241,
          -6.653,
          -7.383,
          -7.629,
          -7.565,
          -6.463,
          -7.8,
          -2.102,
          -4.097,
          -6.883,
          -9.316,
          -10.611,
          -5.127,
          -4.591,
          -6.884,
          -14.676,
          -5.127,
          -7.338,
          -9.373,
          -7.302,
          -3.66,
          -6.7,
          -7.578,
          -9.653,
          -3.673,
          -6.315,
          -7.936,
          -9.77,
          -11.212,
          -8.959,
          -9.985,
          -7.361,
          -8.529,
          -7.569,
          -8.073,
          -7.343,
          -10.155,
          -7.355,
          -7.461,
          -4.023,
          -10.586,
          -8.689,
          -11.264,
          -10.337,
          -9.703,
          -10.02,
          -8.049,
          -5.161,
          -7.042,
          -6.266,
          -5.423,
          -6.192,
          -7.586,
          -8.302,
          -6.422,
          -4.581,
          -8.145,
          -18.168,
          -7.473,
          -11.644,
          -3.738,
          -15.52,
          -5.414,
          -7.239,
          -3.838,
          -7.097,
          -8.393,
          -6.565,
          -5.193,
          -9.664,
          -7.396,
          -8.316,
          -7.615,
          -7.227,
          -11.548,
          -5.005,
          -5.909,
          -1.08,
          -4.578,
          -2.821,
          -6.086,
          -1.077,
          -10.477,
          -5.171,
          -8.542,
          -9.236,
          -4.424,
          -7.75,
          -8.401,
          -5.873,
          -6.521,
          -5.798,
          -1.134,
          -8.382,
          -4.223,
          -5.039,
          -4.618,
          -12.65,
          -11.194,
          -5.058,
          -6.815,
          -4.455,
          -0.171,
          -5.659,
          -8.034,
          -8.267,
          1.325,
          -2.108,
          -5.899,
          -10.917,
          -5.379,
          -8.594,
          -3.714,
          -6.043,
          -5.791,
          -4.238,
          -5.813,
          -8.178,
          -8.339,
          -10.146,
          -6.983,
          -8.633,
          -10.11,
          -10.469,
          -1.313,
          -5.366,
          -12.698,
          -6.752,
          -7.249,
          -7.97,
          -7.174,
          -5.604,
          -5.941,
          -8.336,
          -4.184,
          -6.326,
          -9.794,
          0.097,
          -9.86,
          -4.83,
          -4.704,
          -8.65,
          -8.109,
          -7.389,
          -6.811,
          -8.169,
          -7.593,
          -6.441,
          -5.73,
          -5.313,
          -11.544,
          -7.455,
          -8.912,
          -7.111,
          -5.853,
          -8.111,
          -9.877,
          -8.193,
          -9.363,
          -5.56,
          -5.818,
          -8.421,
          -6.788,
          -7.867,
          -8.683,
          -6.854,
          -10.506,
          -3.088,
          -5.491,
          -18.208,
          -6.045,
          -4.322,
          -8.321,
          -4.605,
          -8.328,
          -4.547,
          -3.182,
          -6.101,
          -5.387,
          -4.54,
          -7.571,
          -3.897,
          -9.222,
          -3.801,
          -2.946,
          -4.569,
          -8.967,
          -5.673,
          -9.822,
          -7.311,
          -9.636,
          -6.601,
          -8.482,
          -8.41,
          -5.145,
          -5.748,
          -6.516,
          -5.268,
          -10.598,
          -10.625,
          -3.626,
          -6.454,
          0.566,
          -9.54,
          -11.83,
          -4.912,
          -9.531,
          -8.067,
          -4.32,
          -11.075,
          -11.561,
          -12.578,
          -6.006,
          -9.935,
          -6.268,
          -9.828,
          -5.834,
          -6.796,
          -5.394,
          -6.997,
          -12.92,
          -10.72,
          -10.499,
          -7.26,
          -14.004,
          -6.941,
          -5.337,
          -8.561,
          -8.013,
          -5.556,
          -7.264,
          -6.873,
          -5.339,
          -6.607,
          -12.797,
          -4.58,
          -9.218,
          -6.662,
          -6.665,
          -9.476,
          -7.952,
          -3.785,
          -14.526,
          -10.656,
          -5.717,
          -2.996,
          -9.621,
          -5.877,
          -4.113,
          -11.879,
          -4.543,
          -4.546,
          -8.021,
          -4.839,
          -4.922,
          -8.065,
          -8.212,
          -5.62,
          -6.74,
          -7.349,
          -7.026,
          -8.958,
          -6.341,
          -6.667,
          -6.574,
          -7.787,
          -5.116,
          -5.16,
          -4.708,
          -17.892,
          -7.411,
          -7.556,
          -6.374,
          -6.842,
          -8.049,
          -11.443,
          -9.556,
          -6.467,
          -8.964,
          -12.124,
          -9.87,
          -4.832,
          -4.067,
          -6.319,
          -2.459,
          -5.249,
          -8.605,
          -5.974,
          -10.944,
          -6.119,
          -9.22,
          -7.531,
          -4.831,
          -4.904,
          -6.02,
          -4.613,
          -7.736,
          -5.195,
          -3.075,
          -5.202,
          -7.51,
          -12.595,
          -7.916,
          -5.946,
          -5.716,
          -7.974,
          -9.189,
          -3.617,
          -11.237,
          -12.13,
          -3.29,
          -7.001,
          -5.348,
          -11.452,
          -7.471,
          -6.208,
          -4.682,
          -8.054,
          -6.11,
          -7.224,
          -14.642,
          -9.641,
          -6.864,
          -9.105,
          -9.766,
          -12.071,
          -6.031,
          -5.293,
          -7.779,
          -7.023,
          -7.434,
          -2.077,
          -6.341,
          -12.715,
          -4.819,
          -11.193,
          -10.337,
          -5.885,
          -6.919
         ],
         "yaxis": "y"
        }
       ],
       "layout": {
        "legend": {
         "tracegroupgap": 0
        },
        "margin": {
         "t": 60
        },
        "template": {
         "data": {
          "bar": [
           {
            "error_x": {
             "color": "#2a3f5f"
            },
            "error_y": {
             "color": "#2a3f5f"
            },
            "marker": {
             "line": {
              "color": "#E5ECF6",
              "width": 0.5
             },
             "pattern": {
              "fillmode": "overlay",
              "size": 10,
              "solidity": 0.2
             }
            },
            "type": "bar"
           }
          ],
          "barpolar": [
           {
            "marker": {
             "line": {
              "color": "#E5ECF6",
              "width": 0.5
             },
             "pattern": {
              "fillmode": "overlay",
              "size": 10,
              "solidity": 0.2
             }
            },
            "type": "barpolar"
           }
          ],
          "carpet": [
           {
            "aaxis": {
             "endlinecolor": "#2a3f5f",
             "gridcolor": "white",
             "linecolor": "white",
             "minorgridcolor": "white",
             "startlinecolor": "#2a3f5f"
            },
            "baxis": {
             "endlinecolor": "#2a3f5f",
             "gridcolor": "white",
             "linecolor": "white",
             "minorgridcolor": "white",
             "startlinecolor": "#2a3f5f"
            },
            "type": "carpet"
           }
          ],
          "choropleth": [
           {
            "colorbar": {
             "outlinewidth": 0,
             "ticks": ""
            },
            "type": "choropleth"
           }
          ],
          "contour": [
           {
            "colorbar": {
             "outlinewidth": 0,
             "ticks": ""
            },
            "colorscale": [
             [
              0,
              "#0d0887"
             ],
             [
              0.1111111111111111,
              "#46039f"
             ],
             [
              0.2222222222222222,
              "#7201a8"
             ],
             [
              0.3333333333333333,
              "#9c179e"
             ],
             [
              0.4444444444444444,
              "#bd3786"
             ],
             [
              0.5555555555555556,
              "#d8576b"
             ],
             [
              0.6666666666666666,
              "#ed7953"
             ],
             [
              0.7777777777777778,
              "#fb9f3a"
             ],
             [
              0.8888888888888888,
              "#fdca26"
             ],
             [
              1,
              "#f0f921"
             ]
            ],
            "type": "contour"
           }
          ],
          "contourcarpet": [
           {
            "colorbar": {
             "outlinewidth": 0,
             "ticks": ""
            },
            "type": "contourcarpet"
           }
          ],
          "heatmap": [
           {
            "colorbar": {
             "outlinewidth": 0,
             "ticks": ""
            },
            "colorscale": [
             [
              0,
              "#0d0887"
             ],
             [
              0.1111111111111111,
              "#46039f"
             ],
             [
              0.2222222222222222,
              "#7201a8"
             ],
             [
              0.3333333333333333,
              "#9c179e"
             ],
             [
              0.4444444444444444,
              "#bd3786"
             ],
             [
              0.5555555555555556,
              "#d8576b"
             ],
             [
              0.6666666666666666,
              "#ed7953"
             ],
             [
              0.7777777777777778,
              "#fb9f3a"
             ],
             [
              0.8888888888888888,
              "#fdca26"
             ],
             [
              1,
              "#f0f921"
             ]
            ],
            "type": "heatmap"
           }
          ],
          "heatmapgl": [
           {
            "colorbar": {
             "outlinewidth": 0,
             "ticks": ""
            },
            "colorscale": [
             [
              0,
              "#0d0887"
             ],
             [
              0.1111111111111111,
              "#46039f"
             ],
             [
              0.2222222222222222,
              "#7201a8"
             ],
             [
              0.3333333333333333,
              "#9c179e"
             ],
             [
              0.4444444444444444,
              "#bd3786"
             ],
             [
              0.5555555555555556,
              "#d8576b"
             ],
             [
              0.6666666666666666,
              "#ed7953"
             ],
             [
              0.7777777777777778,
              "#fb9f3a"
             ],
             [
              0.8888888888888888,
              "#fdca26"
             ],
             [
              1,
              "#f0f921"
             ]
            ],
            "type": "heatmapgl"
           }
          ],
          "histogram": [
           {
            "marker": {
             "pattern": {
              "fillmode": "overlay",
              "size": 10,
              "solidity": 0.2
             }
            },
            "type": "histogram"
           }
          ],
          "histogram2d": [
           {
            "colorbar": {
             "outlinewidth": 0,
             "ticks": ""
            },
            "colorscale": [
             [
              0,
              "#0d0887"
             ],
             [
              0.1111111111111111,
              "#46039f"
             ],
             [
              0.2222222222222222,
              "#7201a8"
             ],
             [
              0.3333333333333333,
              "#9c179e"
             ],
             [
              0.4444444444444444,
              "#bd3786"
             ],
             [
              0.5555555555555556,
              "#d8576b"
             ],
             [
              0.6666666666666666,
              "#ed7953"
             ],
             [
              0.7777777777777778,
              "#fb9f3a"
             ],
             [
              0.8888888888888888,
              "#fdca26"
             ],
             [
              1,
              "#f0f921"
             ]
            ],
            "type": "histogram2d"
           }
          ],
          "histogram2dcontour": [
           {
            "colorbar": {
             "outlinewidth": 0,
             "ticks": ""
            },
            "colorscale": [
             [
              0,
              "#0d0887"
             ],
             [
              0.1111111111111111,
              "#46039f"
             ],
             [
              0.2222222222222222,
              "#7201a8"
             ],
             [
              0.3333333333333333,
              "#9c179e"
             ],
             [
              0.4444444444444444,
              "#bd3786"
             ],
             [
              0.5555555555555556,
              "#d8576b"
             ],
             [
              0.6666666666666666,
              "#ed7953"
             ],
             [
              0.7777777777777778,
              "#fb9f3a"
             ],
             [
              0.8888888888888888,
              "#fdca26"
             ],
             [
              1,
              "#f0f921"
             ]
            ],
            "type": "histogram2dcontour"
           }
          ],
          "mesh3d": [
           {
            "colorbar": {
             "outlinewidth": 0,
             "ticks": ""
            },
            "type": "mesh3d"
           }
          ],
          "parcoords": [
           {
            "line": {
             "colorbar": {
              "outlinewidth": 0,
              "ticks": ""
             }
            },
            "type": "parcoords"
           }
          ],
          "pie": [
           {
            "automargin": true,
            "type": "pie"
           }
          ],
          "scatter": [
           {
            "fillpattern": {
             "fillmode": "overlay",
             "size": 10,
             "solidity": 0.2
            },
            "type": "scatter"
           }
          ],
          "scatter3d": [
           {
            "line": {
             "colorbar": {
              "outlinewidth": 0,
              "ticks": ""
             }
            },
            "marker": {
             "colorbar": {
              "outlinewidth": 0,
              "ticks": ""
             }
            },
            "type": "scatter3d"
           }
          ],
          "scattercarpet": [
           {
            "marker": {
             "colorbar": {
              "outlinewidth": 0,
              "ticks": ""
             }
            },
            "type": "scattercarpet"
           }
          ],
          "scattergeo": [
           {
            "marker": {
             "colorbar": {
              "outlinewidth": 0,
              "ticks": ""
             }
            },
            "type": "scattergeo"
           }
          ],
          "scattergl": [
           {
            "marker": {
             "colorbar": {
              "outlinewidth": 0,
              "ticks": ""
             }
            },
            "type": "scattergl"
           }
          ],
          "scattermapbox": [
           {
            "marker": {
             "colorbar": {
              "outlinewidth": 0,
              "ticks": ""
             }
            },
            "type": "scattermapbox"
           }
          ],
          "scatterpolar": [
           {
            "marker": {
             "colorbar": {
              "outlinewidth": 0,
              "ticks": ""
             }
            },
            "type": "scatterpolar"
           }
          ],
          "scatterpolargl": [
           {
            "marker": {
             "colorbar": {
              "outlinewidth": 0,
              "ticks": ""
             }
            },
            "type": "scatterpolargl"
           }
          ],
          "scatterternary": [
           {
            "marker": {
             "colorbar": {
              "outlinewidth": 0,
              "ticks": ""
             }
            },
            "type": "scatterternary"
           }
          ],
          "surface": [
           {
            "colorbar": {
             "outlinewidth": 0,
             "ticks": ""
            },
            "colorscale": [
             [
              0,
              "#0d0887"
             ],
             [
              0.1111111111111111,
              "#46039f"
             ],
             [
              0.2222222222222222,
              "#7201a8"
             ],
             [
              0.3333333333333333,
              "#9c179e"
             ],
             [
              0.4444444444444444,
              "#bd3786"
             ],
             [
              0.5555555555555556,
              "#d8576b"
             ],
             [
              0.6666666666666666,
              "#ed7953"
             ],
             [
              0.7777777777777778,
              "#fb9f3a"
             ],
             [
              0.8888888888888888,
              "#fdca26"
             ],
             [
              1,
              "#f0f921"
             ]
            ],
            "type": "surface"
           }
          ],
          "table": [
           {
            "cells": {
             "fill": {
              "color": "#EBF0F8"
             },
             "line": {
              "color": "white"
             }
            },
            "header": {
             "fill": {
              "color": "#C8D4E3"
             },
             "line": {
              "color": "white"
             }
            },
            "type": "table"
           }
          ]
         },
         "layout": {
          "annotationdefaults": {
           "arrowcolor": "#2a3f5f",
           "arrowhead": 0,
           "arrowwidth": 1
          },
          "autotypenumbers": "strict",
          "coloraxis": {
           "colorbar": {
            "outlinewidth": 0,
            "ticks": ""
           }
          },
          "colorscale": {
           "diverging": [
            [
             0,
             "#8e0152"
            ],
            [
             0.1,
             "#c51b7d"
            ],
            [
             0.2,
             "#de77ae"
            ],
            [
             0.3,
             "#f1b6da"
            ],
            [
             0.4,
             "#fde0ef"
            ],
            [
             0.5,
             "#f7f7f7"
            ],
            [
             0.6,
             "#e6f5d0"
            ],
            [
             0.7,
             "#b8e186"
            ],
            [
             0.8,
             "#7fbc41"
            ],
            [
             0.9,
             "#4d9221"
            ],
            [
             1,
             "#276419"
            ]
           ],
           "sequential": [
            [
             0,
             "#0d0887"
            ],
            [
             0.1111111111111111,
             "#46039f"
            ],
            [
             0.2222222222222222,
             "#7201a8"
            ],
            [
             0.3333333333333333,
             "#9c179e"
            ],
            [
             0.4444444444444444,
             "#bd3786"
            ],
            [
             0.5555555555555556,
             "#d8576b"
            ],
            [
             0.6666666666666666,
             "#ed7953"
            ],
            [
             0.7777777777777778,
             "#fb9f3a"
            ],
            [
             0.8888888888888888,
             "#fdca26"
            ],
            [
             1,
             "#f0f921"
            ]
           ],
           "sequentialminus": [
            [
             0,
             "#0d0887"
            ],
            [
             0.1111111111111111,
             "#46039f"
            ],
            [
             0.2222222222222222,
             "#7201a8"
            ],
            [
             0.3333333333333333,
             "#9c179e"
            ],
            [
             0.4444444444444444,
             "#bd3786"
            ],
            [
             0.5555555555555556,
             "#d8576b"
            ],
            [
             0.6666666666666666,
             "#ed7953"
            ],
            [
             0.7777777777777778,
             "#fb9f3a"
            ],
            [
             0.8888888888888888,
             "#fdca26"
            ],
            [
             1,
             "#f0f921"
            ]
           ]
          },
          "colorway": [
           "#636efa",
           "#EF553B",
           "#00cc96",
           "#ab63fa",
           "#FFA15A",
           "#19d3f3",
           "#FF6692",
           "#B6E880",
           "#FF97FF",
           "#FECB52"
          ],
          "font": {
           "color": "#2a3f5f"
          },
          "geo": {
           "bgcolor": "white",
           "lakecolor": "white",
           "landcolor": "#E5ECF6",
           "showlakes": true,
           "showland": true,
           "subunitcolor": "white"
          },
          "hoverlabel": {
           "align": "left"
          },
          "hovermode": "closest",
          "mapbox": {
           "style": "light"
          },
          "paper_bgcolor": "white",
          "plot_bgcolor": "#E5ECF6",
          "polar": {
           "angularaxis": {
            "gridcolor": "white",
            "linecolor": "white",
            "ticks": ""
           },
           "bgcolor": "#E5ECF6",
           "radialaxis": {
            "gridcolor": "white",
            "linecolor": "white",
            "ticks": ""
           }
          },
          "scene": {
           "xaxis": {
            "backgroundcolor": "#E5ECF6",
            "gridcolor": "white",
            "gridwidth": 2,
            "linecolor": "white",
            "showbackground": true,
            "ticks": "",
            "zerolinecolor": "white"
           },
           "yaxis": {
            "backgroundcolor": "#E5ECF6",
            "gridcolor": "white",
            "gridwidth": 2,
            "linecolor": "white",
            "showbackground": true,
            "ticks": "",
            "zerolinecolor": "white"
           },
           "zaxis": {
            "backgroundcolor": "#E5ECF6",
            "gridcolor": "white",
            "gridwidth": 2,
            "linecolor": "white",
            "showbackground": true,
            "ticks": "",
            "zerolinecolor": "white"
           }
          },
          "shapedefaults": {
           "line": {
            "color": "#2a3f5f"
           }
          },
          "ternary": {
           "aaxis": {
            "gridcolor": "white",
            "linecolor": "white",
            "ticks": ""
           },
           "baxis": {
            "gridcolor": "white",
            "linecolor": "white",
            "ticks": ""
           },
           "bgcolor": "#E5ECF6",
           "caxis": {
            "gridcolor": "white",
            "linecolor": "white",
            "ticks": ""
           }
          },
          "title": {
           "x": 0.05
          },
          "xaxis": {
           "automargin": true,
           "gridcolor": "white",
           "linecolor": "white",
           "ticks": "",
           "title": {
            "standoff": 15
           },
           "zerolinecolor": "white",
           "zerolinewidth": 2
          },
          "yaxis": {
           "automargin": true,
           "gridcolor": "white",
           "linecolor": "white",
           "ticks": "",
           "title": {
            "standoff": 15
           },
           "zerolinecolor": "white",
           "zerolinewidth": 2
          }
         }
        },
        "xaxis": {
         "anchor": "y",
         "domain": [
          0,
          1
         ],
         "title": {
          "text": "timesPlayed"
         }
        },
        "yaxis": {
         "anchor": "x",
         "domain": [
          0,
          1
         ],
         "title": {
          "text": "loudness"
         }
        }
       }
      }
     },
     "metadata": {},
     "output_type": "display_data"
    },
    {
     "data": {
      "application/vnd.plotly.v1+json": {
       "config": {
        "plotlyServerURL": "https://plot.ly"
       },
       "data": [
        {
         "hovertemplate": "<b>%{hovertext}</b><br><br>timesPlayed=%{x}<br>mode=%{y}<extra></extra>",
         "hovertext": [
          "Weird Fishes/ Arpeggi",
          "Good Will Hunting",
          "Pro Freak (with Doechii, Fatman Scoop)",
          "Present Tense",
          "the perfect pair",
          "Andromeda",
          "Nude",
          "No Surprises",
          "Never Catch Me",
          "Still",
          "Secrets (Your Fire)",
          "Meat Grinder",
          "Speech Bubbles",
          "Galaxy",
          "Runaway",
          "Motion Picture Soundtrack",
          "Troubles [Feat. T-Pain]",
          "Pluto Projector",
          "EARFQUAKE",
          "drive ME crazy!",
          "Savior",
          "Cocoa Butter Kisses",
          "Karma Police",
          "the BLACK seminole.",
          "Wesley's Theory",
          "Shine On You Crazy Diamond (Pts. 1-5)",
          "Welcome To Hell",
          "N95",
          "Concorde",
          "Chaos Space Marine",
          "Thieves In The Night",
          "Identikit",
          "15 Step",
          "family ties (with Kendrick Lamar)",
          "Self Control",
          "The Adults Are Talking",
          "diving board",
          "Walkin",
          "New N3on",
          "Chapters",
          "Heart Don't Stand a Chance",
          "Crack Sandwich",
          "Nikes",
          "Lean Beef Patty",
          "Rapp Snitch Knishes feat. Mr. Fantastik",
          "Feel No Pain (feat. Anderson .Paak & Raekwon)",
          "雨降る夜の向こう",
          "Mood Romantica",
          "Waitin' on Ya",
          "Can't Fight",
          "Ice",
          "Oh My Dis Side (feat. Quavo)",
          "Paprika",
          "Fake Plastic Trees",
          "Wunderlan",
          "Rockstar Made",
          "儚き春の一幕",
          "Faust Arp",
          "Steppa Pig",
          "Get Away",
          "Tequila Shots",
          "Hand Me Downs",
          "Flashing Lights",
          "Gold Rings (feat. Pusha T)",
          "The Lung",
          "REACH THE SUNSHINE.",
          "GONE, GONE / THANK YOU",
          "The Less I Know The Better",
          "Killshot",
          "After The Storm (feat. Tyler, The Creator & Bootsy Collins)",
          "Stop Breathing",
          "4:44",
          "Waves",
          "Stars (feat. Yasiin Bey)",
          "Potato Salad",
          "Rich Nigga Shit (feat. Young Thug)",
          "running out of time",
          "Violent Crimes",
          "Reborn",
          "Heart To Heart",
          "Count Me Out",
          "Selfless",
          "Nothing",
          "Hummingbird (Metro Boomin & James Blake)",
          "Tactics",
          "Sober to Death",
          "Love Galore (feat. Travis Scott)",
          "Rusty (feat. Domo Genesis & Earl Sweatshirt)",
          "The Only Thing",
          "Guilt Trip",
          "Baby I'm Bleeding",
          "Big K.R.I.T.",
          "Off Da Zoinkys",
          "Brand New 911",
          "二十歳の恋",
          "Westbrook (with A$AP Ferg)",
          "Didn't Cha Know",
          "Scott Mescudi Vs. The World",
          "George Bondo (feat. Conway the Machine & Benny The Butcher)",
          "Burfict!",
          "EdEddnEddy",
          "Respiration",
          "Sunglasses",
          "Devil In A New Dress",
          "Oh, Maker",
          "Gabby (feat. Janelle Monáe)",
          "A Punch Up at a Wedding",
          "A Rush of Blood to the Head",
          "No More Parties In LA",
          "BLACK BALLOONS | 13LACK 13ALLOONZ [FEAT. TWELVE'LEN & GOLDLINK | TWELVE'LEN + GOLDL1NK]",
          "Bittersweet",
          "Long Time - Intro",
          "Glass Eyes",
          "Anti-Matter",
          "Eternal Summer",
          "Make Me Feel",
          "Sandstorm (feat. JID)",
          "Neon Valley Street",
          "Hidden Place",
          "Place",
          "Pink + White",
          "Suddenly",
          "Kingdom Hearts Key (ft. redveil)",
          "Walk Em Down (Don't Kill Civilians) [with 21 Savage & feat. Mustafa]",
          "Lucky",
          "Leak It (feat. Chlöe)",
          "Chocolate Matter",
          "Eye/I and I/Nation",
          "Kenan Vs. Kel",
          "Them Changes",
          "Wake Up",
          "Yeah Right",
          "Pink Matter",
          "Mirror",
          "Wild Time",
          "Say It Ain't So",
          "327 (feat. Tyler, The Creator & Billie Essco)",
          "Comin Out Strong (feat. The Weeknd)",
          "Crown",
          "Under The Sun (with J. Cole & Lute feat. DaBaby)",
          "Silhouette",
          "United In Grief",
          "Beta Male Strategies",
          "Tears (feat. Caroline Polachek)",
          "Umbrella (with 21 Savage & Young Nudy)",
          "The Tourist",
          "Aquemini",
          "It's Not up to You",
          "High and Dry",
          "Heartless",
          "White Ferrari",
          "Fentanyl Tester",
          "John Woo Flick (with Benny The Butcher & Westside Gunn)",
          "1539 N. Calvert",
          "Stay Flo",
          "Fuck the Nordic Model",
          "Hellfire",
          "Milk - 2021 Remaster",
          "Tell Me What I Don't Know",
          "If Tomorrow's Not Here",
          "Crosshairs",
          "I THINK",
          "Soundtrack 2 My Life",
          "FAMJAM4000",
          "X-Wing",
          "Sky Might Fall",
          "Kimiga Nakunara",
          "Idioteque",
          "Consideration",
          "Akasaka Sad",
          "A.D.H.D",
          "Design: 2: 3",
          "Behind The Moon Shadow",
          "Angel",
          "I'm In It",
          "This Is Why",
          "Picture Me Better",
          "Angels (feat. Saba)",
          "FIND YOUR WINGS (feat. Roy Ayers, Sydney Bennett & Kali Uchis)",
          "Faucet Failure",
          "Surround Sound (feat. 21 Savage & Baby Tate)",
          "We Major",
          "One Beer",
          "A Toshi no Aki",
          "夕暮れ",
          "On That Time",
          "Savage Good Boy",
          "Enter Galactic (Love Connection Part I)",
          "The Numbers",
          "Fingerprints",
          "I'M THAT GIRL",
          "Poetic Justice",
          "Bodys",
          "Smokin Out The Window",
          "Solo Dolo (Nightmare)",
          "Complicated",
          "LOVE. FEAT. ZACARI.",
          "Say You Will",
          "Money Trees",
          "Grimy Waifu",
          "Dark Red",
          "G.O.M.D",
          "Mr. Rager",
          "Next Levels",
          "BUSY / SIRENS",
          "Netflix & Dusse",
          "Acting",
          "In Love",
          "Justin Scott",
          "911 / Mr. Lonely (feat. Frank Ocean & Steve Lacy)",
          "Joga",
          "Ode To The Mets",
          "pg baby",
          "Ain't No Way [Feat. 6LACK, Rico Nasty, J.I.D, Jasiah, Kitty Ca$h]",
          "A BOY IS A GUN*",
          "Sunny day",
          "Symphony",
          "Blow My High (Members Only)",
          "Storm",
          "Better Days (feat. Johnta Austin)",
          "How to Disappear Completely",
          "STOP TRYING TO BE GOD",
          "Kid A",
          "NEW MAGIC WAND",
          "I Ain't Got Time!",
          "Head High",
          "Bad Habit",
          "Photosynthesis",
          "The Defence",
          "Send It Up",
          "Inside Out",
          "Envy",
          "In Sound, We Found Each Other",
          "Nothing Good Ever Happens At The Goddamn Thirsty Crow",
          "Yellow",
          "6 Star Wanted Level",
          "Right Now (feat. Pi'erre Bourne)",
          "Out On Sunny Sunday",
          "Dynasty",
          "Had Enough (feat. Quavo & Offset)",
          "Bound 2",
          "24",
          "DIRTY!",
          "Kokorono Madobeni Akai Hanao Kazatte",
          "Kuso Yakan Hikoh",
          "A Bigger Paper Bag",
          "LIFE",
          "Where Ya Get Ya Coke From?",
          "Television / So Far So Good",
          "Euphoria (feat. Travis Scott & Kaash Paige)",
          "So Appalled",
          "Hurricane",
          "Thot Tactics",
          "REBOUND!",
          "FEEL.",
          "New Choppa",
          "BREAK MY SOUL",
          "Where I Belong",
          "Norman fucking Rockwell",
          "Videotape",
          "Nas Is Like",
          "m.A.A.d city",
          "Why Are Sundays So Depressing",
          "Orange Juice Jones",
          "Slow",
          "Wolves",
          "Crime Pays",
          "God Loves You",
          "I Wonder",
          "Aux Cord",
          "26",
          "Hard Times",
          "Something to Believe",
          "SICKO MODE",
          "Gone",
          "range brothers (with Kendrick Lamar)",
          "Drones (feat. Kendrick Lamar, Snoop Dogg, Ty Dolla $ign & James Fauntleroy)",
          "Cherry-coloured Funk",
          "Always",
          "Let It Be - Remastered 2009",
          "Glue Song",
          "No Vacancy",
          "Instrumental",
          "Chondromalacia Patella",
          "Ripples",
          "Jack Harlow Combo Meal",
          "CAN'T SAY",
          "broken cd",
          "Afternoon in Heaven",
          "Excited",
          "Super Urus",
          "OPEN A WINDOW (feat. Tyler, The Creator)",
          "FlatBed Freestyle",
          "Wet Dream",
          "Deeper",
          "Sky",
          "Show Me",
          "Bloom",
          "Run The Jewels",
          "Shaolin Monk Motherfunk",
          "Love On The Brain",
          "Pray 4 Love (feat. The Weeknd)",
          "Figures",
          "Self Care",
          "Blackest in the Room",
          "Solo (Reprise)",
          "U Wanna Dance?",
          "Greatest Hits",
          "Under",
          "Time Today",
          "Bury Me In Gold",
          "Street Spirit (Fade Out)",
          "Harold’s",
          "Defibrillator",
          "Tired",
          "Downward Spiral",
          "ASTROTHUNDER",
          "Ful Stop",
          "Love Sosa",
          "2009",
          "dothatshit!",
          "Settle Down (with Cory Henry, Ravyn Lenae)",
          "Can’t Make U Change (feat. Ari Lennox)",
          "infinity (888) - feat. Joey Bada$$",
          "p r i d e . i s . t h e . d e v i l (with Lil Baby)",
          "Wanna Be Loved",
          "Big Titties (feat. Baauer and EarthGang)",
          "Sparks",
          "Big Bank (feat. T.I.)",
          "Electioneering",
          "Coffee",
          "M3tamorphosis (feat. Kid Cudi)",
          "New Slaves",
          "I Might Be Wrong",
          "Miss Georgia Fornia (feat. Joi)",
          "Dance or Die (feat. Saul Williams)",
          "The End (feat. BABYMETAL)",
          "On Sight",
          "Relative",
          "JPEGMAFIA TYPE BEAT",
          "Raindrop City",
          "Palmolive (feat. Pusha T & Killer Mike)",
          "Brooklyn Bridge To Chorus",
          "See You Again (feat. Kali Uchis)",
          "Nightcrawler (feat. Swae Lee & Chief Keef)",
          "Unlock It (feat. Playboi Carti)",
          "King Kunta",
          "PUPPET",
          "Beef Rap",
          "untitled 05 | 09.21.2014.",
          "Space Song",
          "Shitsville",
          "Never Meant",
          "K.O.S. (Determination)",
          "My Iron Lung",
          "FAKENGGAS",
          "Gorilla",
          "Slide Tackle",
          "PTSD",
          "Exchange",
          "Solo",
          "151 Rum",
          "Used (feat. Don Toliver)",
          "BMT!",
          "Boredom (feat. Rex Orange County & Anna of the North)",
          "Yesterday - Remastered 2009",
          "SWEET / I THOUGHT YOU WANTED TO DANCE (feat. Brent Faiyaz & Fana Hues)",
          "Scottie Beam",
          "Workin Out",
          "Trampoline",
          "(Nice Dream)",
          "Knicks",
          "Godspeed",
          "Find Your Love",
          "Creep",
          "Myth",
          "Glass Flows",
          "Scarface",
          "Melt a Bed",
          "R.I.P. Fredo (feat. Young Nudy) - Notice Me",
          "Pure Souls",
          "Good News",
          "Tightrope (feat. Big Boi) - Big Boi Vocal Edit",
          "She Roll Up",
          "Suede",
          "Scenario - LP Mix",
          "Dawning of the Season",
          "PYS (feat. DJ Paul)",
          "Thuggin’",
          "Planet Telex",
          "Don't",
          "Sept",
          "DUCKWORTH.",
          "TEMPTATION",
          "The Night Squall",
          "Acting - 2021 Remaster",
          "Momma",
          "Cosmonauts",
          "Voodoo Child (Slight Return)",
          "I Love You, I Hate You",
          "Have You In My Wilderness",
          "Drunk Drivers/Killer Whales",
          "Dangerous Liaisons",
          "Us and Them",
          "Transform (feat. Charlotte Day Wilson)",
          "GTFU (Feat. JPEGMAFIA & Cakes da Killa)",
          "Hustle Bones",
          "Read My Mind",
          "Total Entertainment Forever",
          "Father Stretch My Hands Pt. 1",
          "Plastic 100°C",
          "The Highs & The Lows",
          "Soul Food",
          "Momma Callin",
          "Unstoppable",
          "where's the confetti?",
          "The Bends",
          "Palace/Curse (feat. Tyler, The Creator & Steve Lacy)",
          "Giannis (feat. Anderson .Paak)",
          "New Person, Same Old Mistakes",
          "The Root",
          "m y . l i f e (with 21 Savage & Morray)",
          "After Last Night (with Thundercat & Bootsy Collins)",
          "Memo",
          "wokeuplikethis*",
          "Keep My Spirit Alive pt 2",
          "To All the Dancers of the World, A Round Form of Fantasy",
          "Ain't it Funny",
          "Chosen (feat. Ty Dolla $ign)",
          "For Free? - Interlude",
          "For Lovers",
          "Other People",
          "Sing About Me, I'm Dying Of Thirst",
          "Kokomo, IN",
          "IG",
          "ELON MUSK",
          "Get on the Floor",
          "2007",
          "CIA",
          "Bag Lady",
          "Morning Bell",
          "CRUCIFY ME",
          "All Falls Down",
          "2040",
          "Church",
          "Dreams and Nightmares",
          "Lost In The World",
          "Dethroned",
          "Raindrops (Insane) [with Travis Scott]",
          "Tinker Tailor Soldier Sailor Rich Man Poor Man Beggar Man Thief",
          "Up Up & Away",
          "Running Out Of Time",
          "Lipstick Lover",
          "New Tank",
          "Rose-Colored Boy",
          "Papi I Missed U",
          "When Doves Cry",
          "Doomsday",
          "Foreign",
          "War Paint (feat. Westside Gunn & Conway the Machine)",
          "Your Prime",
          "Dump",
          "Comfortably Numb",
          "Energy",
          "Feel The Love",
          "Poke It Out (with Nicki Minaj)",
          "Just In Time (feat. Lil Wayne & Kenny Mason)",
          "TAKE A CHANCE (feat. Anderson .Paak)",
          "Hold The Girl",
          "Wild Irish Roses",
          "...& On",
          "HOE (Heaven on Earth)",
          "No Reason",
          "MANIFESTO (feat. Domo Genesis)",
          "Ladies and gentlemen we are floating in space",
          "Arya (with Nigo)",
          "DIET_",
          "N.Y. State of Mind",
          "Hurt Feelings",
          "Through The Wire",
          "The Scientist",
          "Life on Mars? - 2015 Remaster",
          "DD Form 214",
          "SWGSKOOL",
          "Letter To Cornelius",
          "Sir Duke",
          "Forever - 2021 Remaster",
          "Rearview",
          "Jukebox Joints (feat. Joe Fox & Kanye West)",
          "If I Had A Dollar (feat. Benjamin Earl Turner)",
          "Hold Up, Wait!",
          "Black Star",
          "The OtherSide",
          "LUMBERJACK",
          "Packt Like Sardines In a Crushd Tin Box",
          "Wax On (Feat. Freddie Gibbs)",
          "Stupid/Asking",
          "untitled 02 | 06.23.2014.",
          "By Design",
          "the 27 club"
         ],
         "legendgroup": "",
         "marker": {
          "color": "#636efa",
          "symbol": "circle"
         },
         "mode": "markers",
         "name": "",
         "orientation": "v",
         "showlegend": false,
         "type": "scatter",
         "x": [
          58.43,
          48.04,
          45.29,
          44.9,
          44.38,
          44.2,
          42.5,
          40.25,
          38.67,
          38.08,
          37.45,
          37.38,
          36.18,
          35.58,
          35.21,
          34.48,
          34.1,
          33.74,
          33.1,
          33.02,
          32.61,
          32.27,
          32.19,
          32.04,
          31.74,
          31.47,
          30.83,
          30.51,
          30.21,
          29.64,
          29.61,
          29.58,
          29.38,
          29.26,
          28.85,
          28.6,
          28.59,
          28.55,
          27.39,
          27.31,
          27.26,
          27.26,
          27.22,
          27.21,
          27.11,
          26.27,
          26.21,
          26.01,
          25.96,
          25.92,
          25.83,
          25.37,
          25.18,
          24.92,
          24.58,
          24.58,
          24.46,
          24.46,
          24.31,
          24.28,
          24.17,
          24.16,
          24.13,
          23.73,
          23.6,
          23.57,
          23.5,
          23.24,
          23.19,
          23.09,
          23.05,
          23.01,
          22.86,
          22.81,
          22.7,
          22.69,
          22.67,
          21.68,
          21.55,
          21.5,
          21.3,
          21.05,
          20.76,
          20.74,
          20.63,
          20.61,
          20.6,
          20.51,
          20.4,
          20.38,
          20.28,
          20.23,
          20.04,
          19.95,
          19.9,
          19.85,
          19.79,
          19.62,
          19.61,
          19.5,
          19.42,
          19.41,
          19.28,
          19.15,
          19.1,
          19.01,
          19,
          18.95,
          18.92,
          18.86,
          18.78,
          18.78,
          18.76,
          18.75,
          18.73,
          18.71,
          18.67,
          18.62,
          18.56,
          18.47,
          18.36,
          18.34,
          18.27,
          18.12,
          18.1,
          17.95,
          17.94,
          17.82,
          17.76,
          17.66,
          17.59,
          17.58,
          17.56,
          17.54,
          17.43,
          17.39,
          17.36,
          17.35,
          17.31,
          17.22,
          17.03,
          17,
          16.97,
          16.85,
          16.8,
          16.79,
          16.79,
          16.79,
          16.74,
          16.67,
          16.62,
          16.52,
          16.45,
          16.41,
          16.35,
          16.35,
          16.34,
          16.27,
          16.26,
          16.2,
          16.17,
          16.15,
          16.11,
          16.11,
          16.02,
          16,
          15.99,
          15.98,
          15.96,
          15.85,
          15.82,
          15.81,
          15.79,
          15.79,
          15.76,
          15.66,
          15.6,
          15.58,
          15.57,
          15.51,
          15.45,
          15.38,
          15.35,
          15.32,
          15.24,
          15.21,
          15.17,
          15.14,
          15.09,
          15,
          15,
          14.97,
          14.96,
          14.96,
          14.95,
          14.87,
          14.81,
          14.78,
          14.67,
          14.64,
          14.6,
          14.56,
          14.48,
          14.47,
          14.42,
          14.42,
          14.28,
          14.24,
          14.2,
          14.19,
          14.15,
          14.06,
          14.03,
          14,
          14,
          14,
          13.98,
          13.97,
          13.95,
          13.94,
          13.93,
          13.9,
          13.89,
          13.87,
          13.86,
          13.83,
          13.74,
          13.72,
          13.66,
          13.66,
          13.64,
          13.61,
          13.56,
          13.55,
          13.53,
          13.48,
          13.47,
          13.43,
          13.43,
          13.36,
          13.35,
          13.33,
          13.29,
          13.22,
          13.16,
          13.15,
          13.1,
          13.04,
          13,
          13,
          12.96,
          12.92,
          12.91,
          12.84,
          12.8,
          12.8,
          12.78,
          12.74,
          12.71,
          12.68,
          12.63,
          12.6,
          12.58,
          12.53,
          12.47,
          12.41,
          12.41,
          12.41,
          12.39,
          12.34,
          12.31,
          12.3,
          12.29,
          12.28,
          12.27,
          12.26,
          12.19,
          12.13,
          12.09,
          12,
          12,
          12,
          11.97,
          11.95,
          11.95,
          11.95,
          11.94,
          11.92,
          11.92,
          11.91,
          11.91,
          11.9,
          11.9,
          11.86,
          11.82,
          11.74,
          11.73,
          11.73,
          11.7,
          11.69,
          11.68,
          11.66,
          11.66,
          11.63,
          11.61,
          11.61,
          11.6,
          11.58,
          11.54,
          11.54,
          11.53,
          11.52,
          11.52,
          11.51,
          11.51,
          11.5,
          11.48,
          11.45,
          11.42,
          11.39,
          11.38,
          11.33,
          11.28,
          11.28,
          11.27,
          11.23,
          11.21,
          11.18,
          11.15,
          11.11,
          11.1,
          11.08,
          11.07,
          11.04,
          11,
          11,
          11,
          11,
          11,
          11,
          10.96,
          10.92,
          10.91,
          10.91,
          10.85,
          10.83,
          10.79,
          10.79,
          10.78,
          10.76,
          10.66,
          10.66,
          10.63,
          10.62,
          10.61,
          10.6,
          10.55,
          10.54,
          10.5,
          10.48,
          10.47,
          10.47,
          10.47,
          10.45,
          10.42,
          10.41,
          10.39,
          10.38,
          10.36,
          10.35,
          10.35,
          10.33,
          10.31,
          10.28,
          10.25,
          10.24,
          10.24,
          10.23,
          10.22,
          10.22,
          10.18,
          10.18,
          10.17,
          10.16,
          10.14,
          10.1,
          10.1,
          10.07,
          10.05,
          10.03,
          10,
          9.98,
          9.95,
          9.94,
          9.9,
          9.88,
          9.79,
          9.78,
          9.69,
          9.69,
          9.69,
          9.68,
          9.68,
          9.67,
          9.67,
          9.67,
          9.63,
          9.59,
          9.59,
          9.58,
          9.53,
          9.52,
          9.51,
          9.5,
          9.49,
          9.48,
          9.47,
          9.46,
          9.46,
          9.44,
          9.43,
          9.4,
          9.35,
          9.35,
          9.34,
          9.33,
          9.31,
          9.29,
          9.29,
          9.29,
          9.29,
          9.28,
          9.25,
          9.25,
          9.22,
          9.22,
          9.2,
          9.19,
          9.19,
          9.16,
          9.15,
          9.15,
          9.15,
          9.14,
          9.08,
          9.08,
          9.04,
          9.01,
          9.01,
          9,
          9,
          9,
          9,
          9,
          8.99,
          8.96,
          8.92,
          8.91,
          8.91,
          8.86,
          8.85,
          8.85,
          8.83,
          8.81,
          8.81,
          8.8,
          8.8,
          8.79,
          8.79,
          8.79,
          8.78,
          8.78,
          8.77,
          8.74,
          8.72,
          8.72,
          8.72,
          8.71,
          8.7,
          8.7,
          8.69,
          8.67,
          8.67,
          8.66,
          8.65,
          8.63,
          8.62,
          8.58,
          8.57,
          8.56,
          8.56,
          8.51,
          8.51,
          8.49,
          8.48,
          8.44,
          8.43,
          8.41,
          8.4,
          8.4
         ],
         "xaxis": "x",
         "y": [
          0,
          1,
          1,
          0,
          1,
          0,
          1,
          1,
          1,
          1,
          0,
          1,
          0,
          1,
          0,
          1,
          0,
          1,
          1,
          0,
          1,
          0,
          1,
          0,
          1,
          0,
          1,
          1,
          1,
          1,
          1,
          0,
          1,
          1,
          1,
          1,
          0,
          0,
          0,
          1,
          1,
          1,
          1,
          0,
          1,
          1,
          1,
          1,
          1,
          0,
          1,
          1,
          1,
          1,
          0,
          1,
          0,
          0,
          0,
          1,
          0,
          1,
          0,
          0,
          0,
          0,
          0,
          1,
          0,
          0,
          1,
          1,
          1,
          0,
          1,
          0,
          1,
          0,
          1,
          0,
          0,
          1,
          1,
          1,
          1,
          1,
          1,
          1,
          1,
          0,
          1,
          1,
          1,
          1,
          0,
          1,
          0,
          0,
          0,
          1,
          1,
          0,
          0,
          0,
          0,
          1,
          0,
          1,
          1,
          0,
          0,
          0,
          1,
          1,
          0,
          1,
          1,
          1,
          0,
          1,
          1,
          1,
          1,
          1,
          0,
          0,
          1,
          1,
          1,
          1,
          1,
          1,
          0,
          1,
          1,
          1,
          0,
          1,
          0,
          1,
          1,
          1,
          1,
          1,
          0,
          1,
          0,
          0,
          1,
          0,
          1,
          1,
          1,
          0,
          1,
          1,
          1,
          1,
          1,
          0,
          0,
          0,
          0,
          0,
          1,
          0,
          1,
          1,
          0,
          1,
          1,
          1,
          0,
          0,
          1,
          0,
          1,
          0,
          0,
          0,
          1,
          0,
          1,
          0,
          1,
          1,
          1,
          0,
          1,
          1,
          0,
          0,
          1,
          1,
          0,
          1,
          1,
          0,
          1,
          1,
          1,
          0,
          1,
          1,
          1,
          0,
          0,
          0,
          0,
          1,
          0,
          0,
          0,
          0,
          0,
          0,
          0,
          0,
          0,
          1,
          0,
          0,
          1,
          0,
          1,
          1,
          1,
          1,
          1,
          1,
          1,
          0,
          0,
          1,
          1,
          1,
          0,
          0,
          1,
          1,
          1,
          0,
          0,
          1,
          1,
          0,
          1,
          1,
          1,
          0,
          0,
          1,
          0,
          0,
          1,
          0,
          0,
          1,
          1,
          0,
          0,
          1,
          1,
          1,
          0,
          1,
          1,
          1,
          0,
          1,
          1,
          0,
          1,
          1,
          1,
          0,
          1,
          1,
          1,
          1,
          1,
          1,
          0,
          0,
          0,
          0,
          0,
          1,
          1,
          0,
          0,
          1,
          1,
          1,
          1,
          1,
          1,
          1,
          0,
          0,
          0,
          1,
          0,
          1,
          1,
          0,
          0,
          1,
          1,
          1,
          1,
          0,
          1,
          0,
          0,
          1,
          0,
          1,
          0,
          0,
          1,
          0,
          1,
          0,
          0,
          0,
          1,
          1,
          0,
          0,
          1,
          1,
          1,
          0,
          0,
          1,
          1,
          0,
          1,
          0,
          1,
          1,
          1,
          1,
          0,
          1,
          0,
          0,
          1,
          1,
          0,
          1,
          1,
          1,
          1,
          1,
          1,
          1,
          1,
          1,
          0,
          1,
          0,
          1,
          1,
          1,
          1,
          0,
          0,
          0,
          1,
          1,
          1,
          0,
          1,
          1,
          0,
          0,
          1,
          1,
          1,
          0,
          0,
          1,
          0,
          1,
          0,
          1,
          0,
          0,
          0,
          1,
          1,
          0,
          1,
          0,
          1,
          1,
          1,
          0,
          1,
          1,
          1,
          1,
          1,
          0,
          0,
          0,
          0,
          1,
          0,
          1,
          0,
          0,
          1,
          0,
          1,
          0,
          1,
          1,
          1,
          0,
          0,
          1,
          1,
          1,
          1,
          0,
          1,
          1,
          1,
          1,
          0,
          1,
          1,
          1,
          1,
          0,
          1,
          0,
          1,
          1,
          0,
          1,
          0,
          1,
          0,
          0,
          0,
          1,
          0,
          0,
          0,
          0,
          1,
          0,
          0,
          0,
          0,
          1,
          1,
          1,
          0,
          1,
          0,
          1,
          0,
          1,
          1,
          0,
          1,
          1,
          1,
          1,
          1,
          1,
          0,
          0,
          1,
          1,
          1,
          1,
          1,
          1,
          1,
          1,
          0,
          0,
          0,
          0,
          1,
          1,
          0,
          1,
          1,
          0,
          1,
          1,
          0,
          1
         ],
         "yaxis": "y"
        }
       ],
       "layout": {
        "legend": {
         "tracegroupgap": 0
        },
        "margin": {
         "t": 60
        },
        "template": {
         "data": {
          "bar": [
           {
            "error_x": {
             "color": "#2a3f5f"
            },
            "error_y": {
             "color": "#2a3f5f"
            },
            "marker": {
             "line": {
              "color": "#E5ECF6",
              "width": 0.5
             },
             "pattern": {
              "fillmode": "overlay",
              "size": 10,
              "solidity": 0.2
             }
            },
            "type": "bar"
           }
          ],
          "barpolar": [
           {
            "marker": {
             "line": {
              "color": "#E5ECF6",
              "width": 0.5
             },
             "pattern": {
              "fillmode": "overlay",
              "size": 10,
              "solidity": 0.2
             }
            },
            "type": "barpolar"
           }
          ],
          "carpet": [
           {
            "aaxis": {
             "endlinecolor": "#2a3f5f",
             "gridcolor": "white",
             "linecolor": "white",
             "minorgridcolor": "white",
             "startlinecolor": "#2a3f5f"
            },
            "baxis": {
             "endlinecolor": "#2a3f5f",
             "gridcolor": "white",
             "linecolor": "white",
             "minorgridcolor": "white",
             "startlinecolor": "#2a3f5f"
            },
            "type": "carpet"
           }
          ],
          "choropleth": [
           {
            "colorbar": {
             "outlinewidth": 0,
             "ticks": ""
            },
            "type": "choropleth"
           }
          ],
          "contour": [
           {
            "colorbar": {
             "outlinewidth": 0,
             "ticks": ""
            },
            "colorscale": [
             [
              0,
              "#0d0887"
             ],
             [
              0.1111111111111111,
              "#46039f"
             ],
             [
              0.2222222222222222,
              "#7201a8"
             ],
             [
              0.3333333333333333,
              "#9c179e"
             ],
             [
              0.4444444444444444,
              "#bd3786"
             ],
             [
              0.5555555555555556,
              "#d8576b"
             ],
             [
              0.6666666666666666,
              "#ed7953"
             ],
             [
              0.7777777777777778,
              "#fb9f3a"
             ],
             [
              0.8888888888888888,
              "#fdca26"
             ],
             [
              1,
              "#f0f921"
             ]
            ],
            "type": "contour"
           }
          ],
          "contourcarpet": [
           {
            "colorbar": {
             "outlinewidth": 0,
             "ticks": ""
            },
            "type": "contourcarpet"
           }
          ],
          "heatmap": [
           {
            "colorbar": {
             "outlinewidth": 0,
             "ticks": ""
            },
            "colorscale": [
             [
              0,
              "#0d0887"
             ],
             [
              0.1111111111111111,
              "#46039f"
             ],
             [
              0.2222222222222222,
              "#7201a8"
             ],
             [
              0.3333333333333333,
              "#9c179e"
             ],
             [
              0.4444444444444444,
              "#bd3786"
             ],
             [
              0.5555555555555556,
              "#d8576b"
             ],
             [
              0.6666666666666666,
              "#ed7953"
             ],
             [
              0.7777777777777778,
              "#fb9f3a"
             ],
             [
              0.8888888888888888,
              "#fdca26"
             ],
             [
              1,
              "#f0f921"
             ]
            ],
            "type": "heatmap"
           }
          ],
          "heatmapgl": [
           {
            "colorbar": {
             "outlinewidth": 0,
             "ticks": ""
            },
            "colorscale": [
             [
              0,
              "#0d0887"
             ],
             [
              0.1111111111111111,
              "#46039f"
             ],
             [
              0.2222222222222222,
              "#7201a8"
             ],
             [
              0.3333333333333333,
              "#9c179e"
             ],
             [
              0.4444444444444444,
              "#bd3786"
             ],
             [
              0.5555555555555556,
              "#d8576b"
             ],
             [
              0.6666666666666666,
              "#ed7953"
             ],
             [
              0.7777777777777778,
              "#fb9f3a"
             ],
             [
              0.8888888888888888,
              "#fdca26"
             ],
             [
              1,
              "#f0f921"
             ]
            ],
            "type": "heatmapgl"
           }
          ],
          "histogram": [
           {
            "marker": {
             "pattern": {
              "fillmode": "overlay",
              "size": 10,
              "solidity": 0.2
             }
            },
            "type": "histogram"
           }
          ],
          "histogram2d": [
           {
            "colorbar": {
             "outlinewidth": 0,
             "ticks": ""
            },
            "colorscale": [
             [
              0,
              "#0d0887"
             ],
             [
              0.1111111111111111,
              "#46039f"
             ],
             [
              0.2222222222222222,
              "#7201a8"
             ],
             [
              0.3333333333333333,
              "#9c179e"
             ],
             [
              0.4444444444444444,
              "#bd3786"
             ],
             [
              0.5555555555555556,
              "#d8576b"
             ],
             [
              0.6666666666666666,
              "#ed7953"
             ],
             [
              0.7777777777777778,
              "#fb9f3a"
             ],
             [
              0.8888888888888888,
              "#fdca26"
             ],
             [
              1,
              "#f0f921"
             ]
            ],
            "type": "histogram2d"
           }
          ],
          "histogram2dcontour": [
           {
            "colorbar": {
             "outlinewidth": 0,
             "ticks": ""
            },
            "colorscale": [
             [
              0,
              "#0d0887"
             ],
             [
              0.1111111111111111,
              "#46039f"
             ],
             [
              0.2222222222222222,
              "#7201a8"
             ],
             [
              0.3333333333333333,
              "#9c179e"
             ],
             [
              0.4444444444444444,
              "#bd3786"
             ],
             [
              0.5555555555555556,
              "#d8576b"
             ],
             [
              0.6666666666666666,
              "#ed7953"
             ],
             [
              0.7777777777777778,
              "#fb9f3a"
             ],
             [
              0.8888888888888888,
              "#fdca26"
             ],
             [
              1,
              "#f0f921"
             ]
            ],
            "type": "histogram2dcontour"
           }
          ],
          "mesh3d": [
           {
            "colorbar": {
             "outlinewidth": 0,
             "ticks": ""
            },
            "type": "mesh3d"
           }
          ],
          "parcoords": [
           {
            "line": {
             "colorbar": {
              "outlinewidth": 0,
              "ticks": ""
             }
            },
            "type": "parcoords"
           }
          ],
          "pie": [
           {
            "automargin": true,
            "type": "pie"
           }
          ],
          "scatter": [
           {
            "fillpattern": {
             "fillmode": "overlay",
             "size": 10,
             "solidity": 0.2
            },
            "type": "scatter"
           }
          ],
          "scatter3d": [
           {
            "line": {
             "colorbar": {
              "outlinewidth": 0,
              "ticks": ""
             }
            },
            "marker": {
             "colorbar": {
              "outlinewidth": 0,
              "ticks": ""
             }
            },
            "type": "scatter3d"
           }
          ],
          "scattercarpet": [
           {
            "marker": {
             "colorbar": {
              "outlinewidth": 0,
              "ticks": ""
             }
            },
            "type": "scattercarpet"
           }
          ],
          "scattergeo": [
           {
            "marker": {
             "colorbar": {
              "outlinewidth": 0,
              "ticks": ""
             }
            },
            "type": "scattergeo"
           }
          ],
          "scattergl": [
           {
            "marker": {
             "colorbar": {
              "outlinewidth": 0,
              "ticks": ""
             }
            },
            "type": "scattergl"
           }
          ],
          "scattermapbox": [
           {
            "marker": {
             "colorbar": {
              "outlinewidth": 0,
              "ticks": ""
             }
            },
            "type": "scattermapbox"
           }
          ],
          "scatterpolar": [
           {
            "marker": {
             "colorbar": {
              "outlinewidth": 0,
              "ticks": ""
             }
            },
            "type": "scatterpolar"
           }
          ],
          "scatterpolargl": [
           {
            "marker": {
             "colorbar": {
              "outlinewidth": 0,
              "ticks": ""
             }
            },
            "type": "scatterpolargl"
           }
          ],
          "scatterternary": [
           {
            "marker": {
             "colorbar": {
              "outlinewidth": 0,
              "ticks": ""
             }
            },
            "type": "scatterternary"
           }
          ],
          "surface": [
           {
            "colorbar": {
             "outlinewidth": 0,
             "ticks": ""
            },
            "colorscale": [
             [
              0,
              "#0d0887"
             ],
             [
              0.1111111111111111,
              "#46039f"
             ],
             [
              0.2222222222222222,
              "#7201a8"
             ],
             [
              0.3333333333333333,
              "#9c179e"
             ],
             [
              0.4444444444444444,
              "#bd3786"
             ],
             [
              0.5555555555555556,
              "#d8576b"
             ],
             [
              0.6666666666666666,
              "#ed7953"
             ],
             [
              0.7777777777777778,
              "#fb9f3a"
             ],
             [
              0.8888888888888888,
              "#fdca26"
             ],
             [
              1,
              "#f0f921"
             ]
            ],
            "type": "surface"
           }
          ],
          "table": [
           {
            "cells": {
             "fill": {
              "color": "#EBF0F8"
             },
             "line": {
              "color": "white"
             }
            },
            "header": {
             "fill": {
              "color": "#C8D4E3"
             },
             "line": {
              "color": "white"
             }
            },
            "type": "table"
           }
          ]
         },
         "layout": {
          "annotationdefaults": {
           "arrowcolor": "#2a3f5f",
           "arrowhead": 0,
           "arrowwidth": 1
          },
          "autotypenumbers": "strict",
          "coloraxis": {
           "colorbar": {
            "outlinewidth": 0,
            "ticks": ""
           }
          },
          "colorscale": {
           "diverging": [
            [
             0,
             "#8e0152"
            ],
            [
             0.1,
             "#c51b7d"
            ],
            [
             0.2,
             "#de77ae"
            ],
            [
             0.3,
             "#f1b6da"
            ],
            [
             0.4,
             "#fde0ef"
            ],
            [
             0.5,
             "#f7f7f7"
            ],
            [
             0.6,
             "#e6f5d0"
            ],
            [
             0.7,
             "#b8e186"
            ],
            [
             0.8,
             "#7fbc41"
            ],
            [
             0.9,
             "#4d9221"
            ],
            [
             1,
             "#276419"
            ]
           ],
           "sequential": [
            [
             0,
             "#0d0887"
            ],
            [
             0.1111111111111111,
             "#46039f"
            ],
            [
             0.2222222222222222,
             "#7201a8"
            ],
            [
             0.3333333333333333,
             "#9c179e"
            ],
            [
             0.4444444444444444,
             "#bd3786"
            ],
            [
             0.5555555555555556,
             "#d8576b"
            ],
            [
             0.6666666666666666,
             "#ed7953"
            ],
            [
             0.7777777777777778,
             "#fb9f3a"
            ],
            [
             0.8888888888888888,
             "#fdca26"
            ],
            [
             1,
             "#f0f921"
            ]
           ],
           "sequentialminus": [
            [
             0,
             "#0d0887"
            ],
            [
             0.1111111111111111,
             "#46039f"
            ],
            [
             0.2222222222222222,
             "#7201a8"
            ],
            [
             0.3333333333333333,
             "#9c179e"
            ],
            [
             0.4444444444444444,
             "#bd3786"
            ],
            [
             0.5555555555555556,
             "#d8576b"
            ],
            [
             0.6666666666666666,
             "#ed7953"
            ],
            [
             0.7777777777777778,
             "#fb9f3a"
            ],
            [
             0.8888888888888888,
             "#fdca26"
            ],
            [
             1,
             "#f0f921"
            ]
           ]
          },
          "colorway": [
           "#636efa",
           "#EF553B",
           "#00cc96",
           "#ab63fa",
           "#FFA15A",
           "#19d3f3",
           "#FF6692",
           "#B6E880",
           "#FF97FF",
           "#FECB52"
          ],
          "font": {
           "color": "#2a3f5f"
          },
          "geo": {
           "bgcolor": "white",
           "lakecolor": "white",
           "landcolor": "#E5ECF6",
           "showlakes": true,
           "showland": true,
           "subunitcolor": "white"
          },
          "hoverlabel": {
           "align": "left"
          },
          "hovermode": "closest",
          "mapbox": {
           "style": "light"
          },
          "paper_bgcolor": "white",
          "plot_bgcolor": "#E5ECF6",
          "polar": {
           "angularaxis": {
            "gridcolor": "white",
            "linecolor": "white",
            "ticks": ""
           },
           "bgcolor": "#E5ECF6",
           "radialaxis": {
            "gridcolor": "white",
            "linecolor": "white",
            "ticks": ""
           }
          },
          "scene": {
           "xaxis": {
            "backgroundcolor": "#E5ECF6",
            "gridcolor": "white",
            "gridwidth": 2,
            "linecolor": "white",
            "showbackground": true,
            "ticks": "",
            "zerolinecolor": "white"
           },
           "yaxis": {
            "backgroundcolor": "#E5ECF6",
            "gridcolor": "white",
            "gridwidth": 2,
            "linecolor": "white",
            "showbackground": true,
            "ticks": "",
            "zerolinecolor": "white"
           },
           "zaxis": {
            "backgroundcolor": "#E5ECF6",
            "gridcolor": "white",
            "gridwidth": 2,
            "linecolor": "white",
            "showbackground": true,
            "ticks": "",
            "zerolinecolor": "white"
           }
          },
          "shapedefaults": {
           "line": {
            "color": "#2a3f5f"
           }
          },
          "ternary": {
           "aaxis": {
            "gridcolor": "white",
            "linecolor": "white",
            "ticks": ""
           },
           "baxis": {
            "gridcolor": "white",
            "linecolor": "white",
            "ticks": ""
           },
           "bgcolor": "#E5ECF6",
           "caxis": {
            "gridcolor": "white",
            "linecolor": "white",
            "ticks": ""
           }
          },
          "title": {
           "x": 0.05
          },
          "xaxis": {
           "automargin": true,
           "gridcolor": "white",
           "linecolor": "white",
           "ticks": "",
           "title": {
            "standoff": 15
           },
           "zerolinecolor": "white",
           "zerolinewidth": 2
          },
          "yaxis": {
           "automargin": true,
           "gridcolor": "white",
           "linecolor": "white",
           "ticks": "",
           "title": {
            "standoff": 15
           },
           "zerolinecolor": "white",
           "zerolinewidth": 2
          }
         }
        },
        "xaxis": {
         "anchor": "y",
         "domain": [
          0,
          1
         ],
         "title": {
          "text": "timesPlayed"
         }
        },
        "yaxis": {
         "anchor": "x",
         "domain": [
          0,
          1
         ],
         "title": {
          "text": "mode"
         }
        }
       }
      }
     },
     "metadata": {},
     "output_type": "display_data"
    },
    {
     "data": {
      "application/vnd.plotly.v1+json": {
       "config": {
        "plotlyServerURL": "https://plot.ly"
       },
       "data": [
        {
         "hovertemplate": "<b>%{hovertext}</b><br><br>timesPlayed=%{x}<br>speechiness=%{y}<extra></extra>",
         "hovertext": [
          "Weird Fishes/ Arpeggi",
          "Good Will Hunting",
          "Pro Freak (with Doechii, Fatman Scoop)",
          "Present Tense",
          "the perfect pair",
          "Andromeda",
          "Nude",
          "No Surprises",
          "Never Catch Me",
          "Still",
          "Secrets (Your Fire)",
          "Meat Grinder",
          "Speech Bubbles",
          "Galaxy",
          "Runaway",
          "Motion Picture Soundtrack",
          "Troubles [Feat. T-Pain]",
          "Pluto Projector",
          "EARFQUAKE",
          "drive ME crazy!",
          "Savior",
          "Cocoa Butter Kisses",
          "Karma Police",
          "the BLACK seminole.",
          "Wesley's Theory",
          "Shine On You Crazy Diamond (Pts. 1-5)",
          "Welcome To Hell",
          "N95",
          "Concorde",
          "Chaos Space Marine",
          "Thieves In The Night",
          "Identikit",
          "15 Step",
          "family ties (with Kendrick Lamar)",
          "Self Control",
          "The Adults Are Talking",
          "diving board",
          "Walkin",
          "New N3on",
          "Chapters",
          "Heart Don't Stand a Chance",
          "Crack Sandwich",
          "Nikes",
          "Lean Beef Patty",
          "Rapp Snitch Knishes feat. Mr. Fantastik",
          "Feel No Pain (feat. Anderson .Paak & Raekwon)",
          "雨降る夜の向こう",
          "Mood Romantica",
          "Waitin' on Ya",
          "Can't Fight",
          "Ice",
          "Oh My Dis Side (feat. Quavo)",
          "Paprika",
          "Fake Plastic Trees",
          "Wunderlan",
          "Rockstar Made",
          "儚き春の一幕",
          "Faust Arp",
          "Steppa Pig",
          "Get Away",
          "Tequila Shots",
          "Hand Me Downs",
          "Flashing Lights",
          "Gold Rings (feat. Pusha T)",
          "The Lung",
          "REACH THE SUNSHINE.",
          "GONE, GONE / THANK YOU",
          "The Less I Know The Better",
          "Killshot",
          "After The Storm (feat. Tyler, The Creator & Bootsy Collins)",
          "Stop Breathing",
          "4:44",
          "Waves",
          "Stars (feat. Yasiin Bey)",
          "Potato Salad",
          "Rich Nigga Shit (feat. Young Thug)",
          "running out of time",
          "Violent Crimes",
          "Reborn",
          "Heart To Heart",
          "Count Me Out",
          "Selfless",
          "Nothing",
          "Hummingbird (Metro Boomin & James Blake)",
          "Tactics",
          "Sober to Death",
          "Love Galore (feat. Travis Scott)",
          "Rusty (feat. Domo Genesis & Earl Sweatshirt)",
          "The Only Thing",
          "Guilt Trip",
          "Baby I'm Bleeding",
          "Big K.R.I.T.",
          "Off Da Zoinkys",
          "Brand New 911",
          "二十歳の恋",
          "Westbrook (with A$AP Ferg)",
          "Didn't Cha Know",
          "Scott Mescudi Vs. The World",
          "George Bondo (feat. Conway the Machine & Benny The Butcher)",
          "Burfict!",
          "EdEddnEddy",
          "Respiration",
          "Sunglasses",
          "Devil In A New Dress",
          "Oh, Maker",
          "Gabby (feat. Janelle Monáe)",
          "A Punch Up at a Wedding",
          "A Rush of Blood to the Head",
          "No More Parties In LA",
          "BLACK BALLOONS | 13LACK 13ALLOONZ [FEAT. TWELVE'LEN & GOLDLINK | TWELVE'LEN + GOLDL1NK]",
          "Bittersweet",
          "Long Time - Intro",
          "Glass Eyes",
          "Anti-Matter",
          "Eternal Summer",
          "Make Me Feel",
          "Sandstorm (feat. JID)",
          "Neon Valley Street",
          "Hidden Place",
          "Place",
          "Pink + White",
          "Suddenly",
          "Kingdom Hearts Key (ft. redveil)",
          "Walk Em Down (Don't Kill Civilians) [with 21 Savage & feat. Mustafa]",
          "Lucky",
          "Leak It (feat. Chlöe)",
          "Chocolate Matter",
          "Eye/I and I/Nation",
          "Kenan Vs. Kel",
          "Them Changes",
          "Wake Up",
          "Yeah Right",
          "Pink Matter",
          "Mirror",
          "Wild Time",
          "Say It Ain't So",
          "327 (feat. Tyler, The Creator & Billie Essco)",
          "Comin Out Strong (feat. The Weeknd)",
          "Crown",
          "Under The Sun (with J. Cole & Lute feat. DaBaby)",
          "Silhouette",
          "United In Grief",
          "Beta Male Strategies",
          "Tears (feat. Caroline Polachek)",
          "Umbrella (with 21 Savage & Young Nudy)",
          "The Tourist",
          "Aquemini",
          "It's Not up to You",
          "High and Dry",
          "Heartless",
          "White Ferrari",
          "Fentanyl Tester",
          "John Woo Flick (with Benny The Butcher & Westside Gunn)",
          "1539 N. Calvert",
          "Stay Flo",
          "Fuck the Nordic Model",
          "Hellfire",
          "Milk - 2021 Remaster",
          "Tell Me What I Don't Know",
          "If Tomorrow's Not Here",
          "Crosshairs",
          "I THINK",
          "Soundtrack 2 My Life",
          "FAMJAM4000",
          "X-Wing",
          "Sky Might Fall",
          "Kimiga Nakunara",
          "Idioteque",
          "Consideration",
          "Akasaka Sad",
          "A.D.H.D",
          "Design: 2: 3",
          "Behind The Moon Shadow",
          "Angel",
          "I'm In It",
          "This Is Why",
          "Picture Me Better",
          "Angels (feat. Saba)",
          "FIND YOUR WINGS (feat. Roy Ayers, Sydney Bennett & Kali Uchis)",
          "Faucet Failure",
          "Surround Sound (feat. 21 Savage & Baby Tate)",
          "We Major",
          "One Beer",
          "A Toshi no Aki",
          "夕暮れ",
          "On That Time",
          "Savage Good Boy",
          "Enter Galactic (Love Connection Part I)",
          "The Numbers",
          "Fingerprints",
          "I'M THAT GIRL",
          "Poetic Justice",
          "Bodys",
          "Smokin Out The Window",
          "Solo Dolo (Nightmare)",
          "Complicated",
          "LOVE. FEAT. ZACARI.",
          "Say You Will",
          "Money Trees",
          "Grimy Waifu",
          "Dark Red",
          "G.O.M.D",
          "Mr. Rager",
          "Next Levels",
          "BUSY / SIRENS",
          "Netflix & Dusse",
          "Acting",
          "In Love",
          "Justin Scott",
          "911 / Mr. Lonely (feat. Frank Ocean & Steve Lacy)",
          "Joga",
          "Ode To The Mets",
          "pg baby",
          "Ain't No Way [Feat. 6LACK, Rico Nasty, J.I.D, Jasiah, Kitty Ca$h]",
          "A BOY IS A GUN*",
          "Sunny day",
          "Symphony",
          "Blow My High (Members Only)",
          "Storm",
          "Better Days (feat. Johnta Austin)",
          "How to Disappear Completely",
          "STOP TRYING TO BE GOD",
          "Kid A",
          "NEW MAGIC WAND",
          "I Ain't Got Time!",
          "Head High",
          "Bad Habit",
          "Photosynthesis",
          "The Defence",
          "Send It Up",
          "Inside Out",
          "Envy",
          "In Sound, We Found Each Other",
          "Nothing Good Ever Happens At The Goddamn Thirsty Crow",
          "Yellow",
          "6 Star Wanted Level",
          "Right Now (feat. Pi'erre Bourne)",
          "Out On Sunny Sunday",
          "Dynasty",
          "Had Enough (feat. Quavo & Offset)",
          "Bound 2",
          "24",
          "DIRTY!",
          "Kokorono Madobeni Akai Hanao Kazatte",
          "Kuso Yakan Hikoh",
          "A Bigger Paper Bag",
          "LIFE",
          "Where Ya Get Ya Coke From?",
          "Television / So Far So Good",
          "Euphoria (feat. Travis Scott & Kaash Paige)",
          "So Appalled",
          "Hurricane",
          "Thot Tactics",
          "REBOUND!",
          "FEEL.",
          "New Choppa",
          "BREAK MY SOUL",
          "Where I Belong",
          "Norman fucking Rockwell",
          "Videotape",
          "Nas Is Like",
          "m.A.A.d city",
          "Why Are Sundays So Depressing",
          "Orange Juice Jones",
          "Slow",
          "Wolves",
          "Crime Pays",
          "God Loves You",
          "I Wonder",
          "Aux Cord",
          "26",
          "Hard Times",
          "Something to Believe",
          "SICKO MODE",
          "Gone",
          "range brothers (with Kendrick Lamar)",
          "Drones (feat. Kendrick Lamar, Snoop Dogg, Ty Dolla $ign & James Fauntleroy)",
          "Cherry-coloured Funk",
          "Always",
          "Let It Be - Remastered 2009",
          "Glue Song",
          "No Vacancy",
          "Instrumental",
          "Chondromalacia Patella",
          "Ripples",
          "Jack Harlow Combo Meal",
          "CAN'T SAY",
          "broken cd",
          "Afternoon in Heaven",
          "Excited",
          "Super Urus",
          "OPEN A WINDOW (feat. Tyler, The Creator)",
          "FlatBed Freestyle",
          "Wet Dream",
          "Deeper",
          "Sky",
          "Show Me",
          "Bloom",
          "Run The Jewels",
          "Shaolin Monk Motherfunk",
          "Love On The Brain",
          "Pray 4 Love (feat. The Weeknd)",
          "Figures",
          "Self Care",
          "Blackest in the Room",
          "Solo (Reprise)",
          "U Wanna Dance?",
          "Greatest Hits",
          "Under",
          "Time Today",
          "Bury Me In Gold",
          "Street Spirit (Fade Out)",
          "Harold’s",
          "Defibrillator",
          "Tired",
          "Downward Spiral",
          "ASTROTHUNDER",
          "Ful Stop",
          "Love Sosa",
          "2009",
          "dothatshit!",
          "Settle Down (with Cory Henry, Ravyn Lenae)",
          "Can’t Make U Change (feat. Ari Lennox)",
          "infinity (888) - feat. Joey Bada$$",
          "p r i d e . i s . t h e . d e v i l (with Lil Baby)",
          "Wanna Be Loved",
          "Big Titties (feat. Baauer and EarthGang)",
          "Sparks",
          "Big Bank (feat. T.I.)",
          "Electioneering",
          "Coffee",
          "M3tamorphosis (feat. Kid Cudi)",
          "New Slaves",
          "I Might Be Wrong",
          "Miss Georgia Fornia (feat. Joi)",
          "Dance or Die (feat. Saul Williams)",
          "The End (feat. BABYMETAL)",
          "On Sight",
          "Relative",
          "JPEGMAFIA TYPE BEAT",
          "Raindrop City",
          "Palmolive (feat. Pusha T & Killer Mike)",
          "Brooklyn Bridge To Chorus",
          "See You Again (feat. Kali Uchis)",
          "Nightcrawler (feat. Swae Lee & Chief Keef)",
          "Unlock It (feat. Playboi Carti)",
          "King Kunta",
          "PUPPET",
          "Beef Rap",
          "untitled 05 | 09.21.2014.",
          "Space Song",
          "Shitsville",
          "Never Meant",
          "K.O.S. (Determination)",
          "My Iron Lung",
          "FAKENGGAS",
          "Gorilla",
          "Slide Tackle",
          "PTSD",
          "Exchange",
          "Solo",
          "151 Rum",
          "Used (feat. Don Toliver)",
          "BMT!",
          "Boredom (feat. Rex Orange County & Anna of the North)",
          "Yesterday - Remastered 2009",
          "SWEET / I THOUGHT YOU WANTED TO DANCE (feat. Brent Faiyaz & Fana Hues)",
          "Scottie Beam",
          "Workin Out",
          "Trampoline",
          "(Nice Dream)",
          "Knicks",
          "Godspeed",
          "Find Your Love",
          "Creep",
          "Myth",
          "Glass Flows",
          "Scarface",
          "Melt a Bed",
          "R.I.P. Fredo (feat. Young Nudy) - Notice Me",
          "Pure Souls",
          "Good News",
          "Tightrope (feat. Big Boi) - Big Boi Vocal Edit",
          "She Roll Up",
          "Suede",
          "Scenario - LP Mix",
          "Dawning of the Season",
          "PYS (feat. DJ Paul)",
          "Thuggin’",
          "Planet Telex",
          "Don't",
          "Sept",
          "DUCKWORTH.",
          "TEMPTATION",
          "The Night Squall",
          "Acting - 2021 Remaster",
          "Momma",
          "Cosmonauts",
          "Voodoo Child (Slight Return)",
          "I Love You, I Hate You",
          "Have You In My Wilderness",
          "Drunk Drivers/Killer Whales",
          "Dangerous Liaisons",
          "Us and Them",
          "Transform (feat. Charlotte Day Wilson)",
          "GTFU (Feat. JPEGMAFIA & Cakes da Killa)",
          "Hustle Bones",
          "Read My Mind",
          "Total Entertainment Forever",
          "Father Stretch My Hands Pt. 1",
          "Plastic 100°C",
          "The Highs & The Lows",
          "Soul Food",
          "Momma Callin",
          "Unstoppable",
          "where's the confetti?",
          "The Bends",
          "Palace/Curse (feat. Tyler, The Creator & Steve Lacy)",
          "Giannis (feat. Anderson .Paak)",
          "New Person, Same Old Mistakes",
          "The Root",
          "m y . l i f e (with 21 Savage & Morray)",
          "After Last Night (with Thundercat & Bootsy Collins)",
          "Memo",
          "wokeuplikethis*",
          "Keep My Spirit Alive pt 2",
          "To All the Dancers of the World, A Round Form of Fantasy",
          "Ain't it Funny",
          "Chosen (feat. Ty Dolla $ign)",
          "For Free? - Interlude",
          "For Lovers",
          "Other People",
          "Sing About Me, I'm Dying Of Thirst",
          "Kokomo, IN",
          "IG",
          "ELON MUSK",
          "Get on the Floor",
          "2007",
          "CIA",
          "Bag Lady",
          "Morning Bell",
          "CRUCIFY ME",
          "All Falls Down",
          "2040",
          "Church",
          "Dreams and Nightmares",
          "Lost In The World",
          "Dethroned",
          "Raindrops (Insane) [with Travis Scott]",
          "Tinker Tailor Soldier Sailor Rich Man Poor Man Beggar Man Thief",
          "Up Up & Away",
          "Running Out Of Time",
          "Lipstick Lover",
          "New Tank",
          "Rose-Colored Boy",
          "Papi I Missed U",
          "When Doves Cry",
          "Doomsday",
          "Foreign",
          "War Paint (feat. Westside Gunn & Conway the Machine)",
          "Your Prime",
          "Dump",
          "Comfortably Numb",
          "Energy",
          "Feel The Love",
          "Poke It Out (with Nicki Minaj)",
          "Just In Time (feat. Lil Wayne & Kenny Mason)",
          "TAKE A CHANCE (feat. Anderson .Paak)",
          "Hold The Girl",
          "Wild Irish Roses",
          "...& On",
          "HOE (Heaven on Earth)",
          "No Reason",
          "MANIFESTO (feat. Domo Genesis)",
          "Ladies and gentlemen we are floating in space",
          "Arya (with Nigo)",
          "DIET_",
          "N.Y. State of Mind",
          "Hurt Feelings",
          "Through The Wire",
          "The Scientist",
          "Life on Mars? - 2015 Remaster",
          "DD Form 214",
          "SWGSKOOL",
          "Letter To Cornelius",
          "Sir Duke",
          "Forever - 2021 Remaster",
          "Rearview",
          "Jukebox Joints (feat. Joe Fox & Kanye West)",
          "If I Had A Dollar (feat. Benjamin Earl Turner)",
          "Hold Up, Wait!",
          "Black Star",
          "The OtherSide",
          "LUMBERJACK",
          "Packt Like Sardines In a Crushd Tin Box",
          "Wax On (Feat. Freddie Gibbs)",
          "Stupid/Asking",
          "untitled 02 | 06.23.2014.",
          "By Design",
          "the 27 club"
         ],
         "legendgroup": "",
         "marker": {
          "color": "#636efa",
          "symbol": "circle"
         },
         "mode": "markers",
         "name": "",
         "orientation": "v",
         "showlegend": false,
         "type": "scatter",
         "x": [
          58.43,
          48.04,
          45.29,
          44.9,
          44.38,
          44.2,
          42.5,
          40.25,
          38.67,
          38.08,
          37.45,
          37.38,
          36.18,
          35.58,
          35.21,
          34.48,
          34.1,
          33.74,
          33.1,
          33.02,
          32.61,
          32.27,
          32.19,
          32.04,
          31.74,
          31.47,
          30.83,
          30.51,
          30.21,
          29.64,
          29.61,
          29.58,
          29.38,
          29.26,
          28.85,
          28.6,
          28.59,
          28.55,
          27.39,
          27.31,
          27.26,
          27.26,
          27.22,
          27.21,
          27.11,
          26.27,
          26.21,
          26.01,
          25.96,
          25.92,
          25.83,
          25.37,
          25.18,
          24.92,
          24.58,
          24.58,
          24.46,
          24.46,
          24.31,
          24.28,
          24.17,
          24.16,
          24.13,
          23.73,
          23.6,
          23.57,
          23.5,
          23.24,
          23.19,
          23.09,
          23.05,
          23.01,
          22.86,
          22.81,
          22.7,
          22.69,
          22.67,
          21.68,
          21.55,
          21.5,
          21.3,
          21.05,
          20.76,
          20.74,
          20.63,
          20.61,
          20.6,
          20.51,
          20.4,
          20.38,
          20.28,
          20.23,
          20.04,
          19.95,
          19.9,
          19.85,
          19.79,
          19.62,
          19.61,
          19.5,
          19.42,
          19.41,
          19.28,
          19.15,
          19.1,
          19.01,
          19,
          18.95,
          18.92,
          18.86,
          18.78,
          18.78,
          18.76,
          18.75,
          18.73,
          18.71,
          18.67,
          18.62,
          18.56,
          18.47,
          18.36,
          18.34,
          18.27,
          18.12,
          18.1,
          17.95,
          17.94,
          17.82,
          17.76,
          17.66,
          17.59,
          17.58,
          17.56,
          17.54,
          17.43,
          17.39,
          17.36,
          17.35,
          17.31,
          17.22,
          17.03,
          17,
          16.97,
          16.85,
          16.8,
          16.79,
          16.79,
          16.79,
          16.74,
          16.67,
          16.62,
          16.52,
          16.45,
          16.41,
          16.35,
          16.35,
          16.34,
          16.27,
          16.26,
          16.2,
          16.17,
          16.15,
          16.11,
          16.11,
          16.02,
          16,
          15.99,
          15.98,
          15.96,
          15.85,
          15.82,
          15.81,
          15.79,
          15.79,
          15.76,
          15.66,
          15.6,
          15.58,
          15.57,
          15.51,
          15.45,
          15.38,
          15.35,
          15.32,
          15.24,
          15.21,
          15.17,
          15.14,
          15.09,
          15,
          15,
          14.97,
          14.96,
          14.96,
          14.95,
          14.87,
          14.81,
          14.78,
          14.67,
          14.64,
          14.6,
          14.56,
          14.48,
          14.47,
          14.42,
          14.42,
          14.28,
          14.24,
          14.2,
          14.19,
          14.15,
          14.06,
          14.03,
          14,
          14,
          14,
          13.98,
          13.97,
          13.95,
          13.94,
          13.93,
          13.9,
          13.89,
          13.87,
          13.86,
          13.83,
          13.74,
          13.72,
          13.66,
          13.66,
          13.64,
          13.61,
          13.56,
          13.55,
          13.53,
          13.48,
          13.47,
          13.43,
          13.43,
          13.36,
          13.35,
          13.33,
          13.29,
          13.22,
          13.16,
          13.15,
          13.1,
          13.04,
          13,
          13,
          12.96,
          12.92,
          12.91,
          12.84,
          12.8,
          12.8,
          12.78,
          12.74,
          12.71,
          12.68,
          12.63,
          12.6,
          12.58,
          12.53,
          12.47,
          12.41,
          12.41,
          12.41,
          12.39,
          12.34,
          12.31,
          12.3,
          12.29,
          12.28,
          12.27,
          12.26,
          12.19,
          12.13,
          12.09,
          12,
          12,
          12,
          11.97,
          11.95,
          11.95,
          11.95,
          11.94,
          11.92,
          11.92,
          11.91,
          11.91,
          11.9,
          11.9,
          11.86,
          11.82,
          11.74,
          11.73,
          11.73,
          11.7,
          11.69,
          11.68,
          11.66,
          11.66,
          11.63,
          11.61,
          11.61,
          11.6,
          11.58,
          11.54,
          11.54,
          11.53,
          11.52,
          11.52,
          11.51,
          11.51,
          11.5,
          11.48,
          11.45,
          11.42,
          11.39,
          11.38,
          11.33,
          11.28,
          11.28,
          11.27,
          11.23,
          11.21,
          11.18,
          11.15,
          11.11,
          11.1,
          11.08,
          11.07,
          11.04,
          11,
          11,
          11,
          11,
          11,
          11,
          10.96,
          10.92,
          10.91,
          10.91,
          10.85,
          10.83,
          10.79,
          10.79,
          10.78,
          10.76,
          10.66,
          10.66,
          10.63,
          10.62,
          10.61,
          10.6,
          10.55,
          10.54,
          10.5,
          10.48,
          10.47,
          10.47,
          10.47,
          10.45,
          10.42,
          10.41,
          10.39,
          10.38,
          10.36,
          10.35,
          10.35,
          10.33,
          10.31,
          10.28,
          10.25,
          10.24,
          10.24,
          10.23,
          10.22,
          10.22,
          10.18,
          10.18,
          10.17,
          10.16,
          10.14,
          10.1,
          10.1,
          10.07,
          10.05,
          10.03,
          10,
          9.98,
          9.95,
          9.94,
          9.9,
          9.88,
          9.79,
          9.78,
          9.69,
          9.69,
          9.69,
          9.68,
          9.68,
          9.67,
          9.67,
          9.67,
          9.63,
          9.59,
          9.59,
          9.58,
          9.53,
          9.52,
          9.51,
          9.5,
          9.49,
          9.48,
          9.47,
          9.46,
          9.46,
          9.44,
          9.43,
          9.4,
          9.35,
          9.35,
          9.34,
          9.33,
          9.31,
          9.29,
          9.29,
          9.29,
          9.29,
          9.28,
          9.25,
          9.25,
          9.22,
          9.22,
          9.2,
          9.19,
          9.19,
          9.16,
          9.15,
          9.15,
          9.15,
          9.14,
          9.08,
          9.08,
          9.04,
          9.01,
          9.01,
          9,
          9,
          9,
          9,
          9,
          8.99,
          8.96,
          8.92,
          8.91,
          8.91,
          8.86,
          8.85,
          8.85,
          8.83,
          8.81,
          8.81,
          8.8,
          8.8,
          8.79,
          8.79,
          8.79,
          8.78,
          8.78,
          8.77,
          8.74,
          8.72,
          8.72,
          8.72,
          8.71,
          8.7,
          8.7,
          8.69,
          8.67,
          8.67,
          8.66,
          8.65,
          8.63,
          8.62,
          8.58,
          8.57,
          8.56,
          8.56,
          8.51,
          8.51,
          8.49,
          8.48,
          8.44,
          8.43,
          8.41,
          8.4,
          8.4
         ],
         "xaxis": "x",
         "y": [
          0.0387,
          0.0276,
          0.467,
          0.0345,
          0.0331,
          0.0274,
          0.0342,
          0.0278,
          0.262,
          0.044,
          0.0402,
          0.336,
          0.0306,
          0.401,
          0.109,
          0.0347,
          0.177,
          0.0307,
          0.0685,
          0.0854,
          0.446,
          0.222,
          0.0258,
          0.0326,
          0.265,
          0.028,
          0.193,
          0.105,
          0.0286,
          0.0378,
          0.281,
          0.0403,
          0.0422,
          0.329,
          0.0321,
          0.0475,
          0.223,
          0.196,
          0.0737,
          0.221,
          0.061,
          0.372,
          0.0857,
          0.404,
          0.267,
          0.193,
          0.0273,
          0.0365,
          0.0974,
          0.0485,
          0.199,
          0.0489,
          0.0334,
          0.0297,
          0.12,
          0.232,
          0.0323,
          0.0321,
          0.325,
          0.0648,
          0.0531,
          0.149,
          0.0399,
          0.485,
          0.0481,
          0.034,
          0.193,
          0.0284,
          0.0518,
          0.13,
          0.286,
          0.158,
          0.0382,
          0.299,
          0.424,
          0.0969,
          0.161,
          0.522,
          0.037,
          0.102,
          0.091,
          0.0333,
          0.0309,
          0.127,
          0.0267,
          0.0343,
          0.0748,
          0.248,
          0.0389,
          0.0754,
          0.193,
          0.332,
          0.475,
          0.158,
          0.0274,
          0.406,
          0.121,
          0.0278,
          0.418,
          0.378,
          0.421,
          0.446,
          0.0433,
          0.0721,
          0.0393,
          0.201,
          0.0268,
          0.0255,
          0.303,
          0.189,
          0.0345,
          0.0447,
          0.0358,
          0.272,
          0.0376,
          0.182,
          0.0978,
          0.0927,
          0.18,
          0.105,
          0.107,
          0.0328,
          0.183,
          0.276,
          0.0324,
          0.0412,
          0.0606,
          0.429,
          0.149,
          0.0601,
          0.0368,
          0.0912,
          0.0587,
          0.0639,
          0.0269,
          0.0352,
          0.339,
          0.475,
          0.0358,
          0.369,
          0.102,
          0.404,
          0.275,
          0.0408,
          0.173,
          0.0318,
          0.39,
          0.0653,
          0.0256,
          0.136,
          0.0433,
          0.377,
          0.0879,
          0.17,
          0.0278,
          0.234,
          0.149,
          0.0305,
          0.201,
          0.121,
          0.205,
          0.0801,
          0.128,
          0.0623,
          0.136,
          0.141,
          0.0332,
          0.273,
          0.0465,
          0.147,
          0.24,
          0.0404,
          0.0294,
          0.376,
          0.345,
          0.0396,
          0.0329,
          0.376,
          0.0275,
          0.335,
          0.478,
          0.123,
          0.246,
          0.0344,
          0.026,
          0.0333,
          0.0412,
          0.0395,
          0.0315,
          0.0466,
          0.186,
          0.378,
          0.0544,
          0.0437,
          0.029,
          0.052,
          0.0924,
          0.0306,
          0.122,
          0.347,
          0.062,
          0.26,
          0.0272,
          0.243,
          0.344,
          0.529,
          0.0321,
          0.0293,
          0.0426,
          0.305,
          0.057,
          0.0289,
          0.45,
          0.111,
          0.178,
          0.0274,
          0.0563,
          0.274,
          0.0502,
          0.326,
          0.0345,
          0.0628,
          0.0358,
          0.107,
          0.397,
          0.371,
          0.0357,
          0.27,
          0.0359,
          0.352,
          0.0301,
          0.0937,
          0.0324,
          0.0388,
          0.0281,
          0.268,
          0.066,
          0.026,
          0.059,
          0.108,
          0.0465,
          0.0389,
          0.0793,
          0.0272,
          0.0536,
          0.0301,
          0.266,
          0.434,
          0.0463,
          0.0271,
          0.283,
          0.214,
          0.274,
          0.223,
          0.349,
          0.0579,
          0.0795,
          0.411,
          0.0346,
          0.0324,
          0.352,
          0.271,
          0.0347,
          0.271,
          0.171,
          0.0925,
          0.114,
          0.466,
          0.257,
          0.0791,
          0.0266,
          0.0334,
          0.0274,
          0.222,
          0.26,
          0.267,
          0.108,
          0.0274,
          0.0518,
          0.0322,
          0.0282,
          0.214,
          0.0364,
          0.0964,
          0.0357,
          0.326,
          0.0547,
          0.0306,
          0.058,
          0.392,
          0.0908,
          0.0482,
          0.288,
          0.0306,
          0.38,
          0.21,
          0.337,
          0.0246,
          0.375,
          0.0823,
          0.0471,
          0.0428,
          0.279,
          0.206,
          0.434,
          0.141,
          0.0862,
          0.0467,
          0.369,
          0.0494,
          0.0765,
          0.0304,
          0.299,
          0.337,
          0.0254,
          0.128,
          0.0661,
          0.0502,
          0.089,
          0.517,
          0.254,
          0.0823,
          0.262,
          0.484,
          0.425,
          0.326,
          0.31,
          0.0281,
          0.147,
          0.0707,
          0.0717,
          0.0374,
          0.076,
          0.0254,
          0.174,
          0.165,
          0.0713,
          0.327,
          0.443,
          0.271,
          0.0356,
          0.36,
          0.0628,
          0.0959,
          0.0323,
          0.0383,
          0.0977,
          0.0478,
          0.313,
          0.496,
          0.0297,
          0.42,
          0.0359,
          0.452,
          0.0663,
          0.0725,
          0.256,
          0.0297,
          0.38,
          0.185,
          0.0366,
          0.162,
          0.0871,
          0.375,
          0.151,
          0.0326,
          0.0722,
          0.216,
          0.285,
          0.0567,
          0.0344,
          0.276,
          0.0509,
          0.17,
          0.0372,
          0.0293,
          0.358,
          0.393,
          0.0691,
          0.141,
          0.0449,
          0.173,
          0.0918,
          0.322,
          0.327,
          0.341,
          0.0402,
          0.235,
          0.203,
          0.107,
          0.195,
          0.0298,
          0.615,
          0.152,
          0.0306,
          0.0294,
          0.325,
          0.256,
          0.389,
          0.371,
          0.0341,
          0.0404,
          0.102,
          0.0303,
          0.031,
          0.393,
          0.201,
          0.0542,
          0.0523,
          0.0549,
          0.0539,
          0.455,
          0.28,
          0.237,
          0.0779,
          0.174,
          0.0658,
          0.323,
          0.311,
          0.0495,
          0.444,
          0.137,
          0.0816,
          0.0428,
          0.254,
          0.311,
          0.0399,
          0.0965,
          0.287,
          0.197,
          0.0447,
          0.0309,
          0.395,
          0.0291,
          0.0386,
          0.0902,
          0.0437,
          0.346,
          0.363,
          0.0841,
          0.0319,
          0.0928,
          0.484,
          0.136,
          0.0624,
          0.3,
          0.184,
          0.0712,
          0.0433,
          0.0302,
          0.0849,
          0.0367,
          0.113,
          0.226,
          0.0335,
          0.0364,
          0.049,
          0.334,
          0.164,
          0.437,
          0.157,
          0.0849,
          0.0286,
          0.478,
          0.104,
          0.221,
          0.369,
          0.163,
          0.0611,
          0.544,
          0.071,
          0.361,
          0.0324,
          0.391,
          0.034,
          0.208,
          0.369,
          0.223,
          0.13,
          0.247,
          0.0243,
          0.0417,
          0.536,
          0.166,
          0.362,
          0.0672,
          0.028,
          0.361,
          0.173,
          0.0466,
          0.394,
          0.0402,
          0.261,
          0.564,
          0.0385,
          0.327,
          0.362,
          0.451,
          0.0538,
          0.157
         ],
         "yaxis": "y"
        }
       ],
       "layout": {
        "legend": {
         "tracegroupgap": 0
        },
        "margin": {
         "t": 60
        },
        "template": {
         "data": {
          "bar": [
           {
            "error_x": {
             "color": "#2a3f5f"
            },
            "error_y": {
             "color": "#2a3f5f"
            },
            "marker": {
             "line": {
              "color": "#E5ECF6",
              "width": 0.5
             },
             "pattern": {
              "fillmode": "overlay",
              "size": 10,
              "solidity": 0.2
             }
            },
            "type": "bar"
           }
          ],
          "barpolar": [
           {
            "marker": {
             "line": {
              "color": "#E5ECF6",
              "width": 0.5
             },
             "pattern": {
              "fillmode": "overlay",
              "size": 10,
              "solidity": 0.2
             }
            },
            "type": "barpolar"
           }
          ],
          "carpet": [
           {
            "aaxis": {
             "endlinecolor": "#2a3f5f",
             "gridcolor": "white",
             "linecolor": "white",
             "minorgridcolor": "white",
             "startlinecolor": "#2a3f5f"
            },
            "baxis": {
             "endlinecolor": "#2a3f5f",
             "gridcolor": "white",
             "linecolor": "white",
             "minorgridcolor": "white",
             "startlinecolor": "#2a3f5f"
            },
            "type": "carpet"
           }
          ],
          "choropleth": [
           {
            "colorbar": {
             "outlinewidth": 0,
             "ticks": ""
            },
            "type": "choropleth"
           }
          ],
          "contour": [
           {
            "colorbar": {
             "outlinewidth": 0,
             "ticks": ""
            },
            "colorscale": [
             [
              0,
              "#0d0887"
             ],
             [
              0.1111111111111111,
              "#46039f"
             ],
             [
              0.2222222222222222,
              "#7201a8"
             ],
             [
              0.3333333333333333,
              "#9c179e"
             ],
             [
              0.4444444444444444,
              "#bd3786"
             ],
             [
              0.5555555555555556,
              "#d8576b"
             ],
             [
              0.6666666666666666,
              "#ed7953"
             ],
             [
              0.7777777777777778,
              "#fb9f3a"
             ],
             [
              0.8888888888888888,
              "#fdca26"
             ],
             [
              1,
              "#f0f921"
             ]
            ],
            "type": "contour"
           }
          ],
          "contourcarpet": [
           {
            "colorbar": {
             "outlinewidth": 0,
             "ticks": ""
            },
            "type": "contourcarpet"
           }
          ],
          "heatmap": [
           {
            "colorbar": {
             "outlinewidth": 0,
             "ticks": ""
            },
            "colorscale": [
             [
              0,
              "#0d0887"
             ],
             [
              0.1111111111111111,
              "#46039f"
             ],
             [
              0.2222222222222222,
              "#7201a8"
             ],
             [
              0.3333333333333333,
              "#9c179e"
             ],
             [
              0.4444444444444444,
              "#bd3786"
             ],
             [
              0.5555555555555556,
              "#d8576b"
             ],
             [
              0.6666666666666666,
              "#ed7953"
             ],
             [
              0.7777777777777778,
              "#fb9f3a"
             ],
             [
              0.8888888888888888,
              "#fdca26"
             ],
             [
              1,
              "#f0f921"
             ]
            ],
            "type": "heatmap"
           }
          ],
          "heatmapgl": [
           {
            "colorbar": {
             "outlinewidth": 0,
             "ticks": ""
            },
            "colorscale": [
             [
              0,
              "#0d0887"
             ],
             [
              0.1111111111111111,
              "#46039f"
             ],
             [
              0.2222222222222222,
              "#7201a8"
             ],
             [
              0.3333333333333333,
              "#9c179e"
             ],
             [
              0.4444444444444444,
              "#bd3786"
             ],
             [
              0.5555555555555556,
              "#d8576b"
             ],
             [
              0.6666666666666666,
              "#ed7953"
             ],
             [
              0.7777777777777778,
              "#fb9f3a"
             ],
             [
              0.8888888888888888,
              "#fdca26"
             ],
             [
              1,
              "#f0f921"
             ]
            ],
            "type": "heatmapgl"
           }
          ],
          "histogram": [
           {
            "marker": {
             "pattern": {
              "fillmode": "overlay",
              "size": 10,
              "solidity": 0.2
             }
            },
            "type": "histogram"
           }
          ],
          "histogram2d": [
           {
            "colorbar": {
             "outlinewidth": 0,
             "ticks": ""
            },
            "colorscale": [
             [
              0,
              "#0d0887"
             ],
             [
              0.1111111111111111,
              "#46039f"
             ],
             [
              0.2222222222222222,
              "#7201a8"
             ],
             [
              0.3333333333333333,
              "#9c179e"
             ],
             [
              0.4444444444444444,
              "#bd3786"
             ],
             [
              0.5555555555555556,
              "#d8576b"
             ],
             [
              0.6666666666666666,
              "#ed7953"
             ],
             [
              0.7777777777777778,
              "#fb9f3a"
             ],
             [
              0.8888888888888888,
              "#fdca26"
             ],
             [
              1,
              "#f0f921"
             ]
            ],
            "type": "histogram2d"
           }
          ],
          "histogram2dcontour": [
           {
            "colorbar": {
             "outlinewidth": 0,
             "ticks": ""
            },
            "colorscale": [
             [
              0,
              "#0d0887"
             ],
             [
              0.1111111111111111,
              "#46039f"
             ],
             [
              0.2222222222222222,
              "#7201a8"
             ],
             [
              0.3333333333333333,
              "#9c179e"
             ],
             [
              0.4444444444444444,
              "#bd3786"
             ],
             [
              0.5555555555555556,
              "#d8576b"
             ],
             [
              0.6666666666666666,
              "#ed7953"
             ],
             [
              0.7777777777777778,
              "#fb9f3a"
             ],
             [
              0.8888888888888888,
              "#fdca26"
             ],
             [
              1,
              "#f0f921"
             ]
            ],
            "type": "histogram2dcontour"
           }
          ],
          "mesh3d": [
           {
            "colorbar": {
             "outlinewidth": 0,
             "ticks": ""
            },
            "type": "mesh3d"
           }
          ],
          "parcoords": [
           {
            "line": {
             "colorbar": {
              "outlinewidth": 0,
              "ticks": ""
             }
            },
            "type": "parcoords"
           }
          ],
          "pie": [
           {
            "automargin": true,
            "type": "pie"
           }
          ],
          "scatter": [
           {
            "fillpattern": {
             "fillmode": "overlay",
             "size": 10,
             "solidity": 0.2
            },
            "type": "scatter"
           }
          ],
          "scatter3d": [
           {
            "line": {
             "colorbar": {
              "outlinewidth": 0,
              "ticks": ""
             }
            },
            "marker": {
             "colorbar": {
              "outlinewidth": 0,
              "ticks": ""
             }
            },
            "type": "scatter3d"
           }
          ],
          "scattercarpet": [
           {
            "marker": {
             "colorbar": {
              "outlinewidth": 0,
              "ticks": ""
             }
            },
            "type": "scattercarpet"
           }
          ],
          "scattergeo": [
           {
            "marker": {
             "colorbar": {
              "outlinewidth": 0,
              "ticks": ""
             }
            },
            "type": "scattergeo"
           }
          ],
          "scattergl": [
           {
            "marker": {
             "colorbar": {
              "outlinewidth": 0,
              "ticks": ""
             }
            },
            "type": "scattergl"
           }
          ],
          "scattermapbox": [
           {
            "marker": {
             "colorbar": {
              "outlinewidth": 0,
              "ticks": ""
             }
            },
            "type": "scattermapbox"
           }
          ],
          "scatterpolar": [
           {
            "marker": {
             "colorbar": {
              "outlinewidth": 0,
              "ticks": ""
             }
            },
            "type": "scatterpolar"
           }
          ],
          "scatterpolargl": [
           {
            "marker": {
             "colorbar": {
              "outlinewidth": 0,
              "ticks": ""
             }
            },
            "type": "scatterpolargl"
           }
          ],
          "scatterternary": [
           {
            "marker": {
             "colorbar": {
              "outlinewidth": 0,
              "ticks": ""
             }
            },
            "type": "scatterternary"
           }
          ],
          "surface": [
           {
            "colorbar": {
             "outlinewidth": 0,
             "ticks": ""
            },
            "colorscale": [
             [
              0,
              "#0d0887"
             ],
             [
              0.1111111111111111,
              "#46039f"
             ],
             [
              0.2222222222222222,
              "#7201a8"
             ],
             [
              0.3333333333333333,
              "#9c179e"
             ],
             [
              0.4444444444444444,
              "#bd3786"
             ],
             [
              0.5555555555555556,
              "#d8576b"
             ],
             [
              0.6666666666666666,
              "#ed7953"
             ],
             [
              0.7777777777777778,
              "#fb9f3a"
             ],
             [
              0.8888888888888888,
              "#fdca26"
             ],
             [
              1,
              "#f0f921"
             ]
            ],
            "type": "surface"
           }
          ],
          "table": [
           {
            "cells": {
             "fill": {
              "color": "#EBF0F8"
             },
             "line": {
              "color": "white"
             }
            },
            "header": {
             "fill": {
              "color": "#C8D4E3"
             },
             "line": {
              "color": "white"
             }
            },
            "type": "table"
           }
          ]
         },
         "layout": {
          "annotationdefaults": {
           "arrowcolor": "#2a3f5f",
           "arrowhead": 0,
           "arrowwidth": 1
          },
          "autotypenumbers": "strict",
          "coloraxis": {
           "colorbar": {
            "outlinewidth": 0,
            "ticks": ""
           }
          },
          "colorscale": {
           "diverging": [
            [
             0,
             "#8e0152"
            ],
            [
             0.1,
             "#c51b7d"
            ],
            [
             0.2,
             "#de77ae"
            ],
            [
             0.3,
             "#f1b6da"
            ],
            [
             0.4,
             "#fde0ef"
            ],
            [
             0.5,
             "#f7f7f7"
            ],
            [
             0.6,
             "#e6f5d0"
            ],
            [
             0.7,
             "#b8e186"
            ],
            [
             0.8,
             "#7fbc41"
            ],
            [
             0.9,
             "#4d9221"
            ],
            [
             1,
             "#276419"
            ]
           ],
           "sequential": [
            [
             0,
             "#0d0887"
            ],
            [
             0.1111111111111111,
             "#46039f"
            ],
            [
             0.2222222222222222,
             "#7201a8"
            ],
            [
             0.3333333333333333,
             "#9c179e"
            ],
            [
             0.4444444444444444,
             "#bd3786"
            ],
            [
             0.5555555555555556,
             "#d8576b"
            ],
            [
             0.6666666666666666,
             "#ed7953"
            ],
            [
             0.7777777777777778,
             "#fb9f3a"
            ],
            [
             0.8888888888888888,
             "#fdca26"
            ],
            [
             1,
             "#f0f921"
            ]
           ],
           "sequentialminus": [
            [
             0,
             "#0d0887"
            ],
            [
             0.1111111111111111,
             "#46039f"
            ],
            [
             0.2222222222222222,
             "#7201a8"
            ],
            [
             0.3333333333333333,
             "#9c179e"
            ],
            [
             0.4444444444444444,
             "#bd3786"
            ],
            [
             0.5555555555555556,
             "#d8576b"
            ],
            [
             0.6666666666666666,
             "#ed7953"
            ],
            [
             0.7777777777777778,
             "#fb9f3a"
            ],
            [
             0.8888888888888888,
             "#fdca26"
            ],
            [
             1,
             "#f0f921"
            ]
           ]
          },
          "colorway": [
           "#636efa",
           "#EF553B",
           "#00cc96",
           "#ab63fa",
           "#FFA15A",
           "#19d3f3",
           "#FF6692",
           "#B6E880",
           "#FF97FF",
           "#FECB52"
          ],
          "font": {
           "color": "#2a3f5f"
          },
          "geo": {
           "bgcolor": "white",
           "lakecolor": "white",
           "landcolor": "#E5ECF6",
           "showlakes": true,
           "showland": true,
           "subunitcolor": "white"
          },
          "hoverlabel": {
           "align": "left"
          },
          "hovermode": "closest",
          "mapbox": {
           "style": "light"
          },
          "paper_bgcolor": "white",
          "plot_bgcolor": "#E5ECF6",
          "polar": {
           "angularaxis": {
            "gridcolor": "white",
            "linecolor": "white",
            "ticks": ""
           },
           "bgcolor": "#E5ECF6",
           "radialaxis": {
            "gridcolor": "white",
            "linecolor": "white",
            "ticks": ""
           }
          },
          "scene": {
           "xaxis": {
            "backgroundcolor": "#E5ECF6",
            "gridcolor": "white",
            "gridwidth": 2,
            "linecolor": "white",
            "showbackground": true,
            "ticks": "",
            "zerolinecolor": "white"
           },
           "yaxis": {
            "backgroundcolor": "#E5ECF6",
            "gridcolor": "white",
            "gridwidth": 2,
            "linecolor": "white",
            "showbackground": true,
            "ticks": "",
            "zerolinecolor": "white"
           },
           "zaxis": {
            "backgroundcolor": "#E5ECF6",
            "gridcolor": "white",
            "gridwidth": 2,
            "linecolor": "white",
            "showbackground": true,
            "ticks": "",
            "zerolinecolor": "white"
           }
          },
          "shapedefaults": {
           "line": {
            "color": "#2a3f5f"
           }
          },
          "ternary": {
           "aaxis": {
            "gridcolor": "white",
            "linecolor": "white",
            "ticks": ""
           },
           "baxis": {
            "gridcolor": "white",
            "linecolor": "white",
            "ticks": ""
           },
           "bgcolor": "#E5ECF6",
           "caxis": {
            "gridcolor": "white",
            "linecolor": "white",
            "ticks": ""
           }
          },
          "title": {
           "x": 0.05
          },
          "xaxis": {
           "automargin": true,
           "gridcolor": "white",
           "linecolor": "white",
           "ticks": "",
           "title": {
            "standoff": 15
           },
           "zerolinecolor": "white",
           "zerolinewidth": 2
          },
          "yaxis": {
           "automargin": true,
           "gridcolor": "white",
           "linecolor": "white",
           "ticks": "",
           "title": {
            "standoff": 15
           },
           "zerolinecolor": "white",
           "zerolinewidth": 2
          }
         }
        },
        "xaxis": {
         "anchor": "y",
         "domain": [
          0,
          1
         ],
         "title": {
          "text": "timesPlayed"
         }
        },
        "yaxis": {
         "anchor": "x",
         "domain": [
          0,
          1
         ],
         "title": {
          "text": "speechiness"
         }
        }
       }
      }
     },
     "metadata": {},
     "output_type": "display_data"
    },
    {
     "data": {
      "application/vnd.plotly.v1+json": {
       "config": {
        "plotlyServerURL": "https://plot.ly"
       },
       "data": [
        {
         "hovertemplate": "<b>%{hovertext}</b><br><br>timesPlayed=%{x}<br>acousticness=%{y}<extra></extra>",
         "hovertext": [
          "Weird Fishes/ Arpeggi",
          "Good Will Hunting",
          "Pro Freak (with Doechii, Fatman Scoop)",
          "Present Tense",
          "the perfect pair",
          "Andromeda",
          "Nude",
          "No Surprises",
          "Never Catch Me",
          "Still",
          "Secrets (Your Fire)",
          "Meat Grinder",
          "Speech Bubbles",
          "Galaxy",
          "Runaway",
          "Motion Picture Soundtrack",
          "Troubles [Feat. T-Pain]",
          "Pluto Projector",
          "EARFQUAKE",
          "drive ME crazy!",
          "Savior",
          "Cocoa Butter Kisses",
          "Karma Police",
          "the BLACK seminole.",
          "Wesley's Theory",
          "Shine On You Crazy Diamond (Pts. 1-5)",
          "Welcome To Hell",
          "N95",
          "Concorde",
          "Chaos Space Marine",
          "Thieves In The Night",
          "Identikit",
          "15 Step",
          "family ties (with Kendrick Lamar)",
          "Self Control",
          "The Adults Are Talking",
          "diving board",
          "Walkin",
          "New N3on",
          "Chapters",
          "Heart Don't Stand a Chance",
          "Crack Sandwich",
          "Nikes",
          "Lean Beef Patty",
          "Rapp Snitch Knishes feat. Mr. Fantastik",
          "Feel No Pain (feat. Anderson .Paak & Raekwon)",
          "雨降る夜の向こう",
          "Mood Romantica",
          "Waitin' on Ya",
          "Can't Fight",
          "Ice",
          "Oh My Dis Side (feat. Quavo)",
          "Paprika",
          "Fake Plastic Trees",
          "Wunderlan",
          "Rockstar Made",
          "儚き春の一幕",
          "Faust Arp",
          "Steppa Pig",
          "Get Away",
          "Tequila Shots",
          "Hand Me Downs",
          "Flashing Lights",
          "Gold Rings (feat. Pusha T)",
          "The Lung",
          "REACH THE SUNSHINE.",
          "GONE, GONE / THANK YOU",
          "The Less I Know The Better",
          "Killshot",
          "After The Storm (feat. Tyler, The Creator & Bootsy Collins)",
          "Stop Breathing",
          "4:44",
          "Waves",
          "Stars (feat. Yasiin Bey)",
          "Potato Salad",
          "Rich Nigga Shit (feat. Young Thug)",
          "running out of time",
          "Violent Crimes",
          "Reborn",
          "Heart To Heart",
          "Count Me Out",
          "Selfless",
          "Nothing",
          "Hummingbird (Metro Boomin & James Blake)",
          "Tactics",
          "Sober to Death",
          "Love Galore (feat. Travis Scott)",
          "Rusty (feat. Domo Genesis & Earl Sweatshirt)",
          "The Only Thing",
          "Guilt Trip",
          "Baby I'm Bleeding",
          "Big K.R.I.T.",
          "Off Da Zoinkys",
          "Brand New 911",
          "二十歳の恋",
          "Westbrook (with A$AP Ferg)",
          "Didn't Cha Know",
          "Scott Mescudi Vs. The World",
          "George Bondo (feat. Conway the Machine & Benny The Butcher)",
          "Burfict!",
          "EdEddnEddy",
          "Respiration",
          "Sunglasses",
          "Devil In A New Dress",
          "Oh, Maker",
          "Gabby (feat. Janelle Monáe)",
          "A Punch Up at a Wedding",
          "A Rush of Blood to the Head",
          "No More Parties In LA",
          "BLACK BALLOONS | 13LACK 13ALLOONZ [FEAT. TWELVE'LEN & GOLDLINK | TWELVE'LEN + GOLDL1NK]",
          "Bittersweet",
          "Long Time - Intro",
          "Glass Eyes",
          "Anti-Matter",
          "Eternal Summer",
          "Make Me Feel",
          "Sandstorm (feat. JID)",
          "Neon Valley Street",
          "Hidden Place",
          "Place",
          "Pink + White",
          "Suddenly",
          "Kingdom Hearts Key (ft. redveil)",
          "Walk Em Down (Don't Kill Civilians) [with 21 Savage & feat. Mustafa]",
          "Lucky",
          "Leak It (feat. Chlöe)",
          "Chocolate Matter",
          "Eye/I and I/Nation",
          "Kenan Vs. Kel",
          "Them Changes",
          "Wake Up",
          "Yeah Right",
          "Pink Matter",
          "Mirror",
          "Wild Time",
          "Say It Ain't So",
          "327 (feat. Tyler, The Creator & Billie Essco)",
          "Comin Out Strong (feat. The Weeknd)",
          "Crown",
          "Under The Sun (with J. Cole & Lute feat. DaBaby)",
          "Silhouette",
          "United In Grief",
          "Beta Male Strategies",
          "Tears (feat. Caroline Polachek)",
          "Umbrella (with 21 Savage & Young Nudy)",
          "The Tourist",
          "Aquemini",
          "It's Not up to You",
          "High and Dry",
          "Heartless",
          "White Ferrari",
          "Fentanyl Tester",
          "John Woo Flick (with Benny The Butcher & Westside Gunn)",
          "1539 N. Calvert",
          "Stay Flo",
          "Fuck the Nordic Model",
          "Hellfire",
          "Milk - 2021 Remaster",
          "Tell Me What I Don't Know",
          "If Tomorrow's Not Here",
          "Crosshairs",
          "I THINK",
          "Soundtrack 2 My Life",
          "FAMJAM4000",
          "X-Wing",
          "Sky Might Fall",
          "Kimiga Nakunara",
          "Idioteque",
          "Consideration",
          "Akasaka Sad",
          "A.D.H.D",
          "Design: 2: 3",
          "Behind The Moon Shadow",
          "Angel",
          "I'm In It",
          "This Is Why",
          "Picture Me Better",
          "Angels (feat. Saba)",
          "FIND YOUR WINGS (feat. Roy Ayers, Sydney Bennett & Kali Uchis)",
          "Faucet Failure",
          "Surround Sound (feat. 21 Savage & Baby Tate)",
          "We Major",
          "One Beer",
          "A Toshi no Aki",
          "夕暮れ",
          "On That Time",
          "Savage Good Boy",
          "Enter Galactic (Love Connection Part I)",
          "The Numbers",
          "Fingerprints",
          "I'M THAT GIRL",
          "Poetic Justice",
          "Bodys",
          "Smokin Out The Window",
          "Solo Dolo (Nightmare)",
          "Complicated",
          "LOVE. FEAT. ZACARI.",
          "Say You Will",
          "Money Trees",
          "Grimy Waifu",
          "Dark Red",
          "G.O.M.D",
          "Mr. Rager",
          "Next Levels",
          "BUSY / SIRENS",
          "Netflix & Dusse",
          "Acting",
          "In Love",
          "Justin Scott",
          "911 / Mr. Lonely (feat. Frank Ocean & Steve Lacy)",
          "Joga",
          "Ode To The Mets",
          "pg baby",
          "Ain't No Way [Feat. 6LACK, Rico Nasty, J.I.D, Jasiah, Kitty Ca$h]",
          "A BOY IS A GUN*",
          "Sunny day",
          "Symphony",
          "Blow My High (Members Only)",
          "Storm",
          "Better Days (feat. Johnta Austin)",
          "How to Disappear Completely",
          "STOP TRYING TO BE GOD",
          "Kid A",
          "NEW MAGIC WAND",
          "I Ain't Got Time!",
          "Head High",
          "Bad Habit",
          "Photosynthesis",
          "The Defence",
          "Send It Up",
          "Inside Out",
          "Envy",
          "In Sound, We Found Each Other",
          "Nothing Good Ever Happens At The Goddamn Thirsty Crow",
          "Yellow",
          "6 Star Wanted Level",
          "Right Now (feat. Pi'erre Bourne)",
          "Out On Sunny Sunday",
          "Dynasty",
          "Had Enough (feat. Quavo & Offset)",
          "Bound 2",
          "24",
          "DIRTY!",
          "Kokorono Madobeni Akai Hanao Kazatte",
          "Kuso Yakan Hikoh",
          "A Bigger Paper Bag",
          "LIFE",
          "Where Ya Get Ya Coke From?",
          "Television / So Far So Good",
          "Euphoria (feat. Travis Scott & Kaash Paige)",
          "So Appalled",
          "Hurricane",
          "Thot Tactics",
          "REBOUND!",
          "FEEL.",
          "New Choppa",
          "BREAK MY SOUL",
          "Where I Belong",
          "Norman fucking Rockwell",
          "Videotape",
          "Nas Is Like",
          "m.A.A.d city",
          "Why Are Sundays So Depressing",
          "Orange Juice Jones",
          "Slow",
          "Wolves",
          "Crime Pays",
          "God Loves You",
          "I Wonder",
          "Aux Cord",
          "26",
          "Hard Times",
          "Something to Believe",
          "SICKO MODE",
          "Gone",
          "range brothers (with Kendrick Lamar)",
          "Drones (feat. Kendrick Lamar, Snoop Dogg, Ty Dolla $ign & James Fauntleroy)",
          "Cherry-coloured Funk",
          "Always",
          "Let It Be - Remastered 2009",
          "Glue Song",
          "No Vacancy",
          "Instrumental",
          "Chondromalacia Patella",
          "Ripples",
          "Jack Harlow Combo Meal",
          "CAN'T SAY",
          "broken cd",
          "Afternoon in Heaven",
          "Excited",
          "Super Urus",
          "OPEN A WINDOW (feat. Tyler, The Creator)",
          "FlatBed Freestyle",
          "Wet Dream",
          "Deeper",
          "Sky",
          "Show Me",
          "Bloom",
          "Run The Jewels",
          "Shaolin Monk Motherfunk",
          "Love On The Brain",
          "Pray 4 Love (feat. The Weeknd)",
          "Figures",
          "Self Care",
          "Blackest in the Room",
          "Solo (Reprise)",
          "U Wanna Dance?",
          "Greatest Hits",
          "Under",
          "Time Today",
          "Bury Me In Gold",
          "Street Spirit (Fade Out)",
          "Harold’s",
          "Defibrillator",
          "Tired",
          "Downward Spiral",
          "ASTROTHUNDER",
          "Ful Stop",
          "Love Sosa",
          "2009",
          "dothatshit!",
          "Settle Down (with Cory Henry, Ravyn Lenae)",
          "Can’t Make U Change (feat. Ari Lennox)",
          "infinity (888) - feat. Joey Bada$$",
          "p r i d e . i s . t h e . d e v i l (with Lil Baby)",
          "Wanna Be Loved",
          "Big Titties (feat. Baauer and EarthGang)",
          "Sparks",
          "Big Bank (feat. T.I.)",
          "Electioneering",
          "Coffee",
          "M3tamorphosis (feat. Kid Cudi)",
          "New Slaves",
          "I Might Be Wrong",
          "Miss Georgia Fornia (feat. Joi)",
          "Dance or Die (feat. Saul Williams)",
          "The End (feat. BABYMETAL)",
          "On Sight",
          "Relative",
          "JPEGMAFIA TYPE BEAT",
          "Raindrop City",
          "Palmolive (feat. Pusha T & Killer Mike)",
          "Brooklyn Bridge To Chorus",
          "See You Again (feat. Kali Uchis)",
          "Nightcrawler (feat. Swae Lee & Chief Keef)",
          "Unlock It (feat. Playboi Carti)",
          "King Kunta",
          "PUPPET",
          "Beef Rap",
          "untitled 05 | 09.21.2014.",
          "Space Song",
          "Shitsville",
          "Never Meant",
          "K.O.S. (Determination)",
          "My Iron Lung",
          "FAKENGGAS",
          "Gorilla",
          "Slide Tackle",
          "PTSD",
          "Exchange",
          "Solo",
          "151 Rum",
          "Used (feat. Don Toliver)",
          "BMT!",
          "Boredom (feat. Rex Orange County & Anna of the North)",
          "Yesterday - Remastered 2009",
          "SWEET / I THOUGHT YOU WANTED TO DANCE (feat. Brent Faiyaz & Fana Hues)",
          "Scottie Beam",
          "Workin Out",
          "Trampoline",
          "(Nice Dream)",
          "Knicks",
          "Godspeed",
          "Find Your Love",
          "Creep",
          "Myth",
          "Glass Flows",
          "Scarface",
          "Melt a Bed",
          "R.I.P. Fredo (feat. Young Nudy) - Notice Me",
          "Pure Souls",
          "Good News",
          "Tightrope (feat. Big Boi) - Big Boi Vocal Edit",
          "She Roll Up",
          "Suede",
          "Scenario - LP Mix",
          "Dawning of the Season",
          "PYS (feat. DJ Paul)",
          "Thuggin’",
          "Planet Telex",
          "Don't",
          "Sept",
          "DUCKWORTH.",
          "TEMPTATION",
          "The Night Squall",
          "Acting - 2021 Remaster",
          "Momma",
          "Cosmonauts",
          "Voodoo Child (Slight Return)",
          "I Love You, I Hate You",
          "Have You In My Wilderness",
          "Drunk Drivers/Killer Whales",
          "Dangerous Liaisons",
          "Us and Them",
          "Transform (feat. Charlotte Day Wilson)",
          "GTFU (Feat. JPEGMAFIA & Cakes da Killa)",
          "Hustle Bones",
          "Read My Mind",
          "Total Entertainment Forever",
          "Father Stretch My Hands Pt. 1",
          "Plastic 100°C",
          "The Highs & The Lows",
          "Soul Food",
          "Momma Callin",
          "Unstoppable",
          "where's the confetti?",
          "The Bends",
          "Palace/Curse (feat. Tyler, The Creator & Steve Lacy)",
          "Giannis (feat. Anderson .Paak)",
          "New Person, Same Old Mistakes",
          "The Root",
          "m y . l i f e (with 21 Savage & Morray)",
          "After Last Night (with Thundercat & Bootsy Collins)",
          "Memo",
          "wokeuplikethis*",
          "Keep My Spirit Alive pt 2",
          "To All the Dancers of the World, A Round Form of Fantasy",
          "Ain't it Funny",
          "Chosen (feat. Ty Dolla $ign)",
          "For Free? - Interlude",
          "For Lovers",
          "Other People",
          "Sing About Me, I'm Dying Of Thirst",
          "Kokomo, IN",
          "IG",
          "ELON MUSK",
          "Get on the Floor",
          "2007",
          "CIA",
          "Bag Lady",
          "Morning Bell",
          "CRUCIFY ME",
          "All Falls Down",
          "2040",
          "Church",
          "Dreams and Nightmares",
          "Lost In The World",
          "Dethroned",
          "Raindrops (Insane) [with Travis Scott]",
          "Tinker Tailor Soldier Sailor Rich Man Poor Man Beggar Man Thief",
          "Up Up & Away",
          "Running Out Of Time",
          "Lipstick Lover",
          "New Tank",
          "Rose-Colored Boy",
          "Papi I Missed U",
          "When Doves Cry",
          "Doomsday",
          "Foreign",
          "War Paint (feat. Westside Gunn & Conway the Machine)",
          "Your Prime",
          "Dump",
          "Comfortably Numb",
          "Energy",
          "Feel The Love",
          "Poke It Out (with Nicki Minaj)",
          "Just In Time (feat. Lil Wayne & Kenny Mason)",
          "TAKE A CHANCE (feat. Anderson .Paak)",
          "Hold The Girl",
          "Wild Irish Roses",
          "...& On",
          "HOE (Heaven on Earth)",
          "No Reason",
          "MANIFESTO (feat. Domo Genesis)",
          "Ladies and gentlemen we are floating in space",
          "Arya (with Nigo)",
          "DIET_",
          "N.Y. State of Mind",
          "Hurt Feelings",
          "Through The Wire",
          "The Scientist",
          "Life on Mars? - 2015 Remaster",
          "DD Form 214",
          "SWGSKOOL",
          "Letter To Cornelius",
          "Sir Duke",
          "Forever - 2021 Remaster",
          "Rearview",
          "Jukebox Joints (feat. Joe Fox & Kanye West)",
          "If I Had A Dollar (feat. Benjamin Earl Turner)",
          "Hold Up, Wait!",
          "Black Star",
          "The OtherSide",
          "LUMBERJACK",
          "Packt Like Sardines In a Crushd Tin Box",
          "Wax On (Feat. Freddie Gibbs)",
          "Stupid/Asking",
          "untitled 02 | 06.23.2014.",
          "By Design",
          "the 27 club"
         ],
         "legendgroup": "",
         "marker": {
          "color": "#636efa",
          "symbol": "circle"
         },
         "mode": "markers",
         "name": "",
         "orientation": "v",
         "showlegend": false,
         "type": "scatter",
         "x": [
          58.43,
          48.04,
          45.29,
          44.9,
          44.38,
          44.2,
          42.5,
          40.25,
          38.67,
          38.08,
          37.45,
          37.38,
          36.18,
          35.58,
          35.21,
          34.48,
          34.1,
          33.74,
          33.1,
          33.02,
          32.61,
          32.27,
          32.19,
          32.04,
          31.74,
          31.47,
          30.83,
          30.51,
          30.21,
          29.64,
          29.61,
          29.58,
          29.38,
          29.26,
          28.85,
          28.6,
          28.59,
          28.55,
          27.39,
          27.31,
          27.26,
          27.26,
          27.22,
          27.21,
          27.11,
          26.27,
          26.21,
          26.01,
          25.96,
          25.92,
          25.83,
          25.37,
          25.18,
          24.92,
          24.58,
          24.58,
          24.46,
          24.46,
          24.31,
          24.28,
          24.17,
          24.16,
          24.13,
          23.73,
          23.6,
          23.57,
          23.5,
          23.24,
          23.19,
          23.09,
          23.05,
          23.01,
          22.86,
          22.81,
          22.7,
          22.69,
          22.67,
          21.68,
          21.55,
          21.5,
          21.3,
          21.05,
          20.76,
          20.74,
          20.63,
          20.61,
          20.6,
          20.51,
          20.4,
          20.38,
          20.28,
          20.23,
          20.04,
          19.95,
          19.9,
          19.85,
          19.79,
          19.62,
          19.61,
          19.5,
          19.42,
          19.41,
          19.28,
          19.15,
          19.1,
          19.01,
          19,
          18.95,
          18.92,
          18.86,
          18.78,
          18.78,
          18.76,
          18.75,
          18.73,
          18.71,
          18.67,
          18.62,
          18.56,
          18.47,
          18.36,
          18.34,
          18.27,
          18.12,
          18.1,
          17.95,
          17.94,
          17.82,
          17.76,
          17.66,
          17.59,
          17.58,
          17.56,
          17.54,
          17.43,
          17.39,
          17.36,
          17.35,
          17.31,
          17.22,
          17.03,
          17,
          16.97,
          16.85,
          16.8,
          16.79,
          16.79,
          16.79,
          16.74,
          16.67,
          16.62,
          16.52,
          16.45,
          16.41,
          16.35,
          16.35,
          16.34,
          16.27,
          16.26,
          16.2,
          16.17,
          16.15,
          16.11,
          16.11,
          16.02,
          16,
          15.99,
          15.98,
          15.96,
          15.85,
          15.82,
          15.81,
          15.79,
          15.79,
          15.76,
          15.66,
          15.6,
          15.58,
          15.57,
          15.51,
          15.45,
          15.38,
          15.35,
          15.32,
          15.24,
          15.21,
          15.17,
          15.14,
          15.09,
          15,
          15,
          14.97,
          14.96,
          14.96,
          14.95,
          14.87,
          14.81,
          14.78,
          14.67,
          14.64,
          14.6,
          14.56,
          14.48,
          14.47,
          14.42,
          14.42,
          14.28,
          14.24,
          14.2,
          14.19,
          14.15,
          14.06,
          14.03,
          14,
          14,
          14,
          13.98,
          13.97,
          13.95,
          13.94,
          13.93,
          13.9,
          13.89,
          13.87,
          13.86,
          13.83,
          13.74,
          13.72,
          13.66,
          13.66,
          13.64,
          13.61,
          13.56,
          13.55,
          13.53,
          13.48,
          13.47,
          13.43,
          13.43,
          13.36,
          13.35,
          13.33,
          13.29,
          13.22,
          13.16,
          13.15,
          13.1,
          13.04,
          13,
          13,
          12.96,
          12.92,
          12.91,
          12.84,
          12.8,
          12.8,
          12.78,
          12.74,
          12.71,
          12.68,
          12.63,
          12.6,
          12.58,
          12.53,
          12.47,
          12.41,
          12.41,
          12.41,
          12.39,
          12.34,
          12.31,
          12.3,
          12.29,
          12.28,
          12.27,
          12.26,
          12.19,
          12.13,
          12.09,
          12,
          12,
          12,
          11.97,
          11.95,
          11.95,
          11.95,
          11.94,
          11.92,
          11.92,
          11.91,
          11.91,
          11.9,
          11.9,
          11.86,
          11.82,
          11.74,
          11.73,
          11.73,
          11.7,
          11.69,
          11.68,
          11.66,
          11.66,
          11.63,
          11.61,
          11.61,
          11.6,
          11.58,
          11.54,
          11.54,
          11.53,
          11.52,
          11.52,
          11.51,
          11.51,
          11.5,
          11.48,
          11.45,
          11.42,
          11.39,
          11.38,
          11.33,
          11.28,
          11.28,
          11.27,
          11.23,
          11.21,
          11.18,
          11.15,
          11.11,
          11.1,
          11.08,
          11.07,
          11.04,
          11,
          11,
          11,
          11,
          11,
          11,
          10.96,
          10.92,
          10.91,
          10.91,
          10.85,
          10.83,
          10.79,
          10.79,
          10.78,
          10.76,
          10.66,
          10.66,
          10.63,
          10.62,
          10.61,
          10.6,
          10.55,
          10.54,
          10.5,
          10.48,
          10.47,
          10.47,
          10.47,
          10.45,
          10.42,
          10.41,
          10.39,
          10.38,
          10.36,
          10.35,
          10.35,
          10.33,
          10.31,
          10.28,
          10.25,
          10.24,
          10.24,
          10.23,
          10.22,
          10.22,
          10.18,
          10.18,
          10.17,
          10.16,
          10.14,
          10.1,
          10.1,
          10.07,
          10.05,
          10.03,
          10,
          9.98,
          9.95,
          9.94,
          9.9,
          9.88,
          9.79,
          9.78,
          9.69,
          9.69,
          9.69,
          9.68,
          9.68,
          9.67,
          9.67,
          9.67,
          9.63,
          9.59,
          9.59,
          9.58,
          9.53,
          9.52,
          9.51,
          9.5,
          9.49,
          9.48,
          9.47,
          9.46,
          9.46,
          9.44,
          9.43,
          9.4,
          9.35,
          9.35,
          9.34,
          9.33,
          9.31,
          9.29,
          9.29,
          9.29,
          9.29,
          9.28,
          9.25,
          9.25,
          9.22,
          9.22,
          9.2,
          9.19,
          9.19,
          9.16,
          9.15,
          9.15,
          9.15,
          9.14,
          9.08,
          9.08,
          9.04,
          9.01,
          9.01,
          9,
          9,
          9,
          9,
          9,
          8.99,
          8.96,
          8.92,
          8.91,
          8.91,
          8.86,
          8.85,
          8.85,
          8.83,
          8.81,
          8.81,
          8.8,
          8.8,
          8.79,
          8.79,
          8.79,
          8.78,
          8.78,
          8.77,
          8.74,
          8.72,
          8.72,
          8.72,
          8.71,
          8.7,
          8.7,
          8.69,
          8.67,
          8.67,
          8.66,
          8.65,
          8.63,
          8.62,
          8.58,
          8.57,
          8.56,
          8.56,
          8.51,
          8.51,
          8.49,
          8.48,
          8.44,
          8.43,
          8.41,
          8.4,
          8.4
         ],
         "xaxis": "x",
         "y": [
          0.772,
          0.219,
          0.269,
          0.912,
          0.433,
          0.368,
          0.832,
          0.0577,
          0.316,
          0.0098,
          0.00177,
          0.359,
          0.865,
          0.874,
          0.219,
          0.921,
          0.546,
          0.707,
          0.23,
          0.205,
          0.495,
          0.0518,
          0.0638,
          0.063,
          0.359,
          0.772,
          0.168,
          0.377,
          0.023,
          0.2,
          0.147,
          0.0632,
          0.0477,
          0.00575,
          0.768,
          0.0113,
          0.235,
          0.134,
          0.0631,
          0.113,
          0.173,
          0.544,
          0.692,
          0.169,
          0.327,
          0.228,
          0.805,
          0.809,
          0.675,
          0.0772,
          0.123,
          0.352,
          0.0216,
          0.167,
          0.642,
          0.0398,
          0.722,
          0.84,
          0.225,
          0.402,
          0.084,
          0.474,
          0.0381,
          0.699,
          0.306,
          0.195,
          0.216,
          0.0115,
          0.000716,
          0.301,
          0.00637,
          0.139,
          0.0528,
          0.393,
          0.308,
          0.349,
          0.331,
          0.376,
          0.339,
          0.667,
          0.671,
          0.191,
          0.344,
          0.459,
          0.0259,
          0.189,
          0.112,
          0.00529,
          0.987,
          0.159,
          0.195,
          0.727,
          0.133,
          0.00491,
          0.793,
          0.0454,
          0.48,
          0.28,
          0.157,
          0.134,
          0.141,
          0.272,
          0.0344,
          0.0175,
          0.166,
          0.00909,
          0.0776,
          0.156,
          0.246,
          0.194,
          0.278,
          0.283,
          0.955,
          0.39,
          0.0141,
          0.132,
          0.59,
          0.0482,
          0.0516,
          0.000674,
          0.667,
          0.503,
          0.0722,
          0.131,
          0.053,
          0.475,
          0.173,
          0.321,
          0.0708,
          0.54,
          0.12,
          0.018,
          0.951,
          0.225,
          0.551,
          0.00737,
          0.832,
          0.29,
          0.801,
          0.511,
          0.768,
          0.244,
          0.484,
          0.0554,
          0.0838,
          0.223,
          0.245,
          0.551,
          0.0724,
          0.0515,
          0.77,
          0.318,
          0.0126,
          0.278,
          0.397,
          0.445,
          0.603,
          0.535,
          0.432,
          0.203,
          0.14,
          0.00881,
          0.465,
          0.467,
          0.109,
          0.252,
          0.568,
          0.0352,
          0.0392,
          0.14,
          0.33,
          0.121,
          0.944,
          0.294,
          0.141,
          0.00433,
          0.931,
          0.294,
          0.405,
          0.111,
          0.173,
          0.0107,
          0.0996,
          0.735,
          0.951,
          0.00584,
          0.0481,
          0.107,
          0.651,
          0.521,
          0.0616,
          0.157,
          0.00136,
          0.0558,
          0.518,
          0.136,
          0.264,
          0.542,
          0.0703,
          0.268,
          0.446,
          0.322,
          0.389,
          0.651,
          0.473,
          0.441,
          0.193,
          0.165,
          0.0145,
          0.0456,
          0.405,
          0.341,
          0.0994,
          0.0929,
          0.575,
          0.209,
          0.259,
          0.316,
          0.987,
          0.329,
          0.316,
          0.221,
          0.262,
          0.0967,
          0.0539,
          0.0969,
          0.626,
          0.536,
          0.152,
          0.292,
          0.84,
          0.633,
          0.351,
          0.422,
          0.00239,
          0.00706,
          0.138,
          0.596,
          0.102,
          0.253,
          0.145,
          0.129,
          0.153,
          0.964,
          0.526,
          0.587,
          0.0192,
          0.164,
          0.592,
          0.52,
          0.255,
          0.0344,
          0.174,
          0.15,
          0.137,
          0.174,
          0.0581,
          0.254,
          0.968,
          0.694,
          0.00602,
          0.0538,
          0.00258,
          0.395,
          0.314,
          0.219,
          0.139,
          0.011,
          0.286,
          0.00977,
          0.852,
          0.00647,
          0.625,
          0.00513,
          0.015,
          0.00466,
          0.0366,
          0.00196,
          0.692,
          0.631,
          0.77,
          0.605,
          0.0038,
          0.0341,
          0.786,
          0.124,
          0.201,
          0.846,
          0.152,
          0.141,
          0.00206,
          0.282,
          0.0967,
          0.000927,
          0.261,
          0.258,
          0.222,
          0.882,
          0.00478,
          0.134,
          0.0717,
          0.2,
          0.0431,
          0.367,
          0.529,
          0.413,
          0.0747,
          0.0834,
          0.511,
          0.229,
          0.0248,
          0.317,
          0.257,
          0.228,
          0.483,
          0.407,
          0.142,
          0.352,
          0.0361,
          0.77,
          0.067,
          0.496,
          0.136,
          0.274,
          0.104,
          0.0894,
          0.0151,
          0.748,
          0.00814,
          0.00267,
          0.982,
          0.0213,
          0.165,
          0.261,
          0.229,
          0.0714,
          0.000021,
          0.487,
          0.101,
          0.0188,
          0.625,
          0.601,
          0.00602,
          0.371,
          0.00134,
          0.0506,
          0.00589,
          0.00235,
          0.371,
          0.321,
          0.229,
          0.161,
          0.0233,
          0.339,
          0.0565,
          0.00863,
          0.269,
          0.0178,
          0.411,
          0.107,
          0.85,
          0.155,
          0.532,
          0.177,
          0.79,
          0.879,
          0.333,
          0.815,
          0.384,
          0.0521,
          0.163,
          0.18,
          0.929,
          0.0211,
          0.0097,
          0.032,
          0.63,
          0.0249,
          0.000335,
          0.102,
          0.102,
          0.853,
          0.0302,
          0.573,
          0.463,
          0.112,
          0.00102,
          0.486,
          0.0302,
          0.0213,
          0.223,
          0.168,
          0.0536,
          0.397,
          0.404,
          0.405,
          0.254,
          0.702,
          0.477,
          0.133,
          0.616,
          0.218,
          0.563,
          0.862,
          0.511,
          0.0883,
          0.104,
          0.148,
          0.2,
          0.118,
          0.735,
          0.288,
          0.0573,
          0.562,
          0.112,
          0.0283,
          0.0115,
          0.0351,
          0.0715,
          0.272,
          0.5,
          0.0622,
          0.0297,
          0.00024,
          0.0138,
          0.209,
          0.484,
          0.0108,
          0.336,
          0.588,
          0.975,
          0.148,
          0.303,
          0.0792,
          0.0615,
          0.0356,
          0.0629,
          0.537,
          0.377,
          0.365,
          0.719,
          0.228,
          0.149,
          0.0415,
          0.0481,
          0.468,
          0.115,
          0.13,
          0.103,
          0.73,
          0.0722,
          0.0433,
          0.303,
          0.031,
          0.00199,
          0.862,
          0.0102,
          0.0973,
          0.0906,
          0.375,
          0.215,
          0.556,
          0.15,
          0.38,
          0.126,
          0.0969,
          0.00256,
          0.825,
          0.0328,
          0.554,
          0.413,
          0.402,
          0.616,
          0.121,
          0.753,
          0.0734,
          0.0889,
          0.0394,
          0.343,
          0.00865,
          0.731,
          0.635,
          0.15,
          0.0312,
          0.0453,
          0.16,
          0.538,
          0.257,
          0.302,
          0.0815,
          0.0225,
          0.00312,
          0.059,
          0.122,
          0.731,
          0.182,
          0.497,
          0.341,
          0.0559,
          0.513
         ],
         "yaxis": "y"
        }
       ],
       "layout": {
        "legend": {
         "tracegroupgap": 0
        },
        "margin": {
         "t": 60
        },
        "template": {
         "data": {
          "bar": [
           {
            "error_x": {
             "color": "#2a3f5f"
            },
            "error_y": {
             "color": "#2a3f5f"
            },
            "marker": {
             "line": {
              "color": "#E5ECF6",
              "width": 0.5
             },
             "pattern": {
              "fillmode": "overlay",
              "size": 10,
              "solidity": 0.2
             }
            },
            "type": "bar"
           }
          ],
          "barpolar": [
           {
            "marker": {
             "line": {
              "color": "#E5ECF6",
              "width": 0.5
             },
             "pattern": {
              "fillmode": "overlay",
              "size": 10,
              "solidity": 0.2
             }
            },
            "type": "barpolar"
           }
          ],
          "carpet": [
           {
            "aaxis": {
             "endlinecolor": "#2a3f5f",
             "gridcolor": "white",
             "linecolor": "white",
             "minorgridcolor": "white",
             "startlinecolor": "#2a3f5f"
            },
            "baxis": {
             "endlinecolor": "#2a3f5f",
             "gridcolor": "white",
             "linecolor": "white",
             "minorgridcolor": "white",
             "startlinecolor": "#2a3f5f"
            },
            "type": "carpet"
           }
          ],
          "choropleth": [
           {
            "colorbar": {
             "outlinewidth": 0,
             "ticks": ""
            },
            "type": "choropleth"
           }
          ],
          "contour": [
           {
            "colorbar": {
             "outlinewidth": 0,
             "ticks": ""
            },
            "colorscale": [
             [
              0,
              "#0d0887"
             ],
             [
              0.1111111111111111,
              "#46039f"
             ],
             [
              0.2222222222222222,
              "#7201a8"
             ],
             [
              0.3333333333333333,
              "#9c179e"
             ],
             [
              0.4444444444444444,
              "#bd3786"
             ],
             [
              0.5555555555555556,
              "#d8576b"
             ],
             [
              0.6666666666666666,
              "#ed7953"
             ],
             [
              0.7777777777777778,
              "#fb9f3a"
             ],
             [
              0.8888888888888888,
              "#fdca26"
             ],
             [
              1,
              "#f0f921"
             ]
            ],
            "type": "contour"
           }
          ],
          "contourcarpet": [
           {
            "colorbar": {
             "outlinewidth": 0,
             "ticks": ""
            },
            "type": "contourcarpet"
           }
          ],
          "heatmap": [
           {
            "colorbar": {
             "outlinewidth": 0,
             "ticks": ""
            },
            "colorscale": [
             [
              0,
              "#0d0887"
             ],
             [
              0.1111111111111111,
              "#46039f"
             ],
             [
              0.2222222222222222,
              "#7201a8"
             ],
             [
              0.3333333333333333,
              "#9c179e"
             ],
             [
              0.4444444444444444,
              "#bd3786"
             ],
             [
              0.5555555555555556,
              "#d8576b"
             ],
             [
              0.6666666666666666,
              "#ed7953"
             ],
             [
              0.7777777777777778,
              "#fb9f3a"
             ],
             [
              0.8888888888888888,
              "#fdca26"
             ],
             [
              1,
              "#f0f921"
             ]
            ],
            "type": "heatmap"
           }
          ],
          "heatmapgl": [
           {
            "colorbar": {
             "outlinewidth": 0,
             "ticks": ""
            },
            "colorscale": [
             [
              0,
              "#0d0887"
             ],
             [
              0.1111111111111111,
              "#46039f"
             ],
             [
              0.2222222222222222,
              "#7201a8"
             ],
             [
              0.3333333333333333,
              "#9c179e"
             ],
             [
              0.4444444444444444,
              "#bd3786"
             ],
             [
              0.5555555555555556,
              "#d8576b"
             ],
             [
              0.6666666666666666,
              "#ed7953"
             ],
             [
              0.7777777777777778,
              "#fb9f3a"
             ],
             [
              0.8888888888888888,
              "#fdca26"
             ],
             [
              1,
              "#f0f921"
             ]
            ],
            "type": "heatmapgl"
           }
          ],
          "histogram": [
           {
            "marker": {
             "pattern": {
              "fillmode": "overlay",
              "size": 10,
              "solidity": 0.2
             }
            },
            "type": "histogram"
           }
          ],
          "histogram2d": [
           {
            "colorbar": {
             "outlinewidth": 0,
             "ticks": ""
            },
            "colorscale": [
             [
              0,
              "#0d0887"
             ],
             [
              0.1111111111111111,
              "#46039f"
             ],
             [
              0.2222222222222222,
              "#7201a8"
             ],
             [
              0.3333333333333333,
              "#9c179e"
             ],
             [
              0.4444444444444444,
              "#bd3786"
             ],
             [
              0.5555555555555556,
              "#d8576b"
             ],
             [
              0.6666666666666666,
              "#ed7953"
             ],
             [
              0.7777777777777778,
              "#fb9f3a"
             ],
             [
              0.8888888888888888,
              "#fdca26"
             ],
             [
              1,
              "#f0f921"
             ]
            ],
            "type": "histogram2d"
           }
          ],
          "histogram2dcontour": [
           {
            "colorbar": {
             "outlinewidth": 0,
             "ticks": ""
            },
            "colorscale": [
             [
              0,
              "#0d0887"
             ],
             [
              0.1111111111111111,
              "#46039f"
             ],
             [
              0.2222222222222222,
              "#7201a8"
             ],
             [
              0.3333333333333333,
              "#9c179e"
             ],
             [
              0.4444444444444444,
              "#bd3786"
             ],
             [
              0.5555555555555556,
              "#d8576b"
             ],
             [
              0.6666666666666666,
              "#ed7953"
             ],
             [
              0.7777777777777778,
              "#fb9f3a"
             ],
             [
              0.8888888888888888,
              "#fdca26"
             ],
             [
              1,
              "#f0f921"
             ]
            ],
            "type": "histogram2dcontour"
           }
          ],
          "mesh3d": [
           {
            "colorbar": {
             "outlinewidth": 0,
             "ticks": ""
            },
            "type": "mesh3d"
           }
          ],
          "parcoords": [
           {
            "line": {
             "colorbar": {
              "outlinewidth": 0,
              "ticks": ""
             }
            },
            "type": "parcoords"
           }
          ],
          "pie": [
           {
            "automargin": true,
            "type": "pie"
           }
          ],
          "scatter": [
           {
            "fillpattern": {
             "fillmode": "overlay",
             "size": 10,
             "solidity": 0.2
            },
            "type": "scatter"
           }
          ],
          "scatter3d": [
           {
            "line": {
             "colorbar": {
              "outlinewidth": 0,
              "ticks": ""
             }
            },
            "marker": {
             "colorbar": {
              "outlinewidth": 0,
              "ticks": ""
             }
            },
            "type": "scatter3d"
           }
          ],
          "scattercarpet": [
           {
            "marker": {
             "colorbar": {
              "outlinewidth": 0,
              "ticks": ""
             }
            },
            "type": "scattercarpet"
           }
          ],
          "scattergeo": [
           {
            "marker": {
             "colorbar": {
              "outlinewidth": 0,
              "ticks": ""
             }
            },
            "type": "scattergeo"
           }
          ],
          "scattergl": [
           {
            "marker": {
             "colorbar": {
              "outlinewidth": 0,
              "ticks": ""
             }
            },
            "type": "scattergl"
           }
          ],
          "scattermapbox": [
           {
            "marker": {
             "colorbar": {
              "outlinewidth": 0,
              "ticks": ""
             }
            },
            "type": "scattermapbox"
           }
          ],
          "scatterpolar": [
           {
            "marker": {
             "colorbar": {
              "outlinewidth": 0,
              "ticks": ""
             }
            },
            "type": "scatterpolar"
           }
          ],
          "scatterpolargl": [
           {
            "marker": {
             "colorbar": {
              "outlinewidth": 0,
              "ticks": ""
             }
            },
            "type": "scatterpolargl"
           }
          ],
          "scatterternary": [
           {
            "marker": {
             "colorbar": {
              "outlinewidth": 0,
              "ticks": ""
             }
            },
            "type": "scatterternary"
           }
          ],
          "surface": [
           {
            "colorbar": {
             "outlinewidth": 0,
             "ticks": ""
            },
            "colorscale": [
             [
              0,
              "#0d0887"
             ],
             [
              0.1111111111111111,
              "#46039f"
             ],
             [
              0.2222222222222222,
              "#7201a8"
             ],
             [
              0.3333333333333333,
              "#9c179e"
             ],
             [
              0.4444444444444444,
              "#bd3786"
             ],
             [
              0.5555555555555556,
              "#d8576b"
             ],
             [
              0.6666666666666666,
              "#ed7953"
             ],
             [
              0.7777777777777778,
              "#fb9f3a"
             ],
             [
              0.8888888888888888,
              "#fdca26"
             ],
             [
              1,
              "#f0f921"
             ]
            ],
            "type": "surface"
           }
          ],
          "table": [
           {
            "cells": {
             "fill": {
              "color": "#EBF0F8"
             },
             "line": {
              "color": "white"
             }
            },
            "header": {
             "fill": {
              "color": "#C8D4E3"
             },
             "line": {
              "color": "white"
             }
            },
            "type": "table"
           }
          ]
         },
         "layout": {
          "annotationdefaults": {
           "arrowcolor": "#2a3f5f",
           "arrowhead": 0,
           "arrowwidth": 1
          },
          "autotypenumbers": "strict",
          "coloraxis": {
           "colorbar": {
            "outlinewidth": 0,
            "ticks": ""
           }
          },
          "colorscale": {
           "diverging": [
            [
             0,
             "#8e0152"
            ],
            [
             0.1,
             "#c51b7d"
            ],
            [
             0.2,
             "#de77ae"
            ],
            [
             0.3,
             "#f1b6da"
            ],
            [
             0.4,
             "#fde0ef"
            ],
            [
             0.5,
             "#f7f7f7"
            ],
            [
             0.6,
             "#e6f5d0"
            ],
            [
             0.7,
             "#b8e186"
            ],
            [
             0.8,
             "#7fbc41"
            ],
            [
             0.9,
             "#4d9221"
            ],
            [
             1,
             "#276419"
            ]
           ],
           "sequential": [
            [
             0,
             "#0d0887"
            ],
            [
             0.1111111111111111,
             "#46039f"
            ],
            [
             0.2222222222222222,
             "#7201a8"
            ],
            [
             0.3333333333333333,
             "#9c179e"
            ],
            [
             0.4444444444444444,
             "#bd3786"
            ],
            [
             0.5555555555555556,
             "#d8576b"
            ],
            [
             0.6666666666666666,
             "#ed7953"
            ],
            [
             0.7777777777777778,
             "#fb9f3a"
            ],
            [
             0.8888888888888888,
             "#fdca26"
            ],
            [
             1,
             "#f0f921"
            ]
           ],
           "sequentialminus": [
            [
             0,
             "#0d0887"
            ],
            [
             0.1111111111111111,
             "#46039f"
            ],
            [
             0.2222222222222222,
             "#7201a8"
            ],
            [
             0.3333333333333333,
             "#9c179e"
            ],
            [
             0.4444444444444444,
             "#bd3786"
            ],
            [
             0.5555555555555556,
             "#d8576b"
            ],
            [
             0.6666666666666666,
             "#ed7953"
            ],
            [
             0.7777777777777778,
             "#fb9f3a"
            ],
            [
             0.8888888888888888,
             "#fdca26"
            ],
            [
             1,
             "#f0f921"
            ]
           ]
          },
          "colorway": [
           "#636efa",
           "#EF553B",
           "#00cc96",
           "#ab63fa",
           "#FFA15A",
           "#19d3f3",
           "#FF6692",
           "#B6E880",
           "#FF97FF",
           "#FECB52"
          ],
          "font": {
           "color": "#2a3f5f"
          },
          "geo": {
           "bgcolor": "white",
           "lakecolor": "white",
           "landcolor": "#E5ECF6",
           "showlakes": true,
           "showland": true,
           "subunitcolor": "white"
          },
          "hoverlabel": {
           "align": "left"
          },
          "hovermode": "closest",
          "mapbox": {
           "style": "light"
          },
          "paper_bgcolor": "white",
          "plot_bgcolor": "#E5ECF6",
          "polar": {
           "angularaxis": {
            "gridcolor": "white",
            "linecolor": "white",
            "ticks": ""
           },
           "bgcolor": "#E5ECF6",
           "radialaxis": {
            "gridcolor": "white",
            "linecolor": "white",
            "ticks": ""
           }
          },
          "scene": {
           "xaxis": {
            "backgroundcolor": "#E5ECF6",
            "gridcolor": "white",
            "gridwidth": 2,
            "linecolor": "white",
            "showbackground": true,
            "ticks": "",
            "zerolinecolor": "white"
           },
           "yaxis": {
            "backgroundcolor": "#E5ECF6",
            "gridcolor": "white",
            "gridwidth": 2,
            "linecolor": "white",
            "showbackground": true,
            "ticks": "",
            "zerolinecolor": "white"
           },
           "zaxis": {
            "backgroundcolor": "#E5ECF6",
            "gridcolor": "white",
            "gridwidth": 2,
            "linecolor": "white",
            "showbackground": true,
            "ticks": "",
            "zerolinecolor": "white"
           }
          },
          "shapedefaults": {
           "line": {
            "color": "#2a3f5f"
           }
          },
          "ternary": {
           "aaxis": {
            "gridcolor": "white",
            "linecolor": "white",
            "ticks": ""
           },
           "baxis": {
            "gridcolor": "white",
            "linecolor": "white",
            "ticks": ""
           },
           "bgcolor": "#E5ECF6",
           "caxis": {
            "gridcolor": "white",
            "linecolor": "white",
            "ticks": ""
           }
          },
          "title": {
           "x": 0.05
          },
          "xaxis": {
           "automargin": true,
           "gridcolor": "white",
           "linecolor": "white",
           "ticks": "",
           "title": {
            "standoff": 15
           },
           "zerolinecolor": "white",
           "zerolinewidth": 2
          },
          "yaxis": {
           "automargin": true,
           "gridcolor": "white",
           "linecolor": "white",
           "ticks": "",
           "title": {
            "standoff": 15
           },
           "zerolinecolor": "white",
           "zerolinewidth": 2
          }
         }
        },
        "xaxis": {
         "anchor": "y",
         "domain": [
          0,
          1
         ],
         "title": {
          "text": "timesPlayed"
         }
        },
        "yaxis": {
         "anchor": "x",
         "domain": [
          0,
          1
         ],
         "title": {
          "text": "acousticness"
         }
        }
       }
      }
     },
     "metadata": {},
     "output_type": "display_data"
    },
    {
     "data": {
      "application/vnd.plotly.v1+json": {
       "config": {
        "plotlyServerURL": "https://plot.ly"
       },
       "data": [
        {
         "hovertemplate": "<b>%{hovertext}</b><br><br>timesPlayed=%{x}<br>instrumentalness=%{y}<extra></extra>",
         "hovertext": [
          "Weird Fishes/ Arpeggi",
          "Good Will Hunting",
          "Pro Freak (with Doechii, Fatman Scoop)",
          "Present Tense",
          "the perfect pair",
          "Andromeda",
          "Nude",
          "No Surprises",
          "Never Catch Me",
          "Still",
          "Secrets (Your Fire)",
          "Meat Grinder",
          "Speech Bubbles",
          "Galaxy",
          "Runaway",
          "Motion Picture Soundtrack",
          "Troubles [Feat. T-Pain]",
          "Pluto Projector",
          "EARFQUAKE",
          "drive ME crazy!",
          "Savior",
          "Cocoa Butter Kisses",
          "Karma Police",
          "the BLACK seminole.",
          "Wesley's Theory",
          "Shine On You Crazy Diamond (Pts. 1-5)",
          "Welcome To Hell",
          "N95",
          "Concorde",
          "Chaos Space Marine",
          "Thieves In The Night",
          "Identikit",
          "15 Step",
          "family ties (with Kendrick Lamar)",
          "Self Control",
          "The Adults Are Talking",
          "diving board",
          "Walkin",
          "New N3on",
          "Chapters",
          "Heart Don't Stand a Chance",
          "Crack Sandwich",
          "Nikes",
          "Lean Beef Patty",
          "Rapp Snitch Knishes feat. Mr. Fantastik",
          "Feel No Pain (feat. Anderson .Paak & Raekwon)",
          "雨降る夜の向こう",
          "Mood Romantica",
          "Waitin' on Ya",
          "Can't Fight",
          "Ice",
          "Oh My Dis Side (feat. Quavo)",
          "Paprika",
          "Fake Plastic Trees",
          "Wunderlan",
          "Rockstar Made",
          "儚き春の一幕",
          "Faust Arp",
          "Steppa Pig",
          "Get Away",
          "Tequila Shots",
          "Hand Me Downs",
          "Flashing Lights",
          "Gold Rings (feat. Pusha T)",
          "The Lung",
          "REACH THE SUNSHINE.",
          "GONE, GONE / THANK YOU",
          "The Less I Know The Better",
          "Killshot",
          "After The Storm (feat. Tyler, The Creator & Bootsy Collins)",
          "Stop Breathing",
          "4:44",
          "Waves",
          "Stars (feat. Yasiin Bey)",
          "Potato Salad",
          "Rich Nigga Shit (feat. Young Thug)",
          "running out of time",
          "Violent Crimes",
          "Reborn",
          "Heart To Heart",
          "Count Me Out",
          "Selfless",
          "Nothing",
          "Hummingbird (Metro Boomin & James Blake)",
          "Tactics",
          "Sober to Death",
          "Love Galore (feat. Travis Scott)",
          "Rusty (feat. Domo Genesis & Earl Sweatshirt)",
          "The Only Thing",
          "Guilt Trip",
          "Baby I'm Bleeding",
          "Big K.R.I.T.",
          "Off Da Zoinkys",
          "Brand New 911",
          "二十歳の恋",
          "Westbrook (with A$AP Ferg)",
          "Didn't Cha Know",
          "Scott Mescudi Vs. The World",
          "George Bondo (feat. Conway the Machine & Benny The Butcher)",
          "Burfict!",
          "EdEddnEddy",
          "Respiration",
          "Sunglasses",
          "Devil In A New Dress",
          "Oh, Maker",
          "Gabby (feat. Janelle Monáe)",
          "A Punch Up at a Wedding",
          "A Rush of Blood to the Head",
          "No More Parties In LA",
          "BLACK BALLOONS | 13LACK 13ALLOONZ [FEAT. TWELVE'LEN & GOLDLINK | TWELVE'LEN + GOLDL1NK]",
          "Bittersweet",
          "Long Time - Intro",
          "Glass Eyes",
          "Anti-Matter",
          "Eternal Summer",
          "Make Me Feel",
          "Sandstorm (feat. JID)",
          "Neon Valley Street",
          "Hidden Place",
          "Place",
          "Pink + White",
          "Suddenly",
          "Kingdom Hearts Key (ft. redveil)",
          "Walk Em Down (Don't Kill Civilians) [with 21 Savage & feat. Mustafa]",
          "Lucky",
          "Leak It (feat. Chlöe)",
          "Chocolate Matter",
          "Eye/I and I/Nation",
          "Kenan Vs. Kel",
          "Them Changes",
          "Wake Up",
          "Yeah Right",
          "Pink Matter",
          "Mirror",
          "Wild Time",
          "Say It Ain't So",
          "327 (feat. Tyler, The Creator & Billie Essco)",
          "Comin Out Strong (feat. The Weeknd)",
          "Crown",
          "Under The Sun (with J. Cole & Lute feat. DaBaby)",
          "Silhouette",
          "United In Grief",
          "Beta Male Strategies",
          "Tears (feat. Caroline Polachek)",
          "Umbrella (with 21 Savage & Young Nudy)",
          "The Tourist",
          "Aquemini",
          "It's Not up to You",
          "High and Dry",
          "Heartless",
          "White Ferrari",
          "Fentanyl Tester",
          "John Woo Flick (with Benny The Butcher & Westside Gunn)",
          "1539 N. Calvert",
          "Stay Flo",
          "Fuck the Nordic Model",
          "Hellfire",
          "Milk - 2021 Remaster",
          "Tell Me What I Don't Know",
          "If Tomorrow's Not Here",
          "Crosshairs",
          "I THINK",
          "Soundtrack 2 My Life",
          "FAMJAM4000",
          "X-Wing",
          "Sky Might Fall",
          "Kimiga Nakunara",
          "Idioteque",
          "Consideration",
          "Akasaka Sad",
          "A.D.H.D",
          "Design: 2: 3",
          "Behind The Moon Shadow",
          "Angel",
          "I'm In It",
          "This Is Why",
          "Picture Me Better",
          "Angels (feat. Saba)",
          "FIND YOUR WINGS (feat. Roy Ayers, Sydney Bennett & Kali Uchis)",
          "Faucet Failure",
          "Surround Sound (feat. 21 Savage & Baby Tate)",
          "We Major",
          "One Beer",
          "A Toshi no Aki",
          "夕暮れ",
          "On That Time",
          "Savage Good Boy",
          "Enter Galactic (Love Connection Part I)",
          "The Numbers",
          "Fingerprints",
          "I'M THAT GIRL",
          "Poetic Justice",
          "Bodys",
          "Smokin Out The Window",
          "Solo Dolo (Nightmare)",
          "Complicated",
          "LOVE. FEAT. ZACARI.",
          "Say You Will",
          "Money Trees",
          "Grimy Waifu",
          "Dark Red",
          "G.O.M.D",
          "Mr. Rager",
          "Next Levels",
          "BUSY / SIRENS",
          "Netflix & Dusse",
          "Acting",
          "In Love",
          "Justin Scott",
          "911 / Mr. Lonely (feat. Frank Ocean & Steve Lacy)",
          "Joga",
          "Ode To The Mets",
          "pg baby",
          "Ain't No Way [Feat. 6LACK, Rico Nasty, J.I.D, Jasiah, Kitty Ca$h]",
          "A BOY IS A GUN*",
          "Sunny day",
          "Symphony",
          "Blow My High (Members Only)",
          "Storm",
          "Better Days (feat. Johnta Austin)",
          "How to Disappear Completely",
          "STOP TRYING TO BE GOD",
          "Kid A",
          "NEW MAGIC WAND",
          "I Ain't Got Time!",
          "Head High",
          "Bad Habit",
          "Photosynthesis",
          "The Defence",
          "Send It Up",
          "Inside Out",
          "Envy",
          "In Sound, We Found Each Other",
          "Nothing Good Ever Happens At The Goddamn Thirsty Crow",
          "Yellow",
          "6 Star Wanted Level",
          "Right Now (feat. Pi'erre Bourne)",
          "Out On Sunny Sunday",
          "Dynasty",
          "Had Enough (feat. Quavo & Offset)",
          "Bound 2",
          "24",
          "DIRTY!",
          "Kokorono Madobeni Akai Hanao Kazatte",
          "Kuso Yakan Hikoh",
          "A Bigger Paper Bag",
          "LIFE",
          "Where Ya Get Ya Coke From?",
          "Television / So Far So Good",
          "Euphoria (feat. Travis Scott & Kaash Paige)",
          "So Appalled",
          "Hurricane",
          "Thot Tactics",
          "REBOUND!",
          "FEEL.",
          "New Choppa",
          "BREAK MY SOUL",
          "Where I Belong",
          "Norman fucking Rockwell",
          "Videotape",
          "Nas Is Like",
          "m.A.A.d city",
          "Why Are Sundays So Depressing",
          "Orange Juice Jones",
          "Slow",
          "Wolves",
          "Crime Pays",
          "God Loves You",
          "I Wonder",
          "Aux Cord",
          "26",
          "Hard Times",
          "Something to Believe",
          "SICKO MODE",
          "Gone",
          "range brothers (with Kendrick Lamar)",
          "Drones (feat. Kendrick Lamar, Snoop Dogg, Ty Dolla $ign & James Fauntleroy)",
          "Cherry-coloured Funk",
          "Always",
          "Let It Be - Remastered 2009",
          "Glue Song",
          "No Vacancy",
          "Instrumental",
          "Chondromalacia Patella",
          "Ripples",
          "Jack Harlow Combo Meal",
          "CAN'T SAY",
          "broken cd",
          "Afternoon in Heaven",
          "Excited",
          "Super Urus",
          "OPEN A WINDOW (feat. Tyler, The Creator)",
          "FlatBed Freestyle",
          "Wet Dream",
          "Deeper",
          "Sky",
          "Show Me",
          "Bloom",
          "Run The Jewels",
          "Shaolin Monk Motherfunk",
          "Love On The Brain",
          "Pray 4 Love (feat. The Weeknd)",
          "Figures",
          "Self Care",
          "Blackest in the Room",
          "Solo (Reprise)",
          "U Wanna Dance?",
          "Greatest Hits",
          "Under",
          "Time Today",
          "Bury Me In Gold",
          "Street Spirit (Fade Out)",
          "Harold’s",
          "Defibrillator",
          "Tired",
          "Downward Spiral",
          "ASTROTHUNDER",
          "Ful Stop",
          "Love Sosa",
          "2009",
          "dothatshit!",
          "Settle Down (with Cory Henry, Ravyn Lenae)",
          "Can’t Make U Change (feat. Ari Lennox)",
          "infinity (888) - feat. Joey Bada$$",
          "p r i d e . i s . t h e . d e v i l (with Lil Baby)",
          "Wanna Be Loved",
          "Big Titties (feat. Baauer and EarthGang)",
          "Sparks",
          "Big Bank (feat. T.I.)",
          "Electioneering",
          "Coffee",
          "M3tamorphosis (feat. Kid Cudi)",
          "New Slaves",
          "I Might Be Wrong",
          "Miss Georgia Fornia (feat. Joi)",
          "Dance or Die (feat. Saul Williams)",
          "The End (feat. BABYMETAL)",
          "On Sight",
          "Relative",
          "JPEGMAFIA TYPE BEAT",
          "Raindrop City",
          "Palmolive (feat. Pusha T & Killer Mike)",
          "Brooklyn Bridge To Chorus",
          "See You Again (feat. Kali Uchis)",
          "Nightcrawler (feat. Swae Lee & Chief Keef)",
          "Unlock It (feat. Playboi Carti)",
          "King Kunta",
          "PUPPET",
          "Beef Rap",
          "untitled 05 | 09.21.2014.",
          "Space Song",
          "Shitsville",
          "Never Meant",
          "K.O.S. (Determination)",
          "My Iron Lung",
          "FAKENGGAS",
          "Gorilla",
          "Slide Tackle",
          "PTSD",
          "Exchange",
          "Solo",
          "151 Rum",
          "Used (feat. Don Toliver)",
          "BMT!",
          "Boredom (feat. Rex Orange County & Anna of the North)",
          "Yesterday - Remastered 2009",
          "SWEET / I THOUGHT YOU WANTED TO DANCE (feat. Brent Faiyaz & Fana Hues)",
          "Scottie Beam",
          "Workin Out",
          "Trampoline",
          "(Nice Dream)",
          "Knicks",
          "Godspeed",
          "Find Your Love",
          "Creep",
          "Myth",
          "Glass Flows",
          "Scarface",
          "Melt a Bed",
          "R.I.P. Fredo (feat. Young Nudy) - Notice Me",
          "Pure Souls",
          "Good News",
          "Tightrope (feat. Big Boi) - Big Boi Vocal Edit",
          "She Roll Up",
          "Suede",
          "Scenario - LP Mix",
          "Dawning of the Season",
          "PYS (feat. DJ Paul)",
          "Thuggin’",
          "Planet Telex",
          "Don't",
          "Sept",
          "DUCKWORTH.",
          "TEMPTATION",
          "The Night Squall",
          "Acting - 2021 Remaster",
          "Momma",
          "Cosmonauts",
          "Voodoo Child (Slight Return)",
          "I Love You, I Hate You",
          "Have You In My Wilderness",
          "Drunk Drivers/Killer Whales",
          "Dangerous Liaisons",
          "Us and Them",
          "Transform (feat. Charlotte Day Wilson)",
          "GTFU (Feat. JPEGMAFIA & Cakes da Killa)",
          "Hustle Bones",
          "Read My Mind",
          "Total Entertainment Forever",
          "Father Stretch My Hands Pt. 1",
          "Plastic 100°C",
          "The Highs & The Lows",
          "Soul Food",
          "Momma Callin",
          "Unstoppable",
          "where's the confetti?",
          "The Bends",
          "Palace/Curse (feat. Tyler, The Creator & Steve Lacy)",
          "Giannis (feat. Anderson .Paak)",
          "New Person, Same Old Mistakes",
          "The Root",
          "m y . l i f e (with 21 Savage & Morray)",
          "After Last Night (with Thundercat & Bootsy Collins)",
          "Memo",
          "wokeuplikethis*",
          "Keep My Spirit Alive pt 2",
          "To All the Dancers of the World, A Round Form of Fantasy",
          "Ain't it Funny",
          "Chosen (feat. Ty Dolla $ign)",
          "For Free? - Interlude",
          "For Lovers",
          "Other People",
          "Sing About Me, I'm Dying Of Thirst",
          "Kokomo, IN",
          "IG",
          "ELON MUSK",
          "Get on the Floor",
          "2007",
          "CIA",
          "Bag Lady",
          "Morning Bell",
          "CRUCIFY ME",
          "All Falls Down",
          "2040",
          "Church",
          "Dreams and Nightmares",
          "Lost In The World",
          "Dethroned",
          "Raindrops (Insane) [with Travis Scott]",
          "Tinker Tailor Soldier Sailor Rich Man Poor Man Beggar Man Thief",
          "Up Up & Away",
          "Running Out Of Time",
          "Lipstick Lover",
          "New Tank",
          "Rose-Colored Boy",
          "Papi I Missed U",
          "When Doves Cry",
          "Doomsday",
          "Foreign",
          "War Paint (feat. Westside Gunn & Conway the Machine)",
          "Your Prime",
          "Dump",
          "Comfortably Numb",
          "Energy",
          "Feel The Love",
          "Poke It Out (with Nicki Minaj)",
          "Just In Time (feat. Lil Wayne & Kenny Mason)",
          "TAKE A CHANCE (feat. Anderson .Paak)",
          "Hold The Girl",
          "Wild Irish Roses",
          "...& On",
          "HOE (Heaven on Earth)",
          "No Reason",
          "MANIFESTO (feat. Domo Genesis)",
          "Ladies and gentlemen we are floating in space",
          "Arya (with Nigo)",
          "DIET_",
          "N.Y. State of Mind",
          "Hurt Feelings",
          "Through The Wire",
          "The Scientist",
          "Life on Mars? - 2015 Remaster",
          "DD Form 214",
          "SWGSKOOL",
          "Letter To Cornelius",
          "Sir Duke",
          "Forever - 2021 Remaster",
          "Rearview",
          "Jukebox Joints (feat. Joe Fox & Kanye West)",
          "If I Had A Dollar (feat. Benjamin Earl Turner)",
          "Hold Up, Wait!",
          "Black Star",
          "The OtherSide",
          "LUMBERJACK",
          "Packt Like Sardines In a Crushd Tin Box",
          "Wax On (Feat. Freddie Gibbs)",
          "Stupid/Asking",
          "untitled 02 | 06.23.2014.",
          "By Design",
          "the 27 club"
         ],
         "legendgroup": "",
         "marker": {
          "color": "#636efa",
          "symbol": "circle"
         },
         "mode": "markers",
         "name": "",
         "orientation": "v",
         "showlegend": false,
         "type": "scatter",
         "x": [
          58.43,
          48.04,
          45.29,
          44.9,
          44.38,
          44.2,
          42.5,
          40.25,
          38.67,
          38.08,
          37.45,
          37.38,
          36.18,
          35.58,
          35.21,
          34.48,
          34.1,
          33.74,
          33.1,
          33.02,
          32.61,
          32.27,
          32.19,
          32.04,
          31.74,
          31.47,
          30.83,
          30.51,
          30.21,
          29.64,
          29.61,
          29.58,
          29.38,
          29.26,
          28.85,
          28.6,
          28.59,
          28.55,
          27.39,
          27.31,
          27.26,
          27.26,
          27.22,
          27.21,
          27.11,
          26.27,
          26.21,
          26.01,
          25.96,
          25.92,
          25.83,
          25.37,
          25.18,
          24.92,
          24.58,
          24.58,
          24.46,
          24.46,
          24.31,
          24.28,
          24.17,
          24.16,
          24.13,
          23.73,
          23.6,
          23.57,
          23.5,
          23.24,
          23.19,
          23.09,
          23.05,
          23.01,
          22.86,
          22.81,
          22.7,
          22.69,
          22.67,
          21.68,
          21.55,
          21.5,
          21.3,
          21.05,
          20.76,
          20.74,
          20.63,
          20.61,
          20.6,
          20.51,
          20.4,
          20.38,
          20.28,
          20.23,
          20.04,
          19.95,
          19.9,
          19.85,
          19.79,
          19.62,
          19.61,
          19.5,
          19.42,
          19.41,
          19.28,
          19.15,
          19.1,
          19.01,
          19,
          18.95,
          18.92,
          18.86,
          18.78,
          18.78,
          18.76,
          18.75,
          18.73,
          18.71,
          18.67,
          18.62,
          18.56,
          18.47,
          18.36,
          18.34,
          18.27,
          18.12,
          18.1,
          17.95,
          17.94,
          17.82,
          17.76,
          17.66,
          17.59,
          17.58,
          17.56,
          17.54,
          17.43,
          17.39,
          17.36,
          17.35,
          17.31,
          17.22,
          17.03,
          17,
          16.97,
          16.85,
          16.8,
          16.79,
          16.79,
          16.79,
          16.74,
          16.67,
          16.62,
          16.52,
          16.45,
          16.41,
          16.35,
          16.35,
          16.34,
          16.27,
          16.26,
          16.2,
          16.17,
          16.15,
          16.11,
          16.11,
          16.02,
          16,
          15.99,
          15.98,
          15.96,
          15.85,
          15.82,
          15.81,
          15.79,
          15.79,
          15.76,
          15.66,
          15.6,
          15.58,
          15.57,
          15.51,
          15.45,
          15.38,
          15.35,
          15.32,
          15.24,
          15.21,
          15.17,
          15.14,
          15.09,
          15,
          15,
          14.97,
          14.96,
          14.96,
          14.95,
          14.87,
          14.81,
          14.78,
          14.67,
          14.64,
          14.6,
          14.56,
          14.48,
          14.47,
          14.42,
          14.42,
          14.28,
          14.24,
          14.2,
          14.19,
          14.15,
          14.06,
          14.03,
          14,
          14,
          14,
          13.98,
          13.97,
          13.95,
          13.94,
          13.93,
          13.9,
          13.89,
          13.87,
          13.86,
          13.83,
          13.74,
          13.72,
          13.66,
          13.66,
          13.64,
          13.61,
          13.56,
          13.55,
          13.53,
          13.48,
          13.47,
          13.43,
          13.43,
          13.36,
          13.35,
          13.33,
          13.29,
          13.22,
          13.16,
          13.15,
          13.1,
          13.04,
          13,
          13,
          12.96,
          12.92,
          12.91,
          12.84,
          12.8,
          12.8,
          12.78,
          12.74,
          12.71,
          12.68,
          12.63,
          12.6,
          12.58,
          12.53,
          12.47,
          12.41,
          12.41,
          12.41,
          12.39,
          12.34,
          12.31,
          12.3,
          12.29,
          12.28,
          12.27,
          12.26,
          12.19,
          12.13,
          12.09,
          12,
          12,
          12,
          11.97,
          11.95,
          11.95,
          11.95,
          11.94,
          11.92,
          11.92,
          11.91,
          11.91,
          11.9,
          11.9,
          11.86,
          11.82,
          11.74,
          11.73,
          11.73,
          11.7,
          11.69,
          11.68,
          11.66,
          11.66,
          11.63,
          11.61,
          11.61,
          11.6,
          11.58,
          11.54,
          11.54,
          11.53,
          11.52,
          11.52,
          11.51,
          11.51,
          11.5,
          11.48,
          11.45,
          11.42,
          11.39,
          11.38,
          11.33,
          11.28,
          11.28,
          11.27,
          11.23,
          11.21,
          11.18,
          11.15,
          11.11,
          11.1,
          11.08,
          11.07,
          11.04,
          11,
          11,
          11,
          11,
          11,
          11,
          10.96,
          10.92,
          10.91,
          10.91,
          10.85,
          10.83,
          10.79,
          10.79,
          10.78,
          10.76,
          10.66,
          10.66,
          10.63,
          10.62,
          10.61,
          10.6,
          10.55,
          10.54,
          10.5,
          10.48,
          10.47,
          10.47,
          10.47,
          10.45,
          10.42,
          10.41,
          10.39,
          10.38,
          10.36,
          10.35,
          10.35,
          10.33,
          10.31,
          10.28,
          10.25,
          10.24,
          10.24,
          10.23,
          10.22,
          10.22,
          10.18,
          10.18,
          10.17,
          10.16,
          10.14,
          10.1,
          10.1,
          10.07,
          10.05,
          10.03,
          10,
          9.98,
          9.95,
          9.94,
          9.9,
          9.88,
          9.79,
          9.78,
          9.69,
          9.69,
          9.69,
          9.68,
          9.68,
          9.67,
          9.67,
          9.67,
          9.63,
          9.59,
          9.59,
          9.58,
          9.53,
          9.52,
          9.51,
          9.5,
          9.49,
          9.48,
          9.47,
          9.46,
          9.46,
          9.44,
          9.43,
          9.4,
          9.35,
          9.35,
          9.34,
          9.33,
          9.31,
          9.29,
          9.29,
          9.29,
          9.29,
          9.28,
          9.25,
          9.25,
          9.22,
          9.22,
          9.2,
          9.19,
          9.19,
          9.16,
          9.15,
          9.15,
          9.15,
          9.14,
          9.08,
          9.08,
          9.04,
          9.01,
          9.01,
          9,
          9,
          9,
          9,
          9,
          8.99,
          8.96,
          8.92,
          8.91,
          8.91,
          8.86,
          8.85,
          8.85,
          8.83,
          8.81,
          8.81,
          8.8,
          8.8,
          8.79,
          8.79,
          8.79,
          8.78,
          8.78,
          8.77,
          8.74,
          8.72,
          8.72,
          8.72,
          8.71,
          8.7,
          8.7,
          8.69,
          8.67,
          8.67,
          8.66,
          8.65,
          8.63,
          8.62,
          8.58,
          8.57,
          8.56,
          8.56,
          8.51,
          8.51,
          8.49,
          8.48,
          8.44,
          8.43,
          8.41,
          8.4,
          8.4
         ],
         "xaxis": "x",
         "y": [
          0.756,
          0.00201,
          0.00000501,
          0.399,
          0.124,
          0.00115,
          0.579,
          0.00361,
          0.000417,
          0,
          0.637,
          0.00000312,
          0.773,
          0.0000361,
          0.00219,
          0.706,
          0.0000336,
          0.000691,
          0.00000598,
          0.00275,
          0,
          0,
          0.0000932,
          0.344,
          0.0000276,
          0.686,
          0.000498,
          0.00000232,
          0.098,
          0.00165,
          0,
          0.512,
          0.338,
          0,
          0,
          0.106,
          0,
          0,
          0,
          0,
          0.0000144,
          0,
          0.000222,
          0,
          0,
          0.0000433,
          0.00000736,
          0.0605,
          0.000121,
          0.00347,
          0.0000222,
          0,
          0,
          0.0997,
          0,
          0,
          0.0186,
          0.199,
          0,
          0.619,
          0.0000504,
          0.000871,
          0,
          0,
          0.0458,
          0.703,
          0.0012,
          0.00678,
          0.00211,
          0.00201,
          0,
          0.0000426,
          0.00000733,
          0,
          0,
          0,
          0.413,
          0,
          0.0404,
          0.354,
          0,
          0.00175,
          0.00000101,
          0.00681,
          0.0000172,
          0.000649,
          0,
          0.00024,
          0.0688,
          0.00000956,
          0,
          0.00034,
          0,
          0,
          0.36,
          0,
          0.0133,
          0.591,
          0,
          0,
          0.00707,
          0,
          0.0194,
          0,
          0.105,
          0.16,
          0.054,
          0.00000439,
          0,
          0,
          0.000361,
          0,
          0.557,
          0.0000796,
          0.0112,
          0,
          0.000464,
          0.00628,
          0.00327,
          0,
          0.0000548,
          0.0455,
          0,
          0.000577,
          0.612,
          0.0000471,
          0.00469,
          0,
          0.0000159,
          0.00143,
          0.0538,
          0,
          0.000322,
          0.000014,
          0.0065,
          0.0000182,
          0,
          0,
          0.0000911,
          0,
          0.000402,
          0,
          0.0000061,
          0,
          0.000173,
          0.0319,
          0,
          0.000125,
          0.0176,
          0,
          0,
          0,
          0.0000114,
          0.0826,
          0.0000203,
          0,
          0,
          0.328,
          0,
          0,
          0.0000734,
          0,
          0.0000157,
          0.339,
          0,
          0.107,
          0.00778,
          0.0000223,
          0.00000439,
          0.0000698,
          0,
          0.00484,
          0.000451,
          0,
          0,
          0.00585,
          0.0000368,
          0,
          0.0832,
          0,
          0,
          0,
          0.00332,
          0,
          0.000859,
          0,
          0.000969,
          0.000989,
          0.409,
          0.0466,
          0.0000132,
          0,
          0.0119,
          0,
          0.000463,
          0.00217,
          0,
          0.225,
          0,
          0,
          0.00000832,
          0.0000132,
          0.882,
          0.000123,
          0,
          0,
          0.0359,
          0.00406,
          0.001,
          0,
          0.000155,
          0.181,
          0,
          0.00000296,
          0,
          0.00268,
          0.000016,
          0,
          0.947,
          0.00000611,
          0.797,
          0,
          0.852,
          0.000131,
          0.0000352,
          0,
          0.0000751,
          0.00000461,
          0.00000363,
          0.0000741,
          0.97,
          0.0000519,
          0.0804,
          0.00000244,
          0.000121,
          0,
          0,
          0.000016,
          0,
          0,
          0,
          0,
          0,
          0.811,
          0.00691,
          0.000015,
          0,
          0,
          0,
          0,
          0,
          0,
          0.0000591,
          0.00000154,
          0,
          0,
          0.00000271,
          0,
          0.0585,
          0.808,
          0.00000529,
          0.00000407,
          0.0269,
          0,
          0,
          0.00173,
          0,
          0,
          0,
          0.0000884,
          0.0000356,
          0.00000487,
          0.0000162,
          0,
          0,
          0,
          0,
          0.0000624,
          0.00000146,
          0,
          0.0542,
          0,
          0.827,
          0.0282,
          0.00142,
          0,
          0,
          0.155,
          0.000049,
          0,
          0.000239,
          0,
          0,
          0.026,
          0,
          0,
          0.00000436,
          0.000641,
          0,
          0.00255,
          0.0000108,
          0,
          0,
          0.00187,
          0,
          0,
          0.00152,
          0.419,
          0,
          0.000183,
          0.00000481,
          0.694,
          0,
          0.0000043,
          0.15,
          0.0000145,
          0.0000481,
          0.941,
          0,
          0.000164,
          0,
          0.000905,
          0.00000975,
          0,
          0,
          0,
          0,
          0.0517,
          0,
          0.0981,
          0.962,
          0,
          0.0000109,
          0.794,
          0.0000243,
          0.0109,
          0.676,
          0,
          0.0000229,
          0.00442,
          0,
          0.00063,
          0.0000921,
          0.00000749,
          0,
          0,
          0,
          0.0134,
          0.0000264,
          0,
          0.124,
          0,
          0.0111,
          0,
          0.114,
          0,
          0,
          0.0139,
          0,
          0,
          0.00000248,
          0.00285,
          0.0000847,
          0,
          0.000522,
          0,
          0.000318,
          0.00000834,
          0.000102,
          0,
          0.261,
          0.00402,
          0.000168,
          0,
          0.000133,
          0.0908,
          0,
          0.0000445,
          0.5,
          0,
          0,
          0.134,
          0.000868,
          0.00000145,
          0,
          0.000171,
          0.719,
          0,
          0.000648,
          0.688,
          0,
          0.00131,
          0,
          0,
          0.163,
          0.312,
          0,
          0,
          0.00833,
          0.00000428,
          0.0238,
          0.0000021,
          0.00000785,
          0.559,
          0.000019,
          0,
          0,
          0.000145,
          0.00000845,
          0,
          0.00227,
          0,
          0,
          0,
          0.000373,
          0,
          0.141,
          0.000727,
          0,
          0.00671,
          0.00019,
          0,
          0,
          0.000194,
          0,
          0.000247,
          0.0834,
          0.00000277,
          0,
          0,
          0.833,
          0,
          0.0000808,
          0.0000036,
          0,
          0,
          0.344,
          0,
          0,
          0,
          0.291,
          0.000103,
          0,
          0,
          0,
          0,
          0.0087,
          0.549,
          0,
          0.798,
          0.000034,
          0.00434,
          0,
          0.000116,
          0.000374,
          0.00000373,
          0.0000445,
          0,
          0,
          0,
          0.013,
          0.703,
          0.312,
          0,
          0.0000732,
          0.0000089,
          0,
          0.26,
          0,
          0.0000309,
          0.000154,
          0.0000013,
          0.00237,
          0.0067,
          0.000543,
          0,
          0,
          0,
          0.00218,
          0.00000521,
          0.0000146,
          0.0000774,
          0.0000939,
          0,
          0,
          0,
          0.572,
          0,
          0,
          0.0000653,
          0,
          0.0496,
          0,
          0,
          0.859,
          0,
          0.00000133,
          0,
          0.000809,
          0.000197
         ],
         "yaxis": "y"
        }
       ],
       "layout": {
        "legend": {
         "tracegroupgap": 0
        },
        "margin": {
         "t": 60
        },
        "template": {
         "data": {
          "bar": [
           {
            "error_x": {
             "color": "#2a3f5f"
            },
            "error_y": {
             "color": "#2a3f5f"
            },
            "marker": {
             "line": {
              "color": "#E5ECF6",
              "width": 0.5
             },
             "pattern": {
              "fillmode": "overlay",
              "size": 10,
              "solidity": 0.2
             }
            },
            "type": "bar"
           }
          ],
          "barpolar": [
           {
            "marker": {
             "line": {
              "color": "#E5ECF6",
              "width": 0.5
             },
             "pattern": {
              "fillmode": "overlay",
              "size": 10,
              "solidity": 0.2
             }
            },
            "type": "barpolar"
           }
          ],
          "carpet": [
           {
            "aaxis": {
             "endlinecolor": "#2a3f5f",
             "gridcolor": "white",
             "linecolor": "white",
             "minorgridcolor": "white",
             "startlinecolor": "#2a3f5f"
            },
            "baxis": {
             "endlinecolor": "#2a3f5f",
             "gridcolor": "white",
             "linecolor": "white",
             "minorgridcolor": "white",
             "startlinecolor": "#2a3f5f"
            },
            "type": "carpet"
           }
          ],
          "choropleth": [
           {
            "colorbar": {
             "outlinewidth": 0,
             "ticks": ""
            },
            "type": "choropleth"
           }
          ],
          "contour": [
           {
            "colorbar": {
             "outlinewidth": 0,
             "ticks": ""
            },
            "colorscale": [
             [
              0,
              "#0d0887"
             ],
             [
              0.1111111111111111,
              "#46039f"
             ],
             [
              0.2222222222222222,
              "#7201a8"
             ],
             [
              0.3333333333333333,
              "#9c179e"
             ],
             [
              0.4444444444444444,
              "#bd3786"
             ],
             [
              0.5555555555555556,
              "#d8576b"
             ],
             [
              0.6666666666666666,
              "#ed7953"
             ],
             [
              0.7777777777777778,
              "#fb9f3a"
             ],
             [
              0.8888888888888888,
              "#fdca26"
             ],
             [
              1,
              "#f0f921"
             ]
            ],
            "type": "contour"
           }
          ],
          "contourcarpet": [
           {
            "colorbar": {
             "outlinewidth": 0,
             "ticks": ""
            },
            "type": "contourcarpet"
           }
          ],
          "heatmap": [
           {
            "colorbar": {
             "outlinewidth": 0,
             "ticks": ""
            },
            "colorscale": [
             [
              0,
              "#0d0887"
             ],
             [
              0.1111111111111111,
              "#46039f"
             ],
             [
              0.2222222222222222,
              "#7201a8"
             ],
             [
              0.3333333333333333,
              "#9c179e"
             ],
             [
              0.4444444444444444,
              "#bd3786"
             ],
             [
              0.5555555555555556,
              "#d8576b"
             ],
             [
              0.6666666666666666,
              "#ed7953"
             ],
             [
              0.7777777777777778,
              "#fb9f3a"
             ],
             [
              0.8888888888888888,
              "#fdca26"
             ],
             [
              1,
              "#f0f921"
             ]
            ],
            "type": "heatmap"
           }
          ],
          "heatmapgl": [
           {
            "colorbar": {
             "outlinewidth": 0,
             "ticks": ""
            },
            "colorscale": [
             [
              0,
              "#0d0887"
             ],
             [
              0.1111111111111111,
              "#46039f"
             ],
             [
              0.2222222222222222,
              "#7201a8"
             ],
             [
              0.3333333333333333,
              "#9c179e"
             ],
             [
              0.4444444444444444,
              "#bd3786"
             ],
             [
              0.5555555555555556,
              "#d8576b"
             ],
             [
              0.6666666666666666,
              "#ed7953"
             ],
             [
              0.7777777777777778,
              "#fb9f3a"
             ],
             [
              0.8888888888888888,
              "#fdca26"
             ],
             [
              1,
              "#f0f921"
             ]
            ],
            "type": "heatmapgl"
           }
          ],
          "histogram": [
           {
            "marker": {
             "pattern": {
              "fillmode": "overlay",
              "size": 10,
              "solidity": 0.2
             }
            },
            "type": "histogram"
           }
          ],
          "histogram2d": [
           {
            "colorbar": {
             "outlinewidth": 0,
             "ticks": ""
            },
            "colorscale": [
             [
              0,
              "#0d0887"
             ],
             [
              0.1111111111111111,
              "#46039f"
             ],
             [
              0.2222222222222222,
              "#7201a8"
             ],
             [
              0.3333333333333333,
              "#9c179e"
             ],
             [
              0.4444444444444444,
              "#bd3786"
             ],
             [
              0.5555555555555556,
              "#d8576b"
             ],
             [
              0.6666666666666666,
              "#ed7953"
             ],
             [
              0.7777777777777778,
              "#fb9f3a"
             ],
             [
              0.8888888888888888,
              "#fdca26"
             ],
             [
              1,
              "#f0f921"
             ]
            ],
            "type": "histogram2d"
           }
          ],
          "histogram2dcontour": [
           {
            "colorbar": {
             "outlinewidth": 0,
             "ticks": ""
            },
            "colorscale": [
             [
              0,
              "#0d0887"
             ],
             [
              0.1111111111111111,
              "#46039f"
             ],
             [
              0.2222222222222222,
              "#7201a8"
             ],
             [
              0.3333333333333333,
              "#9c179e"
             ],
             [
              0.4444444444444444,
              "#bd3786"
             ],
             [
              0.5555555555555556,
              "#d8576b"
             ],
             [
              0.6666666666666666,
              "#ed7953"
             ],
             [
              0.7777777777777778,
              "#fb9f3a"
             ],
             [
              0.8888888888888888,
              "#fdca26"
             ],
             [
              1,
              "#f0f921"
             ]
            ],
            "type": "histogram2dcontour"
           }
          ],
          "mesh3d": [
           {
            "colorbar": {
             "outlinewidth": 0,
             "ticks": ""
            },
            "type": "mesh3d"
           }
          ],
          "parcoords": [
           {
            "line": {
             "colorbar": {
              "outlinewidth": 0,
              "ticks": ""
             }
            },
            "type": "parcoords"
           }
          ],
          "pie": [
           {
            "automargin": true,
            "type": "pie"
           }
          ],
          "scatter": [
           {
            "fillpattern": {
             "fillmode": "overlay",
             "size": 10,
             "solidity": 0.2
            },
            "type": "scatter"
           }
          ],
          "scatter3d": [
           {
            "line": {
             "colorbar": {
              "outlinewidth": 0,
              "ticks": ""
             }
            },
            "marker": {
             "colorbar": {
              "outlinewidth": 0,
              "ticks": ""
             }
            },
            "type": "scatter3d"
           }
          ],
          "scattercarpet": [
           {
            "marker": {
             "colorbar": {
              "outlinewidth": 0,
              "ticks": ""
             }
            },
            "type": "scattercarpet"
           }
          ],
          "scattergeo": [
           {
            "marker": {
             "colorbar": {
              "outlinewidth": 0,
              "ticks": ""
             }
            },
            "type": "scattergeo"
           }
          ],
          "scattergl": [
           {
            "marker": {
             "colorbar": {
              "outlinewidth": 0,
              "ticks": ""
             }
            },
            "type": "scattergl"
           }
          ],
          "scattermapbox": [
           {
            "marker": {
             "colorbar": {
              "outlinewidth": 0,
              "ticks": ""
             }
            },
            "type": "scattermapbox"
           }
          ],
          "scatterpolar": [
           {
            "marker": {
             "colorbar": {
              "outlinewidth": 0,
              "ticks": ""
             }
            },
            "type": "scatterpolar"
           }
          ],
          "scatterpolargl": [
           {
            "marker": {
             "colorbar": {
              "outlinewidth": 0,
              "ticks": ""
             }
            },
            "type": "scatterpolargl"
           }
          ],
          "scatterternary": [
           {
            "marker": {
             "colorbar": {
              "outlinewidth": 0,
              "ticks": ""
             }
            },
            "type": "scatterternary"
           }
          ],
          "surface": [
           {
            "colorbar": {
             "outlinewidth": 0,
             "ticks": ""
            },
            "colorscale": [
             [
              0,
              "#0d0887"
             ],
             [
              0.1111111111111111,
              "#46039f"
             ],
             [
              0.2222222222222222,
              "#7201a8"
             ],
             [
              0.3333333333333333,
              "#9c179e"
             ],
             [
              0.4444444444444444,
              "#bd3786"
             ],
             [
              0.5555555555555556,
              "#d8576b"
             ],
             [
              0.6666666666666666,
              "#ed7953"
             ],
             [
              0.7777777777777778,
              "#fb9f3a"
             ],
             [
              0.8888888888888888,
              "#fdca26"
             ],
             [
              1,
              "#f0f921"
             ]
            ],
            "type": "surface"
           }
          ],
          "table": [
           {
            "cells": {
             "fill": {
              "color": "#EBF0F8"
             },
             "line": {
              "color": "white"
             }
            },
            "header": {
             "fill": {
              "color": "#C8D4E3"
             },
             "line": {
              "color": "white"
             }
            },
            "type": "table"
           }
          ]
         },
         "layout": {
          "annotationdefaults": {
           "arrowcolor": "#2a3f5f",
           "arrowhead": 0,
           "arrowwidth": 1
          },
          "autotypenumbers": "strict",
          "coloraxis": {
           "colorbar": {
            "outlinewidth": 0,
            "ticks": ""
           }
          },
          "colorscale": {
           "diverging": [
            [
             0,
             "#8e0152"
            ],
            [
             0.1,
             "#c51b7d"
            ],
            [
             0.2,
             "#de77ae"
            ],
            [
             0.3,
             "#f1b6da"
            ],
            [
             0.4,
             "#fde0ef"
            ],
            [
             0.5,
             "#f7f7f7"
            ],
            [
             0.6,
             "#e6f5d0"
            ],
            [
             0.7,
             "#b8e186"
            ],
            [
             0.8,
             "#7fbc41"
            ],
            [
             0.9,
             "#4d9221"
            ],
            [
             1,
             "#276419"
            ]
           ],
           "sequential": [
            [
             0,
             "#0d0887"
            ],
            [
             0.1111111111111111,
             "#46039f"
            ],
            [
             0.2222222222222222,
             "#7201a8"
            ],
            [
             0.3333333333333333,
             "#9c179e"
            ],
            [
             0.4444444444444444,
             "#bd3786"
            ],
            [
             0.5555555555555556,
             "#d8576b"
            ],
            [
             0.6666666666666666,
             "#ed7953"
            ],
            [
             0.7777777777777778,
             "#fb9f3a"
            ],
            [
             0.8888888888888888,
             "#fdca26"
            ],
            [
             1,
             "#f0f921"
            ]
           ],
           "sequentialminus": [
            [
             0,
             "#0d0887"
            ],
            [
             0.1111111111111111,
             "#46039f"
            ],
            [
             0.2222222222222222,
             "#7201a8"
            ],
            [
             0.3333333333333333,
             "#9c179e"
            ],
            [
             0.4444444444444444,
             "#bd3786"
            ],
            [
             0.5555555555555556,
             "#d8576b"
            ],
            [
             0.6666666666666666,
             "#ed7953"
            ],
            [
             0.7777777777777778,
             "#fb9f3a"
            ],
            [
             0.8888888888888888,
             "#fdca26"
            ],
            [
             1,
             "#f0f921"
            ]
           ]
          },
          "colorway": [
           "#636efa",
           "#EF553B",
           "#00cc96",
           "#ab63fa",
           "#FFA15A",
           "#19d3f3",
           "#FF6692",
           "#B6E880",
           "#FF97FF",
           "#FECB52"
          ],
          "font": {
           "color": "#2a3f5f"
          },
          "geo": {
           "bgcolor": "white",
           "lakecolor": "white",
           "landcolor": "#E5ECF6",
           "showlakes": true,
           "showland": true,
           "subunitcolor": "white"
          },
          "hoverlabel": {
           "align": "left"
          },
          "hovermode": "closest",
          "mapbox": {
           "style": "light"
          },
          "paper_bgcolor": "white",
          "plot_bgcolor": "#E5ECF6",
          "polar": {
           "angularaxis": {
            "gridcolor": "white",
            "linecolor": "white",
            "ticks": ""
           },
           "bgcolor": "#E5ECF6",
           "radialaxis": {
            "gridcolor": "white",
            "linecolor": "white",
            "ticks": ""
           }
          },
          "scene": {
           "xaxis": {
            "backgroundcolor": "#E5ECF6",
            "gridcolor": "white",
            "gridwidth": 2,
            "linecolor": "white",
            "showbackground": true,
            "ticks": "",
            "zerolinecolor": "white"
           },
           "yaxis": {
            "backgroundcolor": "#E5ECF6",
            "gridcolor": "white",
            "gridwidth": 2,
            "linecolor": "white",
            "showbackground": true,
            "ticks": "",
            "zerolinecolor": "white"
           },
           "zaxis": {
            "backgroundcolor": "#E5ECF6",
            "gridcolor": "white",
            "gridwidth": 2,
            "linecolor": "white",
            "showbackground": true,
            "ticks": "",
            "zerolinecolor": "white"
           }
          },
          "shapedefaults": {
           "line": {
            "color": "#2a3f5f"
           }
          },
          "ternary": {
           "aaxis": {
            "gridcolor": "white",
            "linecolor": "white",
            "ticks": ""
           },
           "baxis": {
            "gridcolor": "white",
            "linecolor": "white",
            "ticks": ""
           },
           "bgcolor": "#E5ECF6",
           "caxis": {
            "gridcolor": "white",
            "linecolor": "white",
            "ticks": ""
           }
          },
          "title": {
           "x": 0.05
          },
          "xaxis": {
           "automargin": true,
           "gridcolor": "white",
           "linecolor": "white",
           "ticks": "",
           "title": {
            "standoff": 15
           },
           "zerolinecolor": "white",
           "zerolinewidth": 2
          },
          "yaxis": {
           "automargin": true,
           "gridcolor": "white",
           "linecolor": "white",
           "ticks": "",
           "title": {
            "standoff": 15
           },
           "zerolinecolor": "white",
           "zerolinewidth": 2
          }
         }
        },
        "xaxis": {
         "anchor": "y",
         "domain": [
          0,
          1
         ],
         "title": {
          "text": "timesPlayed"
         }
        },
        "yaxis": {
         "anchor": "x",
         "domain": [
          0,
          1
         ],
         "title": {
          "text": "instrumentalness"
         }
        }
       }
      }
     },
     "metadata": {},
     "output_type": "display_data"
    },
    {
     "data": {
      "application/vnd.plotly.v1+json": {
       "config": {
        "plotlyServerURL": "https://plot.ly"
       },
       "data": [
        {
         "hovertemplate": "<b>%{hovertext}</b><br><br>timesPlayed=%{x}<br>liveness=%{y}<extra></extra>",
         "hovertext": [
          "Weird Fishes/ Arpeggi",
          "Good Will Hunting",
          "Pro Freak (with Doechii, Fatman Scoop)",
          "Present Tense",
          "the perfect pair",
          "Andromeda",
          "Nude",
          "No Surprises",
          "Never Catch Me",
          "Still",
          "Secrets (Your Fire)",
          "Meat Grinder",
          "Speech Bubbles",
          "Galaxy",
          "Runaway",
          "Motion Picture Soundtrack",
          "Troubles [Feat. T-Pain]",
          "Pluto Projector",
          "EARFQUAKE",
          "drive ME crazy!",
          "Savior",
          "Cocoa Butter Kisses",
          "Karma Police",
          "the BLACK seminole.",
          "Wesley's Theory",
          "Shine On You Crazy Diamond (Pts. 1-5)",
          "Welcome To Hell",
          "N95",
          "Concorde",
          "Chaos Space Marine",
          "Thieves In The Night",
          "Identikit",
          "15 Step",
          "family ties (with Kendrick Lamar)",
          "Self Control",
          "The Adults Are Talking",
          "diving board",
          "Walkin",
          "New N3on",
          "Chapters",
          "Heart Don't Stand a Chance",
          "Crack Sandwich",
          "Nikes",
          "Lean Beef Patty",
          "Rapp Snitch Knishes feat. Mr. Fantastik",
          "Feel No Pain (feat. Anderson .Paak & Raekwon)",
          "雨降る夜の向こう",
          "Mood Romantica",
          "Waitin' on Ya",
          "Can't Fight",
          "Ice",
          "Oh My Dis Side (feat. Quavo)",
          "Paprika",
          "Fake Plastic Trees",
          "Wunderlan",
          "Rockstar Made",
          "儚き春の一幕",
          "Faust Arp",
          "Steppa Pig",
          "Get Away",
          "Tequila Shots",
          "Hand Me Downs",
          "Flashing Lights",
          "Gold Rings (feat. Pusha T)",
          "The Lung",
          "REACH THE SUNSHINE.",
          "GONE, GONE / THANK YOU",
          "The Less I Know The Better",
          "Killshot",
          "After The Storm (feat. Tyler, The Creator & Bootsy Collins)",
          "Stop Breathing",
          "4:44",
          "Waves",
          "Stars (feat. Yasiin Bey)",
          "Potato Salad",
          "Rich Nigga Shit (feat. Young Thug)",
          "running out of time",
          "Violent Crimes",
          "Reborn",
          "Heart To Heart",
          "Count Me Out",
          "Selfless",
          "Nothing",
          "Hummingbird (Metro Boomin & James Blake)",
          "Tactics",
          "Sober to Death",
          "Love Galore (feat. Travis Scott)",
          "Rusty (feat. Domo Genesis & Earl Sweatshirt)",
          "The Only Thing",
          "Guilt Trip",
          "Baby I'm Bleeding",
          "Big K.R.I.T.",
          "Off Da Zoinkys",
          "Brand New 911",
          "二十歳の恋",
          "Westbrook (with A$AP Ferg)",
          "Didn't Cha Know",
          "Scott Mescudi Vs. The World",
          "George Bondo (feat. Conway the Machine & Benny The Butcher)",
          "Burfict!",
          "EdEddnEddy",
          "Respiration",
          "Sunglasses",
          "Devil In A New Dress",
          "Oh, Maker",
          "Gabby (feat. Janelle Monáe)",
          "A Punch Up at a Wedding",
          "A Rush of Blood to the Head",
          "No More Parties In LA",
          "BLACK BALLOONS | 13LACK 13ALLOONZ [FEAT. TWELVE'LEN & GOLDLINK | TWELVE'LEN + GOLDL1NK]",
          "Bittersweet",
          "Long Time - Intro",
          "Glass Eyes",
          "Anti-Matter",
          "Eternal Summer",
          "Make Me Feel",
          "Sandstorm (feat. JID)",
          "Neon Valley Street",
          "Hidden Place",
          "Place",
          "Pink + White",
          "Suddenly",
          "Kingdom Hearts Key (ft. redveil)",
          "Walk Em Down (Don't Kill Civilians) [with 21 Savage & feat. Mustafa]",
          "Lucky",
          "Leak It (feat. Chlöe)",
          "Chocolate Matter",
          "Eye/I and I/Nation",
          "Kenan Vs. Kel",
          "Them Changes",
          "Wake Up",
          "Yeah Right",
          "Pink Matter",
          "Mirror",
          "Wild Time",
          "Say It Ain't So",
          "327 (feat. Tyler, The Creator & Billie Essco)",
          "Comin Out Strong (feat. The Weeknd)",
          "Crown",
          "Under The Sun (with J. Cole & Lute feat. DaBaby)",
          "Silhouette",
          "United In Grief",
          "Beta Male Strategies",
          "Tears (feat. Caroline Polachek)",
          "Umbrella (with 21 Savage & Young Nudy)",
          "The Tourist",
          "Aquemini",
          "It's Not up to You",
          "High and Dry",
          "Heartless",
          "White Ferrari",
          "Fentanyl Tester",
          "John Woo Flick (with Benny The Butcher & Westside Gunn)",
          "1539 N. Calvert",
          "Stay Flo",
          "Fuck the Nordic Model",
          "Hellfire",
          "Milk - 2021 Remaster",
          "Tell Me What I Don't Know",
          "If Tomorrow's Not Here",
          "Crosshairs",
          "I THINK",
          "Soundtrack 2 My Life",
          "FAMJAM4000",
          "X-Wing",
          "Sky Might Fall",
          "Kimiga Nakunara",
          "Idioteque",
          "Consideration",
          "Akasaka Sad",
          "A.D.H.D",
          "Design: 2: 3",
          "Behind The Moon Shadow",
          "Angel",
          "I'm In It",
          "This Is Why",
          "Picture Me Better",
          "Angels (feat. Saba)",
          "FIND YOUR WINGS (feat. Roy Ayers, Sydney Bennett & Kali Uchis)",
          "Faucet Failure",
          "Surround Sound (feat. 21 Savage & Baby Tate)",
          "We Major",
          "One Beer",
          "A Toshi no Aki",
          "夕暮れ",
          "On That Time",
          "Savage Good Boy",
          "Enter Galactic (Love Connection Part I)",
          "The Numbers",
          "Fingerprints",
          "I'M THAT GIRL",
          "Poetic Justice",
          "Bodys",
          "Smokin Out The Window",
          "Solo Dolo (Nightmare)",
          "Complicated",
          "LOVE. FEAT. ZACARI.",
          "Say You Will",
          "Money Trees",
          "Grimy Waifu",
          "Dark Red",
          "G.O.M.D",
          "Mr. Rager",
          "Next Levels",
          "BUSY / SIRENS",
          "Netflix & Dusse",
          "Acting",
          "In Love",
          "Justin Scott",
          "911 / Mr. Lonely (feat. Frank Ocean & Steve Lacy)",
          "Joga",
          "Ode To The Mets",
          "pg baby",
          "Ain't No Way [Feat. 6LACK, Rico Nasty, J.I.D, Jasiah, Kitty Ca$h]",
          "A BOY IS A GUN*",
          "Sunny day",
          "Symphony",
          "Blow My High (Members Only)",
          "Storm",
          "Better Days (feat. Johnta Austin)",
          "How to Disappear Completely",
          "STOP TRYING TO BE GOD",
          "Kid A",
          "NEW MAGIC WAND",
          "I Ain't Got Time!",
          "Head High",
          "Bad Habit",
          "Photosynthesis",
          "The Defence",
          "Send It Up",
          "Inside Out",
          "Envy",
          "In Sound, We Found Each Other",
          "Nothing Good Ever Happens At The Goddamn Thirsty Crow",
          "Yellow",
          "6 Star Wanted Level",
          "Right Now (feat. Pi'erre Bourne)",
          "Out On Sunny Sunday",
          "Dynasty",
          "Had Enough (feat. Quavo & Offset)",
          "Bound 2",
          "24",
          "DIRTY!",
          "Kokorono Madobeni Akai Hanao Kazatte",
          "Kuso Yakan Hikoh",
          "A Bigger Paper Bag",
          "LIFE",
          "Where Ya Get Ya Coke From?",
          "Television / So Far So Good",
          "Euphoria (feat. Travis Scott & Kaash Paige)",
          "So Appalled",
          "Hurricane",
          "Thot Tactics",
          "REBOUND!",
          "FEEL.",
          "New Choppa",
          "BREAK MY SOUL",
          "Where I Belong",
          "Norman fucking Rockwell",
          "Videotape",
          "Nas Is Like",
          "m.A.A.d city",
          "Why Are Sundays So Depressing",
          "Orange Juice Jones",
          "Slow",
          "Wolves",
          "Crime Pays",
          "God Loves You",
          "I Wonder",
          "Aux Cord",
          "26",
          "Hard Times",
          "Something to Believe",
          "SICKO MODE",
          "Gone",
          "range brothers (with Kendrick Lamar)",
          "Drones (feat. Kendrick Lamar, Snoop Dogg, Ty Dolla $ign & James Fauntleroy)",
          "Cherry-coloured Funk",
          "Always",
          "Let It Be - Remastered 2009",
          "Glue Song",
          "No Vacancy",
          "Instrumental",
          "Chondromalacia Patella",
          "Ripples",
          "Jack Harlow Combo Meal",
          "CAN'T SAY",
          "broken cd",
          "Afternoon in Heaven",
          "Excited",
          "Super Urus",
          "OPEN A WINDOW (feat. Tyler, The Creator)",
          "FlatBed Freestyle",
          "Wet Dream",
          "Deeper",
          "Sky",
          "Show Me",
          "Bloom",
          "Run The Jewels",
          "Shaolin Monk Motherfunk",
          "Love On The Brain",
          "Pray 4 Love (feat. The Weeknd)",
          "Figures",
          "Self Care",
          "Blackest in the Room",
          "Solo (Reprise)",
          "U Wanna Dance?",
          "Greatest Hits",
          "Under",
          "Time Today",
          "Bury Me In Gold",
          "Street Spirit (Fade Out)",
          "Harold’s",
          "Defibrillator",
          "Tired",
          "Downward Spiral",
          "ASTROTHUNDER",
          "Ful Stop",
          "Love Sosa",
          "2009",
          "dothatshit!",
          "Settle Down (with Cory Henry, Ravyn Lenae)",
          "Can’t Make U Change (feat. Ari Lennox)",
          "infinity (888) - feat. Joey Bada$$",
          "p r i d e . i s . t h e . d e v i l (with Lil Baby)",
          "Wanna Be Loved",
          "Big Titties (feat. Baauer and EarthGang)",
          "Sparks",
          "Big Bank (feat. T.I.)",
          "Electioneering",
          "Coffee",
          "M3tamorphosis (feat. Kid Cudi)",
          "New Slaves",
          "I Might Be Wrong",
          "Miss Georgia Fornia (feat. Joi)",
          "Dance or Die (feat. Saul Williams)",
          "The End (feat. BABYMETAL)",
          "On Sight",
          "Relative",
          "JPEGMAFIA TYPE BEAT",
          "Raindrop City",
          "Palmolive (feat. Pusha T & Killer Mike)",
          "Brooklyn Bridge To Chorus",
          "See You Again (feat. Kali Uchis)",
          "Nightcrawler (feat. Swae Lee & Chief Keef)",
          "Unlock It (feat. Playboi Carti)",
          "King Kunta",
          "PUPPET",
          "Beef Rap",
          "untitled 05 | 09.21.2014.",
          "Space Song",
          "Shitsville",
          "Never Meant",
          "K.O.S. (Determination)",
          "My Iron Lung",
          "FAKENGGAS",
          "Gorilla",
          "Slide Tackle",
          "PTSD",
          "Exchange",
          "Solo",
          "151 Rum",
          "Used (feat. Don Toliver)",
          "BMT!",
          "Boredom (feat. Rex Orange County & Anna of the North)",
          "Yesterday - Remastered 2009",
          "SWEET / I THOUGHT YOU WANTED TO DANCE (feat. Brent Faiyaz & Fana Hues)",
          "Scottie Beam",
          "Workin Out",
          "Trampoline",
          "(Nice Dream)",
          "Knicks",
          "Godspeed",
          "Find Your Love",
          "Creep",
          "Myth",
          "Glass Flows",
          "Scarface",
          "Melt a Bed",
          "R.I.P. Fredo (feat. Young Nudy) - Notice Me",
          "Pure Souls",
          "Good News",
          "Tightrope (feat. Big Boi) - Big Boi Vocal Edit",
          "She Roll Up",
          "Suede",
          "Scenario - LP Mix",
          "Dawning of the Season",
          "PYS (feat. DJ Paul)",
          "Thuggin’",
          "Planet Telex",
          "Don't",
          "Sept",
          "DUCKWORTH.",
          "TEMPTATION",
          "The Night Squall",
          "Acting - 2021 Remaster",
          "Momma",
          "Cosmonauts",
          "Voodoo Child (Slight Return)",
          "I Love You, I Hate You",
          "Have You In My Wilderness",
          "Drunk Drivers/Killer Whales",
          "Dangerous Liaisons",
          "Us and Them",
          "Transform (feat. Charlotte Day Wilson)",
          "GTFU (Feat. JPEGMAFIA & Cakes da Killa)",
          "Hustle Bones",
          "Read My Mind",
          "Total Entertainment Forever",
          "Father Stretch My Hands Pt. 1",
          "Plastic 100°C",
          "The Highs & The Lows",
          "Soul Food",
          "Momma Callin",
          "Unstoppable",
          "where's the confetti?",
          "The Bends",
          "Palace/Curse (feat. Tyler, The Creator & Steve Lacy)",
          "Giannis (feat. Anderson .Paak)",
          "New Person, Same Old Mistakes",
          "The Root",
          "m y . l i f e (with 21 Savage & Morray)",
          "After Last Night (with Thundercat & Bootsy Collins)",
          "Memo",
          "wokeuplikethis*",
          "Keep My Spirit Alive pt 2",
          "To All the Dancers of the World, A Round Form of Fantasy",
          "Ain't it Funny",
          "Chosen (feat. Ty Dolla $ign)",
          "For Free? - Interlude",
          "For Lovers",
          "Other People",
          "Sing About Me, I'm Dying Of Thirst",
          "Kokomo, IN",
          "IG",
          "ELON MUSK",
          "Get on the Floor",
          "2007",
          "CIA",
          "Bag Lady",
          "Morning Bell",
          "CRUCIFY ME",
          "All Falls Down",
          "2040",
          "Church",
          "Dreams and Nightmares",
          "Lost In The World",
          "Dethroned",
          "Raindrops (Insane) [with Travis Scott]",
          "Tinker Tailor Soldier Sailor Rich Man Poor Man Beggar Man Thief",
          "Up Up & Away",
          "Running Out Of Time",
          "Lipstick Lover",
          "New Tank",
          "Rose-Colored Boy",
          "Papi I Missed U",
          "When Doves Cry",
          "Doomsday",
          "Foreign",
          "War Paint (feat. Westside Gunn & Conway the Machine)",
          "Your Prime",
          "Dump",
          "Comfortably Numb",
          "Energy",
          "Feel The Love",
          "Poke It Out (with Nicki Minaj)",
          "Just In Time (feat. Lil Wayne & Kenny Mason)",
          "TAKE A CHANCE (feat. Anderson .Paak)",
          "Hold The Girl",
          "Wild Irish Roses",
          "...& On",
          "HOE (Heaven on Earth)",
          "No Reason",
          "MANIFESTO (feat. Domo Genesis)",
          "Ladies and gentlemen we are floating in space",
          "Arya (with Nigo)",
          "DIET_",
          "N.Y. State of Mind",
          "Hurt Feelings",
          "Through The Wire",
          "The Scientist",
          "Life on Mars? - 2015 Remaster",
          "DD Form 214",
          "SWGSKOOL",
          "Letter To Cornelius",
          "Sir Duke",
          "Forever - 2021 Remaster",
          "Rearview",
          "Jukebox Joints (feat. Joe Fox & Kanye West)",
          "If I Had A Dollar (feat. Benjamin Earl Turner)",
          "Hold Up, Wait!",
          "Black Star",
          "The OtherSide",
          "LUMBERJACK",
          "Packt Like Sardines In a Crushd Tin Box",
          "Wax On (Feat. Freddie Gibbs)",
          "Stupid/Asking",
          "untitled 02 | 06.23.2014.",
          "By Design",
          "the 27 club"
         ],
         "legendgroup": "",
         "marker": {
          "color": "#636efa",
          "symbol": "circle"
         },
         "mode": "markers",
         "name": "",
         "orientation": "v",
         "showlegend": false,
         "type": "scatter",
         "x": [
          58.43,
          48.04,
          45.29,
          44.9,
          44.38,
          44.2,
          42.5,
          40.25,
          38.67,
          38.08,
          37.45,
          37.38,
          36.18,
          35.58,
          35.21,
          34.48,
          34.1,
          33.74,
          33.1,
          33.02,
          32.61,
          32.27,
          32.19,
          32.04,
          31.74,
          31.47,
          30.83,
          30.51,
          30.21,
          29.64,
          29.61,
          29.58,
          29.38,
          29.26,
          28.85,
          28.6,
          28.59,
          28.55,
          27.39,
          27.31,
          27.26,
          27.26,
          27.22,
          27.21,
          27.11,
          26.27,
          26.21,
          26.01,
          25.96,
          25.92,
          25.83,
          25.37,
          25.18,
          24.92,
          24.58,
          24.58,
          24.46,
          24.46,
          24.31,
          24.28,
          24.17,
          24.16,
          24.13,
          23.73,
          23.6,
          23.57,
          23.5,
          23.24,
          23.19,
          23.09,
          23.05,
          23.01,
          22.86,
          22.81,
          22.7,
          22.69,
          22.67,
          21.68,
          21.55,
          21.5,
          21.3,
          21.05,
          20.76,
          20.74,
          20.63,
          20.61,
          20.6,
          20.51,
          20.4,
          20.38,
          20.28,
          20.23,
          20.04,
          19.95,
          19.9,
          19.85,
          19.79,
          19.62,
          19.61,
          19.5,
          19.42,
          19.41,
          19.28,
          19.15,
          19.1,
          19.01,
          19,
          18.95,
          18.92,
          18.86,
          18.78,
          18.78,
          18.76,
          18.75,
          18.73,
          18.71,
          18.67,
          18.62,
          18.56,
          18.47,
          18.36,
          18.34,
          18.27,
          18.12,
          18.1,
          17.95,
          17.94,
          17.82,
          17.76,
          17.66,
          17.59,
          17.58,
          17.56,
          17.54,
          17.43,
          17.39,
          17.36,
          17.35,
          17.31,
          17.22,
          17.03,
          17,
          16.97,
          16.85,
          16.8,
          16.79,
          16.79,
          16.79,
          16.74,
          16.67,
          16.62,
          16.52,
          16.45,
          16.41,
          16.35,
          16.35,
          16.34,
          16.27,
          16.26,
          16.2,
          16.17,
          16.15,
          16.11,
          16.11,
          16.02,
          16,
          15.99,
          15.98,
          15.96,
          15.85,
          15.82,
          15.81,
          15.79,
          15.79,
          15.76,
          15.66,
          15.6,
          15.58,
          15.57,
          15.51,
          15.45,
          15.38,
          15.35,
          15.32,
          15.24,
          15.21,
          15.17,
          15.14,
          15.09,
          15,
          15,
          14.97,
          14.96,
          14.96,
          14.95,
          14.87,
          14.81,
          14.78,
          14.67,
          14.64,
          14.6,
          14.56,
          14.48,
          14.47,
          14.42,
          14.42,
          14.28,
          14.24,
          14.2,
          14.19,
          14.15,
          14.06,
          14.03,
          14,
          14,
          14,
          13.98,
          13.97,
          13.95,
          13.94,
          13.93,
          13.9,
          13.89,
          13.87,
          13.86,
          13.83,
          13.74,
          13.72,
          13.66,
          13.66,
          13.64,
          13.61,
          13.56,
          13.55,
          13.53,
          13.48,
          13.47,
          13.43,
          13.43,
          13.36,
          13.35,
          13.33,
          13.29,
          13.22,
          13.16,
          13.15,
          13.1,
          13.04,
          13,
          13,
          12.96,
          12.92,
          12.91,
          12.84,
          12.8,
          12.8,
          12.78,
          12.74,
          12.71,
          12.68,
          12.63,
          12.6,
          12.58,
          12.53,
          12.47,
          12.41,
          12.41,
          12.41,
          12.39,
          12.34,
          12.31,
          12.3,
          12.29,
          12.28,
          12.27,
          12.26,
          12.19,
          12.13,
          12.09,
          12,
          12,
          12,
          11.97,
          11.95,
          11.95,
          11.95,
          11.94,
          11.92,
          11.92,
          11.91,
          11.91,
          11.9,
          11.9,
          11.86,
          11.82,
          11.74,
          11.73,
          11.73,
          11.7,
          11.69,
          11.68,
          11.66,
          11.66,
          11.63,
          11.61,
          11.61,
          11.6,
          11.58,
          11.54,
          11.54,
          11.53,
          11.52,
          11.52,
          11.51,
          11.51,
          11.5,
          11.48,
          11.45,
          11.42,
          11.39,
          11.38,
          11.33,
          11.28,
          11.28,
          11.27,
          11.23,
          11.21,
          11.18,
          11.15,
          11.11,
          11.1,
          11.08,
          11.07,
          11.04,
          11,
          11,
          11,
          11,
          11,
          11,
          10.96,
          10.92,
          10.91,
          10.91,
          10.85,
          10.83,
          10.79,
          10.79,
          10.78,
          10.76,
          10.66,
          10.66,
          10.63,
          10.62,
          10.61,
          10.6,
          10.55,
          10.54,
          10.5,
          10.48,
          10.47,
          10.47,
          10.47,
          10.45,
          10.42,
          10.41,
          10.39,
          10.38,
          10.36,
          10.35,
          10.35,
          10.33,
          10.31,
          10.28,
          10.25,
          10.24,
          10.24,
          10.23,
          10.22,
          10.22,
          10.18,
          10.18,
          10.17,
          10.16,
          10.14,
          10.1,
          10.1,
          10.07,
          10.05,
          10.03,
          10,
          9.98,
          9.95,
          9.94,
          9.9,
          9.88,
          9.79,
          9.78,
          9.69,
          9.69,
          9.69,
          9.68,
          9.68,
          9.67,
          9.67,
          9.67,
          9.63,
          9.59,
          9.59,
          9.58,
          9.53,
          9.52,
          9.51,
          9.5,
          9.49,
          9.48,
          9.47,
          9.46,
          9.46,
          9.44,
          9.43,
          9.4,
          9.35,
          9.35,
          9.34,
          9.33,
          9.31,
          9.29,
          9.29,
          9.29,
          9.29,
          9.28,
          9.25,
          9.25,
          9.22,
          9.22,
          9.2,
          9.19,
          9.19,
          9.16,
          9.15,
          9.15,
          9.15,
          9.14,
          9.08,
          9.08,
          9.04,
          9.01,
          9.01,
          9,
          9,
          9,
          9,
          9,
          8.99,
          8.96,
          8.92,
          8.91,
          8.91,
          8.86,
          8.85,
          8.85,
          8.83,
          8.81,
          8.81,
          8.8,
          8.8,
          8.79,
          8.79,
          8.79,
          8.78,
          8.78,
          8.77,
          8.74,
          8.72,
          8.72,
          8.72,
          8.71,
          8.7,
          8.7,
          8.69,
          8.67,
          8.67,
          8.66,
          8.65,
          8.63,
          8.62,
          8.58,
          8.57,
          8.56,
          8.56,
          8.51,
          8.51,
          8.49,
          8.48,
          8.44,
          8.43,
          8.41,
          8.4,
          8.4
         ],
         "xaxis": "x",
         "y": [
          0.0908,
          0.192,
          0.197,
          0.11,
          0.102,
          0.358,
          0.0857,
          0.113,
          0.261,
          0.0561,
          0.416,
          0.797,
          0.102,
          0.0762,
          0.513,
          0.13,
          0.176,
          0.118,
          0.795,
          0.384,
          0.303,
          0.145,
          0.172,
          0.118,
          0.26,
          0.107,
          0.0931,
          0.119,
          0.113,
          0.26,
          0.138,
          0.136,
          0.0934,
          0.231,
          0.369,
          0.314,
          0.0645,
          0.291,
          0.106,
          0.155,
          0.237,
          0.128,
          0.108,
          0.338,
          0.504,
          0.0835,
          0.096,
          0.18,
          0.112,
          0.152,
          0.132,
          0.131,
          0.304,
          0.202,
          0.114,
          0.142,
          0.23,
          0.0964,
          0.104,
          0.193,
          0.527,
          0.064,
          0.386,
          0.253,
          0.111,
          0.627,
          0.146,
          0.167,
          0.0502,
          0.218,
          0.0984,
          0.477,
          0.339,
          0.249,
          0.213,
          0.112,
          0.528,
          0.187,
          0.195,
          0.109,
          0.153,
          0.0889,
          0.0658,
          0.254,
          0.207,
          0.323,
          0.162,
          0.396,
          0.107,
          0.129,
          0.416,
          0.0987,
          0.621,
          0.231,
          0.128,
          0.0479,
          0.284,
          0.132,
          0.222,
          0.122,
          0.389,
          0.199,
          0.106,
          0.158,
          0.184,
          0.25,
          0.0919,
          0.29,
          0.221,
          0.0956,
          0.192,
          0.83,
          0.138,
          0.106,
          0.0833,
          0.334,
          0.0712,
          0.299,
          0.112,
          0.119,
          0.417,
          0.495,
          0.321,
          0.173,
          0.111,
          0.289,
          0.103,
          0.435,
          0.175,
          0.101,
          0.118,
          0.382,
          0.106,
          0.0804,
          0.21,
          0.07,
          0.103,
          0.118,
          0.112,
          0.409,
          0.118,
          0.143,
          0.161,
          0.177,
          0.359,
          0.11,
          0.176,
          0.0569,
          0.0896,
          0.248,
          0.298,
          0.917,
          0.135,
          0.0991,
          0.0821,
          0.109,
          0.589,
          0.168,
          0.134,
          0.329,
          0.602,
          0.129,
          0.37,
          0.15,
          0.695,
          0.245,
          0.116,
          0.0915,
          0.0869,
          0.374,
          0.108,
          0.127,
          0.0961,
          0.37,
          0.0668,
          0.13,
          0.105,
          0.37,
          0.0976,
          0.0952,
          0.257,
          0.045,
          0.633,
          0.106,
          0.118,
          0.265,
          0.18,
          0.449,
          0.0755,
          0.117,
          0.124,
          0.246,
          0.132,
          0.351,
          0.136,
          0.0703,
          0.153,
          0.103,
          0.224,
          0.461,
          0.119,
          0.331,
          0.14,
          0.262,
          0.101,
          0.32,
          0.104,
          0.102,
          0.306,
          0.313,
          0.0721,
          0.101,
          0.179,
          0.348,
          0.496,
          0.0881,
          0.138,
          0.274,
          0.494,
          0.139,
          0.11,
          0.135,
          0.278,
          0.673,
          0.148,
          0.19,
          0.383,
          0.593,
          0.6,
          0.282,
          0.102,
          0.113,
          0.288,
          0.229,
          0.234,
          0.127,
          0.203,
          0.0863,
          0.125,
          0.129,
          0.113,
          0.351,
          0.0582,
          0.104,
          0.251,
          0.101,
          0.109,
          0.397,
          0.121,
          0.12,
          0.63,
          0.127,
          0.135,
          0.187,
          0.139,
          0.329,
          0.27,
          0.357,
          0.0923,
          0.0889,
          0.0598,
          0.44,
          0.111,
          0.644,
          0.284,
          0.134,
          0.242,
          0.745,
          0.432,
          0.086,
          0.116,
          0.0219,
          0.319,
          0.124,
          0.0699,
          0.124,
          0.448,
          0.0991,
          0.105,
          0.111,
          0.105,
          0.175,
          0.203,
          0.164,
          0.0995,
          0.0757,
          0.118,
          0.66,
          0.587,
          0.111,
          0.363,
          0.193,
          0.158,
          0.234,
          0.464,
          0.169,
          0.128,
          0.112,
          0.216,
          0.101,
          0.0789,
          0.151,
          0.146,
          0.119,
          0.716,
          0.0848,
          0.221,
          0.0446,
          0.409,
          0.0897,
          0.108,
          0.179,
          0.624,
          0.0907,
          0.111,
          0.21,
          0.111,
          0.619,
          0.111,
          0.0969,
          0.279,
          0.32,
          0.183,
          0.102,
          0.0986,
          0.0982,
          0.0892,
          0.104,
          0.381,
          0.291,
          0.112,
          0.156,
          0.096,
          0.11,
          0.131,
          0.251,
          0.316,
          0.28,
          0.398,
          0.426,
          0.0831,
          0.307,
          0.0833,
          0.109,
          0.132,
          0.133,
          0.154,
          0.588,
          0.715,
          0.151,
          0.145,
          0.652,
          0.153,
          0.109,
          0.38,
          0.225,
          0.104,
          0.0573,
          0.353,
          0.135,
          0.161,
          0.33,
          0.322,
          0.696,
          0.324,
          0.0886,
          0.55,
          0.211,
          0.19,
          0.384,
          0.225,
          0.123,
          0.121,
          0.0286,
          0.129,
          0.171,
          0.0955,
          0.329,
          0.239,
          0.179,
          0.269,
          0.112,
          0.219,
          0.102,
          0.103,
          0.111,
          0.411,
          0.147,
          0.161,
          0.607,
          0.0963,
          0.269,
          0.258,
          0.874,
          0.0919,
          0.0947,
          0.665,
          0.168,
          0.0517,
          0.169,
          0.332,
          0.103,
          0.159,
          0.634,
          0.256,
          0.214,
          0.343,
          0.38,
          0.152,
          0.538,
          0.654,
          0.174,
          0.332,
          0.109,
          0.101,
          0.11,
          0.363,
          0.243,
          0.399,
          0.0491,
          0.0933,
          0.214,
          0.0608,
          0.125,
          0.15,
          0.155,
          0.208,
          0.382,
          0.0809,
          0.37,
          0.116,
          0.63,
          0.13,
          0.0926,
          0.278,
          0.36,
          0.0334,
          0.288,
          0.426,
          0.0969,
          0.34,
          0.161,
          0.139,
          0.112,
          0.295,
          0.281,
          0.427,
          0.64,
          0.343,
          0.106,
          0.362,
          0.0664,
          0.25,
          0.152,
          0.031,
          0.103,
          0.443,
          0.0773,
          0.17,
          0.6,
          0.172,
          0.9,
          0.0837,
          0.534,
          0.099,
          0.329,
          0.217,
          0.155,
          0.123,
          0.3,
          0.307,
          0.365,
          0.308,
          0.167,
          0.234,
          0.136,
          0.362,
          0.227,
          0.113,
          0.158,
          0.11,
          0.0539,
          0.379,
          0.0839,
          0.112,
          0.0792,
          0.0956,
          0.245,
          0.242,
          0.135,
          0.653,
          0.27,
          0.0633,
          0.527,
          0.0933,
          0.342,
          0.372,
          0.644,
          0.111,
          0.653
         ],
         "yaxis": "y"
        }
       ],
       "layout": {
        "legend": {
         "tracegroupgap": 0
        },
        "margin": {
         "t": 60
        },
        "template": {
         "data": {
          "bar": [
           {
            "error_x": {
             "color": "#2a3f5f"
            },
            "error_y": {
             "color": "#2a3f5f"
            },
            "marker": {
             "line": {
              "color": "#E5ECF6",
              "width": 0.5
             },
             "pattern": {
              "fillmode": "overlay",
              "size": 10,
              "solidity": 0.2
             }
            },
            "type": "bar"
           }
          ],
          "barpolar": [
           {
            "marker": {
             "line": {
              "color": "#E5ECF6",
              "width": 0.5
             },
             "pattern": {
              "fillmode": "overlay",
              "size": 10,
              "solidity": 0.2
             }
            },
            "type": "barpolar"
           }
          ],
          "carpet": [
           {
            "aaxis": {
             "endlinecolor": "#2a3f5f",
             "gridcolor": "white",
             "linecolor": "white",
             "minorgridcolor": "white",
             "startlinecolor": "#2a3f5f"
            },
            "baxis": {
             "endlinecolor": "#2a3f5f",
             "gridcolor": "white",
             "linecolor": "white",
             "minorgridcolor": "white",
             "startlinecolor": "#2a3f5f"
            },
            "type": "carpet"
           }
          ],
          "choropleth": [
           {
            "colorbar": {
             "outlinewidth": 0,
             "ticks": ""
            },
            "type": "choropleth"
           }
          ],
          "contour": [
           {
            "colorbar": {
             "outlinewidth": 0,
             "ticks": ""
            },
            "colorscale": [
             [
              0,
              "#0d0887"
             ],
             [
              0.1111111111111111,
              "#46039f"
             ],
             [
              0.2222222222222222,
              "#7201a8"
             ],
             [
              0.3333333333333333,
              "#9c179e"
             ],
             [
              0.4444444444444444,
              "#bd3786"
             ],
             [
              0.5555555555555556,
              "#d8576b"
             ],
             [
              0.6666666666666666,
              "#ed7953"
             ],
             [
              0.7777777777777778,
              "#fb9f3a"
             ],
             [
              0.8888888888888888,
              "#fdca26"
             ],
             [
              1,
              "#f0f921"
             ]
            ],
            "type": "contour"
           }
          ],
          "contourcarpet": [
           {
            "colorbar": {
             "outlinewidth": 0,
             "ticks": ""
            },
            "type": "contourcarpet"
           }
          ],
          "heatmap": [
           {
            "colorbar": {
             "outlinewidth": 0,
             "ticks": ""
            },
            "colorscale": [
             [
              0,
              "#0d0887"
             ],
             [
              0.1111111111111111,
              "#46039f"
             ],
             [
              0.2222222222222222,
              "#7201a8"
             ],
             [
              0.3333333333333333,
              "#9c179e"
             ],
             [
              0.4444444444444444,
              "#bd3786"
             ],
             [
              0.5555555555555556,
              "#d8576b"
             ],
             [
              0.6666666666666666,
              "#ed7953"
             ],
             [
              0.7777777777777778,
              "#fb9f3a"
             ],
             [
              0.8888888888888888,
              "#fdca26"
             ],
             [
              1,
              "#f0f921"
             ]
            ],
            "type": "heatmap"
           }
          ],
          "heatmapgl": [
           {
            "colorbar": {
             "outlinewidth": 0,
             "ticks": ""
            },
            "colorscale": [
             [
              0,
              "#0d0887"
             ],
             [
              0.1111111111111111,
              "#46039f"
             ],
             [
              0.2222222222222222,
              "#7201a8"
             ],
             [
              0.3333333333333333,
              "#9c179e"
             ],
             [
              0.4444444444444444,
              "#bd3786"
             ],
             [
              0.5555555555555556,
              "#d8576b"
             ],
             [
              0.6666666666666666,
              "#ed7953"
             ],
             [
              0.7777777777777778,
              "#fb9f3a"
             ],
             [
              0.8888888888888888,
              "#fdca26"
             ],
             [
              1,
              "#f0f921"
             ]
            ],
            "type": "heatmapgl"
           }
          ],
          "histogram": [
           {
            "marker": {
             "pattern": {
              "fillmode": "overlay",
              "size": 10,
              "solidity": 0.2
             }
            },
            "type": "histogram"
           }
          ],
          "histogram2d": [
           {
            "colorbar": {
             "outlinewidth": 0,
             "ticks": ""
            },
            "colorscale": [
             [
              0,
              "#0d0887"
             ],
             [
              0.1111111111111111,
              "#46039f"
             ],
             [
              0.2222222222222222,
              "#7201a8"
             ],
             [
              0.3333333333333333,
              "#9c179e"
             ],
             [
              0.4444444444444444,
              "#bd3786"
             ],
             [
              0.5555555555555556,
              "#d8576b"
             ],
             [
              0.6666666666666666,
              "#ed7953"
             ],
             [
              0.7777777777777778,
              "#fb9f3a"
             ],
             [
              0.8888888888888888,
              "#fdca26"
             ],
             [
              1,
              "#f0f921"
             ]
            ],
            "type": "histogram2d"
           }
          ],
          "histogram2dcontour": [
           {
            "colorbar": {
             "outlinewidth": 0,
             "ticks": ""
            },
            "colorscale": [
             [
              0,
              "#0d0887"
             ],
             [
              0.1111111111111111,
              "#46039f"
             ],
             [
              0.2222222222222222,
              "#7201a8"
             ],
             [
              0.3333333333333333,
              "#9c179e"
             ],
             [
              0.4444444444444444,
              "#bd3786"
             ],
             [
              0.5555555555555556,
              "#d8576b"
             ],
             [
              0.6666666666666666,
              "#ed7953"
             ],
             [
              0.7777777777777778,
              "#fb9f3a"
             ],
             [
              0.8888888888888888,
              "#fdca26"
             ],
             [
              1,
              "#f0f921"
             ]
            ],
            "type": "histogram2dcontour"
           }
          ],
          "mesh3d": [
           {
            "colorbar": {
             "outlinewidth": 0,
             "ticks": ""
            },
            "type": "mesh3d"
           }
          ],
          "parcoords": [
           {
            "line": {
             "colorbar": {
              "outlinewidth": 0,
              "ticks": ""
             }
            },
            "type": "parcoords"
           }
          ],
          "pie": [
           {
            "automargin": true,
            "type": "pie"
           }
          ],
          "scatter": [
           {
            "fillpattern": {
             "fillmode": "overlay",
             "size": 10,
             "solidity": 0.2
            },
            "type": "scatter"
           }
          ],
          "scatter3d": [
           {
            "line": {
             "colorbar": {
              "outlinewidth": 0,
              "ticks": ""
             }
            },
            "marker": {
             "colorbar": {
              "outlinewidth": 0,
              "ticks": ""
             }
            },
            "type": "scatter3d"
           }
          ],
          "scattercarpet": [
           {
            "marker": {
             "colorbar": {
              "outlinewidth": 0,
              "ticks": ""
             }
            },
            "type": "scattercarpet"
           }
          ],
          "scattergeo": [
           {
            "marker": {
             "colorbar": {
              "outlinewidth": 0,
              "ticks": ""
             }
            },
            "type": "scattergeo"
           }
          ],
          "scattergl": [
           {
            "marker": {
             "colorbar": {
              "outlinewidth": 0,
              "ticks": ""
             }
            },
            "type": "scattergl"
           }
          ],
          "scattermapbox": [
           {
            "marker": {
             "colorbar": {
              "outlinewidth": 0,
              "ticks": ""
             }
            },
            "type": "scattermapbox"
           }
          ],
          "scatterpolar": [
           {
            "marker": {
             "colorbar": {
              "outlinewidth": 0,
              "ticks": ""
             }
            },
            "type": "scatterpolar"
           }
          ],
          "scatterpolargl": [
           {
            "marker": {
             "colorbar": {
              "outlinewidth": 0,
              "ticks": ""
             }
            },
            "type": "scatterpolargl"
           }
          ],
          "scatterternary": [
           {
            "marker": {
             "colorbar": {
              "outlinewidth": 0,
              "ticks": ""
             }
            },
            "type": "scatterternary"
           }
          ],
          "surface": [
           {
            "colorbar": {
             "outlinewidth": 0,
             "ticks": ""
            },
            "colorscale": [
             [
              0,
              "#0d0887"
             ],
             [
              0.1111111111111111,
              "#46039f"
             ],
             [
              0.2222222222222222,
              "#7201a8"
             ],
             [
              0.3333333333333333,
              "#9c179e"
             ],
             [
              0.4444444444444444,
              "#bd3786"
             ],
             [
              0.5555555555555556,
              "#d8576b"
             ],
             [
              0.6666666666666666,
              "#ed7953"
             ],
             [
              0.7777777777777778,
              "#fb9f3a"
             ],
             [
              0.8888888888888888,
              "#fdca26"
             ],
             [
              1,
              "#f0f921"
             ]
            ],
            "type": "surface"
           }
          ],
          "table": [
           {
            "cells": {
             "fill": {
              "color": "#EBF0F8"
             },
             "line": {
              "color": "white"
             }
            },
            "header": {
             "fill": {
              "color": "#C8D4E3"
             },
             "line": {
              "color": "white"
             }
            },
            "type": "table"
           }
          ]
         },
         "layout": {
          "annotationdefaults": {
           "arrowcolor": "#2a3f5f",
           "arrowhead": 0,
           "arrowwidth": 1
          },
          "autotypenumbers": "strict",
          "coloraxis": {
           "colorbar": {
            "outlinewidth": 0,
            "ticks": ""
           }
          },
          "colorscale": {
           "diverging": [
            [
             0,
             "#8e0152"
            ],
            [
             0.1,
             "#c51b7d"
            ],
            [
             0.2,
             "#de77ae"
            ],
            [
             0.3,
             "#f1b6da"
            ],
            [
             0.4,
             "#fde0ef"
            ],
            [
             0.5,
             "#f7f7f7"
            ],
            [
             0.6,
             "#e6f5d0"
            ],
            [
             0.7,
             "#b8e186"
            ],
            [
             0.8,
             "#7fbc41"
            ],
            [
             0.9,
             "#4d9221"
            ],
            [
             1,
             "#276419"
            ]
           ],
           "sequential": [
            [
             0,
             "#0d0887"
            ],
            [
             0.1111111111111111,
             "#46039f"
            ],
            [
             0.2222222222222222,
             "#7201a8"
            ],
            [
             0.3333333333333333,
             "#9c179e"
            ],
            [
             0.4444444444444444,
             "#bd3786"
            ],
            [
             0.5555555555555556,
             "#d8576b"
            ],
            [
             0.6666666666666666,
             "#ed7953"
            ],
            [
             0.7777777777777778,
             "#fb9f3a"
            ],
            [
             0.8888888888888888,
             "#fdca26"
            ],
            [
             1,
             "#f0f921"
            ]
           ],
           "sequentialminus": [
            [
             0,
             "#0d0887"
            ],
            [
             0.1111111111111111,
             "#46039f"
            ],
            [
             0.2222222222222222,
             "#7201a8"
            ],
            [
             0.3333333333333333,
             "#9c179e"
            ],
            [
             0.4444444444444444,
             "#bd3786"
            ],
            [
             0.5555555555555556,
             "#d8576b"
            ],
            [
             0.6666666666666666,
             "#ed7953"
            ],
            [
             0.7777777777777778,
             "#fb9f3a"
            ],
            [
             0.8888888888888888,
             "#fdca26"
            ],
            [
             1,
             "#f0f921"
            ]
           ]
          },
          "colorway": [
           "#636efa",
           "#EF553B",
           "#00cc96",
           "#ab63fa",
           "#FFA15A",
           "#19d3f3",
           "#FF6692",
           "#B6E880",
           "#FF97FF",
           "#FECB52"
          ],
          "font": {
           "color": "#2a3f5f"
          },
          "geo": {
           "bgcolor": "white",
           "lakecolor": "white",
           "landcolor": "#E5ECF6",
           "showlakes": true,
           "showland": true,
           "subunitcolor": "white"
          },
          "hoverlabel": {
           "align": "left"
          },
          "hovermode": "closest",
          "mapbox": {
           "style": "light"
          },
          "paper_bgcolor": "white",
          "plot_bgcolor": "#E5ECF6",
          "polar": {
           "angularaxis": {
            "gridcolor": "white",
            "linecolor": "white",
            "ticks": ""
           },
           "bgcolor": "#E5ECF6",
           "radialaxis": {
            "gridcolor": "white",
            "linecolor": "white",
            "ticks": ""
           }
          },
          "scene": {
           "xaxis": {
            "backgroundcolor": "#E5ECF6",
            "gridcolor": "white",
            "gridwidth": 2,
            "linecolor": "white",
            "showbackground": true,
            "ticks": "",
            "zerolinecolor": "white"
           },
           "yaxis": {
            "backgroundcolor": "#E5ECF6",
            "gridcolor": "white",
            "gridwidth": 2,
            "linecolor": "white",
            "showbackground": true,
            "ticks": "",
            "zerolinecolor": "white"
           },
           "zaxis": {
            "backgroundcolor": "#E5ECF6",
            "gridcolor": "white",
            "gridwidth": 2,
            "linecolor": "white",
            "showbackground": true,
            "ticks": "",
            "zerolinecolor": "white"
           }
          },
          "shapedefaults": {
           "line": {
            "color": "#2a3f5f"
           }
          },
          "ternary": {
           "aaxis": {
            "gridcolor": "white",
            "linecolor": "white",
            "ticks": ""
           },
           "baxis": {
            "gridcolor": "white",
            "linecolor": "white",
            "ticks": ""
           },
           "bgcolor": "#E5ECF6",
           "caxis": {
            "gridcolor": "white",
            "linecolor": "white",
            "ticks": ""
           }
          },
          "title": {
           "x": 0.05
          },
          "xaxis": {
           "automargin": true,
           "gridcolor": "white",
           "linecolor": "white",
           "ticks": "",
           "title": {
            "standoff": 15
           },
           "zerolinecolor": "white",
           "zerolinewidth": 2
          },
          "yaxis": {
           "automargin": true,
           "gridcolor": "white",
           "linecolor": "white",
           "ticks": "",
           "title": {
            "standoff": 15
           },
           "zerolinecolor": "white",
           "zerolinewidth": 2
          }
         }
        },
        "xaxis": {
         "anchor": "y",
         "domain": [
          0,
          1
         ],
         "title": {
          "text": "timesPlayed"
         }
        },
        "yaxis": {
         "anchor": "x",
         "domain": [
          0,
          1
         ],
         "title": {
          "text": "liveness"
         }
        }
       }
      }
     },
     "metadata": {},
     "output_type": "display_data"
    },
    {
     "data": {
      "application/vnd.plotly.v1+json": {
       "config": {
        "plotlyServerURL": "https://plot.ly"
       },
       "data": [
        {
         "hovertemplate": "<b>%{hovertext}</b><br><br>timesPlayed=%{x}<br>valence=%{y}<extra></extra>",
         "hovertext": [
          "Weird Fishes/ Arpeggi",
          "Good Will Hunting",
          "Pro Freak (with Doechii, Fatman Scoop)",
          "Present Tense",
          "the perfect pair",
          "Andromeda",
          "Nude",
          "No Surprises",
          "Never Catch Me",
          "Still",
          "Secrets (Your Fire)",
          "Meat Grinder",
          "Speech Bubbles",
          "Galaxy",
          "Runaway",
          "Motion Picture Soundtrack",
          "Troubles [Feat. T-Pain]",
          "Pluto Projector",
          "EARFQUAKE",
          "drive ME crazy!",
          "Savior",
          "Cocoa Butter Kisses",
          "Karma Police",
          "the BLACK seminole.",
          "Wesley's Theory",
          "Shine On You Crazy Diamond (Pts. 1-5)",
          "Welcome To Hell",
          "N95",
          "Concorde",
          "Chaos Space Marine",
          "Thieves In The Night",
          "Identikit",
          "15 Step",
          "family ties (with Kendrick Lamar)",
          "Self Control",
          "The Adults Are Talking",
          "diving board",
          "Walkin",
          "New N3on",
          "Chapters",
          "Heart Don't Stand a Chance",
          "Crack Sandwich",
          "Nikes",
          "Lean Beef Patty",
          "Rapp Snitch Knishes feat. Mr. Fantastik",
          "Feel No Pain (feat. Anderson .Paak & Raekwon)",
          "雨降る夜の向こう",
          "Mood Romantica",
          "Waitin' on Ya",
          "Can't Fight",
          "Ice",
          "Oh My Dis Side (feat. Quavo)",
          "Paprika",
          "Fake Plastic Trees",
          "Wunderlan",
          "Rockstar Made",
          "儚き春の一幕",
          "Faust Arp",
          "Steppa Pig",
          "Get Away",
          "Tequila Shots",
          "Hand Me Downs",
          "Flashing Lights",
          "Gold Rings (feat. Pusha T)",
          "The Lung",
          "REACH THE SUNSHINE.",
          "GONE, GONE / THANK YOU",
          "The Less I Know The Better",
          "Killshot",
          "After The Storm (feat. Tyler, The Creator & Bootsy Collins)",
          "Stop Breathing",
          "4:44",
          "Waves",
          "Stars (feat. Yasiin Bey)",
          "Potato Salad",
          "Rich Nigga Shit (feat. Young Thug)",
          "running out of time",
          "Violent Crimes",
          "Reborn",
          "Heart To Heart",
          "Count Me Out",
          "Selfless",
          "Nothing",
          "Hummingbird (Metro Boomin & James Blake)",
          "Tactics",
          "Sober to Death",
          "Love Galore (feat. Travis Scott)",
          "Rusty (feat. Domo Genesis & Earl Sweatshirt)",
          "The Only Thing",
          "Guilt Trip",
          "Baby I'm Bleeding",
          "Big K.R.I.T.",
          "Off Da Zoinkys",
          "Brand New 911",
          "二十歳の恋",
          "Westbrook (with A$AP Ferg)",
          "Didn't Cha Know",
          "Scott Mescudi Vs. The World",
          "George Bondo (feat. Conway the Machine & Benny The Butcher)",
          "Burfict!",
          "EdEddnEddy",
          "Respiration",
          "Sunglasses",
          "Devil In A New Dress",
          "Oh, Maker",
          "Gabby (feat. Janelle Monáe)",
          "A Punch Up at a Wedding",
          "A Rush of Blood to the Head",
          "No More Parties In LA",
          "BLACK BALLOONS | 13LACK 13ALLOONZ [FEAT. TWELVE'LEN & GOLDLINK | TWELVE'LEN + GOLDL1NK]",
          "Bittersweet",
          "Long Time - Intro",
          "Glass Eyes",
          "Anti-Matter",
          "Eternal Summer",
          "Make Me Feel",
          "Sandstorm (feat. JID)",
          "Neon Valley Street",
          "Hidden Place",
          "Place",
          "Pink + White",
          "Suddenly",
          "Kingdom Hearts Key (ft. redveil)",
          "Walk Em Down (Don't Kill Civilians) [with 21 Savage & feat. Mustafa]",
          "Lucky",
          "Leak It (feat. Chlöe)",
          "Chocolate Matter",
          "Eye/I and I/Nation",
          "Kenan Vs. Kel",
          "Them Changes",
          "Wake Up",
          "Yeah Right",
          "Pink Matter",
          "Mirror",
          "Wild Time",
          "Say It Ain't So",
          "327 (feat. Tyler, The Creator & Billie Essco)",
          "Comin Out Strong (feat. The Weeknd)",
          "Crown",
          "Under The Sun (with J. Cole & Lute feat. DaBaby)",
          "Silhouette",
          "United In Grief",
          "Beta Male Strategies",
          "Tears (feat. Caroline Polachek)",
          "Umbrella (with 21 Savage & Young Nudy)",
          "The Tourist",
          "Aquemini",
          "It's Not up to You",
          "High and Dry",
          "Heartless",
          "White Ferrari",
          "Fentanyl Tester",
          "John Woo Flick (with Benny The Butcher & Westside Gunn)",
          "1539 N. Calvert",
          "Stay Flo",
          "Fuck the Nordic Model",
          "Hellfire",
          "Milk - 2021 Remaster",
          "Tell Me What I Don't Know",
          "If Tomorrow's Not Here",
          "Crosshairs",
          "I THINK",
          "Soundtrack 2 My Life",
          "FAMJAM4000",
          "X-Wing",
          "Sky Might Fall",
          "Kimiga Nakunara",
          "Idioteque",
          "Consideration",
          "Akasaka Sad",
          "A.D.H.D",
          "Design: 2: 3",
          "Behind The Moon Shadow",
          "Angel",
          "I'm In It",
          "This Is Why",
          "Picture Me Better",
          "Angels (feat. Saba)",
          "FIND YOUR WINGS (feat. Roy Ayers, Sydney Bennett & Kali Uchis)",
          "Faucet Failure",
          "Surround Sound (feat. 21 Savage & Baby Tate)",
          "We Major",
          "One Beer",
          "A Toshi no Aki",
          "夕暮れ",
          "On That Time",
          "Savage Good Boy",
          "Enter Galactic (Love Connection Part I)",
          "The Numbers",
          "Fingerprints",
          "I'M THAT GIRL",
          "Poetic Justice",
          "Bodys",
          "Smokin Out The Window",
          "Solo Dolo (Nightmare)",
          "Complicated",
          "LOVE. FEAT. ZACARI.",
          "Say You Will",
          "Money Trees",
          "Grimy Waifu",
          "Dark Red",
          "G.O.M.D",
          "Mr. Rager",
          "Next Levels",
          "BUSY / SIRENS",
          "Netflix & Dusse",
          "Acting",
          "In Love",
          "Justin Scott",
          "911 / Mr. Lonely (feat. Frank Ocean & Steve Lacy)",
          "Joga",
          "Ode To The Mets",
          "pg baby",
          "Ain't No Way [Feat. 6LACK, Rico Nasty, J.I.D, Jasiah, Kitty Ca$h]",
          "A BOY IS A GUN*",
          "Sunny day",
          "Symphony",
          "Blow My High (Members Only)",
          "Storm",
          "Better Days (feat. Johnta Austin)",
          "How to Disappear Completely",
          "STOP TRYING TO BE GOD",
          "Kid A",
          "NEW MAGIC WAND",
          "I Ain't Got Time!",
          "Head High",
          "Bad Habit",
          "Photosynthesis",
          "The Defence",
          "Send It Up",
          "Inside Out",
          "Envy",
          "In Sound, We Found Each Other",
          "Nothing Good Ever Happens At The Goddamn Thirsty Crow",
          "Yellow",
          "6 Star Wanted Level",
          "Right Now (feat. Pi'erre Bourne)",
          "Out On Sunny Sunday",
          "Dynasty",
          "Had Enough (feat. Quavo & Offset)",
          "Bound 2",
          "24",
          "DIRTY!",
          "Kokorono Madobeni Akai Hanao Kazatte",
          "Kuso Yakan Hikoh",
          "A Bigger Paper Bag",
          "LIFE",
          "Where Ya Get Ya Coke From?",
          "Television / So Far So Good",
          "Euphoria (feat. Travis Scott & Kaash Paige)",
          "So Appalled",
          "Hurricane",
          "Thot Tactics",
          "REBOUND!",
          "FEEL.",
          "New Choppa",
          "BREAK MY SOUL",
          "Where I Belong",
          "Norman fucking Rockwell",
          "Videotape",
          "Nas Is Like",
          "m.A.A.d city",
          "Why Are Sundays So Depressing",
          "Orange Juice Jones",
          "Slow",
          "Wolves",
          "Crime Pays",
          "God Loves You",
          "I Wonder",
          "Aux Cord",
          "26",
          "Hard Times",
          "Something to Believe",
          "SICKO MODE",
          "Gone",
          "range brothers (with Kendrick Lamar)",
          "Drones (feat. Kendrick Lamar, Snoop Dogg, Ty Dolla $ign & James Fauntleroy)",
          "Cherry-coloured Funk",
          "Always",
          "Let It Be - Remastered 2009",
          "Glue Song",
          "No Vacancy",
          "Instrumental",
          "Chondromalacia Patella",
          "Ripples",
          "Jack Harlow Combo Meal",
          "CAN'T SAY",
          "broken cd",
          "Afternoon in Heaven",
          "Excited",
          "Super Urus",
          "OPEN A WINDOW (feat. Tyler, The Creator)",
          "FlatBed Freestyle",
          "Wet Dream",
          "Deeper",
          "Sky",
          "Show Me",
          "Bloom",
          "Run The Jewels",
          "Shaolin Monk Motherfunk",
          "Love On The Brain",
          "Pray 4 Love (feat. The Weeknd)",
          "Figures",
          "Self Care",
          "Blackest in the Room",
          "Solo (Reprise)",
          "U Wanna Dance?",
          "Greatest Hits",
          "Under",
          "Time Today",
          "Bury Me In Gold",
          "Street Spirit (Fade Out)",
          "Harold’s",
          "Defibrillator",
          "Tired",
          "Downward Spiral",
          "ASTROTHUNDER",
          "Ful Stop",
          "Love Sosa",
          "2009",
          "dothatshit!",
          "Settle Down (with Cory Henry, Ravyn Lenae)",
          "Can’t Make U Change (feat. Ari Lennox)",
          "infinity (888) - feat. Joey Bada$$",
          "p r i d e . i s . t h e . d e v i l (with Lil Baby)",
          "Wanna Be Loved",
          "Big Titties (feat. Baauer and EarthGang)",
          "Sparks",
          "Big Bank (feat. T.I.)",
          "Electioneering",
          "Coffee",
          "M3tamorphosis (feat. Kid Cudi)",
          "New Slaves",
          "I Might Be Wrong",
          "Miss Georgia Fornia (feat. Joi)",
          "Dance or Die (feat. Saul Williams)",
          "The End (feat. BABYMETAL)",
          "On Sight",
          "Relative",
          "JPEGMAFIA TYPE BEAT",
          "Raindrop City",
          "Palmolive (feat. Pusha T & Killer Mike)",
          "Brooklyn Bridge To Chorus",
          "See You Again (feat. Kali Uchis)",
          "Nightcrawler (feat. Swae Lee & Chief Keef)",
          "Unlock It (feat. Playboi Carti)",
          "King Kunta",
          "PUPPET",
          "Beef Rap",
          "untitled 05 | 09.21.2014.",
          "Space Song",
          "Shitsville",
          "Never Meant",
          "K.O.S. (Determination)",
          "My Iron Lung",
          "FAKENGGAS",
          "Gorilla",
          "Slide Tackle",
          "PTSD",
          "Exchange",
          "Solo",
          "151 Rum",
          "Used (feat. Don Toliver)",
          "BMT!",
          "Boredom (feat. Rex Orange County & Anna of the North)",
          "Yesterday - Remastered 2009",
          "SWEET / I THOUGHT YOU WANTED TO DANCE (feat. Brent Faiyaz & Fana Hues)",
          "Scottie Beam",
          "Workin Out",
          "Trampoline",
          "(Nice Dream)",
          "Knicks",
          "Godspeed",
          "Find Your Love",
          "Creep",
          "Myth",
          "Glass Flows",
          "Scarface",
          "Melt a Bed",
          "R.I.P. Fredo (feat. Young Nudy) - Notice Me",
          "Pure Souls",
          "Good News",
          "Tightrope (feat. Big Boi) - Big Boi Vocal Edit",
          "She Roll Up",
          "Suede",
          "Scenario - LP Mix",
          "Dawning of the Season",
          "PYS (feat. DJ Paul)",
          "Thuggin’",
          "Planet Telex",
          "Don't",
          "Sept",
          "DUCKWORTH.",
          "TEMPTATION",
          "The Night Squall",
          "Acting - 2021 Remaster",
          "Momma",
          "Cosmonauts",
          "Voodoo Child (Slight Return)",
          "I Love You, I Hate You",
          "Have You In My Wilderness",
          "Drunk Drivers/Killer Whales",
          "Dangerous Liaisons",
          "Us and Them",
          "Transform (feat. Charlotte Day Wilson)",
          "GTFU (Feat. JPEGMAFIA & Cakes da Killa)",
          "Hustle Bones",
          "Read My Mind",
          "Total Entertainment Forever",
          "Father Stretch My Hands Pt. 1",
          "Plastic 100°C",
          "The Highs & The Lows",
          "Soul Food",
          "Momma Callin",
          "Unstoppable",
          "where's the confetti?",
          "The Bends",
          "Palace/Curse (feat. Tyler, The Creator & Steve Lacy)",
          "Giannis (feat. Anderson .Paak)",
          "New Person, Same Old Mistakes",
          "The Root",
          "m y . l i f e (with 21 Savage & Morray)",
          "After Last Night (with Thundercat & Bootsy Collins)",
          "Memo",
          "wokeuplikethis*",
          "Keep My Spirit Alive pt 2",
          "To All the Dancers of the World, A Round Form of Fantasy",
          "Ain't it Funny",
          "Chosen (feat. Ty Dolla $ign)",
          "For Free? - Interlude",
          "For Lovers",
          "Other People",
          "Sing About Me, I'm Dying Of Thirst",
          "Kokomo, IN",
          "IG",
          "ELON MUSK",
          "Get on the Floor",
          "2007",
          "CIA",
          "Bag Lady",
          "Morning Bell",
          "CRUCIFY ME",
          "All Falls Down",
          "2040",
          "Church",
          "Dreams and Nightmares",
          "Lost In The World",
          "Dethroned",
          "Raindrops (Insane) [with Travis Scott]",
          "Tinker Tailor Soldier Sailor Rich Man Poor Man Beggar Man Thief",
          "Up Up & Away",
          "Running Out Of Time",
          "Lipstick Lover",
          "New Tank",
          "Rose-Colored Boy",
          "Papi I Missed U",
          "When Doves Cry",
          "Doomsday",
          "Foreign",
          "War Paint (feat. Westside Gunn & Conway the Machine)",
          "Your Prime",
          "Dump",
          "Comfortably Numb",
          "Energy",
          "Feel The Love",
          "Poke It Out (with Nicki Minaj)",
          "Just In Time (feat. Lil Wayne & Kenny Mason)",
          "TAKE A CHANCE (feat. Anderson .Paak)",
          "Hold The Girl",
          "Wild Irish Roses",
          "...& On",
          "HOE (Heaven on Earth)",
          "No Reason",
          "MANIFESTO (feat. Domo Genesis)",
          "Ladies and gentlemen we are floating in space",
          "Arya (with Nigo)",
          "DIET_",
          "N.Y. State of Mind",
          "Hurt Feelings",
          "Through The Wire",
          "The Scientist",
          "Life on Mars? - 2015 Remaster",
          "DD Form 214",
          "SWGSKOOL",
          "Letter To Cornelius",
          "Sir Duke",
          "Forever - 2021 Remaster",
          "Rearview",
          "Jukebox Joints (feat. Joe Fox & Kanye West)",
          "If I Had A Dollar (feat. Benjamin Earl Turner)",
          "Hold Up, Wait!",
          "Black Star",
          "The OtherSide",
          "LUMBERJACK",
          "Packt Like Sardines In a Crushd Tin Box",
          "Wax On (Feat. Freddie Gibbs)",
          "Stupid/Asking",
          "untitled 02 | 06.23.2014.",
          "By Design",
          "the 27 club"
         ],
         "legendgroup": "",
         "marker": {
          "color": "#636efa",
          "symbol": "circle"
         },
         "mode": "markers",
         "name": "",
         "orientation": "v",
         "showlegend": false,
         "type": "scatter",
         "x": [
          58.43,
          48.04,
          45.29,
          44.9,
          44.38,
          44.2,
          42.5,
          40.25,
          38.67,
          38.08,
          37.45,
          37.38,
          36.18,
          35.58,
          35.21,
          34.48,
          34.1,
          33.74,
          33.1,
          33.02,
          32.61,
          32.27,
          32.19,
          32.04,
          31.74,
          31.47,
          30.83,
          30.51,
          30.21,
          29.64,
          29.61,
          29.58,
          29.38,
          29.26,
          28.85,
          28.6,
          28.59,
          28.55,
          27.39,
          27.31,
          27.26,
          27.26,
          27.22,
          27.21,
          27.11,
          26.27,
          26.21,
          26.01,
          25.96,
          25.92,
          25.83,
          25.37,
          25.18,
          24.92,
          24.58,
          24.58,
          24.46,
          24.46,
          24.31,
          24.28,
          24.17,
          24.16,
          24.13,
          23.73,
          23.6,
          23.57,
          23.5,
          23.24,
          23.19,
          23.09,
          23.05,
          23.01,
          22.86,
          22.81,
          22.7,
          22.69,
          22.67,
          21.68,
          21.55,
          21.5,
          21.3,
          21.05,
          20.76,
          20.74,
          20.63,
          20.61,
          20.6,
          20.51,
          20.4,
          20.38,
          20.28,
          20.23,
          20.04,
          19.95,
          19.9,
          19.85,
          19.79,
          19.62,
          19.61,
          19.5,
          19.42,
          19.41,
          19.28,
          19.15,
          19.1,
          19.01,
          19,
          18.95,
          18.92,
          18.86,
          18.78,
          18.78,
          18.76,
          18.75,
          18.73,
          18.71,
          18.67,
          18.62,
          18.56,
          18.47,
          18.36,
          18.34,
          18.27,
          18.12,
          18.1,
          17.95,
          17.94,
          17.82,
          17.76,
          17.66,
          17.59,
          17.58,
          17.56,
          17.54,
          17.43,
          17.39,
          17.36,
          17.35,
          17.31,
          17.22,
          17.03,
          17,
          16.97,
          16.85,
          16.8,
          16.79,
          16.79,
          16.79,
          16.74,
          16.67,
          16.62,
          16.52,
          16.45,
          16.41,
          16.35,
          16.35,
          16.34,
          16.27,
          16.26,
          16.2,
          16.17,
          16.15,
          16.11,
          16.11,
          16.02,
          16,
          15.99,
          15.98,
          15.96,
          15.85,
          15.82,
          15.81,
          15.79,
          15.79,
          15.76,
          15.66,
          15.6,
          15.58,
          15.57,
          15.51,
          15.45,
          15.38,
          15.35,
          15.32,
          15.24,
          15.21,
          15.17,
          15.14,
          15.09,
          15,
          15,
          14.97,
          14.96,
          14.96,
          14.95,
          14.87,
          14.81,
          14.78,
          14.67,
          14.64,
          14.6,
          14.56,
          14.48,
          14.47,
          14.42,
          14.42,
          14.28,
          14.24,
          14.2,
          14.19,
          14.15,
          14.06,
          14.03,
          14,
          14,
          14,
          13.98,
          13.97,
          13.95,
          13.94,
          13.93,
          13.9,
          13.89,
          13.87,
          13.86,
          13.83,
          13.74,
          13.72,
          13.66,
          13.66,
          13.64,
          13.61,
          13.56,
          13.55,
          13.53,
          13.48,
          13.47,
          13.43,
          13.43,
          13.36,
          13.35,
          13.33,
          13.29,
          13.22,
          13.16,
          13.15,
          13.1,
          13.04,
          13,
          13,
          12.96,
          12.92,
          12.91,
          12.84,
          12.8,
          12.8,
          12.78,
          12.74,
          12.71,
          12.68,
          12.63,
          12.6,
          12.58,
          12.53,
          12.47,
          12.41,
          12.41,
          12.41,
          12.39,
          12.34,
          12.31,
          12.3,
          12.29,
          12.28,
          12.27,
          12.26,
          12.19,
          12.13,
          12.09,
          12,
          12,
          12,
          11.97,
          11.95,
          11.95,
          11.95,
          11.94,
          11.92,
          11.92,
          11.91,
          11.91,
          11.9,
          11.9,
          11.86,
          11.82,
          11.74,
          11.73,
          11.73,
          11.7,
          11.69,
          11.68,
          11.66,
          11.66,
          11.63,
          11.61,
          11.61,
          11.6,
          11.58,
          11.54,
          11.54,
          11.53,
          11.52,
          11.52,
          11.51,
          11.51,
          11.5,
          11.48,
          11.45,
          11.42,
          11.39,
          11.38,
          11.33,
          11.28,
          11.28,
          11.27,
          11.23,
          11.21,
          11.18,
          11.15,
          11.11,
          11.1,
          11.08,
          11.07,
          11.04,
          11,
          11,
          11,
          11,
          11,
          11,
          10.96,
          10.92,
          10.91,
          10.91,
          10.85,
          10.83,
          10.79,
          10.79,
          10.78,
          10.76,
          10.66,
          10.66,
          10.63,
          10.62,
          10.61,
          10.6,
          10.55,
          10.54,
          10.5,
          10.48,
          10.47,
          10.47,
          10.47,
          10.45,
          10.42,
          10.41,
          10.39,
          10.38,
          10.36,
          10.35,
          10.35,
          10.33,
          10.31,
          10.28,
          10.25,
          10.24,
          10.24,
          10.23,
          10.22,
          10.22,
          10.18,
          10.18,
          10.17,
          10.16,
          10.14,
          10.1,
          10.1,
          10.07,
          10.05,
          10.03,
          10,
          9.98,
          9.95,
          9.94,
          9.9,
          9.88,
          9.79,
          9.78,
          9.69,
          9.69,
          9.69,
          9.68,
          9.68,
          9.67,
          9.67,
          9.67,
          9.63,
          9.59,
          9.59,
          9.58,
          9.53,
          9.52,
          9.51,
          9.5,
          9.49,
          9.48,
          9.47,
          9.46,
          9.46,
          9.44,
          9.43,
          9.4,
          9.35,
          9.35,
          9.34,
          9.33,
          9.31,
          9.29,
          9.29,
          9.29,
          9.29,
          9.28,
          9.25,
          9.25,
          9.22,
          9.22,
          9.2,
          9.19,
          9.19,
          9.16,
          9.15,
          9.15,
          9.15,
          9.14,
          9.08,
          9.08,
          9.04,
          9.01,
          9.01,
          9,
          9,
          9,
          9,
          9,
          8.99,
          8.96,
          8.92,
          8.91,
          8.91,
          8.86,
          8.85,
          8.85,
          8.83,
          8.81,
          8.81,
          8.8,
          8.8,
          8.79,
          8.79,
          8.79,
          8.78,
          8.78,
          8.77,
          8.74,
          8.72,
          8.72,
          8.72,
          8.71,
          8.7,
          8.7,
          8.69,
          8.67,
          8.67,
          8.66,
          8.65,
          8.63,
          8.62,
          8.58,
          8.57,
          8.56,
          8.56,
          8.51,
          8.51,
          8.49,
          8.48,
          8.44,
          8.43,
          8.41,
          8.4,
          8.4
         ],
         "xaxis": "x",
         "y": [
          0.199,
          0.368,
          0.212,
          0.336,
          0.6,
          0.188,
          0.167,
          0.118,
          0.283,
          0.765,
          0.826,
          0.881,
          0.145,
          0.235,
          0.111,
          0.0427,
          0.899,
          0.188,
          0.413,
          0.477,
          0.685,
          0.203,
          0.324,
          0.103,
          0.507,
          0.0402,
          0.466,
          0.408,
          0.314,
          0.439,
          0.558,
          0.35,
          0.844,
          0.144,
          0.452,
          0.649,
          0.697,
          0.386,
          0.948,
          0.671,
          0.506,
          0.683,
          0.123,
          0.738,
          0.825,
          0.581,
          0.511,
          0.853,
          0.641,
          0.768,
          0.272,
          0.205,
          0.416,
          0.135,
          0.421,
          0.381,
          0.0708,
          0.225,
          0.839,
          0.372,
          0.22,
          0.336,
          0.43,
          0.391,
          0.302,
          0.0392,
          0.471,
          0.785,
          0.374,
          0.843,
          0.155,
          0.431,
          0.0681,
          0.384,
          0.684,
          0.62,
          0.705,
          0.0397,
          0.227,
          0.643,
          0.495,
          0.0888,
          0.378,
          0.256,
          0.13,
          0.236,
          0.409,
          0.364,
          0.498,
          0.579,
          0.828,
          0.376,
          0.373,
          0.716,
          0.274,
          0.432,
          0.816,
          0.583,
          0.719,
          0.749,
          0.326,
          0.528,
          0.114,
          0.206,
          0.31,
          0.657,
          0.562,
          0.116,
          0.681,
          0.692,
          0.277,
          0.358,
          0.0632,
          0.791,
          0.326,
          0.697,
          0.33,
          0.453,
          0.447,
          0.04,
          0.549,
          0.585,
          0.357,
          0.179,
          0.195,
          0.295,
          0.184,
          0.515,
          0.352,
          0.704,
          0.29,
          0.285,
          0.494,
          0.274,
          0.233,
          0.453,
          0.671,
          0.33,
          0.162,
          0.163,
          0.334,
          0.331,
          0.214,
          0.15,
          0.389,
          0.0398,
          0.157,
          0.279,
          0.35,
          0.654,
          0.204,
          0.868,
          0.633,
          0.357,
          0.674,
          0.344,
          0.581,
          0.266,
          0.112,
          0.727,
          0.578,
          0.431,
          0.444,
          0.725,
          0.424,
          0.347,
          0.687,
          0.525,
          0.784,
          0.477,
          0.582,
          0.551,
          0.271,
          0.678,
          0.45,
          0.674,
          0.0789,
          0.678,
          0.195,
          0.615,
          0.471,
          0.216,
          0.615,
          0.595,
          0.0399,
          0.0545,
          0.3,
          0.797,
          0.0551,
          0.325,
          0.136,
          0.647,
          0.249,
          0.848,
          0.614,
          0.601,
          0.779,
          0.347,
          0.344,
          0.244,
          0.769,
          0.336,
          0.581,
          0.897,
          0.474,
          0.159,
          0.156,
          0.273,
          0.142,
          0.297,
          0.234,
          0.201,
          0.852,
          0.327,
          0.505,
          0.713,
          0.457,
          0.84,
          0.368,
          0.409,
          0.19,
          0.113,
          0.159,
          0.464,
          0.547,
          0.597,
          0.69,
          0.634,
          0.252,
          0.365,
          0.652,
          0.578,
          0.374,
          0.171,
          0.285,
          0.297,
          0.309,
          0.575,
          0.199,
          0.673,
          0.31,
          0.343,
          0.676,
          0.0503,
          0.651,
          0.253,
          0.463,
          0.739,
          0.32,
          0.096,
          0.584,
          0.361,
          0.488,
          0.671,
          0.553,
          0.425,
          0.864,
          0.701,
          0.143,
          0.0506,
          0.929,
          0.217,
          0.299,
          0.888,
          0.611,
          0.103,
          0.784,
          0.684,
          0.747,
          0.112,
          0.409,
          0.916,
          0.188,
          0.446,
          0.345,
          0.141,
          0.597,
          0.339,
          0.167,
          0.41,
          0.582,
          0.61,
          0.629,
          0.527,
          0.355,
          0.465,
          0.713,
          0.299,
          0.369,
          0.387,
          0.669,
          0.548,
          0.402,
          0.892,
          0.721,
          0.565,
          0.638,
          0.415,
          0.756,
          0.573,
          0.378,
          0.211,
          0.614,
          0.177,
          0.85,
          0.608,
          0.738,
          0.76,
          0.163,
          0.327,
          0.438,
          0.131,
          0.879,
          0.319,
          0.345,
          0.182,
          0.286,
          0.178,
          0.211,
          0.173,
          0.452,
          0.59,
          0.405,
          0.577,
          0.331,
          0.671,
          0.632,
          0.165,
          0.594,
          0.329,
          0.301,
          0.122,
          0.359,
          0.505,
          0.188,
          0.762,
          0.239,
          0.515,
          0.661,
          0.189,
          0.406,
          0.812,
          0.467,
          0.62,
          0.18,
          0.899,
          0.489,
          0.199,
          0.644,
          0.422,
          0.601,
          0.419,
          0.422,
          0.779,
          0.672,
          0.144,
          0.682,
          0.874,
          0.487,
          0.276,
          0.258,
          0.666,
          0.705,
          0.723,
          0.239,
          0.315,
          0.39,
          0.544,
          0.561,
          0.664,
          0.375,
          0.526,
          0.0758,
          0.758,
          0.104,
          0.414,
          0.944,
          0.628,
          0.326,
          0.625,
          0.256,
          0.241,
          0.644,
          0.437,
          0.736,
          0.633,
          0.62,
          0.559,
          0.256,
          0.258,
          0.189,
          0.979,
          0.632,
          0.78,
          0.655,
          0.128,
          0.515,
          0.537,
          0.448,
          0.636,
          0.201,
          0.459,
          0.199,
          0.135,
          0.348,
          0.605,
          0.277,
          0.442,
          0.525,
          0.438,
          0.175,
          0.458,
          0.259,
          0.398,
          0.26,
          0.819,
          0.312,
          0.261,
          0.525,
          0.49,
          0.676,
          0.0753,
          0.647,
          0.456,
          0.478,
          0.072,
          0.18,
          0.204,
          0.605,
          0.745,
          0.586,
          0.17,
          0.371,
          0.721,
          0.598,
          0.163,
          0.89,
          0.874,
          0.706,
          0.578,
          0.392,
          0.288,
          0.434,
          0.238,
          0.46,
          0.44,
          0.277,
          0.232,
          0.123,
          0.0508,
          0.586,
          0.552,
          0.657,
          0.167,
          0.926,
          0.0386,
          0.84,
          0.792,
          0.264,
          0.83,
          0.556,
          0.156,
          0.171,
          0.553,
          0.369,
          0.576,
          0.259,
          0.469,
          0.169,
          0.634,
          0.724,
          0.68,
          0.513,
          0.518,
          0.171,
          0.41,
          0.867,
          0.887,
          0.325,
          0.66,
          0.213,
          0.216,
          0.488,
          0.169,
          0.403,
          0.952,
          0.379,
          0.391,
          0.553,
          0.314,
          0.492,
          0.306,
          0.648,
          0.433,
          0.65,
          0.436,
          0.473,
          0.093,
          0.415,
          0.526
         ],
         "yaxis": "y"
        }
       ],
       "layout": {
        "legend": {
         "tracegroupgap": 0
        },
        "margin": {
         "t": 60
        },
        "template": {
         "data": {
          "bar": [
           {
            "error_x": {
             "color": "#2a3f5f"
            },
            "error_y": {
             "color": "#2a3f5f"
            },
            "marker": {
             "line": {
              "color": "#E5ECF6",
              "width": 0.5
             },
             "pattern": {
              "fillmode": "overlay",
              "size": 10,
              "solidity": 0.2
             }
            },
            "type": "bar"
           }
          ],
          "barpolar": [
           {
            "marker": {
             "line": {
              "color": "#E5ECF6",
              "width": 0.5
             },
             "pattern": {
              "fillmode": "overlay",
              "size": 10,
              "solidity": 0.2
             }
            },
            "type": "barpolar"
           }
          ],
          "carpet": [
           {
            "aaxis": {
             "endlinecolor": "#2a3f5f",
             "gridcolor": "white",
             "linecolor": "white",
             "minorgridcolor": "white",
             "startlinecolor": "#2a3f5f"
            },
            "baxis": {
             "endlinecolor": "#2a3f5f",
             "gridcolor": "white",
             "linecolor": "white",
             "minorgridcolor": "white",
             "startlinecolor": "#2a3f5f"
            },
            "type": "carpet"
           }
          ],
          "choropleth": [
           {
            "colorbar": {
             "outlinewidth": 0,
             "ticks": ""
            },
            "type": "choropleth"
           }
          ],
          "contour": [
           {
            "colorbar": {
             "outlinewidth": 0,
             "ticks": ""
            },
            "colorscale": [
             [
              0,
              "#0d0887"
             ],
             [
              0.1111111111111111,
              "#46039f"
             ],
             [
              0.2222222222222222,
              "#7201a8"
             ],
             [
              0.3333333333333333,
              "#9c179e"
             ],
             [
              0.4444444444444444,
              "#bd3786"
             ],
             [
              0.5555555555555556,
              "#d8576b"
             ],
             [
              0.6666666666666666,
              "#ed7953"
             ],
             [
              0.7777777777777778,
              "#fb9f3a"
             ],
             [
              0.8888888888888888,
              "#fdca26"
             ],
             [
              1,
              "#f0f921"
             ]
            ],
            "type": "contour"
           }
          ],
          "contourcarpet": [
           {
            "colorbar": {
             "outlinewidth": 0,
             "ticks": ""
            },
            "type": "contourcarpet"
           }
          ],
          "heatmap": [
           {
            "colorbar": {
             "outlinewidth": 0,
             "ticks": ""
            },
            "colorscale": [
             [
              0,
              "#0d0887"
             ],
             [
              0.1111111111111111,
              "#46039f"
             ],
             [
              0.2222222222222222,
              "#7201a8"
             ],
             [
              0.3333333333333333,
              "#9c179e"
             ],
             [
              0.4444444444444444,
              "#bd3786"
             ],
             [
              0.5555555555555556,
              "#d8576b"
             ],
             [
              0.6666666666666666,
              "#ed7953"
             ],
             [
              0.7777777777777778,
              "#fb9f3a"
             ],
             [
              0.8888888888888888,
              "#fdca26"
             ],
             [
              1,
              "#f0f921"
             ]
            ],
            "type": "heatmap"
           }
          ],
          "heatmapgl": [
           {
            "colorbar": {
             "outlinewidth": 0,
             "ticks": ""
            },
            "colorscale": [
             [
              0,
              "#0d0887"
             ],
             [
              0.1111111111111111,
              "#46039f"
             ],
             [
              0.2222222222222222,
              "#7201a8"
             ],
             [
              0.3333333333333333,
              "#9c179e"
             ],
             [
              0.4444444444444444,
              "#bd3786"
             ],
             [
              0.5555555555555556,
              "#d8576b"
             ],
             [
              0.6666666666666666,
              "#ed7953"
             ],
             [
              0.7777777777777778,
              "#fb9f3a"
             ],
             [
              0.8888888888888888,
              "#fdca26"
             ],
             [
              1,
              "#f0f921"
             ]
            ],
            "type": "heatmapgl"
           }
          ],
          "histogram": [
           {
            "marker": {
             "pattern": {
              "fillmode": "overlay",
              "size": 10,
              "solidity": 0.2
             }
            },
            "type": "histogram"
           }
          ],
          "histogram2d": [
           {
            "colorbar": {
             "outlinewidth": 0,
             "ticks": ""
            },
            "colorscale": [
             [
              0,
              "#0d0887"
             ],
             [
              0.1111111111111111,
              "#46039f"
             ],
             [
              0.2222222222222222,
              "#7201a8"
             ],
             [
              0.3333333333333333,
              "#9c179e"
             ],
             [
              0.4444444444444444,
              "#bd3786"
             ],
             [
              0.5555555555555556,
              "#d8576b"
             ],
             [
              0.6666666666666666,
              "#ed7953"
             ],
             [
              0.7777777777777778,
              "#fb9f3a"
             ],
             [
              0.8888888888888888,
              "#fdca26"
             ],
             [
              1,
              "#f0f921"
             ]
            ],
            "type": "histogram2d"
           }
          ],
          "histogram2dcontour": [
           {
            "colorbar": {
             "outlinewidth": 0,
             "ticks": ""
            },
            "colorscale": [
             [
              0,
              "#0d0887"
             ],
             [
              0.1111111111111111,
              "#46039f"
             ],
             [
              0.2222222222222222,
              "#7201a8"
             ],
             [
              0.3333333333333333,
              "#9c179e"
             ],
             [
              0.4444444444444444,
              "#bd3786"
             ],
             [
              0.5555555555555556,
              "#d8576b"
             ],
             [
              0.6666666666666666,
              "#ed7953"
             ],
             [
              0.7777777777777778,
              "#fb9f3a"
             ],
             [
              0.8888888888888888,
              "#fdca26"
             ],
             [
              1,
              "#f0f921"
             ]
            ],
            "type": "histogram2dcontour"
           }
          ],
          "mesh3d": [
           {
            "colorbar": {
             "outlinewidth": 0,
             "ticks": ""
            },
            "type": "mesh3d"
           }
          ],
          "parcoords": [
           {
            "line": {
             "colorbar": {
              "outlinewidth": 0,
              "ticks": ""
             }
            },
            "type": "parcoords"
           }
          ],
          "pie": [
           {
            "automargin": true,
            "type": "pie"
           }
          ],
          "scatter": [
           {
            "fillpattern": {
             "fillmode": "overlay",
             "size": 10,
             "solidity": 0.2
            },
            "type": "scatter"
           }
          ],
          "scatter3d": [
           {
            "line": {
             "colorbar": {
              "outlinewidth": 0,
              "ticks": ""
             }
            },
            "marker": {
             "colorbar": {
              "outlinewidth": 0,
              "ticks": ""
             }
            },
            "type": "scatter3d"
           }
          ],
          "scattercarpet": [
           {
            "marker": {
             "colorbar": {
              "outlinewidth": 0,
              "ticks": ""
             }
            },
            "type": "scattercarpet"
           }
          ],
          "scattergeo": [
           {
            "marker": {
             "colorbar": {
              "outlinewidth": 0,
              "ticks": ""
             }
            },
            "type": "scattergeo"
           }
          ],
          "scattergl": [
           {
            "marker": {
             "colorbar": {
              "outlinewidth": 0,
              "ticks": ""
             }
            },
            "type": "scattergl"
           }
          ],
          "scattermapbox": [
           {
            "marker": {
             "colorbar": {
              "outlinewidth": 0,
              "ticks": ""
             }
            },
            "type": "scattermapbox"
           }
          ],
          "scatterpolar": [
           {
            "marker": {
             "colorbar": {
              "outlinewidth": 0,
              "ticks": ""
             }
            },
            "type": "scatterpolar"
           }
          ],
          "scatterpolargl": [
           {
            "marker": {
             "colorbar": {
              "outlinewidth": 0,
              "ticks": ""
             }
            },
            "type": "scatterpolargl"
           }
          ],
          "scatterternary": [
           {
            "marker": {
             "colorbar": {
              "outlinewidth": 0,
              "ticks": ""
             }
            },
            "type": "scatterternary"
           }
          ],
          "surface": [
           {
            "colorbar": {
             "outlinewidth": 0,
             "ticks": ""
            },
            "colorscale": [
             [
              0,
              "#0d0887"
             ],
             [
              0.1111111111111111,
              "#46039f"
             ],
             [
              0.2222222222222222,
              "#7201a8"
             ],
             [
              0.3333333333333333,
              "#9c179e"
             ],
             [
              0.4444444444444444,
              "#bd3786"
             ],
             [
              0.5555555555555556,
              "#d8576b"
             ],
             [
              0.6666666666666666,
              "#ed7953"
             ],
             [
              0.7777777777777778,
              "#fb9f3a"
             ],
             [
              0.8888888888888888,
              "#fdca26"
             ],
             [
              1,
              "#f0f921"
             ]
            ],
            "type": "surface"
           }
          ],
          "table": [
           {
            "cells": {
             "fill": {
              "color": "#EBF0F8"
             },
             "line": {
              "color": "white"
             }
            },
            "header": {
             "fill": {
              "color": "#C8D4E3"
             },
             "line": {
              "color": "white"
             }
            },
            "type": "table"
           }
          ]
         },
         "layout": {
          "annotationdefaults": {
           "arrowcolor": "#2a3f5f",
           "arrowhead": 0,
           "arrowwidth": 1
          },
          "autotypenumbers": "strict",
          "coloraxis": {
           "colorbar": {
            "outlinewidth": 0,
            "ticks": ""
           }
          },
          "colorscale": {
           "diverging": [
            [
             0,
             "#8e0152"
            ],
            [
             0.1,
             "#c51b7d"
            ],
            [
             0.2,
             "#de77ae"
            ],
            [
             0.3,
             "#f1b6da"
            ],
            [
             0.4,
             "#fde0ef"
            ],
            [
             0.5,
             "#f7f7f7"
            ],
            [
             0.6,
             "#e6f5d0"
            ],
            [
             0.7,
             "#b8e186"
            ],
            [
             0.8,
             "#7fbc41"
            ],
            [
             0.9,
             "#4d9221"
            ],
            [
             1,
             "#276419"
            ]
           ],
           "sequential": [
            [
             0,
             "#0d0887"
            ],
            [
             0.1111111111111111,
             "#46039f"
            ],
            [
             0.2222222222222222,
             "#7201a8"
            ],
            [
             0.3333333333333333,
             "#9c179e"
            ],
            [
             0.4444444444444444,
             "#bd3786"
            ],
            [
             0.5555555555555556,
             "#d8576b"
            ],
            [
             0.6666666666666666,
             "#ed7953"
            ],
            [
             0.7777777777777778,
             "#fb9f3a"
            ],
            [
             0.8888888888888888,
             "#fdca26"
            ],
            [
             1,
             "#f0f921"
            ]
           ],
           "sequentialminus": [
            [
             0,
             "#0d0887"
            ],
            [
             0.1111111111111111,
             "#46039f"
            ],
            [
             0.2222222222222222,
             "#7201a8"
            ],
            [
             0.3333333333333333,
             "#9c179e"
            ],
            [
             0.4444444444444444,
             "#bd3786"
            ],
            [
             0.5555555555555556,
             "#d8576b"
            ],
            [
             0.6666666666666666,
             "#ed7953"
            ],
            [
             0.7777777777777778,
             "#fb9f3a"
            ],
            [
             0.8888888888888888,
             "#fdca26"
            ],
            [
             1,
             "#f0f921"
            ]
           ]
          },
          "colorway": [
           "#636efa",
           "#EF553B",
           "#00cc96",
           "#ab63fa",
           "#FFA15A",
           "#19d3f3",
           "#FF6692",
           "#B6E880",
           "#FF97FF",
           "#FECB52"
          ],
          "font": {
           "color": "#2a3f5f"
          },
          "geo": {
           "bgcolor": "white",
           "lakecolor": "white",
           "landcolor": "#E5ECF6",
           "showlakes": true,
           "showland": true,
           "subunitcolor": "white"
          },
          "hoverlabel": {
           "align": "left"
          },
          "hovermode": "closest",
          "mapbox": {
           "style": "light"
          },
          "paper_bgcolor": "white",
          "plot_bgcolor": "#E5ECF6",
          "polar": {
           "angularaxis": {
            "gridcolor": "white",
            "linecolor": "white",
            "ticks": ""
           },
           "bgcolor": "#E5ECF6",
           "radialaxis": {
            "gridcolor": "white",
            "linecolor": "white",
            "ticks": ""
           }
          },
          "scene": {
           "xaxis": {
            "backgroundcolor": "#E5ECF6",
            "gridcolor": "white",
            "gridwidth": 2,
            "linecolor": "white",
            "showbackground": true,
            "ticks": "",
            "zerolinecolor": "white"
           },
           "yaxis": {
            "backgroundcolor": "#E5ECF6",
            "gridcolor": "white",
            "gridwidth": 2,
            "linecolor": "white",
            "showbackground": true,
            "ticks": "",
            "zerolinecolor": "white"
           },
           "zaxis": {
            "backgroundcolor": "#E5ECF6",
            "gridcolor": "white",
            "gridwidth": 2,
            "linecolor": "white",
            "showbackground": true,
            "ticks": "",
            "zerolinecolor": "white"
           }
          },
          "shapedefaults": {
           "line": {
            "color": "#2a3f5f"
           }
          },
          "ternary": {
           "aaxis": {
            "gridcolor": "white",
            "linecolor": "white",
            "ticks": ""
           },
           "baxis": {
            "gridcolor": "white",
            "linecolor": "white",
            "ticks": ""
           },
           "bgcolor": "#E5ECF6",
           "caxis": {
            "gridcolor": "white",
            "linecolor": "white",
            "ticks": ""
           }
          },
          "title": {
           "x": 0.05
          },
          "xaxis": {
           "automargin": true,
           "gridcolor": "white",
           "linecolor": "white",
           "ticks": "",
           "title": {
            "standoff": 15
           },
           "zerolinecolor": "white",
           "zerolinewidth": 2
          },
          "yaxis": {
           "automargin": true,
           "gridcolor": "white",
           "linecolor": "white",
           "ticks": "",
           "title": {
            "standoff": 15
           },
           "zerolinecolor": "white",
           "zerolinewidth": 2
          }
         }
        },
        "xaxis": {
         "anchor": "y",
         "domain": [
          0,
          1
         ],
         "title": {
          "text": "timesPlayed"
         }
        },
        "yaxis": {
         "anchor": "x",
         "domain": [
          0,
          1
         ],
         "title": {
          "text": "valence"
         }
        }
       }
      }
     },
     "metadata": {},
     "output_type": "display_data"
    },
    {
     "data": {
      "application/vnd.plotly.v1+json": {
       "config": {
        "plotlyServerURL": "https://plot.ly"
       },
       "data": [
        {
         "hovertemplate": "<b>%{hovertext}</b><br><br>timesPlayed=%{x}<br>tempo=%{y}<extra></extra>",
         "hovertext": [
          "Weird Fishes/ Arpeggi",
          "Good Will Hunting",
          "Pro Freak (with Doechii, Fatman Scoop)",
          "Present Tense",
          "the perfect pair",
          "Andromeda",
          "Nude",
          "No Surprises",
          "Never Catch Me",
          "Still",
          "Secrets (Your Fire)",
          "Meat Grinder",
          "Speech Bubbles",
          "Galaxy",
          "Runaway",
          "Motion Picture Soundtrack",
          "Troubles [Feat. T-Pain]",
          "Pluto Projector",
          "EARFQUAKE",
          "drive ME crazy!",
          "Savior",
          "Cocoa Butter Kisses",
          "Karma Police",
          "the BLACK seminole.",
          "Wesley's Theory",
          "Shine On You Crazy Diamond (Pts. 1-5)",
          "Welcome To Hell",
          "N95",
          "Concorde",
          "Chaos Space Marine",
          "Thieves In The Night",
          "Identikit",
          "15 Step",
          "family ties (with Kendrick Lamar)",
          "Self Control",
          "The Adults Are Talking",
          "diving board",
          "Walkin",
          "New N3on",
          "Chapters",
          "Heart Don't Stand a Chance",
          "Crack Sandwich",
          "Nikes",
          "Lean Beef Patty",
          "Rapp Snitch Knishes feat. Mr. Fantastik",
          "Feel No Pain (feat. Anderson .Paak & Raekwon)",
          "雨降る夜の向こう",
          "Mood Romantica",
          "Waitin' on Ya",
          "Can't Fight",
          "Ice",
          "Oh My Dis Side (feat. Quavo)",
          "Paprika",
          "Fake Plastic Trees",
          "Wunderlan",
          "Rockstar Made",
          "儚き春の一幕",
          "Faust Arp",
          "Steppa Pig",
          "Get Away",
          "Tequila Shots",
          "Hand Me Downs",
          "Flashing Lights",
          "Gold Rings (feat. Pusha T)",
          "The Lung",
          "REACH THE SUNSHINE.",
          "GONE, GONE / THANK YOU",
          "The Less I Know The Better",
          "Killshot",
          "After The Storm (feat. Tyler, The Creator & Bootsy Collins)",
          "Stop Breathing",
          "4:44",
          "Waves",
          "Stars (feat. Yasiin Bey)",
          "Potato Salad",
          "Rich Nigga Shit (feat. Young Thug)",
          "running out of time",
          "Violent Crimes",
          "Reborn",
          "Heart To Heart",
          "Count Me Out",
          "Selfless",
          "Nothing",
          "Hummingbird (Metro Boomin & James Blake)",
          "Tactics",
          "Sober to Death",
          "Love Galore (feat. Travis Scott)",
          "Rusty (feat. Domo Genesis & Earl Sweatshirt)",
          "The Only Thing",
          "Guilt Trip",
          "Baby I'm Bleeding",
          "Big K.R.I.T.",
          "Off Da Zoinkys",
          "Brand New 911",
          "二十歳の恋",
          "Westbrook (with A$AP Ferg)",
          "Didn't Cha Know",
          "Scott Mescudi Vs. The World",
          "George Bondo (feat. Conway the Machine & Benny The Butcher)",
          "Burfict!",
          "EdEddnEddy",
          "Respiration",
          "Sunglasses",
          "Devil In A New Dress",
          "Oh, Maker",
          "Gabby (feat. Janelle Monáe)",
          "A Punch Up at a Wedding",
          "A Rush of Blood to the Head",
          "No More Parties In LA",
          "BLACK BALLOONS | 13LACK 13ALLOONZ [FEAT. TWELVE'LEN & GOLDLINK | TWELVE'LEN + GOLDL1NK]",
          "Bittersweet",
          "Long Time - Intro",
          "Glass Eyes",
          "Anti-Matter",
          "Eternal Summer",
          "Make Me Feel",
          "Sandstorm (feat. JID)",
          "Neon Valley Street",
          "Hidden Place",
          "Place",
          "Pink + White",
          "Suddenly",
          "Kingdom Hearts Key (ft. redveil)",
          "Walk Em Down (Don't Kill Civilians) [with 21 Savage & feat. Mustafa]",
          "Lucky",
          "Leak It (feat. Chlöe)",
          "Chocolate Matter",
          "Eye/I and I/Nation",
          "Kenan Vs. Kel",
          "Them Changes",
          "Wake Up",
          "Yeah Right",
          "Pink Matter",
          "Mirror",
          "Wild Time",
          "Say It Ain't So",
          "327 (feat. Tyler, The Creator & Billie Essco)",
          "Comin Out Strong (feat. The Weeknd)",
          "Crown",
          "Under The Sun (with J. Cole & Lute feat. DaBaby)",
          "Silhouette",
          "United In Grief",
          "Beta Male Strategies",
          "Tears (feat. Caroline Polachek)",
          "Umbrella (with 21 Savage & Young Nudy)",
          "The Tourist",
          "Aquemini",
          "It's Not up to You",
          "High and Dry",
          "Heartless",
          "White Ferrari",
          "Fentanyl Tester",
          "John Woo Flick (with Benny The Butcher & Westside Gunn)",
          "1539 N. Calvert",
          "Stay Flo",
          "Fuck the Nordic Model",
          "Hellfire",
          "Milk - 2021 Remaster",
          "Tell Me What I Don't Know",
          "If Tomorrow's Not Here",
          "Crosshairs",
          "I THINK",
          "Soundtrack 2 My Life",
          "FAMJAM4000",
          "X-Wing",
          "Sky Might Fall",
          "Kimiga Nakunara",
          "Idioteque",
          "Consideration",
          "Akasaka Sad",
          "A.D.H.D",
          "Design: 2: 3",
          "Behind The Moon Shadow",
          "Angel",
          "I'm In It",
          "This Is Why",
          "Picture Me Better",
          "Angels (feat. Saba)",
          "FIND YOUR WINGS (feat. Roy Ayers, Sydney Bennett & Kali Uchis)",
          "Faucet Failure",
          "Surround Sound (feat. 21 Savage & Baby Tate)",
          "We Major",
          "One Beer",
          "A Toshi no Aki",
          "夕暮れ",
          "On That Time",
          "Savage Good Boy",
          "Enter Galactic (Love Connection Part I)",
          "The Numbers",
          "Fingerprints",
          "I'M THAT GIRL",
          "Poetic Justice",
          "Bodys",
          "Smokin Out The Window",
          "Solo Dolo (Nightmare)",
          "Complicated",
          "LOVE. FEAT. ZACARI.",
          "Say You Will",
          "Money Trees",
          "Grimy Waifu",
          "Dark Red",
          "G.O.M.D",
          "Mr. Rager",
          "Next Levels",
          "BUSY / SIRENS",
          "Netflix & Dusse",
          "Acting",
          "In Love",
          "Justin Scott",
          "911 / Mr. Lonely (feat. Frank Ocean & Steve Lacy)",
          "Joga",
          "Ode To The Mets",
          "pg baby",
          "Ain't No Way [Feat. 6LACK, Rico Nasty, J.I.D, Jasiah, Kitty Ca$h]",
          "A BOY IS A GUN*",
          "Sunny day",
          "Symphony",
          "Blow My High (Members Only)",
          "Storm",
          "Better Days (feat. Johnta Austin)",
          "How to Disappear Completely",
          "STOP TRYING TO BE GOD",
          "Kid A",
          "NEW MAGIC WAND",
          "I Ain't Got Time!",
          "Head High",
          "Bad Habit",
          "Photosynthesis",
          "The Defence",
          "Send It Up",
          "Inside Out",
          "Envy",
          "In Sound, We Found Each Other",
          "Nothing Good Ever Happens At The Goddamn Thirsty Crow",
          "Yellow",
          "6 Star Wanted Level",
          "Right Now (feat. Pi'erre Bourne)",
          "Out On Sunny Sunday",
          "Dynasty",
          "Had Enough (feat. Quavo & Offset)",
          "Bound 2",
          "24",
          "DIRTY!",
          "Kokorono Madobeni Akai Hanao Kazatte",
          "Kuso Yakan Hikoh",
          "A Bigger Paper Bag",
          "LIFE",
          "Where Ya Get Ya Coke From?",
          "Television / So Far So Good",
          "Euphoria (feat. Travis Scott & Kaash Paige)",
          "So Appalled",
          "Hurricane",
          "Thot Tactics",
          "REBOUND!",
          "FEEL.",
          "New Choppa",
          "BREAK MY SOUL",
          "Where I Belong",
          "Norman fucking Rockwell",
          "Videotape",
          "Nas Is Like",
          "m.A.A.d city",
          "Why Are Sundays So Depressing",
          "Orange Juice Jones",
          "Slow",
          "Wolves",
          "Crime Pays",
          "God Loves You",
          "I Wonder",
          "Aux Cord",
          "26",
          "Hard Times",
          "Something to Believe",
          "SICKO MODE",
          "Gone",
          "range brothers (with Kendrick Lamar)",
          "Drones (feat. Kendrick Lamar, Snoop Dogg, Ty Dolla $ign & James Fauntleroy)",
          "Cherry-coloured Funk",
          "Always",
          "Let It Be - Remastered 2009",
          "Glue Song",
          "No Vacancy",
          "Instrumental",
          "Chondromalacia Patella",
          "Ripples",
          "Jack Harlow Combo Meal",
          "CAN'T SAY",
          "broken cd",
          "Afternoon in Heaven",
          "Excited",
          "Super Urus",
          "OPEN A WINDOW (feat. Tyler, The Creator)",
          "FlatBed Freestyle",
          "Wet Dream",
          "Deeper",
          "Sky",
          "Show Me",
          "Bloom",
          "Run The Jewels",
          "Shaolin Monk Motherfunk",
          "Love On The Brain",
          "Pray 4 Love (feat. The Weeknd)",
          "Figures",
          "Self Care",
          "Blackest in the Room",
          "Solo (Reprise)",
          "U Wanna Dance?",
          "Greatest Hits",
          "Under",
          "Time Today",
          "Bury Me In Gold",
          "Street Spirit (Fade Out)",
          "Harold’s",
          "Defibrillator",
          "Tired",
          "Downward Spiral",
          "ASTROTHUNDER",
          "Ful Stop",
          "Love Sosa",
          "2009",
          "dothatshit!",
          "Settle Down (with Cory Henry, Ravyn Lenae)",
          "Can’t Make U Change (feat. Ari Lennox)",
          "infinity (888) - feat. Joey Bada$$",
          "p r i d e . i s . t h e . d e v i l (with Lil Baby)",
          "Wanna Be Loved",
          "Big Titties (feat. Baauer and EarthGang)",
          "Sparks",
          "Big Bank (feat. T.I.)",
          "Electioneering",
          "Coffee",
          "M3tamorphosis (feat. Kid Cudi)",
          "New Slaves",
          "I Might Be Wrong",
          "Miss Georgia Fornia (feat. Joi)",
          "Dance or Die (feat. Saul Williams)",
          "The End (feat. BABYMETAL)",
          "On Sight",
          "Relative",
          "JPEGMAFIA TYPE BEAT",
          "Raindrop City",
          "Palmolive (feat. Pusha T & Killer Mike)",
          "Brooklyn Bridge To Chorus",
          "See You Again (feat. Kali Uchis)",
          "Nightcrawler (feat. Swae Lee & Chief Keef)",
          "Unlock It (feat. Playboi Carti)",
          "King Kunta",
          "PUPPET",
          "Beef Rap",
          "untitled 05 | 09.21.2014.",
          "Space Song",
          "Shitsville",
          "Never Meant",
          "K.O.S. (Determination)",
          "My Iron Lung",
          "FAKENGGAS",
          "Gorilla",
          "Slide Tackle",
          "PTSD",
          "Exchange",
          "Solo",
          "151 Rum",
          "Used (feat. Don Toliver)",
          "BMT!",
          "Boredom (feat. Rex Orange County & Anna of the North)",
          "Yesterday - Remastered 2009",
          "SWEET / I THOUGHT YOU WANTED TO DANCE (feat. Brent Faiyaz & Fana Hues)",
          "Scottie Beam",
          "Workin Out",
          "Trampoline",
          "(Nice Dream)",
          "Knicks",
          "Godspeed",
          "Find Your Love",
          "Creep",
          "Myth",
          "Glass Flows",
          "Scarface",
          "Melt a Bed",
          "R.I.P. Fredo (feat. Young Nudy) - Notice Me",
          "Pure Souls",
          "Good News",
          "Tightrope (feat. Big Boi) - Big Boi Vocal Edit",
          "She Roll Up",
          "Suede",
          "Scenario - LP Mix",
          "Dawning of the Season",
          "PYS (feat. DJ Paul)",
          "Thuggin’",
          "Planet Telex",
          "Don't",
          "Sept",
          "DUCKWORTH.",
          "TEMPTATION",
          "The Night Squall",
          "Acting - 2021 Remaster",
          "Momma",
          "Cosmonauts",
          "Voodoo Child (Slight Return)",
          "I Love You, I Hate You",
          "Have You In My Wilderness",
          "Drunk Drivers/Killer Whales",
          "Dangerous Liaisons",
          "Us and Them",
          "Transform (feat. Charlotte Day Wilson)",
          "GTFU (Feat. JPEGMAFIA & Cakes da Killa)",
          "Hustle Bones",
          "Read My Mind",
          "Total Entertainment Forever",
          "Father Stretch My Hands Pt. 1",
          "Plastic 100°C",
          "The Highs & The Lows",
          "Soul Food",
          "Momma Callin",
          "Unstoppable",
          "where's the confetti?",
          "The Bends",
          "Palace/Curse (feat. Tyler, The Creator & Steve Lacy)",
          "Giannis (feat. Anderson .Paak)",
          "New Person, Same Old Mistakes",
          "The Root",
          "m y . l i f e (with 21 Savage & Morray)",
          "After Last Night (with Thundercat & Bootsy Collins)",
          "Memo",
          "wokeuplikethis*",
          "Keep My Spirit Alive pt 2",
          "To All the Dancers of the World, A Round Form of Fantasy",
          "Ain't it Funny",
          "Chosen (feat. Ty Dolla $ign)",
          "For Free? - Interlude",
          "For Lovers",
          "Other People",
          "Sing About Me, I'm Dying Of Thirst",
          "Kokomo, IN",
          "IG",
          "ELON MUSK",
          "Get on the Floor",
          "2007",
          "CIA",
          "Bag Lady",
          "Morning Bell",
          "CRUCIFY ME",
          "All Falls Down",
          "2040",
          "Church",
          "Dreams and Nightmares",
          "Lost In The World",
          "Dethroned",
          "Raindrops (Insane) [with Travis Scott]",
          "Tinker Tailor Soldier Sailor Rich Man Poor Man Beggar Man Thief",
          "Up Up & Away",
          "Running Out Of Time",
          "Lipstick Lover",
          "New Tank",
          "Rose-Colored Boy",
          "Papi I Missed U",
          "When Doves Cry",
          "Doomsday",
          "Foreign",
          "War Paint (feat. Westside Gunn & Conway the Machine)",
          "Your Prime",
          "Dump",
          "Comfortably Numb",
          "Energy",
          "Feel The Love",
          "Poke It Out (with Nicki Minaj)",
          "Just In Time (feat. Lil Wayne & Kenny Mason)",
          "TAKE A CHANCE (feat. Anderson .Paak)",
          "Hold The Girl",
          "Wild Irish Roses",
          "...& On",
          "HOE (Heaven on Earth)",
          "No Reason",
          "MANIFESTO (feat. Domo Genesis)",
          "Ladies and gentlemen we are floating in space",
          "Arya (with Nigo)",
          "DIET_",
          "N.Y. State of Mind",
          "Hurt Feelings",
          "Through The Wire",
          "The Scientist",
          "Life on Mars? - 2015 Remaster",
          "DD Form 214",
          "SWGSKOOL",
          "Letter To Cornelius",
          "Sir Duke",
          "Forever - 2021 Remaster",
          "Rearview",
          "Jukebox Joints (feat. Joe Fox & Kanye West)",
          "If I Had A Dollar (feat. Benjamin Earl Turner)",
          "Hold Up, Wait!",
          "Black Star",
          "The OtherSide",
          "LUMBERJACK",
          "Packt Like Sardines In a Crushd Tin Box",
          "Wax On (Feat. Freddie Gibbs)",
          "Stupid/Asking",
          "untitled 02 | 06.23.2014.",
          "By Design",
          "the 27 club"
         ],
         "legendgroup": "",
         "marker": {
          "color": "#636efa",
          "symbol": "circle"
         },
         "mode": "markers",
         "name": "",
         "orientation": "v",
         "showlegend": false,
         "type": "scatter",
         "x": [
          58.43,
          48.04,
          45.29,
          44.9,
          44.38,
          44.2,
          42.5,
          40.25,
          38.67,
          38.08,
          37.45,
          37.38,
          36.18,
          35.58,
          35.21,
          34.48,
          34.1,
          33.74,
          33.1,
          33.02,
          32.61,
          32.27,
          32.19,
          32.04,
          31.74,
          31.47,
          30.83,
          30.51,
          30.21,
          29.64,
          29.61,
          29.58,
          29.38,
          29.26,
          28.85,
          28.6,
          28.59,
          28.55,
          27.39,
          27.31,
          27.26,
          27.26,
          27.22,
          27.21,
          27.11,
          26.27,
          26.21,
          26.01,
          25.96,
          25.92,
          25.83,
          25.37,
          25.18,
          24.92,
          24.58,
          24.58,
          24.46,
          24.46,
          24.31,
          24.28,
          24.17,
          24.16,
          24.13,
          23.73,
          23.6,
          23.57,
          23.5,
          23.24,
          23.19,
          23.09,
          23.05,
          23.01,
          22.86,
          22.81,
          22.7,
          22.69,
          22.67,
          21.68,
          21.55,
          21.5,
          21.3,
          21.05,
          20.76,
          20.74,
          20.63,
          20.61,
          20.6,
          20.51,
          20.4,
          20.38,
          20.28,
          20.23,
          20.04,
          19.95,
          19.9,
          19.85,
          19.79,
          19.62,
          19.61,
          19.5,
          19.42,
          19.41,
          19.28,
          19.15,
          19.1,
          19.01,
          19,
          18.95,
          18.92,
          18.86,
          18.78,
          18.78,
          18.76,
          18.75,
          18.73,
          18.71,
          18.67,
          18.62,
          18.56,
          18.47,
          18.36,
          18.34,
          18.27,
          18.12,
          18.1,
          17.95,
          17.94,
          17.82,
          17.76,
          17.66,
          17.59,
          17.58,
          17.56,
          17.54,
          17.43,
          17.39,
          17.36,
          17.35,
          17.31,
          17.22,
          17.03,
          17,
          16.97,
          16.85,
          16.8,
          16.79,
          16.79,
          16.79,
          16.74,
          16.67,
          16.62,
          16.52,
          16.45,
          16.41,
          16.35,
          16.35,
          16.34,
          16.27,
          16.26,
          16.2,
          16.17,
          16.15,
          16.11,
          16.11,
          16.02,
          16,
          15.99,
          15.98,
          15.96,
          15.85,
          15.82,
          15.81,
          15.79,
          15.79,
          15.76,
          15.66,
          15.6,
          15.58,
          15.57,
          15.51,
          15.45,
          15.38,
          15.35,
          15.32,
          15.24,
          15.21,
          15.17,
          15.14,
          15.09,
          15,
          15,
          14.97,
          14.96,
          14.96,
          14.95,
          14.87,
          14.81,
          14.78,
          14.67,
          14.64,
          14.6,
          14.56,
          14.48,
          14.47,
          14.42,
          14.42,
          14.28,
          14.24,
          14.2,
          14.19,
          14.15,
          14.06,
          14.03,
          14,
          14,
          14,
          13.98,
          13.97,
          13.95,
          13.94,
          13.93,
          13.9,
          13.89,
          13.87,
          13.86,
          13.83,
          13.74,
          13.72,
          13.66,
          13.66,
          13.64,
          13.61,
          13.56,
          13.55,
          13.53,
          13.48,
          13.47,
          13.43,
          13.43,
          13.36,
          13.35,
          13.33,
          13.29,
          13.22,
          13.16,
          13.15,
          13.1,
          13.04,
          13,
          13,
          12.96,
          12.92,
          12.91,
          12.84,
          12.8,
          12.8,
          12.78,
          12.74,
          12.71,
          12.68,
          12.63,
          12.6,
          12.58,
          12.53,
          12.47,
          12.41,
          12.41,
          12.41,
          12.39,
          12.34,
          12.31,
          12.3,
          12.29,
          12.28,
          12.27,
          12.26,
          12.19,
          12.13,
          12.09,
          12,
          12,
          12,
          11.97,
          11.95,
          11.95,
          11.95,
          11.94,
          11.92,
          11.92,
          11.91,
          11.91,
          11.9,
          11.9,
          11.86,
          11.82,
          11.74,
          11.73,
          11.73,
          11.7,
          11.69,
          11.68,
          11.66,
          11.66,
          11.63,
          11.61,
          11.61,
          11.6,
          11.58,
          11.54,
          11.54,
          11.53,
          11.52,
          11.52,
          11.51,
          11.51,
          11.5,
          11.48,
          11.45,
          11.42,
          11.39,
          11.38,
          11.33,
          11.28,
          11.28,
          11.27,
          11.23,
          11.21,
          11.18,
          11.15,
          11.11,
          11.1,
          11.08,
          11.07,
          11.04,
          11,
          11,
          11,
          11,
          11,
          11,
          10.96,
          10.92,
          10.91,
          10.91,
          10.85,
          10.83,
          10.79,
          10.79,
          10.78,
          10.76,
          10.66,
          10.66,
          10.63,
          10.62,
          10.61,
          10.6,
          10.55,
          10.54,
          10.5,
          10.48,
          10.47,
          10.47,
          10.47,
          10.45,
          10.42,
          10.41,
          10.39,
          10.38,
          10.36,
          10.35,
          10.35,
          10.33,
          10.31,
          10.28,
          10.25,
          10.24,
          10.24,
          10.23,
          10.22,
          10.22,
          10.18,
          10.18,
          10.17,
          10.16,
          10.14,
          10.1,
          10.1,
          10.07,
          10.05,
          10.03,
          10,
          9.98,
          9.95,
          9.94,
          9.9,
          9.88,
          9.79,
          9.78,
          9.69,
          9.69,
          9.69,
          9.68,
          9.68,
          9.67,
          9.67,
          9.67,
          9.63,
          9.59,
          9.59,
          9.58,
          9.53,
          9.52,
          9.51,
          9.5,
          9.49,
          9.48,
          9.47,
          9.46,
          9.46,
          9.44,
          9.43,
          9.4,
          9.35,
          9.35,
          9.34,
          9.33,
          9.31,
          9.29,
          9.29,
          9.29,
          9.29,
          9.28,
          9.25,
          9.25,
          9.22,
          9.22,
          9.2,
          9.19,
          9.19,
          9.16,
          9.15,
          9.15,
          9.15,
          9.14,
          9.08,
          9.08,
          9.04,
          9.01,
          9.01,
          9,
          9,
          9,
          9,
          9,
          8.99,
          8.96,
          8.92,
          8.91,
          8.91,
          8.86,
          8.85,
          8.85,
          8.83,
          8.81,
          8.81,
          8.8,
          8.8,
          8.79,
          8.79,
          8.79,
          8.78,
          8.78,
          8.77,
          8.74,
          8.72,
          8.72,
          8.72,
          8.71,
          8.7,
          8.7,
          8.69,
          8.67,
          8.67,
          8.66,
          8.65,
          8.63,
          8.62,
          8.58,
          8.57,
          8.56,
          8.56,
          8.51,
          8.51,
          8.49,
          8.48,
          8.44,
          8.43,
          8.41,
          8.4,
          8.4
         ],
         "xaxis": "x",
         "y": [
          152.958,
          96.685,
          75.008,
          91.915,
          146.053,
          131.325,
          128.378,
          76.426,
          81.305,
          136.01,
          107.997,
          87.54,
          87.45,
          52.006,
          84.733,
          90.835,
          180.008,
          79.786,
          79.635,
          107.087,
          124.84,
          125.795,
          74.807,
          113.563,
          114.449,
          137.937,
          128.904,
          139.956,
          131.309,
          161.368,
          92.04,
          150.695,
          94.458,
          134.14,
          80.099,
          164.959,
          91.502,
          135.983,
          130.054,
          154.85,
          94.061,
          93.542,
          138.023,
          157.08,
          95.051,
          85.024,
          73.505,
          120.63,
          125.996,
          86.985,
          140.107,
          126.018,
          120.07,
          73.543,
          99.517,
          149.999,
          71.529,
          105.036,
          148.998,
          110.371,
          90.494,
          68.985,
          90.482,
          62.285,
          112.731,
          126.947,
          78.848,
          116.879,
          99.024,
          79.64,
          154.967,
          177.997,
          96.091,
          117.745,
          168.197,
          97.974,
          90.024,
          109.813,
          100.051,
          150.076,
          133.999,
          121.99,
          77.924,
          81.405,
          135.053,
          114.963,
          135.002,
          81.28,
          159.034,
          137.9,
          171.392,
          139.073,
          137.981,
          139.605,
          113.94,
          90.722,
          135.277,
          108.685,
          79.35,
          137.864,
          157.964,
          178.727,
          122.202,
          80.082,
          90.005,
          156.772,
          79.039,
          138.39,
          93.058,
          99.919,
          137.87,
          144.077,
          114.436,
          95.377,
          93.951,
          115.035,
          109.492,
          168.094,
          149.833,
          131.06,
          159.94,
          107.75,
          135.647,
          161.571,
          133.369,
          143.782,
          125.994,
          76.189,
          115.154,
          81.657,
          139.361,
          118.001,
          176.569,
          91.933,
          141.359,
          151.779,
          79.716,
          108.761,
          173.329,
          138.672,
          95.244,
          85.63,
          119.69,
          127.721,
          111.016,
          114.347,
          89.197,
          159.825,
          87.568,
          87.999,
          108.741,
          158.563,
          148.05,
          152.05,
          155.974,
          121.986,
          129.879,
          148.896,
          110.693,
          106.013,
          171.797,
          121.075,
          86.501,
          116.57,
          119.988,
          194.276,
          90.263,
          137.544,
          144.975,
          144.956,
          157.74,
          135.558,
          105.205,
          155.914,
          170.337,
          123.045,
          74.186,
          155.914,
          75.111,
          99.993,
          75.956,
          85.641,
          91.115,
          111.113,
          74.273,
          150.078,
          129.092,
          120.004,
          105.271,
          79.8,
          105.865,
          135.956,
          143.903,
          82.03,
          79.12,
          75.014,
          126.058,
          172.633,
          71.994,
          118.32,
          172.041,
          128.073,
          102.002,
          92.814,
          133.832,
          79.958,
          61.009,
          121.478,
          115.869,
          90.034,
          146.161,
          92.002,
          75.792,
          80.666,
          79.568,
          92.999,
          122.863,
          119.933,
          108.861,
          93.009,
          102.026,
          150.009,
          112.923,
          139.566,
          108.822,
          169.978,
          168.955,
          111.13,
          133.296,
          93.562,
          79.223,
          87.501,
          84.956,
          72.882,
          173.372,
          99.559,
          78.487,
          92.032,
          84.098,
          147.957,
          148.913,
          110.057,
          119.097,
          98.243,
          130.996,
          108.678,
          120.025,
          102.046,
          164.902,
          70.022,
          87.15,
          78.293,
          125.665,
          141.339,
          109.968,
          128.16,
          114.942,
          148.869,
          78.287,
          77.423,
          94,
          91.048,
          109.971,
          150.469,
          145.115,
          155.856,
          146.941,
          124.948,
          92.315,
          90.753,
          90.004,
          119.965,
          136.964,
          155.008,
          92.703,
          121.972,
          100.916,
          90.085,
          136.137,
          143.462,
          113.946,
          135.831,
          137.644,
          85.588,
          119.505,
          136.96,
          147.98,
          103.585,
          147.933,
          89.802,
          134.997,
          79.974,
          153.157,
          130.091,
          180.392,
          139.98,
          176.153,
          96.003,
          89.491,
          96.1,
          172.006,
          79.94,
          131.123,
          141.894,
          81.331,
          80.169,
          94.989,
          96.001,
          138.672,
          175.65,
          97.948,
          138.076,
          86.74,
          93.984,
          140.037,
          77.035,
          151.901,
          151.182,
          131.965,
          155.158,
          162.964,
          146.986,
          138.021,
          84.143,
          88.967,
          83.529,
          170.037,
          102.617,
          148.936,
          78.977,
          118.734,
          73.933,
          141.099,
          102.895,
          103.847,
          119.968,
          109.973,
          101.601,
          178.222,
          117.008,
          101.029,
          168.456,
          119.899,
          78.558,
          124.045,
          155.971,
          107.059,
          77.572,
          91.65,
          153.941,
          147.067,
          91.973,
          144.292,
          91.222,
          96.917,
          140.014,
          90.418,
          127.989,
          119.353,
          160.108,
          133.805,
          129.983,
          149.579,
          148.716,
          79.938,
          96.529,
          140.223,
          79.192,
          126.938,
          124.992,
          172.851,
          179.28,
          109.54,
          96.038,
          91.844,
          141.965,
          90.738,
          89.06,
          110.07,
          140.051,
          97.207,
          174.088,
          167.978,
          92.859,
          117.171,
          101.78,
          111.019,
          116.508,
          91.546,
          148.963,
          96.991,
          125.926,
          174.516,
          104.979,
          134.056,
          61.003,
          111.914,
          113.705,
          175.549,
          119.782,
          134.763,
          117.101,
          91.218,
          72.518,
          68.963,
          109.834,
          110.015,
          94.015,
          157.55,
          113.088,
          132.08,
          81.709,
          167.771,
          90.169,
          173.799,
          92.153,
          91.608,
          67.104,
          90.448,
          151.836,
          80.217,
          140.021,
          140.051,
          81.377,
          78.477,
          166.589,
          72.984,
          114.379,
          93.421,
          129.313,
          73.582,
          174.152,
          110.722,
          202.173,
          163.039,
          77.566,
          124.435,
          79.849,
          80.964,
          151.181,
          142.133,
          132.099,
          91.03,
          150.046,
          95.971,
          79.745,
          117.072,
          144.909,
          111.988,
          90.388,
          120.017,
          127.035,
          169.983,
          150.993,
          114.997,
          112.9,
          126.47,
          95.416,
          122.955,
          80.814,
          160.926,
          95.02,
          127.163,
          172.104,
          110.573,
          147.009,
          141.005,
          156.655,
          127.026,
          86.947,
          83.417,
          100.082,
          79.056,
          92.463,
          100.031,
          120.031,
          90.565,
          84.099,
          157.655,
          83.089,
          146.277,
          123.295,
          116.609,
          143.049,
          100.372,
          106.938,
          164.039,
          94.08,
          67.536,
          118.994,
          130.996,
          158.671,
          81.474,
          170.691,
          124.618,
          158.024,
          109.482,
          89.436,
          100.005,
          101.231
         ],
         "yaxis": "y"
        }
       ],
       "layout": {
        "legend": {
         "tracegroupgap": 0
        },
        "margin": {
         "t": 60
        },
        "template": {
         "data": {
          "bar": [
           {
            "error_x": {
             "color": "#2a3f5f"
            },
            "error_y": {
             "color": "#2a3f5f"
            },
            "marker": {
             "line": {
              "color": "#E5ECF6",
              "width": 0.5
             },
             "pattern": {
              "fillmode": "overlay",
              "size": 10,
              "solidity": 0.2
             }
            },
            "type": "bar"
           }
          ],
          "barpolar": [
           {
            "marker": {
             "line": {
              "color": "#E5ECF6",
              "width": 0.5
             },
             "pattern": {
              "fillmode": "overlay",
              "size": 10,
              "solidity": 0.2
             }
            },
            "type": "barpolar"
           }
          ],
          "carpet": [
           {
            "aaxis": {
             "endlinecolor": "#2a3f5f",
             "gridcolor": "white",
             "linecolor": "white",
             "minorgridcolor": "white",
             "startlinecolor": "#2a3f5f"
            },
            "baxis": {
             "endlinecolor": "#2a3f5f",
             "gridcolor": "white",
             "linecolor": "white",
             "minorgridcolor": "white",
             "startlinecolor": "#2a3f5f"
            },
            "type": "carpet"
           }
          ],
          "choropleth": [
           {
            "colorbar": {
             "outlinewidth": 0,
             "ticks": ""
            },
            "type": "choropleth"
           }
          ],
          "contour": [
           {
            "colorbar": {
             "outlinewidth": 0,
             "ticks": ""
            },
            "colorscale": [
             [
              0,
              "#0d0887"
             ],
             [
              0.1111111111111111,
              "#46039f"
             ],
             [
              0.2222222222222222,
              "#7201a8"
             ],
             [
              0.3333333333333333,
              "#9c179e"
             ],
             [
              0.4444444444444444,
              "#bd3786"
             ],
             [
              0.5555555555555556,
              "#d8576b"
             ],
             [
              0.6666666666666666,
              "#ed7953"
             ],
             [
              0.7777777777777778,
              "#fb9f3a"
             ],
             [
              0.8888888888888888,
              "#fdca26"
             ],
             [
              1,
              "#f0f921"
             ]
            ],
            "type": "contour"
           }
          ],
          "contourcarpet": [
           {
            "colorbar": {
             "outlinewidth": 0,
             "ticks": ""
            },
            "type": "contourcarpet"
           }
          ],
          "heatmap": [
           {
            "colorbar": {
             "outlinewidth": 0,
             "ticks": ""
            },
            "colorscale": [
             [
              0,
              "#0d0887"
             ],
             [
              0.1111111111111111,
              "#46039f"
             ],
             [
              0.2222222222222222,
              "#7201a8"
             ],
             [
              0.3333333333333333,
              "#9c179e"
             ],
             [
              0.4444444444444444,
              "#bd3786"
             ],
             [
              0.5555555555555556,
              "#d8576b"
             ],
             [
              0.6666666666666666,
              "#ed7953"
             ],
             [
              0.7777777777777778,
              "#fb9f3a"
             ],
             [
              0.8888888888888888,
              "#fdca26"
             ],
             [
              1,
              "#f0f921"
             ]
            ],
            "type": "heatmap"
           }
          ],
          "heatmapgl": [
           {
            "colorbar": {
             "outlinewidth": 0,
             "ticks": ""
            },
            "colorscale": [
             [
              0,
              "#0d0887"
             ],
             [
              0.1111111111111111,
              "#46039f"
             ],
             [
              0.2222222222222222,
              "#7201a8"
             ],
             [
              0.3333333333333333,
              "#9c179e"
             ],
             [
              0.4444444444444444,
              "#bd3786"
             ],
             [
              0.5555555555555556,
              "#d8576b"
             ],
             [
              0.6666666666666666,
              "#ed7953"
             ],
             [
              0.7777777777777778,
              "#fb9f3a"
             ],
             [
              0.8888888888888888,
              "#fdca26"
             ],
             [
              1,
              "#f0f921"
             ]
            ],
            "type": "heatmapgl"
           }
          ],
          "histogram": [
           {
            "marker": {
             "pattern": {
              "fillmode": "overlay",
              "size": 10,
              "solidity": 0.2
             }
            },
            "type": "histogram"
           }
          ],
          "histogram2d": [
           {
            "colorbar": {
             "outlinewidth": 0,
             "ticks": ""
            },
            "colorscale": [
             [
              0,
              "#0d0887"
             ],
             [
              0.1111111111111111,
              "#46039f"
             ],
             [
              0.2222222222222222,
              "#7201a8"
             ],
             [
              0.3333333333333333,
              "#9c179e"
             ],
             [
              0.4444444444444444,
              "#bd3786"
             ],
             [
              0.5555555555555556,
              "#d8576b"
             ],
             [
              0.6666666666666666,
              "#ed7953"
             ],
             [
              0.7777777777777778,
              "#fb9f3a"
             ],
             [
              0.8888888888888888,
              "#fdca26"
             ],
             [
              1,
              "#f0f921"
             ]
            ],
            "type": "histogram2d"
           }
          ],
          "histogram2dcontour": [
           {
            "colorbar": {
             "outlinewidth": 0,
             "ticks": ""
            },
            "colorscale": [
             [
              0,
              "#0d0887"
             ],
             [
              0.1111111111111111,
              "#46039f"
             ],
             [
              0.2222222222222222,
              "#7201a8"
             ],
             [
              0.3333333333333333,
              "#9c179e"
             ],
             [
              0.4444444444444444,
              "#bd3786"
             ],
             [
              0.5555555555555556,
              "#d8576b"
             ],
             [
              0.6666666666666666,
              "#ed7953"
             ],
             [
              0.7777777777777778,
              "#fb9f3a"
             ],
             [
              0.8888888888888888,
              "#fdca26"
             ],
             [
              1,
              "#f0f921"
             ]
            ],
            "type": "histogram2dcontour"
           }
          ],
          "mesh3d": [
           {
            "colorbar": {
             "outlinewidth": 0,
             "ticks": ""
            },
            "type": "mesh3d"
           }
          ],
          "parcoords": [
           {
            "line": {
             "colorbar": {
              "outlinewidth": 0,
              "ticks": ""
             }
            },
            "type": "parcoords"
           }
          ],
          "pie": [
           {
            "automargin": true,
            "type": "pie"
           }
          ],
          "scatter": [
           {
            "fillpattern": {
             "fillmode": "overlay",
             "size": 10,
             "solidity": 0.2
            },
            "type": "scatter"
           }
          ],
          "scatter3d": [
           {
            "line": {
             "colorbar": {
              "outlinewidth": 0,
              "ticks": ""
             }
            },
            "marker": {
             "colorbar": {
              "outlinewidth": 0,
              "ticks": ""
             }
            },
            "type": "scatter3d"
           }
          ],
          "scattercarpet": [
           {
            "marker": {
             "colorbar": {
              "outlinewidth": 0,
              "ticks": ""
             }
            },
            "type": "scattercarpet"
           }
          ],
          "scattergeo": [
           {
            "marker": {
             "colorbar": {
              "outlinewidth": 0,
              "ticks": ""
             }
            },
            "type": "scattergeo"
           }
          ],
          "scattergl": [
           {
            "marker": {
             "colorbar": {
              "outlinewidth": 0,
              "ticks": ""
             }
            },
            "type": "scattergl"
           }
          ],
          "scattermapbox": [
           {
            "marker": {
             "colorbar": {
              "outlinewidth": 0,
              "ticks": ""
             }
            },
            "type": "scattermapbox"
           }
          ],
          "scatterpolar": [
           {
            "marker": {
             "colorbar": {
              "outlinewidth": 0,
              "ticks": ""
             }
            },
            "type": "scatterpolar"
           }
          ],
          "scatterpolargl": [
           {
            "marker": {
             "colorbar": {
              "outlinewidth": 0,
              "ticks": ""
             }
            },
            "type": "scatterpolargl"
           }
          ],
          "scatterternary": [
           {
            "marker": {
             "colorbar": {
              "outlinewidth": 0,
              "ticks": ""
             }
            },
            "type": "scatterternary"
           }
          ],
          "surface": [
           {
            "colorbar": {
             "outlinewidth": 0,
             "ticks": ""
            },
            "colorscale": [
             [
              0,
              "#0d0887"
             ],
             [
              0.1111111111111111,
              "#46039f"
             ],
             [
              0.2222222222222222,
              "#7201a8"
             ],
             [
              0.3333333333333333,
              "#9c179e"
             ],
             [
              0.4444444444444444,
              "#bd3786"
             ],
             [
              0.5555555555555556,
              "#d8576b"
             ],
             [
              0.6666666666666666,
              "#ed7953"
             ],
             [
              0.7777777777777778,
              "#fb9f3a"
             ],
             [
              0.8888888888888888,
              "#fdca26"
             ],
             [
              1,
              "#f0f921"
             ]
            ],
            "type": "surface"
           }
          ],
          "table": [
           {
            "cells": {
             "fill": {
              "color": "#EBF0F8"
             },
             "line": {
              "color": "white"
             }
            },
            "header": {
             "fill": {
              "color": "#C8D4E3"
             },
             "line": {
              "color": "white"
             }
            },
            "type": "table"
           }
          ]
         },
         "layout": {
          "annotationdefaults": {
           "arrowcolor": "#2a3f5f",
           "arrowhead": 0,
           "arrowwidth": 1
          },
          "autotypenumbers": "strict",
          "coloraxis": {
           "colorbar": {
            "outlinewidth": 0,
            "ticks": ""
           }
          },
          "colorscale": {
           "diverging": [
            [
             0,
             "#8e0152"
            ],
            [
             0.1,
             "#c51b7d"
            ],
            [
             0.2,
             "#de77ae"
            ],
            [
             0.3,
             "#f1b6da"
            ],
            [
             0.4,
             "#fde0ef"
            ],
            [
             0.5,
             "#f7f7f7"
            ],
            [
             0.6,
             "#e6f5d0"
            ],
            [
             0.7,
             "#b8e186"
            ],
            [
             0.8,
             "#7fbc41"
            ],
            [
             0.9,
             "#4d9221"
            ],
            [
             1,
             "#276419"
            ]
           ],
           "sequential": [
            [
             0,
             "#0d0887"
            ],
            [
             0.1111111111111111,
             "#46039f"
            ],
            [
             0.2222222222222222,
             "#7201a8"
            ],
            [
             0.3333333333333333,
             "#9c179e"
            ],
            [
             0.4444444444444444,
             "#bd3786"
            ],
            [
             0.5555555555555556,
             "#d8576b"
            ],
            [
             0.6666666666666666,
             "#ed7953"
            ],
            [
             0.7777777777777778,
             "#fb9f3a"
            ],
            [
             0.8888888888888888,
             "#fdca26"
            ],
            [
             1,
             "#f0f921"
            ]
           ],
           "sequentialminus": [
            [
             0,
             "#0d0887"
            ],
            [
             0.1111111111111111,
             "#46039f"
            ],
            [
             0.2222222222222222,
             "#7201a8"
            ],
            [
             0.3333333333333333,
             "#9c179e"
            ],
            [
             0.4444444444444444,
             "#bd3786"
            ],
            [
             0.5555555555555556,
             "#d8576b"
            ],
            [
             0.6666666666666666,
             "#ed7953"
            ],
            [
             0.7777777777777778,
             "#fb9f3a"
            ],
            [
             0.8888888888888888,
             "#fdca26"
            ],
            [
             1,
             "#f0f921"
            ]
           ]
          },
          "colorway": [
           "#636efa",
           "#EF553B",
           "#00cc96",
           "#ab63fa",
           "#FFA15A",
           "#19d3f3",
           "#FF6692",
           "#B6E880",
           "#FF97FF",
           "#FECB52"
          ],
          "font": {
           "color": "#2a3f5f"
          },
          "geo": {
           "bgcolor": "white",
           "lakecolor": "white",
           "landcolor": "#E5ECF6",
           "showlakes": true,
           "showland": true,
           "subunitcolor": "white"
          },
          "hoverlabel": {
           "align": "left"
          },
          "hovermode": "closest",
          "mapbox": {
           "style": "light"
          },
          "paper_bgcolor": "white",
          "plot_bgcolor": "#E5ECF6",
          "polar": {
           "angularaxis": {
            "gridcolor": "white",
            "linecolor": "white",
            "ticks": ""
           },
           "bgcolor": "#E5ECF6",
           "radialaxis": {
            "gridcolor": "white",
            "linecolor": "white",
            "ticks": ""
           }
          },
          "scene": {
           "xaxis": {
            "backgroundcolor": "#E5ECF6",
            "gridcolor": "white",
            "gridwidth": 2,
            "linecolor": "white",
            "showbackground": true,
            "ticks": "",
            "zerolinecolor": "white"
           },
           "yaxis": {
            "backgroundcolor": "#E5ECF6",
            "gridcolor": "white",
            "gridwidth": 2,
            "linecolor": "white",
            "showbackground": true,
            "ticks": "",
            "zerolinecolor": "white"
           },
           "zaxis": {
            "backgroundcolor": "#E5ECF6",
            "gridcolor": "white",
            "gridwidth": 2,
            "linecolor": "white",
            "showbackground": true,
            "ticks": "",
            "zerolinecolor": "white"
           }
          },
          "shapedefaults": {
           "line": {
            "color": "#2a3f5f"
           }
          },
          "ternary": {
           "aaxis": {
            "gridcolor": "white",
            "linecolor": "white",
            "ticks": ""
           },
           "baxis": {
            "gridcolor": "white",
            "linecolor": "white",
            "ticks": ""
           },
           "bgcolor": "#E5ECF6",
           "caxis": {
            "gridcolor": "white",
            "linecolor": "white",
            "ticks": ""
           }
          },
          "title": {
           "x": 0.05
          },
          "xaxis": {
           "automargin": true,
           "gridcolor": "white",
           "linecolor": "white",
           "ticks": "",
           "title": {
            "standoff": 15
           },
           "zerolinecolor": "white",
           "zerolinewidth": 2
          },
          "yaxis": {
           "automargin": true,
           "gridcolor": "white",
           "linecolor": "white",
           "ticks": "",
           "title": {
            "standoff": 15
           },
           "zerolinecolor": "white",
           "zerolinewidth": 2
          }
         }
        },
        "xaxis": {
         "anchor": "y",
         "domain": [
          0,
          1
         ],
         "title": {
          "text": "timesPlayed"
         }
        },
        "yaxis": {
         "anchor": "x",
         "domain": [
          0,
          1
         ],
         "title": {
          "text": "tempo"
         }
        }
       }
      }
     },
     "metadata": {},
     "output_type": "display_data"
    },
    {
     "data": {
      "application/vnd.plotly.v1+json": {
       "config": {
        "plotlyServerURL": "https://plot.ly"
       },
       "data": [
        {
         "hovertemplate": "<b>%{hovertext}</b><br><br>timesPlayed=%{x}<br>time_signature=%{y}<extra></extra>",
         "hovertext": [
          "Weird Fishes/ Arpeggi",
          "Good Will Hunting",
          "Pro Freak (with Doechii, Fatman Scoop)",
          "Present Tense",
          "the perfect pair",
          "Andromeda",
          "Nude",
          "No Surprises",
          "Never Catch Me",
          "Still",
          "Secrets (Your Fire)",
          "Meat Grinder",
          "Speech Bubbles",
          "Galaxy",
          "Runaway",
          "Motion Picture Soundtrack",
          "Troubles [Feat. T-Pain]",
          "Pluto Projector",
          "EARFQUAKE",
          "drive ME crazy!",
          "Savior",
          "Cocoa Butter Kisses",
          "Karma Police",
          "the BLACK seminole.",
          "Wesley's Theory",
          "Shine On You Crazy Diamond (Pts. 1-5)",
          "Welcome To Hell",
          "N95",
          "Concorde",
          "Chaos Space Marine",
          "Thieves In The Night",
          "Identikit",
          "15 Step",
          "family ties (with Kendrick Lamar)",
          "Self Control",
          "The Adults Are Talking",
          "diving board",
          "Walkin",
          "New N3on",
          "Chapters",
          "Heart Don't Stand a Chance",
          "Crack Sandwich",
          "Nikes",
          "Lean Beef Patty",
          "Rapp Snitch Knishes feat. Mr. Fantastik",
          "Feel No Pain (feat. Anderson .Paak & Raekwon)",
          "雨降る夜の向こう",
          "Mood Romantica",
          "Waitin' on Ya",
          "Can't Fight",
          "Ice",
          "Oh My Dis Side (feat. Quavo)",
          "Paprika",
          "Fake Plastic Trees",
          "Wunderlan",
          "Rockstar Made",
          "儚き春の一幕",
          "Faust Arp",
          "Steppa Pig",
          "Get Away",
          "Tequila Shots",
          "Hand Me Downs",
          "Flashing Lights",
          "Gold Rings (feat. Pusha T)",
          "The Lung",
          "REACH THE SUNSHINE.",
          "GONE, GONE / THANK YOU",
          "The Less I Know The Better",
          "Killshot",
          "After The Storm (feat. Tyler, The Creator & Bootsy Collins)",
          "Stop Breathing",
          "4:44",
          "Waves",
          "Stars (feat. Yasiin Bey)",
          "Potato Salad",
          "Rich Nigga Shit (feat. Young Thug)",
          "running out of time",
          "Violent Crimes",
          "Reborn",
          "Heart To Heart",
          "Count Me Out",
          "Selfless",
          "Nothing",
          "Hummingbird (Metro Boomin & James Blake)",
          "Tactics",
          "Sober to Death",
          "Love Galore (feat. Travis Scott)",
          "Rusty (feat. Domo Genesis & Earl Sweatshirt)",
          "The Only Thing",
          "Guilt Trip",
          "Baby I'm Bleeding",
          "Big K.R.I.T.",
          "Off Da Zoinkys",
          "Brand New 911",
          "二十歳の恋",
          "Westbrook (with A$AP Ferg)",
          "Didn't Cha Know",
          "Scott Mescudi Vs. The World",
          "George Bondo (feat. Conway the Machine & Benny The Butcher)",
          "Burfict!",
          "EdEddnEddy",
          "Respiration",
          "Sunglasses",
          "Devil In A New Dress",
          "Oh, Maker",
          "Gabby (feat. Janelle Monáe)",
          "A Punch Up at a Wedding",
          "A Rush of Blood to the Head",
          "No More Parties In LA",
          "BLACK BALLOONS | 13LACK 13ALLOONZ [FEAT. TWELVE'LEN & GOLDLINK | TWELVE'LEN + GOLDL1NK]",
          "Bittersweet",
          "Long Time - Intro",
          "Glass Eyes",
          "Anti-Matter",
          "Eternal Summer",
          "Make Me Feel",
          "Sandstorm (feat. JID)",
          "Neon Valley Street",
          "Hidden Place",
          "Place",
          "Pink + White",
          "Suddenly",
          "Kingdom Hearts Key (ft. redveil)",
          "Walk Em Down (Don't Kill Civilians) [with 21 Savage & feat. Mustafa]",
          "Lucky",
          "Leak It (feat. Chlöe)",
          "Chocolate Matter",
          "Eye/I and I/Nation",
          "Kenan Vs. Kel",
          "Them Changes",
          "Wake Up",
          "Yeah Right",
          "Pink Matter",
          "Mirror",
          "Wild Time",
          "Say It Ain't So",
          "327 (feat. Tyler, The Creator & Billie Essco)",
          "Comin Out Strong (feat. The Weeknd)",
          "Crown",
          "Under The Sun (with J. Cole & Lute feat. DaBaby)",
          "Silhouette",
          "United In Grief",
          "Beta Male Strategies",
          "Tears (feat. Caroline Polachek)",
          "Umbrella (with 21 Savage & Young Nudy)",
          "The Tourist",
          "Aquemini",
          "It's Not up to You",
          "High and Dry",
          "Heartless",
          "White Ferrari",
          "Fentanyl Tester",
          "John Woo Flick (with Benny The Butcher & Westside Gunn)",
          "1539 N. Calvert",
          "Stay Flo",
          "Fuck the Nordic Model",
          "Hellfire",
          "Milk - 2021 Remaster",
          "Tell Me What I Don't Know",
          "If Tomorrow's Not Here",
          "Crosshairs",
          "I THINK",
          "Soundtrack 2 My Life",
          "FAMJAM4000",
          "X-Wing",
          "Sky Might Fall",
          "Kimiga Nakunara",
          "Idioteque",
          "Consideration",
          "Akasaka Sad",
          "A.D.H.D",
          "Design: 2: 3",
          "Behind The Moon Shadow",
          "Angel",
          "I'm In It",
          "This Is Why",
          "Picture Me Better",
          "Angels (feat. Saba)",
          "FIND YOUR WINGS (feat. Roy Ayers, Sydney Bennett & Kali Uchis)",
          "Faucet Failure",
          "Surround Sound (feat. 21 Savage & Baby Tate)",
          "We Major",
          "One Beer",
          "A Toshi no Aki",
          "夕暮れ",
          "On That Time",
          "Savage Good Boy",
          "Enter Galactic (Love Connection Part I)",
          "The Numbers",
          "Fingerprints",
          "I'M THAT GIRL",
          "Poetic Justice",
          "Bodys",
          "Smokin Out The Window",
          "Solo Dolo (Nightmare)",
          "Complicated",
          "LOVE. FEAT. ZACARI.",
          "Say You Will",
          "Money Trees",
          "Grimy Waifu",
          "Dark Red",
          "G.O.M.D",
          "Mr. Rager",
          "Next Levels",
          "BUSY / SIRENS",
          "Netflix & Dusse",
          "Acting",
          "In Love",
          "Justin Scott",
          "911 / Mr. Lonely (feat. Frank Ocean & Steve Lacy)",
          "Joga",
          "Ode To The Mets",
          "pg baby",
          "Ain't No Way [Feat. 6LACK, Rico Nasty, J.I.D, Jasiah, Kitty Ca$h]",
          "A BOY IS A GUN*",
          "Sunny day",
          "Symphony",
          "Blow My High (Members Only)",
          "Storm",
          "Better Days (feat. Johnta Austin)",
          "How to Disappear Completely",
          "STOP TRYING TO BE GOD",
          "Kid A",
          "NEW MAGIC WAND",
          "I Ain't Got Time!",
          "Head High",
          "Bad Habit",
          "Photosynthesis",
          "The Defence",
          "Send It Up",
          "Inside Out",
          "Envy",
          "In Sound, We Found Each Other",
          "Nothing Good Ever Happens At The Goddamn Thirsty Crow",
          "Yellow",
          "6 Star Wanted Level",
          "Right Now (feat. Pi'erre Bourne)",
          "Out On Sunny Sunday",
          "Dynasty",
          "Had Enough (feat. Quavo & Offset)",
          "Bound 2",
          "24",
          "DIRTY!",
          "Kokorono Madobeni Akai Hanao Kazatte",
          "Kuso Yakan Hikoh",
          "A Bigger Paper Bag",
          "LIFE",
          "Where Ya Get Ya Coke From?",
          "Television / So Far So Good",
          "Euphoria (feat. Travis Scott & Kaash Paige)",
          "So Appalled",
          "Hurricane",
          "Thot Tactics",
          "REBOUND!",
          "FEEL.",
          "New Choppa",
          "BREAK MY SOUL",
          "Where I Belong",
          "Norman fucking Rockwell",
          "Videotape",
          "Nas Is Like",
          "m.A.A.d city",
          "Why Are Sundays So Depressing",
          "Orange Juice Jones",
          "Slow",
          "Wolves",
          "Crime Pays",
          "God Loves You",
          "I Wonder",
          "Aux Cord",
          "26",
          "Hard Times",
          "Something to Believe",
          "SICKO MODE",
          "Gone",
          "range brothers (with Kendrick Lamar)",
          "Drones (feat. Kendrick Lamar, Snoop Dogg, Ty Dolla $ign & James Fauntleroy)",
          "Cherry-coloured Funk",
          "Always",
          "Let It Be - Remastered 2009",
          "Glue Song",
          "No Vacancy",
          "Instrumental",
          "Chondromalacia Patella",
          "Ripples",
          "Jack Harlow Combo Meal",
          "CAN'T SAY",
          "broken cd",
          "Afternoon in Heaven",
          "Excited",
          "Super Urus",
          "OPEN A WINDOW (feat. Tyler, The Creator)",
          "FlatBed Freestyle",
          "Wet Dream",
          "Deeper",
          "Sky",
          "Show Me",
          "Bloom",
          "Run The Jewels",
          "Shaolin Monk Motherfunk",
          "Love On The Brain",
          "Pray 4 Love (feat. The Weeknd)",
          "Figures",
          "Self Care",
          "Blackest in the Room",
          "Solo (Reprise)",
          "U Wanna Dance?",
          "Greatest Hits",
          "Under",
          "Time Today",
          "Bury Me In Gold",
          "Street Spirit (Fade Out)",
          "Harold’s",
          "Defibrillator",
          "Tired",
          "Downward Spiral",
          "ASTROTHUNDER",
          "Ful Stop",
          "Love Sosa",
          "2009",
          "dothatshit!",
          "Settle Down (with Cory Henry, Ravyn Lenae)",
          "Can’t Make U Change (feat. Ari Lennox)",
          "infinity (888) - feat. Joey Bada$$",
          "p r i d e . i s . t h e . d e v i l (with Lil Baby)",
          "Wanna Be Loved",
          "Big Titties (feat. Baauer and EarthGang)",
          "Sparks",
          "Big Bank (feat. T.I.)",
          "Electioneering",
          "Coffee",
          "M3tamorphosis (feat. Kid Cudi)",
          "New Slaves",
          "I Might Be Wrong",
          "Miss Georgia Fornia (feat. Joi)",
          "Dance or Die (feat. Saul Williams)",
          "The End (feat. BABYMETAL)",
          "On Sight",
          "Relative",
          "JPEGMAFIA TYPE BEAT",
          "Raindrop City",
          "Palmolive (feat. Pusha T & Killer Mike)",
          "Brooklyn Bridge To Chorus",
          "See You Again (feat. Kali Uchis)",
          "Nightcrawler (feat. Swae Lee & Chief Keef)",
          "Unlock It (feat. Playboi Carti)",
          "King Kunta",
          "PUPPET",
          "Beef Rap",
          "untitled 05 | 09.21.2014.",
          "Space Song",
          "Shitsville",
          "Never Meant",
          "K.O.S. (Determination)",
          "My Iron Lung",
          "FAKENGGAS",
          "Gorilla",
          "Slide Tackle",
          "PTSD",
          "Exchange",
          "Solo",
          "151 Rum",
          "Used (feat. Don Toliver)",
          "BMT!",
          "Boredom (feat. Rex Orange County & Anna of the North)",
          "Yesterday - Remastered 2009",
          "SWEET / I THOUGHT YOU WANTED TO DANCE (feat. Brent Faiyaz & Fana Hues)",
          "Scottie Beam",
          "Workin Out",
          "Trampoline",
          "(Nice Dream)",
          "Knicks",
          "Godspeed",
          "Find Your Love",
          "Creep",
          "Myth",
          "Glass Flows",
          "Scarface",
          "Melt a Bed",
          "R.I.P. Fredo (feat. Young Nudy) - Notice Me",
          "Pure Souls",
          "Good News",
          "Tightrope (feat. Big Boi) - Big Boi Vocal Edit",
          "She Roll Up",
          "Suede",
          "Scenario - LP Mix",
          "Dawning of the Season",
          "PYS (feat. DJ Paul)",
          "Thuggin’",
          "Planet Telex",
          "Don't",
          "Sept",
          "DUCKWORTH.",
          "TEMPTATION",
          "The Night Squall",
          "Acting - 2021 Remaster",
          "Momma",
          "Cosmonauts",
          "Voodoo Child (Slight Return)",
          "I Love You, I Hate You",
          "Have You In My Wilderness",
          "Drunk Drivers/Killer Whales",
          "Dangerous Liaisons",
          "Us and Them",
          "Transform (feat. Charlotte Day Wilson)",
          "GTFU (Feat. JPEGMAFIA & Cakes da Killa)",
          "Hustle Bones",
          "Read My Mind",
          "Total Entertainment Forever",
          "Father Stretch My Hands Pt. 1",
          "Plastic 100°C",
          "The Highs & The Lows",
          "Soul Food",
          "Momma Callin",
          "Unstoppable",
          "where's the confetti?",
          "The Bends",
          "Palace/Curse (feat. Tyler, The Creator & Steve Lacy)",
          "Giannis (feat. Anderson .Paak)",
          "New Person, Same Old Mistakes",
          "The Root",
          "m y . l i f e (with 21 Savage & Morray)",
          "After Last Night (with Thundercat & Bootsy Collins)",
          "Memo",
          "wokeuplikethis*",
          "Keep My Spirit Alive pt 2",
          "To All the Dancers of the World, A Round Form of Fantasy",
          "Ain't it Funny",
          "Chosen (feat. Ty Dolla $ign)",
          "For Free? - Interlude",
          "For Lovers",
          "Other People",
          "Sing About Me, I'm Dying Of Thirst",
          "Kokomo, IN",
          "IG",
          "ELON MUSK",
          "Get on the Floor",
          "2007",
          "CIA",
          "Bag Lady",
          "Morning Bell",
          "CRUCIFY ME",
          "All Falls Down",
          "2040",
          "Church",
          "Dreams and Nightmares",
          "Lost In The World",
          "Dethroned",
          "Raindrops (Insane) [with Travis Scott]",
          "Tinker Tailor Soldier Sailor Rich Man Poor Man Beggar Man Thief",
          "Up Up & Away",
          "Running Out Of Time",
          "Lipstick Lover",
          "New Tank",
          "Rose-Colored Boy",
          "Papi I Missed U",
          "When Doves Cry",
          "Doomsday",
          "Foreign",
          "War Paint (feat. Westside Gunn & Conway the Machine)",
          "Your Prime",
          "Dump",
          "Comfortably Numb",
          "Energy",
          "Feel The Love",
          "Poke It Out (with Nicki Minaj)",
          "Just In Time (feat. Lil Wayne & Kenny Mason)",
          "TAKE A CHANCE (feat. Anderson .Paak)",
          "Hold The Girl",
          "Wild Irish Roses",
          "...& On",
          "HOE (Heaven on Earth)",
          "No Reason",
          "MANIFESTO (feat. Domo Genesis)",
          "Ladies and gentlemen we are floating in space",
          "Arya (with Nigo)",
          "DIET_",
          "N.Y. State of Mind",
          "Hurt Feelings",
          "Through The Wire",
          "The Scientist",
          "Life on Mars? - 2015 Remaster",
          "DD Form 214",
          "SWGSKOOL",
          "Letter To Cornelius",
          "Sir Duke",
          "Forever - 2021 Remaster",
          "Rearview",
          "Jukebox Joints (feat. Joe Fox & Kanye West)",
          "If I Had A Dollar (feat. Benjamin Earl Turner)",
          "Hold Up, Wait!",
          "Black Star",
          "The OtherSide",
          "LUMBERJACK",
          "Packt Like Sardines In a Crushd Tin Box",
          "Wax On (Feat. Freddie Gibbs)",
          "Stupid/Asking",
          "untitled 02 | 06.23.2014.",
          "By Design",
          "the 27 club"
         ],
         "legendgroup": "",
         "marker": {
          "color": "#636efa",
          "symbol": "circle"
         },
         "mode": "markers",
         "name": "",
         "orientation": "v",
         "showlegend": false,
         "type": "scatter",
         "x": [
          58.43,
          48.04,
          45.29,
          44.9,
          44.38,
          44.2,
          42.5,
          40.25,
          38.67,
          38.08,
          37.45,
          37.38,
          36.18,
          35.58,
          35.21,
          34.48,
          34.1,
          33.74,
          33.1,
          33.02,
          32.61,
          32.27,
          32.19,
          32.04,
          31.74,
          31.47,
          30.83,
          30.51,
          30.21,
          29.64,
          29.61,
          29.58,
          29.38,
          29.26,
          28.85,
          28.6,
          28.59,
          28.55,
          27.39,
          27.31,
          27.26,
          27.26,
          27.22,
          27.21,
          27.11,
          26.27,
          26.21,
          26.01,
          25.96,
          25.92,
          25.83,
          25.37,
          25.18,
          24.92,
          24.58,
          24.58,
          24.46,
          24.46,
          24.31,
          24.28,
          24.17,
          24.16,
          24.13,
          23.73,
          23.6,
          23.57,
          23.5,
          23.24,
          23.19,
          23.09,
          23.05,
          23.01,
          22.86,
          22.81,
          22.7,
          22.69,
          22.67,
          21.68,
          21.55,
          21.5,
          21.3,
          21.05,
          20.76,
          20.74,
          20.63,
          20.61,
          20.6,
          20.51,
          20.4,
          20.38,
          20.28,
          20.23,
          20.04,
          19.95,
          19.9,
          19.85,
          19.79,
          19.62,
          19.61,
          19.5,
          19.42,
          19.41,
          19.28,
          19.15,
          19.1,
          19.01,
          19,
          18.95,
          18.92,
          18.86,
          18.78,
          18.78,
          18.76,
          18.75,
          18.73,
          18.71,
          18.67,
          18.62,
          18.56,
          18.47,
          18.36,
          18.34,
          18.27,
          18.12,
          18.1,
          17.95,
          17.94,
          17.82,
          17.76,
          17.66,
          17.59,
          17.58,
          17.56,
          17.54,
          17.43,
          17.39,
          17.36,
          17.35,
          17.31,
          17.22,
          17.03,
          17,
          16.97,
          16.85,
          16.8,
          16.79,
          16.79,
          16.79,
          16.74,
          16.67,
          16.62,
          16.52,
          16.45,
          16.41,
          16.35,
          16.35,
          16.34,
          16.27,
          16.26,
          16.2,
          16.17,
          16.15,
          16.11,
          16.11,
          16.02,
          16,
          15.99,
          15.98,
          15.96,
          15.85,
          15.82,
          15.81,
          15.79,
          15.79,
          15.76,
          15.66,
          15.6,
          15.58,
          15.57,
          15.51,
          15.45,
          15.38,
          15.35,
          15.32,
          15.24,
          15.21,
          15.17,
          15.14,
          15.09,
          15,
          15,
          14.97,
          14.96,
          14.96,
          14.95,
          14.87,
          14.81,
          14.78,
          14.67,
          14.64,
          14.6,
          14.56,
          14.48,
          14.47,
          14.42,
          14.42,
          14.28,
          14.24,
          14.2,
          14.19,
          14.15,
          14.06,
          14.03,
          14,
          14,
          14,
          13.98,
          13.97,
          13.95,
          13.94,
          13.93,
          13.9,
          13.89,
          13.87,
          13.86,
          13.83,
          13.74,
          13.72,
          13.66,
          13.66,
          13.64,
          13.61,
          13.56,
          13.55,
          13.53,
          13.48,
          13.47,
          13.43,
          13.43,
          13.36,
          13.35,
          13.33,
          13.29,
          13.22,
          13.16,
          13.15,
          13.1,
          13.04,
          13,
          13,
          12.96,
          12.92,
          12.91,
          12.84,
          12.8,
          12.8,
          12.78,
          12.74,
          12.71,
          12.68,
          12.63,
          12.6,
          12.58,
          12.53,
          12.47,
          12.41,
          12.41,
          12.41,
          12.39,
          12.34,
          12.31,
          12.3,
          12.29,
          12.28,
          12.27,
          12.26,
          12.19,
          12.13,
          12.09,
          12,
          12,
          12,
          11.97,
          11.95,
          11.95,
          11.95,
          11.94,
          11.92,
          11.92,
          11.91,
          11.91,
          11.9,
          11.9,
          11.86,
          11.82,
          11.74,
          11.73,
          11.73,
          11.7,
          11.69,
          11.68,
          11.66,
          11.66,
          11.63,
          11.61,
          11.61,
          11.6,
          11.58,
          11.54,
          11.54,
          11.53,
          11.52,
          11.52,
          11.51,
          11.51,
          11.5,
          11.48,
          11.45,
          11.42,
          11.39,
          11.38,
          11.33,
          11.28,
          11.28,
          11.27,
          11.23,
          11.21,
          11.18,
          11.15,
          11.11,
          11.1,
          11.08,
          11.07,
          11.04,
          11,
          11,
          11,
          11,
          11,
          11,
          10.96,
          10.92,
          10.91,
          10.91,
          10.85,
          10.83,
          10.79,
          10.79,
          10.78,
          10.76,
          10.66,
          10.66,
          10.63,
          10.62,
          10.61,
          10.6,
          10.55,
          10.54,
          10.5,
          10.48,
          10.47,
          10.47,
          10.47,
          10.45,
          10.42,
          10.41,
          10.39,
          10.38,
          10.36,
          10.35,
          10.35,
          10.33,
          10.31,
          10.28,
          10.25,
          10.24,
          10.24,
          10.23,
          10.22,
          10.22,
          10.18,
          10.18,
          10.17,
          10.16,
          10.14,
          10.1,
          10.1,
          10.07,
          10.05,
          10.03,
          10,
          9.98,
          9.95,
          9.94,
          9.9,
          9.88,
          9.79,
          9.78,
          9.69,
          9.69,
          9.69,
          9.68,
          9.68,
          9.67,
          9.67,
          9.67,
          9.63,
          9.59,
          9.59,
          9.58,
          9.53,
          9.52,
          9.51,
          9.5,
          9.49,
          9.48,
          9.47,
          9.46,
          9.46,
          9.44,
          9.43,
          9.4,
          9.35,
          9.35,
          9.34,
          9.33,
          9.31,
          9.29,
          9.29,
          9.29,
          9.29,
          9.28,
          9.25,
          9.25,
          9.22,
          9.22,
          9.2,
          9.19,
          9.19,
          9.16,
          9.15,
          9.15,
          9.15,
          9.14,
          9.08,
          9.08,
          9.04,
          9.01,
          9.01,
          9,
          9,
          9,
          9,
          9,
          8.99,
          8.96,
          8.92,
          8.91,
          8.91,
          8.86,
          8.85,
          8.85,
          8.83,
          8.81,
          8.81,
          8.8,
          8.8,
          8.79,
          8.79,
          8.79,
          8.78,
          8.78,
          8.77,
          8.74,
          8.72,
          8.72,
          8.72,
          8.71,
          8.7,
          8.7,
          8.69,
          8.67,
          8.67,
          8.66,
          8.65,
          8.63,
          8.62,
          8.58,
          8.57,
          8.56,
          8.56,
          8.51,
          8.51,
          8.49,
          8.48,
          8.44,
          8.43,
          8.41,
          8.4,
          8.4
         ],
         "xaxis": "x",
         "y": [
          4,
          3,
          4,
          4,
          4,
          4,
          3,
          4,
          4,
          4,
          4,
          4,
          4,
          4,
          4,
          4,
          4,
          4,
          4,
          4,
          5,
          4,
          4,
          4,
          4,
          3,
          4,
          4,
          3,
          4,
          4,
          4,
          4,
          4,
          4,
          4,
          5,
          4,
          4,
          1,
          4,
          4,
          4,
          4,
          4,
          4,
          4,
          4,
          4,
          4,
          4,
          4,
          4,
          4,
          4,
          4,
          4,
          4,
          4,
          4,
          4,
          4,
          4,
          3,
          3,
          4,
          4,
          4,
          4,
          4,
          4,
          4,
          4,
          4,
          4,
          4,
          4,
          4,
          4,
          4,
          4,
          4,
          4,
          4,
          4,
          4,
          4,
          4,
          4,
          4,
          4,
          4,
          4,
          4,
          4,
          3,
          4,
          4,
          4,
          4,
          4,
          4,
          4,
          4,
          4,
          4,
          4,
          4,
          4,
          4,
          4,
          4,
          4,
          4,
          4,
          4,
          5,
          4,
          4,
          4,
          3,
          4,
          4,
          4,
          4,
          3,
          4,
          4,
          4,
          4,
          4,
          4,
          3,
          4,
          4,
          4,
          4,
          5,
          4,
          4,
          4,
          3,
          4,
          4,
          4,
          5,
          4,
          4,
          4,
          4,
          4,
          4,
          4,
          4,
          4,
          4,
          4,
          3,
          4,
          4,
          4,
          4,
          4,
          4,
          4,
          4,
          4,
          3,
          4,
          4,
          4,
          4,
          4,
          4,
          4,
          4,
          4,
          4,
          4,
          4,
          4,
          4,
          4,
          4,
          4,
          4,
          4,
          4,
          3,
          4,
          4,
          4,
          4,
          4,
          4,
          4,
          4,
          4,
          4,
          4,
          4,
          4,
          4,
          4,
          4,
          4,
          4,
          3,
          3,
          4,
          4,
          4,
          4,
          4,
          4,
          4,
          4,
          4,
          4,
          4,
          4,
          4,
          4,
          4,
          4,
          4,
          4,
          4,
          4,
          4,
          4,
          4,
          4,
          4,
          4,
          4,
          4,
          4,
          4,
          4,
          4,
          4,
          4,
          3,
          4,
          3,
          4,
          4,
          4,
          4,
          4,
          4,
          4,
          4,
          4,
          4,
          4,
          4,
          1,
          4,
          4,
          4,
          4,
          4,
          4,
          4,
          4,
          4,
          4,
          4,
          4,
          4,
          4,
          4,
          4,
          4,
          4,
          4,
          4,
          4,
          3,
          4,
          4,
          4,
          3,
          4,
          4,
          4,
          4,
          4,
          4,
          4,
          4,
          3,
          4,
          4,
          4,
          4,
          3,
          4,
          3,
          4,
          4,
          4,
          4,
          4,
          4,
          4,
          4,
          4,
          4,
          4,
          4,
          4,
          4,
          4,
          4,
          3,
          4,
          4,
          4,
          4,
          4,
          4,
          4,
          4,
          4,
          3,
          4,
          4,
          4,
          4,
          4,
          4,
          4,
          4,
          4,
          4,
          4,
          4,
          4,
          3,
          4,
          4,
          4,
          4,
          4,
          4,
          4,
          4,
          4,
          4,
          4,
          4,
          4,
          4,
          4,
          4,
          4,
          4,
          4,
          4,
          4,
          4,
          4,
          4,
          4,
          4,
          4,
          4,
          3,
          4,
          4,
          4,
          4,
          4,
          4,
          4,
          5,
          4,
          4,
          4,
          4,
          4,
          4,
          4,
          4,
          4,
          4,
          3,
          4,
          4,
          4,
          4,
          4,
          4,
          5,
          4,
          4,
          5,
          3,
          4,
          3,
          4,
          4,
          4,
          4,
          4,
          4,
          4,
          4,
          4,
          4,
          4,
          4,
          4,
          4,
          4,
          4,
          4,
          3,
          4,
          4,
          4,
          4,
          4,
          4,
          4,
          4,
          1,
          4,
          4,
          5,
          4,
          4,
          4,
          4,
          4,
          4,
          4,
          5,
          4,
          4,
          4,
          4,
          4,
          4,
          4,
          4,
          4,
          4,
          4,
          4,
          4,
          4,
          4,
          4,
          4,
          4,
          4,
          4,
          4,
          4,
          4,
          4,
          4,
          4,
          4,
          4,
          4,
          4,
          3,
          4,
          4,
          3,
          4,
          4,
          4,
          4,
          4,
          4,
          4,
          4,
          4,
          4,
          4,
          4,
          4,
          4,
          4,
          5,
          4,
          4,
          4,
          4,
          4,
          5,
          3,
          4,
          4
         ],
         "yaxis": "y"
        }
       ],
       "layout": {
        "legend": {
         "tracegroupgap": 0
        },
        "margin": {
         "t": 60
        },
        "template": {
         "data": {
          "bar": [
           {
            "error_x": {
             "color": "#2a3f5f"
            },
            "error_y": {
             "color": "#2a3f5f"
            },
            "marker": {
             "line": {
              "color": "#E5ECF6",
              "width": 0.5
             },
             "pattern": {
              "fillmode": "overlay",
              "size": 10,
              "solidity": 0.2
             }
            },
            "type": "bar"
           }
          ],
          "barpolar": [
           {
            "marker": {
             "line": {
              "color": "#E5ECF6",
              "width": 0.5
             },
             "pattern": {
              "fillmode": "overlay",
              "size": 10,
              "solidity": 0.2
             }
            },
            "type": "barpolar"
           }
          ],
          "carpet": [
           {
            "aaxis": {
             "endlinecolor": "#2a3f5f",
             "gridcolor": "white",
             "linecolor": "white",
             "minorgridcolor": "white",
             "startlinecolor": "#2a3f5f"
            },
            "baxis": {
             "endlinecolor": "#2a3f5f",
             "gridcolor": "white",
             "linecolor": "white",
             "minorgridcolor": "white",
             "startlinecolor": "#2a3f5f"
            },
            "type": "carpet"
           }
          ],
          "choropleth": [
           {
            "colorbar": {
             "outlinewidth": 0,
             "ticks": ""
            },
            "type": "choropleth"
           }
          ],
          "contour": [
           {
            "colorbar": {
             "outlinewidth": 0,
             "ticks": ""
            },
            "colorscale": [
             [
              0,
              "#0d0887"
             ],
             [
              0.1111111111111111,
              "#46039f"
             ],
             [
              0.2222222222222222,
              "#7201a8"
             ],
             [
              0.3333333333333333,
              "#9c179e"
             ],
             [
              0.4444444444444444,
              "#bd3786"
             ],
             [
              0.5555555555555556,
              "#d8576b"
             ],
             [
              0.6666666666666666,
              "#ed7953"
             ],
             [
              0.7777777777777778,
              "#fb9f3a"
             ],
             [
              0.8888888888888888,
              "#fdca26"
             ],
             [
              1,
              "#f0f921"
             ]
            ],
            "type": "contour"
           }
          ],
          "contourcarpet": [
           {
            "colorbar": {
             "outlinewidth": 0,
             "ticks": ""
            },
            "type": "contourcarpet"
           }
          ],
          "heatmap": [
           {
            "colorbar": {
             "outlinewidth": 0,
             "ticks": ""
            },
            "colorscale": [
             [
              0,
              "#0d0887"
             ],
             [
              0.1111111111111111,
              "#46039f"
             ],
             [
              0.2222222222222222,
              "#7201a8"
             ],
             [
              0.3333333333333333,
              "#9c179e"
             ],
             [
              0.4444444444444444,
              "#bd3786"
             ],
             [
              0.5555555555555556,
              "#d8576b"
             ],
             [
              0.6666666666666666,
              "#ed7953"
             ],
             [
              0.7777777777777778,
              "#fb9f3a"
             ],
             [
              0.8888888888888888,
              "#fdca26"
             ],
             [
              1,
              "#f0f921"
             ]
            ],
            "type": "heatmap"
           }
          ],
          "heatmapgl": [
           {
            "colorbar": {
             "outlinewidth": 0,
             "ticks": ""
            },
            "colorscale": [
             [
              0,
              "#0d0887"
             ],
             [
              0.1111111111111111,
              "#46039f"
             ],
             [
              0.2222222222222222,
              "#7201a8"
             ],
             [
              0.3333333333333333,
              "#9c179e"
             ],
             [
              0.4444444444444444,
              "#bd3786"
             ],
             [
              0.5555555555555556,
              "#d8576b"
             ],
             [
              0.6666666666666666,
              "#ed7953"
             ],
             [
              0.7777777777777778,
              "#fb9f3a"
             ],
             [
              0.8888888888888888,
              "#fdca26"
             ],
             [
              1,
              "#f0f921"
             ]
            ],
            "type": "heatmapgl"
           }
          ],
          "histogram": [
           {
            "marker": {
             "pattern": {
              "fillmode": "overlay",
              "size": 10,
              "solidity": 0.2
             }
            },
            "type": "histogram"
           }
          ],
          "histogram2d": [
           {
            "colorbar": {
             "outlinewidth": 0,
             "ticks": ""
            },
            "colorscale": [
             [
              0,
              "#0d0887"
             ],
             [
              0.1111111111111111,
              "#46039f"
             ],
             [
              0.2222222222222222,
              "#7201a8"
             ],
             [
              0.3333333333333333,
              "#9c179e"
             ],
             [
              0.4444444444444444,
              "#bd3786"
             ],
             [
              0.5555555555555556,
              "#d8576b"
             ],
             [
              0.6666666666666666,
              "#ed7953"
             ],
             [
              0.7777777777777778,
              "#fb9f3a"
             ],
             [
              0.8888888888888888,
              "#fdca26"
             ],
             [
              1,
              "#f0f921"
             ]
            ],
            "type": "histogram2d"
           }
          ],
          "histogram2dcontour": [
           {
            "colorbar": {
             "outlinewidth": 0,
             "ticks": ""
            },
            "colorscale": [
             [
              0,
              "#0d0887"
             ],
             [
              0.1111111111111111,
              "#46039f"
             ],
             [
              0.2222222222222222,
              "#7201a8"
             ],
             [
              0.3333333333333333,
              "#9c179e"
             ],
             [
              0.4444444444444444,
              "#bd3786"
             ],
             [
              0.5555555555555556,
              "#d8576b"
             ],
             [
              0.6666666666666666,
              "#ed7953"
             ],
             [
              0.7777777777777778,
              "#fb9f3a"
             ],
             [
              0.8888888888888888,
              "#fdca26"
             ],
             [
              1,
              "#f0f921"
             ]
            ],
            "type": "histogram2dcontour"
           }
          ],
          "mesh3d": [
           {
            "colorbar": {
             "outlinewidth": 0,
             "ticks": ""
            },
            "type": "mesh3d"
           }
          ],
          "parcoords": [
           {
            "line": {
             "colorbar": {
              "outlinewidth": 0,
              "ticks": ""
             }
            },
            "type": "parcoords"
           }
          ],
          "pie": [
           {
            "automargin": true,
            "type": "pie"
           }
          ],
          "scatter": [
           {
            "fillpattern": {
             "fillmode": "overlay",
             "size": 10,
             "solidity": 0.2
            },
            "type": "scatter"
           }
          ],
          "scatter3d": [
           {
            "line": {
             "colorbar": {
              "outlinewidth": 0,
              "ticks": ""
             }
            },
            "marker": {
             "colorbar": {
              "outlinewidth": 0,
              "ticks": ""
             }
            },
            "type": "scatter3d"
           }
          ],
          "scattercarpet": [
           {
            "marker": {
             "colorbar": {
              "outlinewidth": 0,
              "ticks": ""
             }
            },
            "type": "scattercarpet"
           }
          ],
          "scattergeo": [
           {
            "marker": {
             "colorbar": {
              "outlinewidth": 0,
              "ticks": ""
             }
            },
            "type": "scattergeo"
           }
          ],
          "scattergl": [
           {
            "marker": {
             "colorbar": {
              "outlinewidth": 0,
              "ticks": ""
             }
            },
            "type": "scattergl"
           }
          ],
          "scattermapbox": [
           {
            "marker": {
             "colorbar": {
              "outlinewidth": 0,
              "ticks": ""
             }
            },
            "type": "scattermapbox"
           }
          ],
          "scatterpolar": [
           {
            "marker": {
             "colorbar": {
              "outlinewidth": 0,
              "ticks": ""
             }
            },
            "type": "scatterpolar"
           }
          ],
          "scatterpolargl": [
           {
            "marker": {
             "colorbar": {
              "outlinewidth": 0,
              "ticks": ""
             }
            },
            "type": "scatterpolargl"
           }
          ],
          "scatterternary": [
           {
            "marker": {
             "colorbar": {
              "outlinewidth": 0,
              "ticks": ""
             }
            },
            "type": "scatterternary"
           }
          ],
          "surface": [
           {
            "colorbar": {
             "outlinewidth": 0,
             "ticks": ""
            },
            "colorscale": [
             [
              0,
              "#0d0887"
             ],
             [
              0.1111111111111111,
              "#46039f"
             ],
             [
              0.2222222222222222,
              "#7201a8"
             ],
             [
              0.3333333333333333,
              "#9c179e"
             ],
             [
              0.4444444444444444,
              "#bd3786"
             ],
             [
              0.5555555555555556,
              "#d8576b"
             ],
             [
              0.6666666666666666,
              "#ed7953"
             ],
             [
              0.7777777777777778,
              "#fb9f3a"
             ],
             [
              0.8888888888888888,
              "#fdca26"
             ],
             [
              1,
              "#f0f921"
             ]
            ],
            "type": "surface"
           }
          ],
          "table": [
           {
            "cells": {
             "fill": {
              "color": "#EBF0F8"
             },
             "line": {
              "color": "white"
             }
            },
            "header": {
             "fill": {
              "color": "#C8D4E3"
             },
             "line": {
              "color": "white"
             }
            },
            "type": "table"
           }
          ]
         },
         "layout": {
          "annotationdefaults": {
           "arrowcolor": "#2a3f5f",
           "arrowhead": 0,
           "arrowwidth": 1
          },
          "autotypenumbers": "strict",
          "coloraxis": {
           "colorbar": {
            "outlinewidth": 0,
            "ticks": ""
           }
          },
          "colorscale": {
           "diverging": [
            [
             0,
             "#8e0152"
            ],
            [
             0.1,
             "#c51b7d"
            ],
            [
             0.2,
             "#de77ae"
            ],
            [
             0.3,
             "#f1b6da"
            ],
            [
             0.4,
             "#fde0ef"
            ],
            [
             0.5,
             "#f7f7f7"
            ],
            [
             0.6,
             "#e6f5d0"
            ],
            [
             0.7,
             "#b8e186"
            ],
            [
             0.8,
             "#7fbc41"
            ],
            [
             0.9,
             "#4d9221"
            ],
            [
             1,
             "#276419"
            ]
           ],
           "sequential": [
            [
             0,
             "#0d0887"
            ],
            [
             0.1111111111111111,
             "#46039f"
            ],
            [
             0.2222222222222222,
             "#7201a8"
            ],
            [
             0.3333333333333333,
             "#9c179e"
            ],
            [
             0.4444444444444444,
             "#bd3786"
            ],
            [
             0.5555555555555556,
             "#d8576b"
            ],
            [
             0.6666666666666666,
             "#ed7953"
            ],
            [
             0.7777777777777778,
             "#fb9f3a"
            ],
            [
             0.8888888888888888,
             "#fdca26"
            ],
            [
             1,
             "#f0f921"
            ]
           ],
           "sequentialminus": [
            [
             0,
             "#0d0887"
            ],
            [
             0.1111111111111111,
             "#46039f"
            ],
            [
             0.2222222222222222,
             "#7201a8"
            ],
            [
             0.3333333333333333,
             "#9c179e"
            ],
            [
             0.4444444444444444,
             "#bd3786"
            ],
            [
             0.5555555555555556,
             "#d8576b"
            ],
            [
             0.6666666666666666,
             "#ed7953"
            ],
            [
             0.7777777777777778,
             "#fb9f3a"
            ],
            [
             0.8888888888888888,
             "#fdca26"
            ],
            [
             1,
             "#f0f921"
            ]
           ]
          },
          "colorway": [
           "#636efa",
           "#EF553B",
           "#00cc96",
           "#ab63fa",
           "#FFA15A",
           "#19d3f3",
           "#FF6692",
           "#B6E880",
           "#FF97FF",
           "#FECB52"
          ],
          "font": {
           "color": "#2a3f5f"
          },
          "geo": {
           "bgcolor": "white",
           "lakecolor": "white",
           "landcolor": "#E5ECF6",
           "showlakes": true,
           "showland": true,
           "subunitcolor": "white"
          },
          "hoverlabel": {
           "align": "left"
          },
          "hovermode": "closest",
          "mapbox": {
           "style": "light"
          },
          "paper_bgcolor": "white",
          "plot_bgcolor": "#E5ECF6",
          "polar": {
           "angularaxis": {
            "gridcolor": "white",
            "linecolor": "white",
            "ticks": ""
           },
           "bgcolor": "#E5ECF6",
           "radialaxis": {
            "gridcolor": "white",
            "linecolor": "white",
            "ticks": ""
           }
          },
          "scene": {
           "xaxis": {
            "backgroundcolor": "#E5ECF6",
            "gridcolor": "white",
            "gridwidth": 2,
            "linecolor": "white",
            "showbackground": true,
            "ticks": "",
            "zerolinecolor": "white"
           },
           "yaxis": {
            "backgroundcolor": "#E5ECF6",
            "gridcolor": "white",
            "gridwidth": 2,
            "linecolor": "white",
            "showbackground": true,
            "ticks": "",
            "zerolinecolor": "white"
           },
           "zaxis": {
            "backgroundcolor": "#E5ECF6",
            "gridcolor": "white",
            "gridwidth": 2,
            "linecolor": "white",
            "showbackground": true,
            "ticks": "",
            "zerolinecolor": "white"
           }
          },
          "shapedefaults": {
           "line": {
            "color": "#2a3f5f"
           }
          },
          "ternary": {
           "aaxis": {
            "gridcolor": "white",
            "linecolor": "white",
            "ticks": ""
           },
           "baxis": {
            "gridcolor": "white",
            "linecolor": "white",
            "ticks": ""
           },
           "bgcolor": "#E5ECF6",
           "caxis": {
            "gridcolor": "white",
            "linecolor": "white",
            "ticks": ""
           }
          },
          "title": {
           "x": 0.05
          },
          "xaxis": {
           "automargin": true,
           "gridcolor": "white",
           "linecolor": "white",
           "ticks": "",
           "title": {
            "standoff": 15
           },
           "zerolinecolor": "white",
           "zerolinewidth": 2
          },
          "yaxis": {
           "automargin": true,
           "gridcolor": "white",
           "linecolor": "white",
           "ticks": "",
           "title": {
            "standoff": 15
           },
           "zerolinecolor": "white",
           "zerolinewidth": 2
          }
         }
        },
        "xaxis": {
         "anchor": "y",
         "domain": [
          0,
          1
         ],
         "title": {
          "text": "timesPlayed"
         }
        },
        "yaxis": {
         "anchor": "x",
         "domain": [
          0,
          1
         ],
         "title": {
          "text": "time_signature"
         }
        }
       }
      }
     },
     "metadata": {},
     "output_type": "display_data"
    }
   ],
   "source": [
    "scatter(df, df['timesPlayed'])"
   ]
  },
  {
   "cell_type": "code",
   "execution_count": null,
   "id": "48c98bea",
   "metadata": {},
   "outputs": [],
   "source": []
  },
  {
   "cell_type": "code",
   "execution_count": null,
   "id": "51ab4851",
   "metadata": {},
   "outputs": [],
   "source": []
  }
 ],
 "metadata": {
  "kernelspec": {
   "display_name": "Python 3 (ipykernel)",
   "language": "python",
   "name": "python3"
  },
  "language_info": {
   "codemirror_mode": {
    "name": "ipython",
    "version": 3
   },
   "file_extension": ".py",
   "mimetype": "text/x-python",
   "name": "python",
   "nbconvert_exporter": "python",
   "pygments_lexer": "ipython3",
   "version": "3.8.18"
  }
 },
 "nbformat": 4,
 "nbformat_minor": 5
}
